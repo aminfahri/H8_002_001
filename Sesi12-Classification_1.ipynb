{
 "cells": [
  {
   "cell_type": "markdown",
   "metadata": {
    "id": "2m7H5g1QIqx2"
   },
   "source": [
    "# Hacktiv8-PTP Python For Data Science // S.12 // Classification\n"
   ]
  },
  {
   "cell_type": "markdown",
   "metadata": {
    "id": "BSVpuBSfIo3s"
   },
   "source": [
    "## Classification"
   ]
  },
  {
   "cell_type": "markdown",
   "metadata": {
    "id": "7ELOA7wROz1q"
   },
   "source": [
    "Classification adalah area yang sangat penting dalam supervised machine learning. Sejumlah besar masalah supervised machine learning yang penting termasuk dalam area ini. Ada banyak metode classification, Logistic Regression dan K-NN adalah salah satunya."
   ]
  },
  {
   "cell_type": "markdown",
   "metadata": {
    "id": "f0Ofz1HwO2Ji"
   },
   "source": [
    "### **What Is Classification?**\n"
   ]
  },
  {
   "cell_type": "markdown",
   "metadata": {
    "id": "Id2ZMjopBW8w"
   },
   "source": [
    "Classification dapat di jelaskan sebagai suatu metode nya dapat mengindentifikasikan suatu kategori atau mengekelompokan  sesuatu data set pada kategori tertentu. "
   ]
  },
  {
   "cell_type": "markdown",
   "metadata": {
    "id": "mMItb__iFLE7"
   },
   "source": [
    "Klasifikasi adalah proses mempelajari suatu model yang menjelaskan berbagai kelas data yang telah ditentukan sebelumnya. Ini adalah proses dua langkah, terdiri dari langkah pembelajaran dan langkah klasifikasi . Dalam langkah pembelajaran, model klasifikasi dibangun dan langkah klasifikasi model yang dibangun digunakan untuk menggambarkan  label kelas untuk data yang diberikan."
   ]
  },
  {
   "cell_type": "markdown",
   "metadata": {
    "id": "EbuhK-sGO8Z7"
   },
   "source": [
    "Supervised machine learning algorithms menentukan model yang menangkap hubungan di antara data. Classification adalah area supervised machine learning yang mencoba memprediksi kelas atau kategori mana dari suatu entitas, berdasarkan fitur-fiturnya.\n",
    "\n",
    "Misalnya, kita mungkin menganalisis : \n",
    ">> karyawan beberapa perusahaan dan mencoba membangun ketergantungan pada fitur atau variabel, seperti tingkat pendidikan, jumlah tahun bekerja di posisi saat ini, usia, gaji, peluang untuk dipromosikan, dan sebagainya. \n",
    "\n",
    ">> Kumpulan data yang terkait dengan satu karyawan adalah satu observasi. \n",
    "\n",
    "Fitur atau variabel dapat berupa salah satu dari dua bentuk:"
   ]
  },
  {
   "cell_type": "markdown",
   "metadata": {
    "id": "DdNkzLomO-F3"
   },
   "source": [
    "- Variabel independen, juga disebut input atau prediktor, tidak bergantung pada fitur lain yang menarik (atau setidaknya Anda berasumsi demikian untuk tujuan analisis).\n",
    "- Variabel terikat, juga disebut keluaran atau tanggapan, bergantung pada variabel bebas."
   ]
  },
  {
   "cell_type": "markdown",
   "metadata": {
    "id": "JGYrUzLlPDc4"
   },
   "source": [
    "Dalam contoh di atas, saat kita menganalisis karyawan, kita mungkin menganggap tingkat pendidikan, waktu di posisi saat ini, dan usia sebagai saling independen, dan menganggap mereka sebagai inputs. \n",
    "\n",
    "Gaji dan peluang promosi bisa menjadi hasil yang bergantung pada masukan.\n",
    "\n",
    "Sifat dependent variables membedakan masalah regression dan classification. \n",
    "\n",
    "Masalah regression memiliki keluaran yang berkelanjutan dan biasanya tidak terbatas. \n",
    "\n",
    "Contohnya adalah saat kita memperkirakan gaji sebagai fungsi dari pengalaman dan tingkat pendidikan. \n",
    "\n",
    "Di sisi lain, masalah classification memiliki keluaran diskrit dan terbatas yang disebut kelas atau kategori. \n",
    "\n",
    "Misalnya, memprediksi apakah seorang karyawan akan dipromosikan atau tidak ***(benar atau salah)*** adalah masalah klasifikasi."
   ]
  },
  {
   "cell_type": "markdown",
   "metadata": {
    "id": "obpaWcJlPGcJ"
   },
   "source": [
    "Ada dua jenis masalah klasifikasi:\n",
    "\n",
    "- Klasifikasi biner atau binomial: tepat dua kelas untuk dipilih (biasanya 0 dan 1, benar dan salah, atau positif dan negatif)\n",
    "- Klasifikasi multiclass atau multinomial: tiga atau lebih kelas output untuk dipilih"
   ]
  },
  {
   "cell_type": "markdown",
   "metadata": {
    "id": "7Mmdxk4iPLpg"
   },
   "source": [
    "Jika hanya ada satu variabel masukan, biasanya ini dilambangkan dengan 𝑥. Untuk lebih dari satu masukan, kita biasanya akan melihat notasi vektor 𝐱 = (𝑥₁,…, 𝑥ᵣ), di mana 𝑟 adalah jumlah predictors (atau fitur independen). Variabel keluaran sering dilambangkan dengan 𝑦 dan mengambil nilai 0 atau 1."
   ]
  },
  {
   "cell_type": "markdown",
   "metadata": {
    "id": "IGQFMjJ6POYr"
   },
   "source": [
    "When Do You Need Classification?\n"
   ]
  },
  {
   "cell_type": "markdown",
   "metadata": {
    "id": "Tr1Vk6e0PPRe"
   },
   "source": [
    "Kita dapat menerapkan klasifikasi di banyak bidang sains dan teknologi. Misalnya, text classification algorithms digunakan untuk memisahkan email yang bukan spam dan spam, serta komentar positif dan negatif. \n",
    "\n",
    "Contoh lain melibatkan aplikasi medis, klasifikasi biologis, penilaian kredit, dan banyak lagi.\n",
    "\n",
    "Image recognition sering kali direpresentasikan sebagai masalah klasifikasi. Misalnya, kita mungkin bertanya apakah suatu gambar menggambarkan wajah manusia atau bukan, atau apakah itu tikus atau gajah, atau digit mana dari nol sampai sembilan yang diwakilinya, dan seterusnya."
   ]
  },
  {
   "cell_type": "markdown",
   "metadata": {
    "id": "d7UJcb6EG1Xu"
   },
   "source": [
    "|DASAR PERBANDINGAN |\tClassification |\tCLUSTERING |\n",
    "|:------------------|:------------|:-------------|\n",
    "| Dasar\t | Fungsi model ini mengklasifikasikan data ke dalam salah satu dari banyak kelas pasti yang sudah ditentukan. | \tFungsi ini memetakan data ke dalam salah satu dari beberapa cluster di mana susunan item data bergantung pada kesamaan di antara mereka. | \n",
    "| Jenis\t| Pembelajaran yang diawasi (Supervise Learning) |\tPembelajaran tanpa pengawasan (Unsupervise Learning) | \n",
    "| Contoh pelatihan |\tData berlabel disediakan. |\tData tanpa label disediakan.|\n",
    "|Contoh Algorithma | Regresi logistik, pengklasifikasi Naive Bayes, Mesin vektor dukungan, dll. | algoritma clustering k-means, algoritma clustering Fuzzy c-means, algoritma clustering Gaussian (EM), dll.|\n",
    "| Membutuhkan | itu memiliki label sehingga perlu pelatihan dan pengujian dataset untuk memverifikasi model yang dibuat | tidak perlu pelatihan dan pengujian dataset |"
   ]
  },
  {
   "cell_type": "markdown",
   "metadata": {
    "id": "7i3wI38qPScE"
   },
   "source": [
    "Logistic Regression Overview\n"
   ]
  },
  {
   "cell_type": "markdown",
   "metadata": {
    "id": "pWGUgKeyPUav"
   },
   "source": [
    "Sebelum mendalami Logistic Regression, penting untuk mengingat kembali beberapa pemahaman dasar tentang Linear Regression."
   ]
  },
  {
   "cell_type": "markdown",
   "metadata": {
    "id": "4nCEDNY4RJrV"
   },
   "source": [
    "<img src=\"https://i.ibb.co/51cv3pM/ds-12-01.png\" width=\"400\" align=\"center\">\n"
   ]
  },
  {
   "cell_type": "markdown",
   "metadata": {
    "id": "ea-Bch_CfOcA"
   },
   "source": [
    "Linear Regression dapat sangat berguna saat kita mencoba memprediksi nilai keluaran continuous dari linear relationship. Tetapi nilai keluaran Logistic Regression berada di antara 0 dan 1. Karenanya, output continuous value yang tidak berada dalam kisaran antara 0 dan 1 tidak berfungsi dengan Logistic Regression.\n",
    "\n",
    "Lihat gambar di atas untuk contoh model regresi linier. Titik biru adalah titik data kita dan garis merah adalah model kita.\n",
    "\n",
    "Linear Regression menggunakan pengukuran statistik seperti R² dan p-value untuk memahami kinerja model dan variabel yang melatih model.\n",
    "\n"
   ]
  },
  {
   "cell_type": "markdown",
   "metadata": {
    "id": "cZqly5qoIWr_"
   },
   "source": [
    "- R² digunakan untuk menunjukkan apakah ada korelasi antara variabel dependen dengan variabel independen tertentu. Dengan kata lain, apakah variabel bebas membantu menentukan variabel terikat.\n",
    "- Nilai-P digunakan untuk menentukan apakah R² signifikan secara statistik.\n",
    "- Terakhir Anda harus tahu bahwa fungsi biaya regresi linier adalah Mean Squared Error."
   ]
  },
  {
   "cell_type": "markdown",
   "metadata": {
    "id": "66BPo2AaIZG4"
   },
   "source": [
    "\n",
    "Cara kerja logistic regression adalah memprediksi probabilitas sampel kita termasuk dalam satu klasifikasi versus klasifikasi lainnya. \n",
    "\n",
    "Meskipun dapat digunakan untuk klasifikasi multivariabel, ini adalah alat yang hebat untuk digunakan untuk masalah klasifikasi biner karena beroperasi pada probabilitas. \n",
    "\n",
    "Nilai keluaran dalam logistic regression adalah klasifikasi bernomor, tetapi sebelum klasifikasi diberikan, keluaran yang AKTUAL adalah probabilitas numerik dalam rentang 0 sampai 1. \n",
    "\n",
    "Berdasarkan probabilitas tersebut akan diberikan klasifikasi 1 atau 0. \n",
    "\n",
    "Algoritme pada dasarnya membulatkan nilai untuk memberikan klasifikasi; 0 adalah kelas negatif dan 1 adalah kelas positif."
   ]
  },
  {
   "cell_type": "markdown",
   "metadata": {
    "id": "Kw_TQ4o4fYiR"
   },
   "source": [
    "<img src=\"https://i.ibb.co/fDKqxWW/ds-12-02.png\" width=\"600\" align=\"center\">\n"
   ]
  },
  {
   "cell_type": "markdown",
   "metadata": {
    "id": "CMBDJ9KXMKDK"
   },
   "source": [
    "Logistic regression banyak digunakan pada ilmu biologi dan sosial . Dimana jika variabel ada berjenis categorical, logistic regresion Ini digunakan . \n",
    "\n",
    "Contoh :\n",
    "\n",
    "- Banking : memprediksi calon nasabah layak mendapat penjiman(1) atau tidak (0). \n",
    "\n",
    "- Spam detection : memprediksi apakah email yang masuk kedalam kategori spam (1) atau bukan (0). \n",
    "\n",
    "- Medical : menentukan apaka jaringan bejenis tumor (malignant) atau bukan (benign).\n",
    "\n",
    "- Credit Card Fraud : memprediksi apakah transaksi pada kartu kredit termaksud kategori fraud (1) atau bukan (0).\n"
   ]
  },
  {
   "cell_type": "markdown",
   "metadata": {
    "id": "DIE952RtQFZu"
   },
   "source": [
    "Contoh diatas berhubungan denga probabilistik dimana logistic regresion banyak digunakan dalam penentuan regisresi binominal. \n",
    "\n",
    "Binomial artinya hanya ada dua kemungkinan yang menjadi outcome, tidak lebih dari dua .  Contoh 1 atau 0 , ya atau tidak dan lainnya. "
   ]
  },
  {
   "cell_type": "markdown",
   "metadata": {
    "id": "sJh5LlDyR3Xd"
   },
   "source": [
    "| Classification | Regression |\n",
    "|:---------------|:-----------|\n",
    "| Input variabel bersifat descrit / categorical | Inputan variabel bersifat continue | \n",
    "| Tujuan atau outcome berupa class | bilangan ril | \n",
    "| memperediksi class di masa depan | memprediksi nilai di masa depan | \n",
    "| Metode kalkulasinya dengan mengukur akurasi | menghitung root mean square | \n",
    "| Algo : Clasification tree, Logistic Regression | Linear Regression , Regression tree | "
   ]
  },
  {
   "cell_type": "markdown",
   "metadata": {
    "id": "qzwI3nYngh0g"
   },
   "source": [
    "Types of Logistic Regression\n",
    "\n",
    "1. **Binary Logistic Regression**:\n",
    "Variabel dependen hanya memiliki dua kemungkinan hasil / kelas.\n",
    "Example-Male or Female.\n",
    "\n",
    "2. **Multinomial Logistic Regression**:\n",
    "Variabel dependen hanya memiliki dua kemungkinan hasil / kelas 3 atau lebih tanpa urutan.\n",
    "Example: Predicting food quality.(Good,Great and Bad).\n",
    "\n",
    "3. **Ordinal Logistic Regression**:\n",
    "Variabel dependen hanya memiliki dua 3 atau lebih kemungkinan hasil / kelas dengan pengurutan. Example: Star rating from 1 to 5\n"
   ]
  },
  {
   "cell_type": "markdown",
   "metadata": {
    "id": "vKwA4vjMgxDz"
   },
   "source": [
    "### Math Prerequisites\n"
   ]
  },
  {
   "cell_type": "markdown",
   "metadata": {
    "id": "z_SEc0HK--xn"
   },
   "source": [
    "#### Simple Linear Regression\n",
    "- $y = \\alpha + \\beta x$\n",
    "- $g(x) = \\alpha + \\beta x$"
   ]
  },
  {
   "cell_type": "markdown",
   "metadata": {
    "id": "Mr5_DHwdAugL"
   },
   "source": [
    "\n",
    "#### Multiple Linear Regression\n",
    "- $y = \\alpha + \\beta_1x_1 + \\beta_2x_2 + \\dots + \\beta_nx_n$\n",
    "- $g(X) = \\alpha + \\beta X$"
   ]
  },
  {
   "cell_type": "markdown",
   "metadata": {
    "id": "krQoWsDeAxVk"
   },
   "source": [
    "\n",
    "#### Logistic Regression\n",
    "- $g(X) = sigmoid(\\alpha + \\beta X)$\n",
    "- $sigmoid(x) = \\frac{1}{1 + exp(-x)}$"
   ]
  },
  {
   "cell_type": "markdown",
   "metadata": {
    "id": "qSlc937wgyml"
   },
   "source": [
    "**Sigmoid Function**\n",
    "\n",
    "Kita perlu memahami linear regression karena logistic regression juga menggunakan persamaan linier dengan variabel independen untuk memprediksi nilai keluaran (probabilitas). Kasus penggunaannya (classification vs. forecasting) adalah yang pada akhirnya membedakan satu sama lain.\n",
    "\n",
    "Meskipun Logistic Regression menggunakan persamaan linier, pembedanya adalah **sigmoid function**. **Sigmoid function** adalah fungsi matematika yang memiliki karakteristik kurva berbentuk \"S\".\n",
    "\n",
    "***Pada logistic Regresion \"Komputer belajar menemukan model yang disebut sigmoid function atau logistic function\".***\n",
    "\n",
    "Fungsi matematis sigmoid ditunjukkan di bawah ini.\n",
    "\n"
   ]
  },
  {
   "cell_type": "markdown",
   "metadata": {
    "id": "U7hlXg_wffxq"
   },
   "source": [
    "<img src=\"https://i.ibb.co/8c070qJ/ds-12-03.png\" width=\"400\" align=\"center\">\n"
   ]
  },
  {
   "cell_type": "markdown",
   "metadata": {
    "id": "TaqGgBcMhASw"
   },
   "source": [
    "Dan pada gambar dibawah adalah standard linear function kita yang memerlukan konstanta dan nilai input.\n",
    "\n"
   ]
  },
  {
   "cell_type": "markdown",
   "metadata": {
    "id": "rieibDXQfmDX"
   },
   "source": [
    "<img src=\"https://i.ibb.co/hLFhn6r/ds-12-04.png\" width=\"400\" align=\"center\">\n"
   ]
  },
  {
   "cell_type": "markdown",
   "metadata": {
    "id": "uBe8XwIVhCRT"
   },
   "source": [
    "Sekarang pada gambar dibawah, kitamemasukkan persamaan linier ke dalam fungsi sigmoid.\n",
    "\n"
   ]
  },
  {
   "cell_type": "markdown",
   "metadata": {
    "id": "_T6ghl9WfqNG"
   },
   "source": [
    "<img src=\"https://i.ibb.co/DQzYDr4/ds-12-05.png\" width=\"400\" align=\"center\">\n"
   ]
  },
  {
   "cell_type": "markdown",
   "metadata": {
    "id": "RyoJjCWihHP4"
   },
   "source": [
    ">> `Kami mengambil output(z) dari persamaan linier dan memberikan ke fungsi g(x) yang mengembalikan nilai squashed h, nilai h akan terletak pada kisaran 0 hingga 1. Untuk memahami bagaimana fungsi sigmoid menekan nilai-nilai dalam rentang, mari kita visualisasikan grafik fungsi sigmoid.`"
   ]
  },
  {
   "cell_type": "markdown",
   "metadata": {
    "id": "OGGdsGp1hOB9"
   },
   "source": [
    "Gambar ini menunjukkan fungsi sigmoid (atau kurva berbentuk S) dari beberapa variabel 𝑥:"
   ]
  },
  {
   "cell_type": "markdown",
   "metadata": {
    "id": "6JHq0O7SfxWY"
   },
   "source": [
    "<img src=\"https://i.ibb.co/0jVtFjB/ds-12-06.png\" width=\"400\" align=\"center\">\n"
   ]
  },
  {
   "cell_type": "markdown",
   "metadata": {
    "id": "-dd5_PiVhSCv"
   },
   "source": [
    "Sigmoid function memiliki nilai yang sangat dekat dengan 0 atau 1 di sebagian besar domainnya. Fakta ini membuatnya cocok untuk aplikasi dalam metode classification.\n",
    "\n",
    "Gambar ini menggambarkan natural logarithm log(𝑥) dari beberapa variabel 𝑥, untuk nilai 𝑥 antara 0 dan 1:"
   ]
  },
  {
   "cell_type": "markdown",
   "metadata": {
    "id": "LARhTbZ6f_C0"
   },
   "source": []
  },
  {
   "cell_type": "markdown",
   "metadata": {
    "id": "JXeBRDmwf1vB"
   },
   "source": [
    "<img src=\"https://i.ibb.co/HzjpW8H/ds-12-07.png\" width=\"400\" align=\"center\">\n",
    "\n",
    "\n"
   ]
  },
  {
   "cell_type": "markdown",
   "metadata": {
    "id": "aD1P03ae2YMm"
   },
   "source": [
    "Ketika 𝑥 mendekati nol, logaritma natural dari 𝑥 turun menuju tak terhingga negatif. Ketika 𝑥 = 1, log (𝑥) adalah 0. Kebalikannya berlaku untuk log (1 - 𝑥).\n",
    "\n",
    "Perhatikan bahwa kita akan sering menemukan natural logarithm yang dilambangkan dengan ln , bukan log. Dalam Python, math.log(x) dan numpy.log(x) mewakili natural logarithm dari x.\n",
    "\n"
   ]
  },
  {
   "cell_type": "markdown",
   "metadata": {
    "id": "yV8g7Sw92ZpJ"
   },
   "source": [
    "### Problem Formulation\n"
   ]
  },
  {
   "cell_type": "markdown",
   "metadata": {
    "id": "BFmE2f8N2eIZ"
   },
   "source": [
    "Dalam sesi ini, kita  akan melihat penjelasan untuk kasus umum logistic regression yang diterapkan pada binary classification. Saat kita menerapkan logistic regression dari beberapa variabel dependen 𝑦 pada kumpulan variabel independen 𝐱 = (𝑥₁,…, 𝑥ᵣ), dengan 𝑟 adalah jumlah prediktor (atau input), kita mulai dengan nilai prediktor yang diketahui 𝐱ᵢ dan respon aktual yang sesuai (atau keluaran) 𝑦ᵢ untuk setiap observasi 𝑖 = 1,…, 𝑛.\n",
    "\n",
    "Tujuan kita adalah menemukan logistic regression function 𝑝 (𝐱) sedemikian rupa sehingga predicted responses 𝑝 (𝐱ᵢ) sedekat mungkin dengan actual response 𝑦ᵢ untuk setiap pengamatan 𝑖 = 1,…, 𝑛. Ingatlah bahwa respons sebenarnya hanya bisa 0 atau 1 dalam binary classification problems! Ini berarti bahwa setiap 𝑝 (𝐱ᵢ) harus mendekati 0 atau 1. Itulah mengapa lebih mudah menggunakan fungsi sigmoid.\n",
    "\n",
    "Setelah kita memiliki fungsi regresi logistik 𝑝 (𝐱), kita dapat menggunakannya untuk memprediksi keluaran untuk masukan baru dan yang tidak terlihat, dengan asumsi bahwa ketergantungan matematika yang mendasarinya tidak berubah.\n",
    "\n"
   ]
  },
  {
   "cell_type": "markdown",
   "metadata": {
    "id": "xwY0gEsv2gEG"
   },
   "source": [
    "### Methodology\n"
   ]
  },
  {
   "cell_type": "markdown",
   "metadata": {
    "id": "sg1PaEvl2v2Q"
   },
   "source": [
    "Logistic regression adalah linear classifier, jadi kita akan menggunakan fungsi linier 𝑓(𝐱) = 𝑏₀ + 𝑏₁𝑥₁ + ⋯ + 𝑏ᵣ𝑥ᵣ, juga disebut logit. Variabel 𝑏₀, 𝑏₁,…, 𝑏ᵣ adalah estimators dari regression coefficients, yang juga disebut predicted weights atau coefficients.\n",
    "\n",
    "Logistic regression function 𝑝 (𝐱) adalah fungsi sigmoid dari 𝑓(𝐱): 𝑝 (𝐱) = 1 / (1 + exp (−𝑓(𝐱)). Oleh karena itu, sering kali mendekati 0 atau 1. Fungsi 𝑝(𝐱) sering diartikan sebagai predicted probability yang mana output untuk 𝐱 yang diberikan sama dengan 1. Oleh karena itu, 1 - 𝑝(𝑥) adalah probabilitas yang outputnya adalah 0.\n",
    "\n",
    "Logistic regression menentukan bobot prediksi terbaik 𝑏₀, 𝑏₁,…, 𝑏ᵣ sedemikian rupa sehingga fungsi 𝑝(𝐱) sedekat mungkin dengan semua actual responses 𝑦ᵢ, 𝑖 = 1,…, 𝑛, di mana 𝑛 adalah jumlah observasi. Proses penghitungan bobot terbaik menggunakan observasi yang tersedia disebut model training atau fitting.\n",
    "\n",
    "Untuk mendapatkan bobot terbaik, biasanya kita memaksimalkan log-likelihood function (LLF) untuk semua observasi 𝑖 = 1,…, 𝑛. Metode ini disebut maximum likelihood estimation dan diwakili oleh persamaan LLF = Σᵢ(𝑦ᵢ log (𝑝(𝐱ᵢ)) + (1 - 𝑦ᵢ) log (1 - 𝑝(𝐱ᵢ))).\n",
    "\n",
    "Jika 𝑦ᵢ = 0, LLF pengamatan terkait sama dengan log (1 - 𝑝(𝐱ᵢ)). Jika 𝑝(𝐱ᵢ) mendekati 𝑦ᵢ = 0, maka log (1 - 𝑝(𝐱ᵢ)) mendekati 0. Ini adalah hasil yang kita inginkan. Jika 𝑝(𝐱ᵢ) jauh dari 0, maka log (1 - 𝑝(𝐱ᵢ)) turun secara signifikan. Kita tidak menginginkan hasil itu karena tujuan kita adalah mendapatkan LLF maksimum. Demikian pula, jika 𝑦ᵢ = 1, LLF untuk pengamatan tersebut adalah 𝑦ᵢ log(𝑝(𝐱ᵢ)). Jika 𝑝(𝐱ᵢ) mendekati 𝑦ᵢ = 1, maka log (𝑝(𝐱ᵢ)) mendekati 0. Jika 𝑝 (𝐱ᵢ) jauh dari 1, maka log (𝑝 (𝐱ᵢ)) adalah bilangan negatif yang besar.\n",
    "\n",
    "Ada beberapa pendekatan matematis yang akan menghitung bobot terbaik yang sesuai dengan LLF maksimum, tetapi itu di luar cakupan sesi ini.\n",
    "\n",
    "Setelah kita menentukan bobot terbaik yang menentukan fungsi 𝑝(𝐱), kita bisa mendapatkan predicted outputs 𝑝(𝐱ᵢ) untuk masukan yang diberikan 𝐱ᵢ. Untuk setiap observasi 𝑖 = 1,…, 𝑛, predicted output adalah 1 jika 𝑝(𝐱ᵢ)> 0,5 dan 0 sebaliknya. Ambang batasnya tidak harus 0,5, tetapi biasanya memang begitu. Kita dapat menentukan nilai yang lebih rendah atau lebih tinggi jika itu lebih nyaman untuk situasi kita.\n",
    "\n",
    "Ada satu hubungan penting lagi antara 𝑝(𝐱) dan 𝑓(𝐱), yaitu log (𝑝(𝐱) / (1 - 𝑝(𝐱))) = 𝑓(𝐱). Persamaan ini menjelaskan mengapa 𝑓(𝐱) adalah logit. Ini menyiratkan bahwa 𝑝(𝐱) = 0,5 ketika 𝑓(𝐱) = 0 dan output yang diprediksi adalah 1 jika 𝑓(𝐱)> 0 dan 0 sebaliknya."
   ]
  },
  {
   "cell_type": "markdown",
   "metadata": {
    "id": "4aG9j_Va2y4G"
   },
   "source": [
    "### Classification Performance\n"
   ]
  },
  {
   "cell_type": "markdown",
   "metadata": {
    "id": "gP6A_j4t22UP"
   },
   "source": [
    "Binary classification memiliki empat kemungkinan jenis hasil:\n",
    "\n",
    "1. Negatif True: prediksi negatif yang benar (nol)\n",
    "2. Positif True: prediksi positif yang benar (1)\n",
    "3. Negatif False: prediksi negatif yang salah (nol)\n",
    "4. Positif False: prediksi positif yang salah (1)\n",
    "\n",
    "\n",
    "Kita biasanya mengevaluasi kinerja pengklasifikasi kita dengan membandingkan actual and predicted outputs serta menghitung prediksi yang benar dan yang salah.\n",
    "\n",
    "Indikator classification accuracy yang paling jelas adalah rasio jumlah prediksi yang benar dengan jumlah total prediksi (atau observasi). Indikator lain dari binary classifiers adalah sebagai berikut:\n",
    "\n",
    "- Nilai prediksi positif adalah rasio jumlah positif benar dengan jumlah jumlah positif benar dan positif false.\n",
    "- Nilai prediksi negatif adalah rasio jumlah negatif benar dengan jumlah negatif benar dan negatif false.\n",
    "- Sensitivitas (juga dikenal sebagai recall atau true positive rate) adalah rasio jumlah positif sejati dengan jumlah positif sebenarnya.\n",
    "- Spesifisitas (atau tingkat negatif sejati) adalah rasio jumlah negatif benar dengan jumlah negatif sebenarnya.\n"
   ]
  },
  {
   "cell_type": "markdown",
   "metadata": {
    "id": "mmE-1dxhAy2l"
   },
   "source": [
    "## Single-Variate Logistic Regression\n"
   ]
  },
  {
   "cell_type": "markdown",
   "metadata": {
    "id": "mYuGKlVmDA2R"
   },
   "source": [
    "**Single-variate logistic regression** adalah kasus logistic regression yang paling jelas. Hanya ada satu variabel independen (atau fitur), yaitu 𝐱 = 𝑥. Gambar ini mengilustrasikan single-variate logistic regression:"
   ]
  },
  {
   "cell_type": "markdown",
   "metadata": {
    "id": "KB1Wt1BigAyh"
   },
   "source": [
    "<img src=\"https://i.ibb.co/mXydHBn/ds-12-08.png\" width=\"400\" align=\"center\">\n",
    "\n"
   ]
  },
  {
   "cell_type": "markdown",
   "metadata": {
    "id": "AwBc42XADG-q"
   },
   "source": [
    "Di sini, kita memiliki satu set pasangan input-output (atau 𝑥-𝑦), yang diwakili oleh lingkaran hijau. Ini adalah pengamatan kita. Ingatlah bahwa 𝑦 hanya bisa 0 atau 1. Misalnya, lingkaran hijau paling kiri memiliki masukan 𝑥 = 0 dan keluaran aktual 𝑦 = 0. Pengamatan paling kanan memiliki 𝑥 = 9 dan 𝑦 = 1.\n",
    "\n",
    "Logistic regression menemukan bobot 𝑏₀ dan 𝑏₁ yang sesuai dengan maximum LLF. Bobot ini menentukan logit 𝑓 (𝑥) = 𝑏₀ + 𝑏₁𝑥, yang merupakan garis hitam putus-putus. Mereka juga menentukan predicted probability 𝑝 (𝑥) = 1 / (1 + exp (−𝑓 (𝑥))), yang ditampilkan di sini sebagai garis hitam. Dalam hal ini, threshold 𝑝 (𝑥) = 0,5 dan 𝑓 (𝑥) = 0 sesuai dengan nilai 𝑥 sedikit lebih tinggi dari 3. Nilai ini adalah batas antara input dengan output yang diprediksi 0 dan 1.\n",
    "\n"
   ]
  },
  {
   "cell_type": "markdown",
   "metadata": {
    "id": "JtHHSwbtDJDI"
   },
   "source": [
    "## Multi-Variate Logistic Regression\n"
   ]
  },
  {
   "cell_type": "markdown",
   "metadata": {
    "id": "N3WCAgMsDLmN"
   },
   "source": [
    "Multi-variate logistic regression memiliki lebih dari satu variabel masukan. Gambar ini menunjukkan klasifikasi dengan dua variabel independen, 𝑥₁ dan 𝑥₂:"
   ]
  },
  {
   "cell_type": "markdown",
   "metadata": {
    "id": "soETszAKgIKE"
   },
   "source": [
    "<img src=\"https://i.ibb.co/Jr2qJ07/ds-12-09.png\" width=\"400\" align=\"center\">\n",
    "\n"
   ]
  },
  {
   "cell_type": "markdown",
   "metadata": {
    "id": "UvFxBDmKDN9X"
   },
   "source": [
    "Grafik ini berbeda dengan grafik single-variate karena kedua sumbu mewakili input. Outputnya juga berbeda dalam warna. Lingkaran putih menunjukkan observasi yang diklasifikasikan sebagai nol, sedangkan lingkaran hijau adalah yang diklasifikasikan sebagai satu.\n",
    "\n",
    "Logistic regression menentukan bobot 𝑏₀, 𝑏₁, dan 𝑏₂ yang memaksimalkan LLF. Setelah kita memiliki 𝑏₀, 𝑏₁, dan 𝑏₂, kita bisa mendapatkan:\n",
    "\n",
    "- The logit 𝑓(𝑥₁, 𝑥₂) = 𝑏₀ + 𝑏₁𝑥₁ + 𝑏₂𝑥₂\n",
    "- The probabilities 𝑝(𝑥₁, 𝑥₂) = 1 / (1 + exp(−𝑓(𝑥₁, 𝑥₂)))\n",
    "\n",
    "Garis hitam putus-putus memisahkan kedua kelas secara linier. Garis ini sesuai dengan 𝑝 (𝑥₁, 𝑥₂) = 0,5 dan 𝑓 (𝑥₁, 𝑥₂) = 0."
   ]
  },
  {
   "cell_type": "markdown",
   "metadata": {
    "id": "0rWdpoFdDXpd"
   },
   "source": [
    "## Logistic Regression in Python\n"
   ]
  },
  {
   "cell_type": "markdown",
   "metadata": {
    "id": "cO0e31WaDZQz"
   },
   "source": [
    "## Logistic Regression in Python With scikit-learn: Example 1\n"
   ]
  },
  {
   "cell_type": "markdown",
   "metadata": {
    "id": "n9hnvRsvDeJ0"
   },
   "source": [
    "Contoh pertama terkait dengan single-variate binary classification problem. Ini adalah jenis masalah klasifikasi yang paling jelas. Ada beberapa langkah umum yang harus kita ambil saat menyiapkan model klasifikasi:\n",
    "\n",
    "- Impor paket, fungsi, dan kelas\n",
    "- Dapatkan data untuk digunakan dan, jika sesuai, ubahlah\n",
    "- Buat model klasifikasi dan latih (atau sesuaikan) dengan data Anda yang ada\n",
    "- Evaluasi model Anda untuk melihat apakah kinerjanya memuaskan\n",
    "\n",
    "Model yang cukup baik yang kita tentukan dapat digunakan untuk membuat prediksi lebih lanjut terkait dengan data baru yang tidak terlihat. Prosedur di atas sama untuk klasifikasi dan regresi.\n",
    "\n"
   ]
  },
  {
   "cell_type": "markdown",
   "metadata": {
    "id": "0isE-OVSDnCK"
   },
   "source": [
    "\n",
    "### Step 1: Import Packages, Functions, and Classes\n",
    "\n",
    "Pertama, kita harus mengimpor Matplotlib untuk visualisasi dan NumPy untuk operasi array. Kita juga akan memerlukan LogisticRegression, classification_report(), dan confusion_matrix() dari scikit-learn:\n"
   ]
  },
  {
   "cell_type": "code",
   "execution_count": 1,
   "metadata": {
    "id": "TRpWpoMTDrYU"
   },
   "outputs": [],
   "source": [
    "import matplotlib.pyplot as plt\n",
    "import numpy as np\n",
    "\n",
    "from sklearn.linear_model import LogisticRegression\n",
    "from sklearn.metrics import classification_report, confusion_matrix"
   ]
  },
  {
   "cell_type": "markdown",
   "metadata": {
    "id": "thc-ad__DsiN"
   },
   "source": [
    "### Step 2: Get Data In practice, Anda biasanya memiliki beberapa data untuk dikerjakan. Untuk tujuan contoh ini, mari kita buat array untuk nilai input (𝑥) dan output (𝑦):\n",
    "\n"
   ]
  },
  {
   "cell_type": "code",
   "execution_count": 2,
   "metadata": {
    "id": "gg5ZQQy8DvM_"
   },
   "outputs": [],
   "source": [
    "x = np.arange(10).reshape(-1, 1)\n",
    "y = np.array([0, 0, 0, 0, 1, 1, 1, 1, 1, 1])\n"
   ]
  },
  {
   "cell_type": "markdown",
   "metadata": {
    "id": "WB5BYPUoDq7a"
   },
   "source": [
    "Input dan output harus berupa array NumPy (instance kelas numpy.ndarray) atau objek serupa. numpy.arange() membuat array nilai yang berurutan dan berjarak sama dalam rentang tertentu.\n",
    "\n",
    "Array x harus dua dimensi. Array x harus memiliki satu kolom untuk setiap masukan, dan jumlah baris harus sama dengan jumlah observations. Untuk membuat x dua dimensi, kita menerapkan .reshape() dengan argumen -1 untuk mendapatkan baris sebanyak yang diperlukan dan 1 untuk mendapatkan satu kolom. Beginilah tampilan x dan y sekarang:"
   ]
  },
  {
   "cell_type": "code",
   "execution_count": 3,
   "metadata": {
    "colab": {
     "base_uri": "https://localhost:8080/"
    },
    "id": "40cgKNf4D0Dp",
    "outputId": "9bff07fc-ff35-4f11-ed10-cbb77111b998"
   },
   "outputs": [
    {
     "name": "stdout",
     "output_type": "stream",
     "text": [
      "[[0]\n",
      " [1]\n",
      " [2]\n",
      " [3]\n",
      " [4]\n",
      " [5]\n",
      " [6]\n",
      " [7]\n",
      " [8]\n",
      " [9]] [0 0 0 0 1 1 1 1 1 1]\n"
     ]
    }
   ],
   "source": [
    "print(x, y)\n"
   ]
  },
  {
   "cell_type": "markdown",
   "metadata": {
    "id": "o6U8jjdfD3NY"
   },
   "source": [
    "**x** memiliki dua dimensi:\n",
    "\n",
    "1. Satu kolom untuk satu masukan\n",
    "2. Sepuluh baris, masing-masing sesuai dengan satu pengamatan\n",
    "\n",
    "**y** adalah satu dimensi dengan sepuluh item. Sekali lagi, setiap item berhubungan dengan satu observasi. Ini hanya berisi nol dan satu karena ini adalah masalah klasifikasi biner.\n",
    "\n"
   ]
  },
  {
   "cell_type": "markdown",
   "metadata": {
    "id": "tDfe8h-ID-sA"
   },
   "source": [
    "\n",
    "### Step 3: Create a Model and Train It\n",
    "\n",
    "Setelah kita menyiapkan input dan output, kita dapat membuat dan menentukan model klasifikasi. Kita akan membuatnya dengan instance kelas LogisticRegression:\n"
   ]
  },
  {
   "cell_type": "code",
   "execution_count": 4,
   "metadata": {
    "id": "FKLXng6QEBjM"
   },
   "outputs": [],
   "source": [
    "model = LogisticRegression(solver='liblinear', random_state=0)\n"
   ]
  },
  {
   "cell_type": "markdown",
   "metadata": {
    "id": "dRxEbM9OECbv"
   },
   "source": [
    "Pernyataan di atas membuat instance LogisticRegression dan mengikat referensinya ke variabel model. LogisticRegression memiliki beberapa parameter opsional yang menentukan perilaku dan pendekatan model:\n",
    "\n",
    "- penalti adalah string ('l2' secara default) yang memutuskan apakah ada regularisasi dan pendekatan mana yang digunakan. Pilihan lainnya adalah 'l1', 'elasticnet', dan 'none'.\n",
    "\n",
    "- dual adalah Boolean (False secara default) yang memutuskan apakah akan menggunakan formulasi primal (bila False) atau ganda (bila True).\n",
    "\n",
    "- tol adalah angka floating-point (0,0001 secara default) yang mendefinisikan toleransi untuk menghentikan prosedur.\n",
    "\n",
    "- C adalah angka floating-point positif (1.0 secara default) yang mendefinisikan kekuatan relatif dari regularisasi. Nilai yang lebih kecil menunjukkan regularisasi yang lebih kuat.\n",
    "\n",
    "- fit_intercept adalah Boolean (Benar secara default) yang memutuskan apakah akan menghitung intersep (bila Benar) atau menganggapnya sama dengan nol (bila Salah).\n",
    "\n",
    "- intersep_scaling adalah angka floating-point (1.0 secara default) yang mendefinisikan skala intersep .\n",
    "\n",
    "- class_weight adalah kamus, 'balanced', atau None (default) yang mendefinisikan bobot yang terkait dengan setiap kelas. Bila Tidak Ada, semua kelas memiliki bobot satu.\n",
    "\n",
    "- random_state adalah bilangan bulat, turunan dari numpy.RandomState, atau None (default) yang menentukan generator nomor pseudo-acak yang akan digunakan.\n",
    "\n",
    "- solver adalah string ('liblinear' secara default) yang memutuskan solver apa yang akan digunakan untuk menyesuaikan model. Pilihan lainnya adalah 'newton-cg', 'lbfgs', 'sag', dan 'saga'.\n",
    "\n",
    "- max_iter adalah bilangan bulat (100 secara default) yang menentukan jumlah maksimum iterasi oleh solver selama pemasangan model.\n",
    "\n",
    "- multi_class adalah string ('ovr' secara default) yang memutuskan pendekatan yang digunakan untuk menangani beberapa kelas. Pilihan lainnya adalah 'multinomial' dan 'auto'.\n",
    "\n",
    "- verbose adalah bilangan bulat non-negatif (0 secara default) yang mendefinisikan verbositas untuk pemecah 'liblinear' dan 'lbfgs'.\n",
    "\n",
    "- warm_start adalah Boolean (False secara default) yang memutuskan apakah akan menggunakan kembali solusi yang diperoleh sebelumnya.\n",
    "\n",
    "- n_jobs adalah integer atau None (default) yang menentukan jumlah proses paralel yang akan digunakan. None biasanya berarti menggunakan satu inti, sedangkan -1 berarti menggunakan semua inti yang tersedia.\n",
    "\n",
    "- l1_ratio adalah angka floating-point antara nol dan satu atau None (default). Ini mendefinisikan kepentingan relatif dari bagian L1 dalam regularisasi jaring elastis.\n",
    "\n",
    "\n",
    "Kita harus mencocokkan solver dan regularization dengan hati-hati karena beberapa alasan:\n",
    "\n",
    "'liblinear' solver doesn’t work without regularization.\n",
    "'newton-cg', 'sag', 'saga', and 'lbfgs' don’t support L1 regularization.\n",
    "'saga' is the only solver that supports elastic-net regularization.\n",
    "Setelah model dibuat, kita perlu menyesuaikan (atau melatih) model tersebut. Model fitting adalah proses menentukan koefisien 𝑏₀, 𝑏₁,…, 𝑏ᵣ yang sesuai dengan best value of the cost function. Kita melatih model dengan .fit():"
   ]
  },
  {
   "cell_type": "code",
   "execution_count": 5,
   "metadata": {
    "colab": {
     "base_uri": "https://localhost:8080/"
    },
    "id": "mY2KDInuEnys",
    "outputId": "97076728-b993-420d-96ba-4f3305cb88ee"
   },
   "outputs": [
    {
     "data": {
      "text/plain": [
       "LogisticRegression(random_state=0, solver='liblinear')"
      ]
     },
     "execution_count": 5,
     "metadata": {},
     "output_type": "execute_result"
    }
   ],
   "source": [
    "model.fit(x, y)\n"
   ]
  },
  {
   "cell_type": "markdown",
   "metadata": {
    "id": "qkz3iL3LEph6"
   },
   "source": [
    "Pernyataan diatas sama dengan dibawah ini.\n",
    "\n"
   ]
  },
  {
   "cell_type": "code",
   "execution_count": 6,
   "metadata": {
    "id": "jsRDx893EqMk"
   },
   "outputs": [],
   "source": [
    "model = LogisticRegression(solver='liblinear', random_state=0).fit(x, y)"
   ]
  },
  {
   "cell_type": "markdown",
   "metadata": {
    "id": "PbFS4qgdErze"
   },
   "source": [
    "Pada titik ini, kita telah membuat model klasifikasi.\n",
    "\n",
    "Kita bisa dengan cepat mendapatkan atribut model kita. Misalnya, atribut .classes_ mewakili array nilai berbeda yang diambil y:"
   ]
  },
  {
   "cell_type": "code",
   "execution_count": 7,
   "metadata": {
    "colab": {
     "base_uri": "https://localhost:8080/"
    },
    "id": "AfYlFD2WEuUX",
    "outputId": "46a59d67-c20d-439f-cfbb-ca71dc9d9e88"
   },
   "outputs": [
    {
     "data": {
      "text/plain": [
       "array([0, 1])"
      ]
     },
     "execution_count": 7,
     "metadata": {},
     "output_type": "execute_result"
    }
   ],
   "source": [
    "model.classes_\n"
   ]
  },
  {
   "cell_type": "markdown",
   "metadata": {
    "id": "_MLvi4n0EvHs"
   },
   "source": [
    "Ini adalah contoh klasifikasi biner, dan y bisa menjadi 0 atau 1, seperti yang ditunjukkan di atas.\n",
    "\n",
    "Kita juga bisa mendapatkan nilai slope 𝑏₁ dan titik intercept 𝑏₀ dari linear function 𝑓 seperti ini:"
   ]
  },
  {
   "cell_type": "code",
   "execution_count": 8,
   "metadata": {
    "colab": {
     "base_uri": "https://localhost:8080/"
    },
    "id": "dP5F2YAKExSg",
    "outputId": "7370a11a-6da2-49bb-c3da-9ff32d91d4d2"
   },
   "outputs": [
    {
     "name": "stdout",
     "output_type": "stream",
     "text": [
      "[-1.04608067] [[0.51491375]]\n"
     ]
    }
   ],
   "source": [
    "print(model.intercept_, model.coef_)"
   ]
  },
  {
   "cell_type": "markdown",
   "metadata": {
    "id": "4i9lhZrMEy1t"
   },
   "source": [
    "Seperti yang kita lihat, 𝑏₀ diberikan di dalam array satu dimensi, sedangkan 𝑏₁ ada di dalam array dua dimensi. Kita menggunakan atribut .intercept_ dan .coef_ untuk mendapatkan hasil ini.\n",
    "\n",
    "Step 4: Evaluate the Model\n",
    "\n",
    "Setelah model ditentukan, kita dapat memeriksa performanya dengan .predict_proba(), yang mengembalikan matriks probabilitas bahwa keluaran yang diprediksi sama dengan nol atau satu:"
   ]
  },
  {
   "cell_type": "code",
   "execution_count": 9,
   "metadata": {
    "colab": {
     "base_uri": "https://localhost:8080/"
    },
    "id": "T5jms9f8E1Rk",
    "outputId": "c77daf13-1bd4-423f-e091-2acb1062b15f"
   },
   "outputs": [
    {
     "data": {
      "text/plain": [
       "array([[0.74002157, 0.25997843],\n",
       "       [0.62975524, 0.37024476],\n",
       "       [0.5040632 , 0.4959368 ],\n",
       "       [0.37785549, 0.62214451],\n",
       "       [0.26628093, 0.73371907],\n",
       "       [0.17821501, 0.82178499],\n",
       "       [0.11472079, 0.88527921],\n",
       "       [0.07186982, 0.92813018],\n",
       "       [0.04422513, 0.95577487],\n",
       "       [0.02690569, 0.97309431]])"
      ]
     },
     "execution_count": 9,
     "metadata": {},
     "output_type": "execute_result"
    }
   ],
   "source": [
    "model.predict_proba(x)\n"
   ]
  },
  {
   "cell_type": "markdown",
   "metadata": {
    "id": "B9TsjmBRE21i"
   },
   "source": [
    "Dalam matriks di atas, setiap baris sesuai dengan satu observasi. Kolom pertama adalah probabilitas keluaran yang diprediksi menjadi nol, yaitu 1 - 𝑝(𝑥). Kolom kedua adalah probabilitas yang outputnya satu, atau 𝑝(𝑥).\n",
    "\n",
    "Kita bisa mendapatkan prediksi aktual, berdasarkan matriks probabilitas dan nilai 𝑝(𝑥), dengan .predict():"
   ]
  },
  {
   "cell_type": "code",
   "execution_count": 10,
   "metadata": {
    "colab": {
     "base_uri": "https://localhost:8080/"
    },
    "id": "t5yjl33RE3m_",
    "outputId": "2e95a717-6538-404e-cf2c-008ec4b23c6d"
   },
   "outputs": [
    {
     "name": "stdout",
     "output_type": "stream",
     "text": [
      "[0 0 0 1 1 1 1 1 1 1]\n"
     ]
    }
   ],
   "source": [
    "y_pred = model.predict(x)\n",
    "print(y_pred)"
   ]
  },
  {
   "cell_type": "markdown",
   "metadata": {
    "id": "QFgwjpaaE6u9"
   },
   "source": [
    "Fungsi ini mengembalikan nilai keluaran yang diprediksi sebagai one-dimensional array.\n",
    "\n",
    "Gambar di bawah ini mengilustrasikan input, output, dan hasil klasifikasi:"
   ]
  },
  {
   "cell_type": "markdown",
   "metadata": {
    "id": "XFoo7_LjgNd-"
   },
   "source": [
    "<img src=\"https://i.ibb.co/nCgNNKJ/ds-12-10.png\" width=\"600\" align=\"center\">"
   ]
  },
  {
   "cell_type": "markdown",
   "metadata": {
    "id": "eUMfreDSE-um"
   },
   "source": [
    "Lingkaran hijau mewakili actual responses prediksi yang benar. × merah menunjukkan prediksi yang salah. Garis hitam  adalah perkiraan logistic regression line 𝑝 (𝑥). Kotak abu-abu adalah titik-titik pada garis ini yang sesuai dengan 𝑥 dan nilai-nilai di kolom kedua dari matriks probabilitas. Garis putus-putus hitam adalah logit 𝑓(𝑥).\n",
    "\n",
    "Nilai 𝑥 sedikit di atas 2 sesuai dengan threshold 𝑝 (𝑥) = 0,5, yaitu 𝑓 (𝑥) = 0. Nilai 𝑥 ini adalah batas antara titik yang diklasifikasikan sebagai nol dan yang diprediksi sebagai titik.\n",
    "\n",
    "Misalnya, titik pertama memiliki masukan 𝑥 = 0, keluaran aktual 𝑦 = 0, probabilitas 𝑝 = 0,26, dan nilai prediksi 0. Titik kedua memiliki 𝑥 = 1, 𝑦 = 0, 𝑝 = 0,37, dan prediksi 0. Hanya poin keempat yang memiliki output aktual 𝑦 = 0 dan probabilitas lebih tinggi dari 0,5 (pada 𝑝 = 0,62), jadi salah diklasifikasikan sebagai 1. Semua nilai lainnya diprediksi dengan benar.\n",
    "\n",
    "Jika kita memiliki sembilan dari sepuluh observasi yang diklasifikasikan dengan benar, akurasi model kita sama dengan 9/10 = 0,9, yang dapat kita peroleh dengan .score():"
   ]
  },
  {
   "cell_type": "code",
   "execution_count": 11,
   "metadata": {
    "colab": {
     "base_uri": "https://localhost:8080/"
    },
    "id": "S8ekATpUFChG",
    "outputId": "edcb3e64-b6f8-40b4-aaec-220ce99678ed"
   },
   "outputs": [
    {
     "data": {
      "text/plain": [
       "0.9"
      ]
     },
     "execution_count": 11,
     "metadata": {},
     "output_type": "execute_result"
    }
   ],
   "source": [
    "model.score(x, y)\n"
   ]
  },
  {
   "cell_type": "markdown",
   "metadata": {
    "id": "2bbV-gryFEjl"
   },
   "source": [
    ".score() mengambil input dan output sebagai argumen dan mengembalikan rasio jumlah prediksi yang benar dengan jumlah observasi.\n",
    "\n",
    "Kita bisa mendapatkan lebih banyak informasi tentang keakuratan model dengan confusion matrix. Dalam kasus klasifikasi biner, confusion matrix menunjukkan angka-angka berikut ini:\n",
    "\n",
    "- **True Negatif** di posisi kiri atas\n",
    "- **False Negatif** di posisi kiri bawah\n",
    "- **False Positif**  di posisi kanan atas\n",
    "- **True Positif**  di posisi kanan bawah\n",
    "\n",
    "Untuk membuat confusion matrix, kita bisa menggunakan confusion_matrix() dan memberikan output aktual dan terprediksi sebagai argumen:"
   ]
  },
  {
   "cell_type": "markdown",
   "metadata": {
    "id": "fd1kuEw4PWg4"
   },
   "source": [
    "<img src=\"https://i.ibb.co/M6Sm0VB/ds-12-11.png\" width=\"400\" align=\"center\">"
   ]
  },
  {
   "cell_type": "code",
   "execution_count": 12,
   "metadata": {
    "colab": {
     "base_uri": "https://localhost:8080/"
    },
    "id": "6hUJSSHVFGfA",
    "outputId": "038f0606-eda7-4cdd-d8fa-9bf899badfdd"
   },
   "outputs": [
    {
     "data": {
      "text/plain": [
       "array([[3, 1],\n",
       "       [0, 6]], dtype=int64)"
      ]
     },
     "execution_count": 12,
     "metadata": {},
     "output_type": "execute_result"
    }
   ],
   "source": [
    "matrix = confusion_matrix(y, model.predict(x))\n",
    "matrix"
   ]
  },
  {
   "cell_type": "code",
   "execution_count": 13,
   "metadata": {
    "colab": {
     "base_uri": "https://localhost:8080/"
    },
    "id": "KC080AknaXdc",
    "outputId": "d76bde83-f78c-4b4b-b4e5-8c8e27f278ce"
   },
   "outputs": [
    {
     "name": "stdout",
     "output_type": "stream",
     "text": [
      "True Negatif (TN) : 3 \n",
      "False Positif (FP) : 1 \n",
      "False Negatif (FN) : 0 \n",
      "True Positif (TP) : 6 \n"
     ]
    }
   ],
   "source": [
    "tn,fp, fn, tp = matrix.ravel()\n",
    "print(f'True Negatif (TN) : {tn} ')\n",
    "print(f'False Positif (FP) : {fp} ')\n",
    "print(f'False Negatif (FN) : {fn} ')\n",
    "print(f'True Positif (TP) : {tp} ')"
   ]
  },
  {
   "cell_type": "markdown",
   "metadata": {
    "id": "x-7jrsitFIh2"
   },
   "source": [
    "\n",
    "\n",
    "Seringkali berguna untuk memvisualisasikan confusion matrix. kita dapat melakukannya dengan .imshow() dari Matplotlib, yang menerima confusion matrix sebagai argumen:"
   ]
  },
  {
   "cell_type": "code",
   "execution_count": 14,
   "metadata": {
    "colab": {
     "base_uri": "https://localhost:8080/",
     "height": 482
    },
    "id": "VQyvjLD9Q7H1",
    "outputId": "cced5fb6-ea16-4639-d8a8-39f04eec03a9"
   },
   "outputs": [
    {
     "data": {
      "image/png": "[encoded data removed]",
      "text/plain": [
       "<Figure size 576x576 with 1 Axes>"
      ]
     },
     "metadata": {
      "needs_background": "light"
     },
     "output_type": "display_data"
    }
   ],
   "source": [
    "cm = confusion_matrix(y, model.predict(x))\n",
    "\n",
    "fig, ax = plt.subplots(figsize=(8, 8))\n",
    "ax.imshow(cm)\n",
    "ax.grid(False)\n",
    "ax.xaxis.set(ticks=(0, 1), ticklabels=('Predicted 0s', 'Predicted 1s'))\n",
    "ax.yaxis.set(ticks=(0, 1), ticklabels=('Actual 0s', 'Actual 1s'))\n",
    "ax.set_ylim(1.5, -0.5)\n",
    "for i in range(2):\n",
    "    for j in range(2):\n",
    "        ax.text(j, i, cm[i, j], ha='center', va='center', color='red')\n",
    "plt.show()"
   ]
  },
  {
   "cell_type": "markdown",
   "metadata": {
    "id": "P4OEnM8EKJ4S"
   },
   "source": [
    "Matriks yang diperoleh menunjukkan hasil sebagai berikut:\n",
    "\n",
    "\n",
    "- Tiga prediksi true negatif : Tiga pengamatan pertama adalah nol yang diprediksi dengan benar.\n",
    "- Tidak ada prediksi false negatif: Ini adalah prediksi yang salah sebagai nol.\n",
    "- Satu prediksi false positif: Pengamatan keempat adalah nol yang salah diprediksi sebagai satu.\n",
    "- Enam prediksi positif yang benar: Enam pengamatan terakhir adalah yang diprediksi dengan benar."
   ]
  },
  {
   "cell_type": "markdown",
   "metadata": {
    "id": "D54D4JFlPXhu"
   },
   "source": [
    "Pada gambar ini, warna berbeda mewakili angka berbeda dan warna serupa mewakili angka serupa. Heatmaps adalah cara yang bagus untuk merepresentasikan matriks.\n",
    "\n",
    "Kita bisa mendapatkan laporan yang lebih komprehensif tentang klasifikasi dengan classification_report():"
   ]
  },
  {
   "cell_type": "code",
   "execution_count": 15,
   "metadata": {
    "colab": {
     "base_uri": "https://localhost:8080/"
    },
    "id": "bZtZOYPkFhVk",
    "outputId": "4900bc75-6c1c-4f6c-aeac-59505fd890ae"
   },
   "outputs": [
    {
     "name": "stdout",
     "output_type": "stream",
     "text": [
      "              precision    recall  f1-score   support\n",
      "\n",
      "           0       1.00      0.75      0.86         4\n",
      "           1       0.86      1.00      0.92         6\n",
      "\n",
      "    accuracy                           0.90        10\n",
      "   macro avg       0.93      0.88      0.89        10\n",
      "weighted avg       0.91      0.90      0.90        10\n",
      "\n"
     ]
    }
   ],
   "source": [
    "print(classification_report(y, model.predict(x)))\n"
   ]
  },
  {
   "cell_type": "markdown",
   "metadata": {
    "id": "lu3kBC91KqE3"
   },
   "source": [
    "#### Precision Positive Predictive Value (PPV)\n",
    "\n",
    "$Precission = \\frac{TP}{TP + FP}$\n",
    "\n"
   ]
  },
  {
   "cell_type": "code",
   "execution_count": 16,
   "metadata": {
    "colab": {
     "base_uri": "https://localhost:8080/"
    },
    "id": "RBzsUoxLLVCZ",
    "outputId": "3fb847da-5462-47c6-f51f-5e3abfa08998"
   },
   "outputs": [
    {
     "data": {
      "text/plain": [
       "0.86"
      ]
     },
     "execution_count": 16,
     "metadata": {},
     "output_type": "execute_result"
    }
   ],
   "source": [
    "from sklearn.metrics import precision_score\n",
    "\n",
    "round(precision_score(y, y_pred),2)\n"
   ]
  },
  {
   "cell_type": "markdown",
   "metadata": {
    "id": "pNyKmE7KNB9I"
   },
   "source": [
    "#### Recall or  True Positive Rate (TPR) or Sensitivity\n",
    "\n",
    "$Recall = \\frac{TP}{TP + FN}$*italicized text*"
   ]
  },
  {
   "cell_type": "code",
   "execution_count": 17,
   "metadata": {
    "colab": {
     "base_uri": "https://localhost:8080/"
    },
    "id": "j7PsBvANM5vx",
    "outputId": "792f6fd2-976b-4e07-dd53-58bb58ada750"
   },
   "outputs": [
    {
     "data": {
      "text/plain": [
       "1.0"
      ]
     },
     "execution_count": 17,
     "metadata": {},
     "output_type": "execute_result"
    }
   ],
   "source": [
    "from sklearn.metrics import recall_score\n",
    "\n",
    "recall_score(y, y_pred)"
   ]
  },
  {
   "cell_type": "markdown",
   "metadata": {
    "id": "v3vYdywZNYPv"
   },
   "source": [
    "#### F1-Score\n",
    "\n",
    "F1-score atau F1-measure adalah harmonic mean dari precission dan recall.\n",
    "\n",
    "$F1\\ score = \\frac{precission\\ \\times\\ recall}{precission\\ +\\ recall}$\n"
   ]
  },
  {
   "cell_type": "code",
   "execution_count": 18,
   "metadata": {
    "colab": {
     "base_uri": "https://localhost:8080/"
    },
    "id": "gbwP0c4JNPFm",
    "outputId": "0aa0b5be-bcb5-47d6-a9ae-3667015d42b8"
   },
   "outputs": [
    {
     "data": {
      "text/plain": [
       "0.923076923076923"
      ]
     },
     "execution_count": 18,
     "metadata": {},
     "output_type": "execute_result"
    }
   ],
   "source": [
    "from sklearn.metrics import f1_score\n",
    "\n",
    "f1_score(y, y_pred)"
   ]
  },
  {
   "cell_type": "markdown",
   "metadata": {
    "id": "n6iU2a39Nvw2"
   },
   "source": [
    "#### Accuracy\n",
    "\n",
    "Accuracy mengukur porsi dari hasil prediksi yang tepat.\n",
    "\n",
    "$Accuracy = \\frac{TP + TN}{TP + TN + FP + FN} = \\frac{correct}{total}$\n"
   ]
  },
  {
   "cell_type": "code",
   "execution_count": 19,
   "metadata": {
    "colab": {
     "base_uri": "https://localhost:8080/"
    },
    "id": "VrkdU3dPN2TP",
    "outputId": "b88c884a-1e43-4427-8867-b4a02626cb81"
   },
   "outputs": [
    {
     "data": {
      "text/plain": [
       "0.9"
      ]
     },
     "execution_count": 19,
     "metadata": {},
     "output_type": "execute_result"
    }
   ],
   "source": [
    "from sklearn.metrics import accuracy_score\n",
    "\n",
    "accuracy_score(y, y_pred)"
   ]
  },
  {
   "cell_type": "markdown",
   "metadata": {
    "id": "JVbCkYC-Fiah"
   },
   "source": [
    "Improve the Model\n",
    "\n",
    "Kita dapat meningkatkan model  dengan mengatur parameter yang berbeda. Misalnya, mari bekerja dengan regularization strength C sama dengan 10,0, daripada nilai default 1,0:"
   ]
  },
  {
   "cell_type": "code",
   "execution_count": 20,
   "metadata": {
    "colab": {
     "base_uri": "https://localhost:8080/"
    },
    "id": "hWZRNDPlFkex",
    "outputId": "41bc5fc9-616b-4545-eb40-0089fc759bd5"
   },
   "outputs": [
    {
     "data": {
      "text/plain": [
       "LogisticRegression(C=10.0, random_state=0, solver='liblinear')"
      ]
     },
     "execution_count": 20,
     "metadata": {},
     "output_type": "execute_result"
    }
   ],
   "source": [
    "model = LogisticRegression(solver='liblinear', C=10.0, random_state=0)\n",
    "model.fit(x, y)"
   ]
  },
  {
   "cell_type": "code",
   "execution_count": 21,
   "metadata": {
    "colab": {
     "base_uri": "https://localhost:8080/"
    },
    "id": "P6Z4Au6jFnOl",
    "outputId": "769ad3d6-35fd-4c34-c8a1-15b4a1707b11"
   },
   "outputs": [
    {
     "name": "stdout",
     "output_type": "stream",
     "text": [
      "[-3.51335372] [[1.12066084]]\n"
     ]
    }
   ],
   "source": [
    "print(model.intercept_, model.coef_)\n"
   ]
  },
  {
   "cell_type": "code",
   "execution_count": 22,
   "metadata": {
    "colab": {
     "base_uri": "https://localhost:8080/"
    },
    "id": "v77_5RDMFozQ",
    "outputId": "e2e298a1-c755-4d4e-b71c-4af35a3b2a0d"
   },
   "outputs": [
    {
     "name": "stdout",
     "output_type": "stream",
     "text": [
      "[[0.97106534 0.02893466]\n",
      " [0.9162684  0.0837316 ]\n",
      " [0.7810904  0.2189096 ]\n",
      " [0.53777071 0.46222929]\n",
      " [0.27502212 0.72497788]\n",
      " [0.11007743 0.88992257]\n",
      " [0.03876835 0.96123165]\n",
      " [0.01298011 0.98701989]\n",
      " [0.0042697  0.9957303 ]\n",
      " [0.00139621 0.99860379]]\n"
     ]
    }
   ],
   "source": [
    "print(model.predict_proba(x))\n"
   ]
  },
  {
   "cell_type": "code",
   "execution_count": 23,
   "metadata": {
    "colab": {
     "base_uri": "https://localhost:8080/"
    },
    "id": "Ulf015mbFqQ0",
    "outputId": "c791fac0-8b02-4ffe-df84-41fa2ca90999"
   },
   "outputs": [
    {
     "name": "stdout",
     "output_type": "stream",
     "text": [
      "[0 0 0 0 1 1 1 1 1 1]\n"
     ]
    }
   ],
   "source": [
    "print(model.predict(x))\n"
   ]
  },
  {
   "cell_type": "markdown",
   "metadata": {
    "id": "7rgrjpCYFsWx"
   },
   "source": [
    "Seperti yang kita lihat, absolute values dari intercept  𝑏₀ dan coefficient 𝑏₁ lebih besar. Ini terjadi karena nilai C yang lebih besar berarti regularisasi yang lebih lemah, atau penalti yang lebih lemah terkait dengan nilai 𝑏₀ dan 𝑏₁ yang tinggi.\n",
    "\n",
    "Nilai 𝑏₀ dan 𝑏₁ yang berbeda menyiratkan perubahan logit 𝑓(𝑥), nilai probabilitas 𝑝 (𝑥) yang berbeda, bentuk garis regresi yang berbeda, dan kemungkinan perubahan dalam hasil prediksi dan kinerja klasifikasi lainnya. Nilai batas 𝑥 yang mana 𝑝 (𝑥) = 0,5 dan 𝑓 (𝑥) = 0 sekarang lebih tinggi, di atas 3. Dalam hal ini, kita mendapatkan semua prediksi yang benar, seperti yang ditunjukkan oleh akurasi, confusion matrix, dan classification report:"
   ]
  },
  {
   "cell_type": "code",
   "execution_count": 24,
   "metadata": {
    "colab": {
     "base_uri": "https://localhost:8080/"
    },
    "id": "KIpGaPX9FtlZ",
    "outputId": "7fcd3e42-2117-488b-deb9-695f115f0be8"
   },
   "outputs": [
    {
     "data": {
      "text/plain": [
       "1.0"
      ]
     },
     "execution_count": 24,
     "metadata": {},
     "output_type": "execute_result"
    }
   ],
   "source": [
    "model.score(x, y)\n"
   ]
  },
  {
   "cell_type": "code",
   "execution_count": 25,
   "metadata": {
    "colab": {
     "base_uri": "https://localhost:8080/"
    },
    "id": "20rP1uKmFvT-",
    "outputId": "33a0648e-8108-419f-a7d2-3aa064145a64"
   },
   "outputs": [
    {
     "data": {
      "text/plain": [
       "array([[4, 0],\n",
       "       [0, 6]], dtype=int64)"
      ]
     },
     "execution_count": 25,
     "metadata": {},
     "output_type": "execute_result"
    }
   ],
   "source": [
    "confusion_matrix(y, model.predict(x))\n"
   ]
  },
  {
   "cell_type": "code",
   "execution_count": 26,
   "metadata": {
    "colab": {
     "base_uri": "https://localhost:8080/"
    },
    "id": "Drn3HSZtFyof",
    "outputId": "e7b193a1-94d9-4082-d883-511256962490"
   },
   "outputs": [
    {
     "name": "stdout",
     "output_type": "stream",
     "text": [
      "              precision    recall  f1-score   support\n",
      "\n",
      "           0       1.00      1.00      1.00         4\n",
      "           1       1.00      1.00      1.00         6\n",
      "\n",
      "    accuracy                           1.00        10\n",
      "   macro avg       1.00      1.00      1.00        10\n",
      "weighted avg       1.00      1.00      1.00        10\n",
      "\n"
     ]
    }
   ],
   "source": [
    "print(classification_report(y, model.predict(x)))\n"
   ]
  },
  {
   "cell_type": "markdown",
   "metadata": {
    "id": "FG_2SdvoF1-e"
   },
   "source": [
    "Score (atau accuracy) 1 dan angka nol di kolom kiri bawah dan kanan atas dari confusion matrixmenunjukkan bahwa actual dan predicted outputs sama. Hal itu juga ditunjukkan dengan gambar di bawah ini:\n",
    "\n"
   ]
  },
  {
   "cell_type": "markdown",
   "metadata": {
    "id": "-VAMcRI9GDH-"
   },
   "source": [
    "<img src=\"https://i.ibb.co/M6Sm0VB/ds-12-11.png\" width=\"600\" align=\"center\">"
   ]
  },
  {
   "cell_type": "markdown",
   "metadata": {
    "id": "-1RscoU-Gjkw"
   },
   "source": [
    "Gambar ini mengilustrasikan bahwa estimated regression line kini memiliki bentuk yang berbeda dan titik keempat diklasifikasikan dengan benar sebagai 0. Tidak ada tanda × merah, jadi tidak ada prediksi yang salah.\n",
    "\n"
   ]
  },
  {
   "cell_type": "markdown",
   "metadata": {
    "id": "4jrJkT6QGk-B"
   },
   "source": [
    "## Logistic Regression in Python: Handwriting Recognition\n"
   ]
  },
  {
   "cell_type": "markdown",
   "metadata": {
    "id": "errnjNPJGo7A"
   },
   "source": [
    "Contoh sebelumnya mengilustrasikan implementasi logistic regression dengan Python, serta beberapa detail terkait metode ini. Contoh berikutnya akan menunjukkan cara menggunakan logistic regression untuk memecahkan real-world classification problem. Pendekatannya sangat mirip dengan yang kita lihat, tetapi dengan kumpulan data yang lebih besar dan beberapa masalah tambahan.\n",
    "\n",
    "Contoh ini adalah tentang image recognition. Untuk lebih tepatnya, kita akan bekerja pada recognition atas handwritten digits. Kita akan menggunakan kumpulan data dengan 1797 observasi, yang masing-masing berupa gambar dari satu digit tulisan tangan. Setiap gambar memiliki 64 px, dengan lebar 8 px dan tinggi 8 px.\n",
    "\n",
    "Input (𝐱) adalah vektor dengan 64 dimensi atau nilai. Setiap vektor input menggambarkan satu gambar. Masing-masing dari 64 nilai mewakili satu piksel gambar. Nilai input adalah bilangan bulat antara 0 dan 16, bergantung pada shade of gray untuk piksel yang sesuai. Output (𝑦) untuk setiap observasi adalah bilangan bulat antara 0 dan 9, konsisten dengan digit pada gambar. Ada total sepuluh kelas, masing-masing sesuai dengan satu gambar.\n",
    "\n"
   ]
  },
  {
   "cell_type": "markdown",
   "metadata": {
    "id": "gfm1oy_CGrKf"
   },
   "source": [
    "### Step 1: Import Packages\n",
    "\n",
    "Kita perlu mengimpor Matplotlib, NumPy, dan beberapa fungsi dan kelas dari scikit-learn:"
   ]
  },
  {
   "cell_type": "code",
   "execution_count": 27,
   "metadata": {
    "id": "cp8yRwnQZhqu"
   },
   "outputs": [],
   "source": [
    "import matplotlib.pyplot as plt\n",
    "import numpy as np\n",
    "\n",
    "from sklearn.datasets import load_digits\n",
    "from sklearn.linear_model import LogisticRegression\n",
    "from sklearn.metrics import classification_report, confusion_matrix\n",
    "from sklearn.model_selection import train_test_split\n",
    "from sklearn.preprocessing import StandardScaler"
   ]
  },
  {
   "cell_type": "markdown",
   "metadata": {
    "id": "2RTrdRy9ZX-I"
   },
   "source": [
    "### Step 2a: Get Data\n",
    "\n"
   ]
  },
  {
   "cell_type": "markdown",
   "metadata": {
    "id": "mPYRu_tNZcZm"
   },
   "source": [
    "Kita bisa mengambil dataset langsung dari scikit-learn dengan load_digits(). Ini mengembalikan tuple input dan output:"
   ]
  },
  {
   "cell_type": "code",
   "execution_count": 28,
   "metadata": {
    "id": "HT5btBXHZYrp"
   },
   "outputs": [],
   "source": [
    "x, y = load_digits(return_X_y=True)"
   ]
  },
  {
   "cell_type": "code",
   "execution_count": 29,
   "metadata": {
    "colab": {
     "base_uri": "https://localhost:8080/"
    },
    "id": "KSxYEAyoQ4B-",
    "outputId": "d40e3e9c-5fd4-445d-d087-5ede3271580e"
   },
   "outputs": [
    {
     "name": "stdout",
     "output_type": "stream",
     "text": [
      "[[ 0.  0.  5. ...  0.  0.  0.]\n",
      " [ 0.  0.  0. ... 10.  0.  0.]\n",
      " [ 0.  0.  0. ... 16.  9.  0.]\n",
      " ...\n",
      " [ 0.  0.  1. ...  6.  0.  0.]\n",
      " [ 0.  0.  2. ... 12.  0.  0.]\n",
      " [ 0.  0. 10. ... 12.  1.  0.]]\n",
      "[0 1 2 ... 8 9 8]\n"
     ]
    }
   ],
   "source": [
    "print(x)\n",
    "print(y)"
   ]
  },
  {
   "cell_type": "markdown",
   "metadata": {
    "id": "6LvwfBfZZU_p"
   },
   "source": [
    "Itu adalah data yang kita dapatkan untuk dikerjakan. x adalah multi-dimensional array dengan 1797 baris dan 64 kolom. x berisi bilangan bulat dari 0 hingga 16. y adalahone-dimensional array dengan 1797 bilangan bulat antara 0 dan 9."
   ]
  },
  {
   "cell_type": "markdown",
   "metadata": {
    "id": "OO2WSPANZN3w"
   },
   "source": [
    "### Step 2b: Split Data\n",
    "\n"
   ]
  },
  {
   "cell_type": "markdown",
   "metadata": {
    "id": "Gt30pDMnYa7t"
   },
   "source": [
    "Merupakan praktik yang baik dan diterapkan secara luas untuk membagi kumpulan data yang kita kerjakan menjadi dua subkumpulan. Subkumpulan tersebut adalah training set dan test set. Pembagian ini biasanya dilakukan secara acak. Kita harus menggunakan training set untuk melatih model kita . Setelah model dilatih, kita mengevaluasi kinerjanya dengan test set. Penting untuk tidak menggunakan test set dalam proses training model. Pendekatan ini memungkinkan evaluasi model yang tidak bias.\n",
    "\n",
    "Salah satu cara untuk membagi set data kita menjadi training set dan test set adalah dengan menerapkan train_test_split():"
   ]
  },
  {
   "cell_type": "code",
   "execution_count": 30,
   "metadata": {
    "id": "HtZpvxHnZI-i"
   },
   "outputs": [],
   "source": [
    "x_train, x_test, y_train, y_test = train_test_split(x, y, test_size=0.2, random_state=0)"
   ]
  },
  {
   "cell_type": "markdown",
   "metadata": {
    "id": "AY9hHWR6Yd9E"
   },
   "source": [
    "train_test_split() menerima x dan y. train_test_split() juga membutuhkan test_size, yang menentukan ukuran test set, dan random_state untuk menentukan status pseudo-random number generator, serta argumen opsional lainnya. Fungsi ini mengembalikan list dengan empat array:\n",
    "\n",
    "\n",
    "1. x_train: bagian dari x yang digunakan agar sesuai dengan model\n",
    "2. x_test: bagian dari x yang digunakan untuk mengevaluasi model\n",
    "3. y_train: bagian dari y yang sesuai dengan x_train\n",
    "4. y_test: bagian dari y yang sesuai dengan x_test\n",
    "\n",
    "Setelah data kita terbagi, kita bisa menghiraukan x_test dan y_test sampai kita membuat model.\n",
    "\n",
    "\n"
   ]
  },
  {
   "cell_type": "markdown",
   "metadata": {
    "id": "cU-hPetSY8O7"
   },
   "source": [
    "### Step 2c: Scale Data\n"
   ]
  },
  {
   "cell_type": "markdown",
   "metadata": {
    "id": "G6Cc3b6hY6F1"
   },
   "source": [
    "Standardization adalah proses mengubah data sedemikian rupa sehingga mean tiap kolom menjadi sama dengan nol, dan standard deviation tiap kolom adalah satu. Dengan cara ini, kita mendapatkan skala yang sama untuk semua kolom. Lakukan langkah-langkah berikut untuk menstandarkan data:\n",
    "\n",
    "Hitung rata-rata dan standard deviation untuk setiap kolom.\n",
    "Kurangi rata-rata yang sesuai dari setiap elemen.\n",
    "\n",
    "Bagilah perbedaan yang diperoleh dengan standar deviasi yang sesuai.\n",
    "\n",
    "Merupakan praktik yang baik untuk standardize  data input yang kita gunakan untuk logistic regression, meskipun dalam banyak kasus hal itu tidak diperlukan. Standardization dapat meningkatkan kinerja algoritme kita. Ini membantu jika kita perlu compare dan interpret weights.\n",
    "\n",
    "Kita bisa standardize input dengan membuat instance StandardScaler dan memanggil .fit_transform() di atasnya:"
   ]
  },
  {
   "cell_type": "code",
   "execution_count": 31,
   "metadata": {
    "colab": {
     "base_uri": "https://localhost:8080/"
    },
    "id": "vQNxLmP8Ybz4",
    "outputId": "42417a5a-8331-4241-9581-36121db21535"
   },
   "outputs": [
    {
     "data": {
      "text/plain": [
       "array([[ 0.        , -0.33790435, -1.09141592, ...,  1.58325794,\n",
       "         3.53125595,  3.30213343],\n",
       "       [ 0.        ,  2.90642897,  1.41696421, ...,  1.58325794,\n",
       "         0.00595786, -0.18695903],\n",
       "       [ 0.        ,  0.74354009,  0.99890086, ..., -1.14493411,\n",
       "        -0.49765616, -0.18695903],\n",
       "       ...,\n",
       "       [ 0.        , -0.33790435, -0.04625753, ..., -1.14493411,\n",
       "        -0.49765616, -0.18695903],\n",
       "       [ 0.        , -0.33790435, -0.25528921, ..., -1.14493411,\n",
       "        -0.49765616, -0.18695903],\n",
       "       [ 0.        , -0.33790435,  0.16277415, ...,  0.73069792,\n",
       "        -0.49765616, -0.18695903]])"
      ]
     },
     "execution_count": 31,
     "metadata": {},
     "output_type": "execute_result"
    }
   ],
   "source": [
    "scaler = StandardScaler()\n",
    "x_train = scaler.fit_transform(x_train)\n",
    "x_train"
   ]
  },
  {
   "cell_type": "markdown",
   "metadata": {
    "id": "7S1leEeKYP__"
   },
   "source": [
    "\n",
    "\n",
    "`.fit_transform()` menyesuaikan instance `StandardScaler` ke array yang diteruskan sebagai argumen, mengubah array ini, dan mengembalikan array standar yang baru. Sekarang, x_train adalah array input standardized.\n",
    "\n"
   ]
  },
  {
   "cell_type": "markdown",
   "metadata": {
    "id": "38hbRmr0Q47r"
   },
   "source": [
    "### Step 3: Create a Model and Train It\n",
    "\n",
    "\n",
    "\n",
    "\n",
    "\n",
    "\n",
    "\n",
    "\n",
    "\n",
    "\n",
    "\n",
    "\n"
   ]
  },
  {
   "cell_type": "markdown",
   "metadata": {
    "id": "a-WActnMVRxV"
   },
   "source": [
    "Langkah ini sangat mirip dengan contoh sebelumnya. Satu-satunya perbedaan adalah kita  menggunakan subset x_train dan y_train agar sesuai dengan model. Sekali lagi, kita harus membuat instance LogisticRegression dan memanggil .fit() di atasnya:"
   ]
  },
  {
   "cell_type": "code",
   "execution_count": 32,
   "metadata": {
    "colab": {
     "base_uri": "https://localhost:8080/"
    },
    "id": "3pk9ZJYnVQDc",
    "outputId": "156eaf1e-8034-4ed5-e7a7-1b1f170be26a"
   },
   "outputs": [
    {
     "data": {
      "text/plain": [
       "LogisticRegression(C=0.05, multi_class='ovr', random_state=0,\n",
       "                   solver='liblinear')"
      ]
     },
     "execution_count": 32,
     "metadata": {},
     "output_type": "execute_result"
    }
   ],
   "source": [
    "model = LogisticRegression(solver='liblinear', C=0.05, multi_class='ovr',\n",
    "                           random_state=0)\n",
    "model.fit(x_train, y_train)"
   ]
  },
  {
   "cell_type": "markdown",
   "metadata": {
    "id": "BBBALttCVNOD"
   },
   "source": [
    "### Step 4: Evaluate the Model"
   ]
  },
  {
   "cell_type": "markdown",
   "metadata": {
    "id": "LYLZ5qD_RfiJ"
   },
   "source": [
    "\n",
    "\n",
    "Kita harus mengevaluasi model seperti yang kita lakukan pada contoh sebelumnya, dengan perbedaan bahwa kita sebagian besar akan menggunakan x_test dan y_test, yang merupakan subkumpulan yang tidak diterapkan untuk training. Jika kita telah memutuskan untuk menstandarkan x_train, maka model yang diperoleh bergantung pada scaled data, jadi x_test harus diskalakan juga dengan instance StandardScaler yang sama:"
   ]
  },
  {
   "cell_type": "code",
   "execution_count": 33,
   "metadata": {
    "id": "Gd6OvrDUVFnC"
   },
   "outputs": [],
   "source": [
    "x_test = scaler.transform(x_test)\n"
   ]
  },
  {
   "cell_type": "markdown",
   "metadata": {
    "id": "npDH1OyWVD17"
   },
   "source": [
    "Begitulah cara kita  mendapatkan x_test baru dengan skala yang tepat. Dalam kasus ini, kita menggunakan .transform(), yang hanya mengubah argumen, tanpa menyesuaikan scaler.\n",
    "\n",
    "Kita bisa mendapatkan predicted outputs dengan .predict():"
   ]
  },
  {
   "cell_type": "code",
   "execution_count": 34,
   "metadata": {
    "colab": {
     "base_uri": "https://localhost:8080/"
    },
    "id": "wT9d2e10VB_I",
    "outputId": "ed778fcd-5a5d-4033-9b9f-eff7320bab3e"
   },
   "outputs": [
    {
     "data": {
      "text/plain": [
       "array([2, 8, 2, 6, 6, 7, 1, 9, 8, 5, 2, 8, 6, 6, 6, 6, 1, 0, 5, 8, 8, 7,\n",
       "       8, 4, 7, 5, 4, 9, 2, 9, 4, 7, 6, 8, 9, 4, 3, 1, 0, 1, 8, 6, 7, 7,\n",
       "       9, 0, 7, 6, 2, 1, 9, 6, 7, 9, 0, 0, 5, 1, 6, 3, 0, 2, 3, 4, 1, 9,\n",
       "       2, 6, 9, 1, 8, 3, 5, 1, 2, 1, 2, 2, 9, 7, 2, 3, 6, 0, 5, 3, 7, 5,\n",
       "       1, 2, 9, 9, 3, 1, 7, 7, 4, 8, 5, 8, 5, 5, 2, 5, 9, 0, 7, 1, 4, 7,\n",
       "       3, 4, 8, 9, 7, 7, 8, 0, 1, 5, 2, 5, 3, 4, 1, 7, 0, 6, 1, 5, 9, 9,\n",
       "       9, 5, 9, 9, 5, 7, 5, 6, 2, 8, 6, 7, 6, 1, 5, 1, 5, 9, 9, 1, 5, 3,\n",
       "       6, 1, 8, 9, 7, 7, 6, 7, 6, 5, 6, 0, 8, 8, 9, 3, 6, 1, 0, 4, 1, 6,\n",
       "       3, 8, 6, 7, 4, 9, 6, 3, 0, 3, 3, 3, 0, 7, 7, 5, 7, 8, 0, 7, 8, 9,\n",
       "       6, 4, 5, 0, 1, 4, 6, 4, 3, 3, 0, 9, 5, 9, 2, 1, 4, 2, 1, 6, 8, 9,\n",
       "       2, 4, 9, 3, 7, 6, 2, 3, 3, 1, 6, 9, 3, 6, 3, 2, 2, 0, 7, 6, 1, 1,\n",
       "       3, 7, 2, 7, 8, 5, 5, 7, 5, 3, 2, 7, 2, 7, 5, 5, 7, 0, 9, 1, 6, 5,\n",
       "       9, 7, 4, 3, 8, 0, 3, 6, 4, 6, 3, 1, 6, 8, 8, 8, 4, 6, 7, 5, 2, 4,\n",
       "       5, 3, 2, 4, 6, 9, 4, 5, 4, 3, 4, 6, 2, 9, 0, 6, 7, 2, 0, 9, 6, 0,\n",
       "       4, 2, 0, 7, 5, 8, 5, 7, 8, 2, 8, 4, 3, 7, 2, 6, 8, 1, 5, 1, 0, 8,\n",
       "       2, 8, 9, 5, 6, 2, 2, 7, 2, 1, 5, 1, 6, 4, 5, 0, 9, 4, 1, 1, 7, 0,\n",
       "       8, 9, 0, 5, 4, 3, 8, 8])"
      ]
     },
     "execution_count": 34,
     "metadata": {},
     "output_type": "execute_result"
    }
   ],
   "source": [
    "y_pred = model.predict(x_test)\n",
    "y_pred\n"
   ]
  },
  {
   "cell_type": "markdown",
   "metadata": {
    "id": "k-O2bxt9U_ss"
   },
   "source": [
    "Variabel y_pred sekarang terikat ke array predicted outputs. Perhatikan bahwa kita menggunakan x_test sebagai argumen di sini.\n",
    "\n",
    "Kita bisa mendapatkan akurasi dengan .score():"
   ]
  },
  {
   "cell_type": "code",
   "execution_count": 35,
   "metadata": {
    "colab": {
     "base_uri": "https://localhost:8080/"
    },
    "id": "HvtsSPgTU-2R",
    "outputId": "f488cc22-30c9-4d09-ae20-db8b317f80d7"
   },
   "outputs": [
    {
     "data": {
      "text/plain": [
       "0.964509394572025"
      ]
     },
     "execution_count": 35,
     "metadata": {},
     "output_type": "execute_result"
    }
   ],
   "source": [
    "model.score(x_train, y_train)\n"
   ]
  },
  {
   "cell_type": "code",
   "execution_count": 36,
   "metadata": {
    "colab": {
     "base_uri": "https://localhost:8080/"
    },
    "id": "N7u2u_7XU9Lm",
    "outputId": "a39be282-8579-409a-ca00-431cb26d0c66"
   },
   "outputs": [
    {
     "data": {
      "text/plain": [
       "0.9416666666666667"
      ]
     },
     "execution_count": 36,
     "metadata": {},
     "output_type": "execute_result"
    }
   ],
   "source": [
    "model.score(x_test, y_test)\n"
   ]
  },
  {
   "cell_type": "markdown",
   "metadata": {
    "id": "tkrORlckU6dx"
   },
   "source": [
    "Sebenarnya, kita bisa mendapatkan dua nilai akurasi, satu diperoleh dengan training set dan lainnya dengan test set. Sebaiknya membandingkan keduanya, karena situasi di mana akurasi set pelatihan jauh lebih tinggi mungkin mengindikasikan overfitting. Akurasi set pengujian lebih relevan untuk mengevaluasi performa pada data yang tidak terlihat karena tidak bias.\n",
    "\n",
    "Kita bisa mendapatkan confusion matrix dengan confusion_matrix():"
   ]
  },
  {
   "cell_type": "code",
   "execution_count": 37,
   "metadata": {
    "colab": {
     "base_uri": "https://localhost:8080/"
    },
    "id": "px0Vsub4U5i2",
    "outputId": "061fdb11-ebc8-41ac-ddde-6658526ed70f"
   },
   "outputs": [
    {
     "data": {
      "text/plain": [
       "array([[27,  0,  0,  0,  0,  0,  0,  0,  0,  0],\n",
       "       [ 0, 32,  0,  0,  0,  0,  1,  0,  1,  1],\n",
       "       [ 1,  1, 33,  1,  0,  0,  0,  0,  0,  0],\n",
       "       [ 0,  0,  1, 28,  0,  0,  0,  0,  0,  0],\n",
       "       [ 0,  0,  0,  0, 29,  0,  0,  1,  0,  0],\n",
       "       [ 0,  0,  0,  0,  0, 39,  0,  0,  0,  1],\n",
       "       [ 0,  1,  0,  0,  0,  0, 43,  0,  0,  0],\n",
       "       [ 0,  0,  0,  0,  0,  0,  0, 39,  0,  0],\n",
       "       [ 0,  2,  1,  2,  0,  0,  0,  1, 33,  0],\n",
       "       [ 0,  0,  0,  1,  0,  1,  0,  2,  1, 36]], dtype=int64)"
      ]
     },
     "execution_count": 37,
     "metadata": {},
     "output_type": "execute_result"
    }
   ],
   "source": [
    "confusion_matrix(y_test, y_pred)\n"
   ]
  },
  {
   "cell_type": "markdown",
   "metadata": {
    "id": "TvXilFnwU4MS"
   },
   "source": [
    "Confusion matrix yang diperoleh berukuran besar. Dalam hal ini, ini memiliki 100 angka. Ini adalah situasi di mana mungkin sangat berguna untuk memvisualisasikannya:"
   ]
  },
  {
   "cell_type": "code",
   "execution_count": 38,
   "metadata": {
    "colab": {
     "base_uri": "https://localhost:8080/",
     "height": 497
    },
    "id": "CE5jUck4U1qf",
    "outputId": "b5ecd040-0803-4093-abb8-aabf323cb373"
   },
   "outputs": [
    {
     "data": {
      "image/png": "[encoded data removed]",
      "text/plain": [
       "<Figure size 576x576 with 1 Axes>"
      ]
     },
     "metadata": {
      "needs_background": "light"
     },
     "output_type": "display_data"
    }
   ],
   "source": [
    "cm = confusion_matrix(y_test, y_pred)\n",
    "\n",
    "fig, ax = plt.subplots(figsize=(8, 8))\n",
    "ax.imshow(cm)\n",
    "ax.grid(False)\n",
    "ax.set_xlabel('Predicted outputs', color='black')\n",
    "ax.set_ylabel('Actual outputs', color='black')\n",
    "ax.xaxis.set(ticks=range(10))\n",
    "ax.yaxis.set(ticks=range(10))\n",
    "ax.set_ylim(9.5, -0.5)\n",
    "for i in range(10):\n",
    "    for j in range(10):\n",
    "        ax.text(j, i, cm[i, j], ha='center', va='center', color='white')\n",
    "plt.show()"
   ]
  },
  {
   "cell_type": "markdown",
   "metadata": {
    "id": "mHwaaPd3UzZX"
   },
   "source": [
    "Ini adalah heatmap  yang menggambarkan confusion matrix dengan angka dan warna. Kita dapat melihat bahwa shades of purple menunjukkan angka kecil (seperti 0, 1, atau 2), sedangkan hijau dan kuning menunjukkan angka yang jauh lebih besar (27 ke atas).\n",
    "\n",
    "Angka-angka pada diagonal utama (27, 32,…, 36) menunjukkan jumlah prediksi yang benar dari test set. Misalnya, ada 27 gambar dengan nol, 32 gambar satu, dan seterusnya yang diklasifikasikan dengan benar. Angka lain sesuai dengan prediksi yang salah. Misalnya, angka 1 di baris ketiga dan kolom pertama menunjukkan bahwa ada satu gambar dengan angka 2 yang salah diklasifikasikan sebagai 0.\n",
    "\n",
    "Terakhir, kita bisa mendapatkan laporan klasifikasi sebagai string atau dictionary dengan classification_report():"
   ]
  },
  {
   "cell_type": "code",
   "execution_count": 39,
   "metadata": {
    "colab": {
     "base_uri": "https://localhost:8080/"
    },
    "id": "JTrAtqnNTgHt",
    "outputId": "1a147f66-649b-4ec2-d5ef-28dbd65d5fbd"
   },
   "outputs": [
    {
     "name": "stdout",
     "output_type": "stream",
     "text": [
      "              precision    recall  f1-score   support\n",
      "\n",
      "           0       0.96      1.00      0.98        27\n",
      "           1       0.89      0.91      0.90        35\n",
      "           2       0.94      0.92      0.93        36\n",
      "           3       0.88      0.97      0.92        29\n",
      "           4       1.00      0.97      0.98        30\n",
      "           5       0.97      0.97      0.97        40\n",
      "           6       0.98      0.98      0.98        44\n",
      "           7       0.91      1.00      0.95        39\n",
      "           8       0.94      0.85      0.89        39\n",
      "           9       0.95      0.88      0.91        41\n",
      "\n",
      "    accuracy                           0.94       360\n",
      "   macro avg       0.94      0.94      0.94       360\n",
      "weighted avg       0.94      0.94      0.94       360\n",
      "\n"
     ]
    }
   ],
   "source": [
    "print(classification_report(y_test, y_pred))"
   ]
  },
  {
   "cell_type": "markdown",
   "metadata": {
    "id": "saVLfVi9Rf_L"
   },
   "source": [
    "---------\n"
   ]
  },
  {
   "cell_type": "markdown",
   "metadata": {
    "id": "ZYd7HOXsFY4p"
   },
   "source": [
    "## Latihan Logistic Regression Beli Asuransi"
   ]
  },
  {
   "cell_type": "code",
   "execution_count": 40,
   "metadata": {
    "id": "M0YKnx4OOQxB"
   },
   "outputs": [],
   "source": [
    "import pandas as pd\n",
    "from matplotlib import pyplot as plt\n",
    "%matplotlib inline"
   ]
  },
  {
   "cell_type": "code",
   "execution_count": 41,
   "metadata": {
    "colab": {
     "base_uri": "https://localhost:8080/",
     "height": 200
    },
    "id": "kotEPxf_OS3r",
    "outputId": "36418c1b-cbff-44ba-9e6f-8d1963af886a"
   },
   "outputs": [
    {
     "data": {
      "text/html": [
       "<div>\n",
       "<style scoped>\n",
       "    .dataframe tbody tr th:only-of-type {\n",
       "        vertical-align: middle;\n",
       "    }\n",
       "\n",
       "    .dataframe tbody tr th {\n",
       "        vertical-align: top;\n",
       "    }\n",
       "\n",
       "    .dataframe thead th {\n",
       "        text-align: right;\n",
       "    }\n",
       "</style>\n",
       "<table border=\"1\" class=\"dataframe\">\n",
       "  <thead>\n",
       "    <tr style=\"text-align: right;\">\n",
       "      <th></th>\n",
       "      <th>umur</th>\n",
       "      <th>beli_asuransi</th>\n",
       "    </tr>\n",
       "  </thead>\n",
       "  <tbody>\n",
       "    <tr>\n",
       "      <th>0</th>\n",
       "      <td>21</td>\n",
       "      <td>0</td>\n",
       "    </tr>\n",
       "    <tr>\n",
       "      <th>1</th>\n",
       "      <td>24</td>\n",
       "      <td>0</td>\n",
       "    </tr>\n",
       "    <tr>\n",
       "      <th>2</th>\n",
       "      <td>47</td>\n",
       "      <td>1</td>\n",
       "    </tr>\n",
       "    <tr>\n",
       "      <th>3</th>\n",
       "      <td>52</td>\n",
       "      <td>0</td>\n",
       "    </tr>\n",
       "    <tr>\n",
       "      <th>4</th>\n",
       "      <td>45</td>\n",
       "      <td>1</td>\n",
       "    </tr>\n",
       "  </tbody>\n",
       "</table>\n",
       "</div>"
      ],
      "text/plain": [
       "   umur  beli_asuransi\n",
       "0    21              0\n",
       "1    24              0\n",
       "2    47              1\n",
       "3    52              0\n",
       "4    45              1"
      ]
     },
     "execution_count": 41,
     "metadata": {},
     "output_type": "execute_result"
    }
   ],
   "source": [
    "df = pd.read_csv(\"https://raw.githubusercontent.com/iketutg/my_example_ds/main/data/asuransi_data.csv\")\n",
    "df.head()"
   ]
  },
  {
   "cell_type": "code",
   "execution_count": 42,
   "metadata": {
    "colab": {
     "base_uri": "https://localhost:8080/",
     "height": 281
    },
    "id": "-QXKHgujOVvv",
    "outputId": "f3ba65cc-6c92-4b92-c528-7d5bddf3ca0f"
   },
   "outputs": [
    {
     "data": {
      "text/plain": [
       "<matplotlib.collections.PathCollection at 0x22b03a70cd0>"
      ]
     },
     "execution_count": 42,
     "metadata": {},
     "output_type": "execute_result"
    },
    {
     "data": {
      "image/png": "[encoded data removed]",
      "text/plain": [
       "<Figure size 432x288 with 1 Axes>"
      ]
     },
     "metadata": {
      "needs_background": "light"
     },
     "output_type": "display_data"
    }
   ],
   "source": [
    "plt.scatter(df.umur,df.beli_asuransi,marker='+',color='red')\n"
   ]
  },
  {
   "cell_type": "code",
   "execution_count": 43,
   "metadata": {
    "id": "Yis33BPFOZD9"
   },
   "outputs": [],
   "source": [
    "from sklearn.model_selection import train_test_split\n",
    "X_train, X_test, y_train, y_test = train_test_split(df[['umur']],df.beli_asuransi,train_size=0.8)\n"
   ]
  },
  {
   "cell_type": "code",
   "execution_count": 44,
   "metadata": {
    "id": "Gj1SQ9QROh62"
   },
   "outputs": [],
   "source": [
    "from sklearn.linear_model import LogisticRegression\n",
    "model = LogisticRegression()"
   ]
  },
  {
   "cell_type": "code",
   "execution_count": 45,
   "metadata": {
    "colab": {
     "base_uri": "https://localhost:8080/"
    },
    "id": "U5TL_x5GOo78",
    "outputId": "07823919-6537-4449-c98a-c01aa8c5392e"
   },
   "outputs": [
    {
     "data": {
      "text/plain": [
       "LogisticRegression()"
      ]
     },
     "execution_count": 45,
     "metadata": {},
     "output_type": "execute_result"
    }
   ],
   "source": [
    "model.fit(X_train, y_train)\n"
   ]
  },
  {
   "cell_type": "code",
   "execution_count": 46,
   "metadata": {
    "id": "HHRPP2SfOsd2"
   },
   "outputs": [],
   "source": [
    "y_predicted = model.predict(X_test)\n"
   ]
  },
  {
   "cell_type": "code",
   "execution_count": 47,
   "metadata": {
    "colab": {
     "base_uri": "https://localhost:8080/"
    },
    "id": "6DpeFJBcOtOk",
    "outputId": "c6aec65b-cbdc-4ef7-97ae-3d6899d9e515"
   },
   "outputs": [
    {
     "data": {
      "text/plain": [
       "array([[0.90262207, 0.09737793],\n",
       "       [0.14077974, 0.85922026],\n",
       "       [0.39526895, 0.60473105],\n",
       "       [0.09363545, 0.90636455],\n",
       "       [0.39526895, 0.60473105],\n",
       "       [0.17104675, 0.82895325]])"
      ]
     },
     "execution_count": 47,
     "metadata": {},
     "output_type": "execute_result"
    }
   ],
   "source": [
    "model.predict_proba(X_test)\n"
   ]
  },
  {
   "cell_type": "code",
   "execution_count": 48,
   "metadata": {
    "colab": {
     "base_uri": "https://localhost:8080/"
    },
    "id": "mvBYfoEfOveg",
    "outputId": "ee6296b9-cac0-4fbc-e93e-03612f56f14e"
   },
   "outputs": [
    {
     "data": {
      "text/plain": [
       "1.0"
      ]
     },
     "execution_count": 48,
     "metadata": {},
     "output_type": "execute_result"
    }
   ],
   "source": [
    "model.score(X_test,y_test)\n"
   ]
  },
  {
   "cell_type": "code",
   "execution_count": 49,
   "metadata": {
    "colab": {
     "base_uri": "https://localhost:8080/"
    },
    "id": "4I1SgSCeOx-C",
    "outputId": "30d35863-8f9a-4dca-f509-7b1254d95cff"
   },
   "outputs": [
    {
     "data": {
      "text/plain": [
       "array([0, 1, 1, 1, 1, 1], dtype=int64)"
      ]
     },
     "execution_count": 49,
     "metadata": {},
     "output_type": "execute_result"
    }
   ],
   "source": [
    "y_predicted\n"
   ]
  },
  {
   "cell_type": "code",
   "execution_count": 50,
   "metadata": {
    "colab": {
     "base_uri": "https://localhost:8080/"
    },
    "id": "oqwK4dmcO1Jg",
    "outputId": "405abe1f-17d5-4e9b-f078-cbfc5ae18dd4"
   },
   "outputs": [
    {
     "name": "stdout",
     "output_type": "stream",
     "text": [
      "[[0.11530094]]\n",
      "[-4.76332509]\n"
     ]
    }
   ],
   "source": [
    "# model.coef = m \n",
    "m = model.coef_\n",
    "print(model.coef_)\n",
    "\n",
    "# model.intercept_ = B\n",
    "b = model.intercept_\n",
    "print(model.intercept_)\n"
   ]
  },
  {
   "cell_type": "code",
   "execution_count": 51,
   "metadata": {
    "id": "SbBa3IJsO9p4"
   },
   "outputs": [],
   "source": [
    "import math\n",
    "def sigmoid(x):\n",
    "  return 1 / (1 + math.exp(-x))"
   ]
  },
  {
   "cell_type": "code",
   "execution_count": 52,
   "metadata": {
    "id": "z47La23nPCBR"
   },
   "outputs": [],
   "source": [
    "def prediction_function(age):\n",
    "    ## y=m*x + b \n",
    "    z = model.coef_ * model.intercept_\n",
    "    y = sigmoid(z)\n",
    "    return y"
   ]
  },
  {
   "cell_type": "code",
   "execution_count": 53,
   "metadata": {
    "colab": {
     "base_uri": "https://localhost:8080/"
    },
    "id": "nTaWGipJR_XD",
    "outputId": "0e2fe735-87d4-473b-c8fa-000988b997b3"
   },
   "outputs": [
    {
     "data": {
      "text/plain": [
       "array([[1, 0],\n",
       "       [0, 5]], dtype=int64)"
      ]
     },
     "execution_count": 53,
     "metadata": {},
     "output_type": "execute_result"
    }
   ],
   "source": [
    "matrix = confusion_matrix(y_test, y_predicted)\n",
    "matrix"
   ]
  },
  {
   "cell_type": "code",
   "execution_count": 54,
   "metadata": {
    "colab": {
     "base_uri": "https://localhost:8080/"
    },
    "id": "f-ierq04PFUp",
    "outputId": "1dbd4393-1da3-4fde-a16a-7f048973b37a"
   },
   "outputs": [
    {
     "data": {
      "text/plain": [
       "0.3660463494958497"
      ]
     },
     "execution_count": 54,
     "metadata": {},
     "output_type": "execute_result"
    }
   ],
   "source": [
    "age = 35\n",
    "prediction_function(age)"
   ]
  },
  {
   "cell_type": "code",
   "execution_count": 55,
   "metadata": {
    "colab": {
     "base_uri": "https://localhost:8080/"
    },
    "id": "Clp5RXgGPF3d",
    "outputId": "2cb7cc54-841b-4263-9bcf-f049236b6501"
   },
   "outputs": [
    {
     "data": {
      "text/plain": [
       "0.3660463494958497"
      ]
     },
     "execution_count": 55,
     "metadata": {},
     "output_type": "execute_result"
    }
   ],
   "source": [
    "age = 21\n",
    "prediction_function(age)"
   ]
  },
  {
   "cell_type": "markdown",
   "metadata": {
    "id": "siVS0s4rJbXR"
   },
   "source": [
    "## Logistic Regression Loan Prediction\n",
    "\n",
    "https://raw.githubusercontent.com/iketutg/my_example_ds/main/data/pinjaman.csv\n",
    "\n"
   ]
  },
  {
   "cell_type": "code",
   "execution_count": 56,
   "metadata": {
    "id": "8gbpThGojVFq"
   },
   "outputs": [],
   "source": [
    "import numpy as np\n",
    "import pandas as pd\n",
    "import matplotlib.pyplot as plt\n",
    "%matplotlib inline\n",
    "import seaborn as sns\n",
    "import warnings\n",
    "warnings.filterwarnings('ignore')"
   ]
  },
  {
   "cell_type": "code",
   "execution_count": 57,
   "metadata": {
    "colab": {
     "base_uri": "https://localhost:8080/",
     "height": 216
    },
    "id": "4TkP4fqQjbDE",
    "outputId": "2ee2bb01-4edf-4d08-db8b-3319d4efcd9c"
   },
   "outputs": [
    {
     "data": {
      "text/html": [
       "<div>\n",
       "<style scoped>\n",
       "    .dataframe tbody tr th:only-of-type {\n",
       "        vertical-align: middle;\n",
       "    }\n",
       "\n",
       "    .dataframe tbody tr th {\n",
       "        vertical-align: top;\n",
       "    }\n",
       "\n",
       "    .dataframe thead th {\n",
       "        text-align: right;\n",
       "    }\n",
       "</style>\n",
       "<table border=\"1\" class=\"dataframe\">\n",
       "  <thead>\n",
       "    <tr style=\"text-align: right;\">\n",
       "      <th></th>\n",
       "      <th>Unnamed: 0</th>\n",
       "      <th>IdPinjaman</th>\n",
       "      <th>Jenis Kelamin</th>\n",
       "      <th>Menikah</th>\n",
       "      <th>Tanggungan</th>\n",
       "      <th>Pendidikan S1</th>\n",
       "      <th>Wiraswasta</th>\n",
       "      <th>Pengahasilan Utama</th>\n",
       "      <th>Pengahasilan Tambahan</th>\n",
       "      <th>Jumlah Pinjaman</th>\n",
       "      <th>Jangka Pinjaman</th>\n",
       "      <th>Kredit History</th>\n",
       "      <th>Area TempatTinggal</th>\n",
       "      <th>Status Pinjaman</th>\n",
       "    </tr>\n",
       "  </thead>\n",
       "  <tbody>\n",
       "    <tr>\n",
       "      <th>0</th>\n",
       "      <td>0</td>\n",
       "      <td>LP001002</td>\n",
       "      <td>Pria</td>\n",
       "      <td>No</td>\n",
       "      <td>0</td>\n",
       "      <td>Lulus</td>\n",
       "      <td>Tidak</td>\n",
       "      <td>5849</td>\n",
       "      <td>0.0</td>\n",
       "      <td>NaN</td>\n",
       "      <td>360.0</td>\n",
       "      <td>1.0</td>\n",
       "      <td>Kota</td>\n",
       "      <td>Y</td>\n",
       "    </tr>\n",
       "    <tr>\n",
       "      <th>1</th>\n",
       "      <td>1</td>\n",
       "      <td>LP001003</td>\n",
       "      <td>Pria</td>\n",
       "      <td>Yes</td>\n",
       "      <td>1</td>\n",
       "      <td>Lulus</td>\n",
       "      <td>Tidak</td>\n",
       "      <td>4583</td>\n",
       "      <td>1508.0</td>\n",
       "      <td>128.0</td>\n",
       "      <td>360.0</td>\n",
       "      <td>1.0</td>\n",
       "      <td>Desa</td>\n",
       "      <td>N</td>\n",
       "    </tr>\n",
       "    <tr>\n",
       "      <th>2</th>\n",
       "      <td>2</td>\n",
       "      <td>LP001005</td>\n",
       "      <td>Pria</td>\n",
       "      <td>Yes</td>\n",
       "      <td>0</td>\n",
       "      <td>Lulus</td>\n",
       "      <td>Ya</td>\n",
       "      <td>3000</td>\n",
       "      <td>0.0</td>\n",
       "      <td>66.0</td>\n",
       "      <td>360.0</td>\n",
       "      <td>1.0</td>\n",
       "      <td>Kota</td>\n",
       "      <td>Y</td>\n",
       "    </tr>\n",
       "    <tr>\n",
       "      <th>3</th>\n",
       "      <td>3</td>\n",
       "      <td>LP001006</td>\n",
       "      <td>Pria</td>\n",
       "      <td>Yes</td>\n",
       "      <td>0</td>\n",
       "      <td>Tidak Lulus</td>\n",
       "      <td>Tidak</td>\n",
       "      <td>2583</td>\n",
       "      <td>2358.0</td>\n",
       "      <td>120.0</td>\n",
       "      <td>360.0</td>\n",
       "      <td>1.0</td>\n",
       "      <td>Kota</td>\n",
       "      <td>Y</td>\n",
       "    </tr>\n",
       "    <tr>\n",
       "      <th>4</th>\n",
       "      <td>4</td>\n",
       "      <td>LP001008</td>\n",
       "      <td>Pria</td>\n",
       "      <td>No</td>\n",
       "      <td>0</td>\n",
       "      <td>Lulus</td>\n",
       "      <td>Tidak</td>\n",
       "      <td>6000</td>\n",
       "      <td>0.0</td>\n",
       "      <td>141.0</td>\n",
       "      <td>360.0</td>\n",
       "      <td>1.0</td>\n",
       "      <td>Kota</td>\n",
       "      <td>Y</td>\n",
       "    </tr>\n",
       "  </tbody>\n",
       "</table>\n",
       "</div>"
      ],
      "text/plain": [
       "   Unnamed: 0 IdPinjaman Jenis Kelamin Menikah Tanggungan Pendidikan S1  \\\n",
       "0           0   LP001002          Pria      No          0         Lulus   \n",
       "1           1   LP001003          Pria     Yes          1         Lulus   \n",
       "2           2   LP001005          Pria     Yes          0         Lulus   \n",
       "3           3   LP001006          Pria     Yes          0   Tidak Lulus   \n",
       "4           4   LP001008          Pria      No          0         Lulus   \n",
       "\n",
       "  Wiraswasta  Pengahasilan Utama  Pengahasilan Tambahan  Jumlah Pinjaman  \\\n",
       "0      Tidak                5849                    0.0              NaN   \n",
       "1      Tidak                4583                 1508.0            128.0   \n",
       "2         Ya                3000                    0.0             66.0   \n",
       "3      Tidak                2583                 2358.0            120.0   \n",
       "4      Tidak                6000                    0.0            141.0   \n",
       "\n",
       "   Jangka Pinjaman  Kredit History Area TempatTinggal Status Pinjaman  \n",
       "0            360.0             1.0               Kota               Y  \n",
       "1            360.0             1.0               Desa               N  \n",
       "2            360.0             1.0               Kota               Y  \n",
       "3            360.0             1.0               Kota               Y  \n",
       "4            360.0             1.0               Kota               Y  "
      ]
     },
     "execution_count": 57,
     "metadata": {},
     "output_type": "execute_result"
    }
   ],
   "source": [
    "df = pd.read_csv('https://raw.githubusercontent.com/iketutg/my_example_ds/main/data/pinjaman.csv')\n",
    "df.head()"
   ]
  },
  {
   "cell_type": "code",
   "execution_count": 58,
   "metadata": {
    "id": "gEzPCS8Vj2Sz"
   },
   "outputs": [],
   "source": [
    "df.drop(\"Unnamed: 0\",axis=1,inplace=True)\n"
   ]
  },
  {
   "cell_type": "code",
   "execution_count": 59,
   "metadata": {
    "colab": {
     "base_uri": "https://localhost:8080/",
     "height": 216
    },
    "id": "3AZNDvPDkEKs",
    "outputId": "1ceb918f-0ed4-481d-9b7c-81158b130762"
   },
   "outputs": [
    {
     "data": {
      "text/html": [
       "<div>\n",
       "<style scoped>\n",
       "    .dataframe tbody tr th:only-of-type {\n",
       "        vertical-align: middle;\n",
       "    }\n",
       "\n",
       "    .dataframe tbody tr th {\n",
       "        vertical-align: top;\n",
       "    }\n",
       "\n",
       "    .dataframe thead th {\n",
       "        text-align: right;\n",
       "    }\n",
       "</style>\n",
       "<table border=\"1\" class=\"dataframe\">\n",
       "  <thead>\n",
       "    <tr style=\"text-align: right;\">\n",
       "      <th></th>\n",
       "      <th>IdPinjaman</th>\n",
       "      <th>Jenis Kelamin</th>\n",
       "      <th>Menikah</th>\n",
       "      <th>Tanggungan</th>\n",
       "      <th>Pendidikan S1</th>\n",
       "      <th>Wiraswasta</th>\n",
       "      <th>Pengahasilan Utama</th>\n",
       "      <th>Pengahasilan Tambahan</th>\n",
       "      <th>Jumlah Pinjaman</th>\n",
       "      <th>Jangka Pinjaman</th>\n",
       "      <th>Kredit History</th>\n",
       "      <th>Area TempatTinggal</th>\n",
       "      <th>Status Pinjaman</th>\n",
       "    </tr>\n",
       "  </thead>\n",
       "  <tbody>\n",
       "    <tr>\n",
       "      <th>0</th>\n",
       "      <td>LP001002</td>\n",
       "      <td>Pria</td>\n",
       "      <td>No</td>\n",
       "      <td>0</td>\n",
       "      <td>Lulus</td>\n",
       "      <td>Tidak</td>\n",
       "      <td>5849</td>\n",
       "      <td>0.0</td>\n",
       "      <td>NaN</td>\n",
       "      <td>360.0</td>\n",
       "      <td>1.0</td>\n",
       "      <td>Kota</td>\n",
       "      <td>Y</td>\n",
       "    </tr>\n",
       "    <tr>\n",
       "      <th>1</th>\n",
       "      <td>LP001003</td>\n",
       "      <td>Pria</td>\n",
       "      <td>Yes</td>\n",
       "      <td>1</td>\n",
       "      <td>Lulus</td>\n",
       "      <td>Tidak</td>\n",
       "      <td>4583</td>\n",
       "      <td>1508.0</td>\n",
       "      <td>128.0</td>\n",
       "      <td>360.0</td>\n",
       "      <td>1.0</td>\n",
       "      <td>Desa</td>\n",
       "      <td>N</td>\n",
       "    </tr>\n",
       "    <tr>\n",
       "      <th>2</th>\n",
       "      <td>LP001005</td>\n",
       "      <td>Pria</td>\n",
       "      <td>Yes</td>\n",
       "      <td>0</td>\n",
       "      <td>Lulus</td>\n",
       "      <td>Ya</td>\n",
       "      <td>3000</td>\n",
       "      <td>0.0</td>\n",
       "      <td>66.0</td>\n",
       "      <td>360.0</td>\n",
       "      <td>1.0</td>\n",
       "      <td>Kota</td>\n",
       "      <td>Y</td>\n",
       "    </tr>\n",
       "    <tr>\n",
       "      <th>3</th>\n",
       "      <td>LP001006</td>\n",
       "      <td>Pria</td>\n",
       "      <td>Yes</td>\n",
       "      <td>0</td>\n",
       "      <td>Tidak Lulus</td>\n",
       "      <td>Tidak</td>\n",
       "      <td>2583</td>\n",
       "      <td>2358.0</td>\n",
       "      <td>120.0</td>\n",
       "      <td>360.0</td>\n",
       "      <td>1.0</td>\n",
       "      <td>Kota</td>\n",
       "      <td>Y</td>\n",
       "    </tr>\n",
       "    <tr>\n",
       "      <th>4</th>\n",
       "      <td>LP001008</td>\n",
       "      <td>Pria</td>\n",
       "      <td>No</td>\n",
       "      <td>0</td>\n",
       "      <td>Lulus</td>\n",
       "      <td>Tidak</td>\n",
       "      <td>6000</td>\n",
       "      <td>0.0</td>\n",
       "      <td>141.0</td>\n",
       "      <td>360.0</td>\n",
       "      <td>1.0</td>\n",
       "      <td>Kota</td>\n",
       "      <td>Y</td>\n",
       "    </tr>\n",
       "  </tbody>\n",
       "</table>\n",
       "</div>"
      ],
      "text/plain": [
       "  IdPinjaman Jenis Kelamin Menikah Tanggungan Pendidikan S1 Wiraswasta  \\\n",
       "0   LP001002          Pria      No          0         Lulus      Tidak   \n",
       "1   LP001003          Pria     Yes          1         Lulus      Tidak   \n",
       "2   LP001005          Pria     Yes          0         Lulus         Ya   \n",
       "3   LP001006          Pria     Yes          0   Tidak Lulus      Tidak   \n",
       "4   LP001008          Pria      No          0         Lulus      Tidak   \n",
       "\n",
       "   Pengahasilan Utama  Pengahasilan Tambahan  Jumlah Pinjaman  \\\n",
       "0                5849                    0.0              NaN   \n",
       "1                4583                 1508.0            128.0   \n",
       "2                3000                    0.0             66.0   \n",
       "3                2583                 2358.0            120.0   \n",
       "4                6000                    0.0            141.0   \n",
       "\n",
       "   Jangka Pinjaman  Kredit History Area TempatTinggal Status Pinjaman  \n",
       "0            360.0             1.0               Kota               Y  \n",
       "1            360.0             1.0               Desa               N  \n",
       "2            360.0             1.0               Kota               Y  \n",
       "3            360.0             1.0               Kota               Y  \n",
       "4            360.0             1.0               Kota               Y  "
      ]
     },
     "execution_count": 59,
     "metadata": {},
     "output_type": "execute_result"
    }
   ],
   "source": [
    "df.head()"
   ]
  },
  {
   "cell_type": "code",
   "execution_count": 60,
   "metadata": {
    "colab": {
     "base_uri": "https://localhost:8080/"
    },
    "id": "E3MQDGrEkIwX",
    "outputId": "cf91420f-b163-4136-c293-6c854db02877"
   },
   "outputs": [
    {
     "name": "stdout",
     "output_type": "stream",
     "text": [
      "<class 'pandas.core.frame.DataFrame'>\n",
      "RangeIndex: 614 entries, 0 to 613\n",
      "Data columns (total 13 columns):\n",
      " #   Column                 Non-Null Count  Dtype  \n",
      "---  ------                 --------------  -----  \n",
      " 0   IdPinjaman             614 non-null    object \n",
      " 1   Jenis Kelamin          614 non-null    object \n",
      " 2   Menikah                611 non-null    object \n",
      " 3   Tanggungan             599 non-null    object \n",
      " 4   Pendidikan S1          614 non-null    object \n",
      " 5   Wiraswasta             614 non-null    object \n",
      " 6   Pengahasilan Utama     614 non-null    int64  \n",
      " 7   Pengahasilan Tambahan  614 non-null    float64\n",
      " 8   Jumlah Pinjaman        592 non-null    float64\n",
      " 9   Jangka Pinjaman        600 non-null    float64\n",
      " 10  Kredit History         564 non-null    float64\n",
      " 11  Area TempatTinggal     614 non-null    object \n",
      " 12  Status Pinjaman        614 non-null    object \n",
      "dtypes: float64(4), int64(1), object(8)\n",
      "memory usage: 62.5+ KB\n"
     ]
    }
   ],
   "source": [
    "df.info()\n"
   ]
  },
  {
   "cell_type": "code",
   "execution_count": 61,
   "metadata": {
    "colab": {
     "base_uri": "https://localhost:8080/"
    },
    "id": "TvSQsGFXkLzO",
    "outputId": "4cb4b56a-594f-49e7-ff6a-124d48f15dc2"
   },
   "outputs": [
    {
     "data": {
      "text/plain": [
       "(614, 13)"
      ]
     },
     "execution_count": 61,
     "metadata": {},
     "output_type": "execute_result"
    }
   ],
   "source": [
    "df.shape\n"
   ]
  },
  {
   "cell_type": "markdown",
   "metadata": {
    "id": "_K3SeILKkOi8"
   },
   "source": [
    "Data Cleaning\n"
   ]
  },
  {
   "cell_type": "code",
   "execution_count": 62,
   "metadata": {
    "colab": {
     "base_uri": "https://localhost:8080/"
    },
    "id": "ExtPy04EkP2A",
    "outputId": "c9bda7f3-e012-44be-d3ce-e3c6f23c02ce"
   },
   "outputs": [
    {
     "data": {
      "text/plain": [
       "IdPinjaman                0\n",
       "Jenis Kelamin             0\n",
       "Menikah                   3\n",
       "Tanggungan               15\n",
       "Pendidikan S1             0\n",
       "Wiraswasta                0\n",
       "Pengahasilan Utama        0\n",
       "Pengahasilan Tambahan     0\n",
       "Jumlah Pinjaman          22\n",
       "Jangka Pinjaman          14\n",
       "Kredit History           50\n",
       "Area TempatTinggal        0\n",
       "Status Pinjaman           0\n",
       "dtype: int64"
      ]
     },
     "execution_count": 62,
     "metadata": {},
     "output_type": "execute_result"
    }
   ],
   "source": [
    "df.isnull().sum()"
   ]
  },
  {
   "cell_type": "markdown",
   "metadata": {
    "id": "kgoIiw9Zker6"
   },
   "source": [
    "Pertama kita akan mengisi Missing Values di \"Jumlah Pinjaman\" & \"Kredit History\" dengan 'Mean' & 'Median' dari masing-masing variabel."
   ]
  },
  {
   "cell_type": "code",
   "execution_count": 63,
   "metadata": {
    "id": "ATr4NfQnkeHI"
   },
   "outputs": [],
   "source": [
    "df['Jumlah Pinjaman'] = df['Jumlah Pinjaman'].fillna(df['Jumlah Pinjaman'].mean())\n"
   ]
  },
  {
   "cell_type": "code",
   "execution_count": 64,
   "metadata": {
    "colab": {
     "base_uri": "https://localhost:8080/"
    },
    "id": "J44-W66pksyU",
    "outputId": "ef93b6f0-625d-489e-a66b-fa22bcc8b765"
   },
   "outputs": [
    {
     "data": {
      "text/plain": [
       "0"
      ]
     },
     "execution_count": 64,
     "metadata": {},
     "output_type": "execute_result"
    }
   ],
   "source": [
    "df['Jumlah Pinjaman'].isnull().sum()"
   ]
  },
  {
   "cell_type": "code",
   "execution_count": 65,
   "metadata": {
    "id": "fU2k6JxmkvrK"
   },
   "outputs": [],
   "source": [
    "df['Kredit History'] = df['Kredit History'].fillna(df['Kredit History'].median())\n"
   ]
  },
  {
   "cell_type": "code",
   "execution_count": 66,
   "metadata": {
    "colab": {
     "base_uri": "https://localhost:8080/"
    },
    "id": "t50FsqInk-Uw",
    "outputId": "bd2704ef-744b-4566-8e69-4e970bb210aa"
   },
   "outputs": [
    {
     "data": {
      "text/plain": [
       "0"
      ]
     },
     "execution_count": 66,
     "metadata": {},
     "output_type": "execute_result"
    }
   ],
   "source": [
    "df['Kredit History'].isnull().sum()"
   ]
  },
  {
   "cell_type": "code",
   "execution_count": 67,
   "metadata": {
    "colab": {
     "base_uri": "https://localhost:8080/"
    },
    "id": "_wpPpzUGlnwm",
    "outputId": "00df1347-bc80-4870-9174-a2a0f50fd4bc"
   },
   "outputs": [
    {
     "data": {
      "text/plain": [
       "IdPinjaman                0\n",
       "Jenis Kelamin             0\n",
       "Menikah                   3\n",
       "Tanggungan               15\n",
       "Pendidikan S1             0\n",
       "Wiraswasta                0\n",
       "Pengahasilan Utama        0\n",
       "Pengahasilan Tambahan     0\n",
       "Jumlah Pinjaman           0\n",
       "Jangka Pinjaman          14\n",
       "Kredit History            0\n",
       "Area TempatTinggal        0\n",
       "Status Pinjaman           0\n",
       "dtype: int64"
      ]
     },
     "execution_count": 67,
     "metadata": {},
     "output_type": "execute_result"
    }
   ],
   "source": [
    "df.isnull().sum()\n"
   ]
  },
  {
   "cell_type": "markdown",
   "metadata": {
    "id": "Tsz54ef0lfF2"
   },
   "source": [
    "Kita hapus yang masih ada NA "
   ]
  },
  {
   "cell_type": "code",
   "execution_count": 68,
   "metadata": {
    "id": "PePItrLjljRS"
   },
   "outputs": [],
   "source": [
    "df.dropna(inplace=True)\n"
   ]
  },
  {
   "cell_type": "code",
   "execution_count": 69,
   "metadata": {
    "colab": {
     "base_uri": "https://localhost:8080/"
    },
    "id": "wW6t7dbElvsX",
    "outputId": "1bdc1723-4e5e-4c31-ead6-da46fe7668b1"
   },
   "outputs": [
    {
     "data": {
      "text/plain": [
       "IdPinjaman               0\n",
       "Jenis Kelamin            0\n",
       "Menikah                  0\n",
       "Tanggungan               0\n",
       "Pendidikan S1            0\n",
       "Wiraswasta               0\n",
       "Pengahasilan Utama       0\n",
       "Pengahasilan Tambahan    0\n",
       "Jumlah Pinjaman          0\n",
       "Jangka Pinjaman          0\n",
       "Kredit History           0\n",
       "Area TempatTinggal       0\n",
       "Status Pinjaman          0\n",
       "dtype: int64"
      ]
     },
     "execution_count": 69,
     "metadata": {},
     "output_type": "execute_result"
    }
   ],
   "source": [
    "df.isnull().sum()\n"
   ]
  },
  {
   "cell_type": "code",
   "execution_count": 70,
   "metadata": {
    "colab": {
     "base_uri": "https://localhost:8080/"
    },
    "id": "CzhPI1tAl2Lv",
    "outputId": "fe530180-3973-4998-f9b6-ecea7dae6dde"
   },
   "outputs": [
    {
     "data": {
      "text/plain": [
       "(586, 13)"
      ]
     },
     "execution_count": 70,
     "metadata": {},
     "output_type": "execute_result"
    }
   ],
   "source": [
    "df.shape\n"
   ]
  },
  {
   "cell_type": "markdown",
   "metadata": {
    "id": "zW7ZBd7pl7IT"
   },
   "source": [
    "Exploratory Data Analyis¶\n"
   ]
  },
  {
   "cell_type": "code",
   "execution_count": 71,
   "metadata": {
    "colab": {
     "base_uri": "https://localhost:8080/",
     "height": 486
    },
    "id": "Hn-T4e37l71r",
    "outputId": "b7191bf4-c603-4091-e6c6-40bc26313d6e"
   },
   "outputs": [
    {
     "data": {
      "text/plain": [
       "<AxesSubplot:xlabel='Area TempatTinggal', ylabel='count'>"
      ]
     },
     "execution_count": 71,
     "metadata": {},
     "output_type": "execute_result"
    },
    {
     "data": {
      "image/png": "[encoded data removed]",
      "text/plain": [
       "<Figure size 7200x3600 with 5 Axes>"
      ]
     },
     "metadata": {
      "needs_background": "light"
     },
     "output_type": "display_data"
    }
   ],
   "source": [
    "plt.figure(figsize = (100, 50))\n",
    "sns.set(font_scale = 5)\n",
    "plt.subplot(331)\n",
    "sns.countplot(df['Jenis Kelamin'],hue=df['Status Pinjaman'])\n",
    "\n",
    "plt.subplot(332)\n",
    "sns.countplot(df['Menikah'],hue=df['Status Pinjaman'])\n",
    "\n",
    "plt.subplot(333)\n",
    "sns.countplot(df['Pendidikan S1'],hue=df['Status Pinjaman'])\n",
    "\n",
    "plt.subplot(334)\n",
    "sns.countplot(df['Pengahasilan Utama'],hue=df['Status Pinjaman'])\n",
    "\n",
    "plt.subplot(335)\n",
    "sns.countplot(df['Area TempatTinggal'],hue=df['Status Pinjaman'])"
   ]
  },
  {
   "cell_type": "markdown",
   "metadata": {
    "id": "IaEag-hOnk7J"
   },
   "source": [
    "Kemudian  ganti nilai Variabel ke dalam Numerik dan tampilkan Nilai Hitungan"
   ]
  },
  {
   "cell_type": "code",
   "execution_count": 72,
   "metadata": {
    "id": "9PwgMBXYnssW"
   },
   "outputs": [],
   "source": [
    "\n",
    "df['Status Pinjaman'].replace('Y',1,inplace=True)\n",
    "df['Status Pinjaman'].replace('N',0,inplace=True)"
   ]
  },
  {
   "cell_type": "code",
   "execution_count": 73,
   "metadata": {
    "colab": {
     "base_uri": "https://localhost:8080/"
    },
    "id": "fHvZdecynwrR",
    "outputId": "6a486fe1-6c93-40b2-bc8b-54f31b441ee7"
   },
   "outputs": [
    {
     "data": {
      "text/plain": [
       "1    406\n",
       "0    180\n",
       "Name: Status Pinjaman, dtype: int64"
      ]
     },
     "execution_count": 73,
     "metadata": {},
     "output_type": "execute_result"
    }
   ],
   "source": [
    "df['Status Pinjaman'].value_counts()\n"
   ]
  },
  {
   "cell_type": "code",
   "execution_count": 74,
   "metadata": {
    "colab": {
     "base_uri": "https://localhost:8080/",
     "height": 216
    },
    "id": "u18kIxs2oYgz",
    "outputId": "c9f3697b-c488-4331-b2ba-4c4967397b8f"
   },
   "outputs": [
    {
     "data": {
      "text/html": [
       "<div>\n",
       "<style scoped>\n",
       "    .dataframe tbody tr th:only-of-type {\n",
       "        vertical-align: middle;\n",
       "    }\n",
       "\n",
       "    .dataframe tbody tr th {\n",
       "        vertical-align: top;\n",
       "    }\n",
       "\n",
       "    .dataframe thead th {\n",
       "        text-align: right;\n",
       "    }\n",
       "</style>\n",
       "<table border=\"1\" class=\"dataframe\">\n",
       "  <thead>\n",
       "    <tr style=\"text-align: right;\">\n",
       "      <th></th>\n",
       "      <th>IdPinjaman</th>\n",
       "      <th>Jenis Kelamin</th>\n",
       "      <th>Menikah</th>\n",
       "      <th>Tanggungan</th>\n",
       "      <th>Pendidikan S1</th>\n",
       "      <th>Wiraswasta</th>\n",
       "      <th>Pengahasilan Utama</th>\n",
       "      <th>Pengahasilan Tambahan</th>\n",
       "      <th>Jumlah Pinjaman</th>\n",
       "      <th>Jangka Pinjaman</th>\n",
       "      <th>Kredit History</th>\n",
       "      <th>Area TempatTinggal</th>\n",
       "      <th>Status Pinjaman</th>\n",
       "    </tr>\n",
       "  </thead>\n",
       "  <tbody>\n",
       "    <tr>\n",
       "      <th>0</th>\n",
       "      <td>LP001002</td>\n",
       "      <td>Pria</td>\n",
       "      <td>No</td>\n",
       "      <td>0</td>\n",
       "      <td>Lulus</td>\n",
       "      <td>Tidak</td>\n",
       "      <td>5849</td>\n",
       "      <td>0.0</td>\n",
       "      <td>146.412162</td>\n",
       "      <td>360.0</td>\n",
       "      <td>1.0</td>\n",
       "      <td>Kota</td>\n",
       "      <td>1</td>\n",
       "    </tr>\n",
       "    <tr>\n",
       "      <th>1</th>\n",
       "      <td>LP001003</td>\n",
       "      <td>Pria</td>\n",
       "      <td>Yes</td>\n",
       "      <td>1</td>\n",
       "      <td>Lulus</td>\n",
       "      <td>Tidak</td>\n",
       "      <td>4583</td>\n",
       "      <td>1508.0</td>\n",
       "      <td>128.000000</td>\n",
       "      <td>360.0</td>\n",
       "      <td>1.0</td>\n",
       "      <td>Desa</td>\n",
       "      <td>0</td>\n",
       "    </tr>\n",
       "    <tr>\n",
       "      <th>2</th>\n",
       "      <td>LP001005</td>\n",
       "      <td>Pria</td>\n",
       "      <td>Yes</td>\n",
       "      <td>0</td>\n",
       "      <td>Lulus</td>\n",
       "      <td>Ya</td>\n",
       "      <td>3000</td>\n",
       "      <td>0.0</td>\n",
       "      <td>66.000000</td>\n",
       "      <td>360.0</td>\n",
       "      <td>1.0</td>\n",
       "      <td>Kota</td>\n",
       "      <td>1</td>\n",
       "    </tr>\n",
       "    <tr>\n",
       "      <th>3</th>\n",
       "      <td>LP001006</td>\n",
       "      <td>Pria</td>\n",
       "      <td>Yes</td>\n",
       "      <td>0</td>\n",
       "      <td>Tidak Lulus</td>\n",
       "      <td>Tidak</td>\n",
       "      <td>2583</td>\n",
       "      <td>2358.0</td>\n",
       "      <td>120.000000</td>\n",
       "      <td>360.0</td>\n",
       "      <td>1.0</td>\n",
       "      <td>Kota</td>\n",
       "      <td>1</td>\n",
       "    </tr>\n",
       "    <tr>\n",
       "      <th>4</th>\n",
       "      <td>LP001008</td>\n",
       "      <td>Pria</td>\n",
       "      <td>No</td>\n",
       "      <td>0</td>\n",
       "      <td>Lulus</td>\n",
       "      <td>Tidak</td>\n",
       "      <td>6000</td>\n",
       "      <td>0.0</td>\n",
       "      <td>141.000000</td>\n",
       "      <td>360.0</td>\n",
       "      <td>1.0</td>\n",
       "      <td>Kota</td>\n",
       "      <td>1</td>\n",
       "    </tr>\n",
       "  </tbody>\n",
       "</table>\n",
       "</div>"
      ],
      "text/plain": [
       "  IdPinjaman Jenis Kelamin Menikah Tanggungan Pendidikan S1 Wiraswasta  \\\n",
       "0   LP001002          Pria      No          0         Lulus      Tidak   \n",
       "1   LP001003          Pria     Yes          1         Lulus      Tidak   \n",
       "2   LP001005          Pria     Yes          0         Lulus         Ya   \n",
       "3   LP001006          Pria     Yes          0   Tidak Lulus      Tidak   \n",
       "4   LP001008          Pria      No          0         Lulus      Tidak   \n",
       "\n",
       "   Pengahasilan Utama  Pengahasilan Tambahan  Jumlah Pinjaman  \\\n",
       "0                5849                    0.0       146.412162   \n",
       "1                4583                 1508.0       128.000000   \n",
       "2                3000                    0.0        66.000000   \n",
       "3                2583                 2358.0       120.000000   \n",
       "4                6000                    0.0       141.000000   \n",
       "\n",
       "   Jangka Pinjaman  Kredit History Area TempatTinggal  Status Pinjaman  \n",
       "0            360.0             1.0               Kota                1  \n",
       "1            360.0             1.0               Desa                0  \n",
       "2            360.0             1.0               Kota                1  \n",
       "3            360.0             1.0               Kota                1  \n",
       "4            360.0             1.0               Kota                1  "
      ]
     },
     "execution_count": 74,
     "metadata": {},
     "output_type": "execute_result"
    }
   ],
   "source": [
    "df.head()"
   ]
  },
  {
   "cell_type": "code",
   "execution_count": 75,
   "metadata": {
    "colab": {
     "base_uri": "https://localhost:8080/"
    },
    "id": "YUm3D2jooCpU",
    "outputId": "f8468b36-e510-4615-90f8-b72f9ee940d5"
   },
   "outputs": [
    {
     "data": {
      "text/plain": [
       "1    467\n",
       "0    119\n",
       "Name: Jenis Kelamin, dtype: int64"
      ]
     },
     "execution_count": 75,
     "metadata": {},
     "output_type": "execute_result"
    }
   ],
   "source": [
    "df['Jenis Kelamin']=df['Jenis Kelamin'].map({'Pria':1,'Wanita':0})\n",
    "df['Jenis Kelamin'].value_counts()"
   ]
  },
  {
   "cell_type": "code",
   "execution_count": 76,
   "metadata": {
    "colab": {
     "base_uri": "https://localhost:8080/"
    },
    "id": "yghe1r3No0Zm",
    "outputId": "43978fc7-d190-4b2c-f8f0-cd6180f64ac8"
   },
   "outputs": [
    {
     "data": {
      "text/plain": [
       "1    382\n",
       "0    204\n",
       "Name: Menikah, dtype: int64"
      ]
     },
     "execution_count": 76,
     "metadata": {},
     "output_type": "execute_result"
    }
   ],
   "source": [
    "df.Menikah=df.Menikah.map({'Yes':1,'No':0})\n",
    "df['Menikah'].value_counts()"
   ]
  },
  {
   "cell_type": "code",
   "execution_count": 77,
   "metadata": {
    "colab": {
     "base_uri": "https://localhost:8080/"
    },
    "id": "pGRcK4fqo_wU",
    "outputId": "ab5f5b93-3d9a-44e9-f424-f515ad319036"
   },
   "outputs": [
    {
     "data": {
      "text/plain": [
       "0    334\n",
       "1    101\n",
       "2    101\n",
       "3     50\n",
       "Name: Tanggungan, dtype: int64"
      ]
     },
     "execution_count": 77,
     "metadata": {},
     "output_type": "execute_result"
    }
   ],
   "source": [
    "\n",
    "df.Tanggungan=df.Tanggungan.map({'0':0,'1':1,'2':2,'3+':3})\n",
    "df['Tanggungan'].value_counts()"
   ]
  },
  {
   "cell_type": "code",
   "execution_count": 78,
   "metadata": {
    "colab": {
     "base_uri": "https://localhost:8080/"
    },
    "id": "NejG6HHMpQC9",
    "outputId": "6505357b-7231-46d5-a7d7-3254691e4fed"
   },
   "outputs": [
    {
     "data": {
      "text/plain": [
       "1    462\n",
       "0    124\n",
       "Name: Pendidikan S1, dtype: int64"
      ]
     },
     "execution_count": 78,
     "metadata": {},
     "output_type": "execute_result"
    }
   ],
   "source": [
    "df['Pendidikan S1']=df['Pendidikan S1'].map({'Lulus':1,'Tidak Lulus':0})\n",
    "df['Pendidikan S1'].value_counts()"
   ]
  },
  {
   "cell_type": "code",
   "execution_count": 79,
   "metadata": {
    "colab": {
     "base_uri": "https://localhost:8080/"
    },
    "id": "dkDVCSo6pkbJ",
    "outputId": "61ef493b-df97-4f10-996f-728b7b310838"
   },
   "outputs": [
    {
     "data": {
      "text/plain": [
       "0    507\n",
       "1     79\n",
       "Name: Wiraswasta, dtype: int64"
      ]
     },
     "execution_count": 79,
     "metadata": {},
     "output_type": "execute_result"
    }
   ],
   "source": [
    "df.Wiraswasta=df.Wiraswasta.map({'Ya':1,'Tidak':0})\n",
    "df['Wiraswasta'].value_counts()"
   ]
  },
  {
   "cell_type": "code",
   "execution_count": 80,
   "metadata": {
    "colab": {
     "base_uri": "https://localhost:8080/"
    },
    "id": "W6mflSd2p49y",
    "outputId": "03a7e503-b407-4dfb-f72f-3b538b97865b"
   },
   "outputs": [
    {
     "data": {
      "text/plain": [
       "1    225\n",
       "2    188\n",
       "0    173\n",
       "Name: Area TempatTinggal, dtype: int64"
      ]
     },
     "execution_count": 80,
     "metadata": {},
     "output_type": "execute_result"
    }
   ],
   "source": [
    "df['Area TempatTinggal']=df['Area TempatTinggal'].map({'Kota':2,'Desa':0,'Pingiran Kota':1})\n",
    "df['Area TempatTinggal'].value_counts()"
   ]
  },
  {
   "cell_type": "code",
   "execution_count": 81,
   "metadata": {
    "colab": {
     "base_uri": "https://localhost:8080/"
    },
    "id": "9-_Ba4rkqUOF",
    "outputId": "19bef856-f81c-466e-b4cf-c551ece21e9a"
   },
   "outputs": [
    {
     "data": {
      "text/plain": [
       "146.412162    20\n",
       "120.000000    18\n",
       "110.000000    16\n",
       "100.000000    14\n",
       "187.000000    12\n",
       "              ..\n",
       "211.000000     1\n",
       "250.000000     1\n",
       "62.000000      1\n",
       "85.000000      1\n",
       "436.000000     1\n",
       "Name: Jumlah Pinjaman, Length: 204, dtype: int64"
      ]
     },
     "execution_count": 81,
     "metadata": {},
     "output_type": "execute_result"
    }
   ],
   "source": [
    "df['Jumlah Pinjaman'].value_counts()\n"
   ]
  },
  {
   "cell_type": "code",
   "execution_count": 82,
   "metadata": {
    "colab": {
     "base_uri": "https://localhost:8080/"
    },
    "id": "I00DFVXgqbfh",
    "outputId": "26750ec0-11d2-4d88-c8a6-48ae67c6de71"
   },
   "outputs": [
    {
     "data": {
      "text/plain": [
       "360.0    502\n",
       "180.0     43\n",
       "300.0     13\n",
       "480.0     13\n",
       "84.0       4\n",
       "240.0      3\n",
       "120.0      3\n",
       "36.0       2\n",
       "60.0       2\n",
       "12.0       1\n",
       "Name: Jangka Pinjaman, dtype: int64"
      ]
     },
     "execution_count": 82,
     "metadata": {},
     "output_type": "execute_result"
    }
   ],
   "source": [
    "df['Jangka Pinjaman'].value_counts()\n"
   ]
  },
  {
   "cell_type": "code",
   "execution_count": 83,
   "metadata": {
    "colab": {
     "base_uri": "https://localhost:8080/"
    },
    "id": "ei4ryGfxqf52",
    "outputId": "9f4bc68d-091c-4946-d722-91f6184a97b3"
   },
   "outputs": [
    {
     "data": {
      "text/plain": [
       "1.0    508\n",
       "0.0     78\n",
       "Name: Kredit History, dtype: int64"
      ]
     },
     "execution_count": 83,
     "metadata": {},
     "output_type": "execute_result"
    }
   ],
   "source": [
    "df['Kredit History'].value_counts()\n"
   ]
  },
  {
   "cell_type": "markdown",
   "metadata": {
    "id": "IIJQUmuKq3Ep"
   },
   "source": [
    "Dari gambar di atas, kita dapat melihat bahwa Kredit History (Variabel Independen) memiliki korelasi maksimum dengan Status Pinjaman (Variabel Dependen). Yang menunjukkan bahwa Status Pinjaman sangat bergantung pada Kredit History."
   ]
  },
  {
   "cell_type": "code",
   "execution_count": 84,
   "metadata": {
    "colab": {
     "base_uri": "https://localhost:8080/",
     "height": 216
    },
    "id": "1ya0Ptkrqt5R",
    "outputId": "27ddb931-7149-4885-e500-1cdbc30b147a"
   },
   "outputs": [
    {
     "data": {
      "text/html": [
       "<div>\n",
       "<style scoped>\n",
       "    .dataframe tbody tr th:only-of-type {\n",
       "        vertical-align: middle;\n",
       "    }\n",
       "\n",
       "    .dataframe tbody tr th {\n",
       "        vertical-align: top;\n",
       "    }\n",
       "\n",
       "    .dataframe thead th {\n",
       "        text-align: right;\n",
       "    }\n",
       "</style>\n",
       "<table border=\"1\" class=\"dataframe\">\n",
       "  <thead>\n",
       "    <tr style=\"text-align: right;\">\n",
       "      <th></th>\n",
       "      <th>IdPinjaman</th>\n",
       "      <th>Jenis Kelamin</th>\n",
       "      <th>Menikah</th>\n",
       "      <th>Tanggungan</th>\n",
       "      <th>Pendidikan S1</th>\n",
       "      <th>Wiraswasta</th>\n",
       "      <th>Pengahasilan Utama</th>\n",
       "      <th>Pengahasilan Tambahan</th>\n",
       "      <th>Jumlah Pinjaman</th>\n",
       "      <th>Jangka Pinjaman</th>\n",
       "      <th>Kredit History</th>\n",
       "      <th>Area TempatTinggal</th>\n",
       "      <th>Status Pinjaman</th>\n",
       "    </tr>\n",
       "  </thead>\n",
       "  <tbody>\n",
       "    <tr>\n",
       "      <th>0</th>\n",
       "      <td>LP001002</td>\n",
       "      <td>1</td>\n",
       "      <td>0</td>\n",
       "      <td>0</td>\n",
       "      <td>1</td>\n",
       "      <td>0</td>\n",
       "      <td>5849</td>\n",
       "      <td>0.0</td>\n",
       "      <td>146.412162</td>\n",
       "      <td>360.0</td>\n",
       "      <td>1.0</td>\n",
       "      <td>2</td>\n",
       "      <td>1</td>\n",
       "    </tr>\n",
       "    <tr>\n",
       "      <th>1</th>\n",
       "      <td>LP001003</td>\n",
       "      <td>1</td>\n",
       "      <td>1</td>\n",
       "      <td>1</td>\n",
       "      <td>1</td>\n",
       "      <td>0</td>\n",
       "      <td>4583</td>\n",
       "      <td>1508.0</td>\n",
       "      <td>128.000000</td>\n",
       "      <td>360.0</td>\n",
       "      <td>1.0</td>\n",
       "      <td>0</td>\n",
       "      <td>0</td>\n",
       "    </tr>\n",
       "    <tr>\n",
       "      <th>2</th>\n",
       "      <td>LP001005</td>\n",
       "      <td>1</td>\n",
       "      <td>1</td>\n",
       "      <td>0</td>\n",
       "      <td>1</td>\n",
       "      <td>1</td>\n",
       "      <td>3000</td>\n",
       "      <td>0.0</td>\n",
       "      <td>66.000000</td>\n",
       "      <td>360.0</td>\n",
       "      <td>1.0</td>\n",
       "      <td>2</td>\n",
       "      <td>1</td>\n",
       "    </tr>\n",
       "    <tr>\n",
       "      <th>3</th>\n",
       "      <td>LP001006</td>\n",
       "      <td>1</td>\n",
       "      <td>1</td>\n",
       "      <td>0</td>\n",
       "      <td>0</td>\n",
       "      <td>0</td>\n",
       "      <td>2583</td>\n",
       "      <td>2358.0</td>\n",
       "      <td>120.000000</td>\n",
       "      <td>360.0</td>\n",
       "      <td>1.0</td>\n",
       "      <td>2</td>\n",
       "      <td>1</td>\n",
       "    </tr>\n",
       "    <tr>\n",
       "      <th>4</th>\n",
       "      <td>LP001008</td>\n",
       "      <td>1</td>\n",
       "      <td>0</td>\n",
       "      <td>0</td>\n",
       "      <td>1</td>\n",
       "      <td>0</td>\n",
       "      <td>6000</td>\n",
       "      <td>0.0</td>\n",
       "      <td>141.000000</td>\n",
       "      <td>360.0</td>\n",
       "      <td>1.0</td>\n",
       "      <td>2</td>\n",
       "      <td>1</td>\n",
       "    </tr>\n",
       "  </tbody>\n",
       "</table>\n",
       "</div>"
      ],
      "text/plain": [
       "  IdPinjaman  Jenis Kelamin  Menikah  Tanggungan  Pendidikan S1  Wiraswasta  \\\n",
       "0   LP001002              1        0           0              1           0   \n",
       "1   LP001003              1        1           1              1           0   \n",
       "2   LP001005              1        1           0              1           1   \n",
       "3   LP001006              1        1           0              0           0   \n",
       "4   LP001008              1        0           0              1           0   \n",
       "\n",
       "   Pengahasilan Utama  Pengahasilan Tambahan  Jumlah Pinjaman  \\\n",
       "0                5849                    0.0       146.412162   \n",
       "1                4583                 1508.0       128.000000   \n",
       "2                3000                    0.0        66.000000   \n",
       "3                2583                 2358.0       120.000000   \n",
       "4                6000                    0.0       141.000000   \n",
       "\n",
       "   Jangka Pinjaman  Kredit History  Area TempatTinggal  Status Pinjaman  \n",
       "0            360.0             1.0                   2                1  \n",
       "1            360.0             1.0                   0                0  \n",
       "2            360.0             1.0                   2                1  \n",
       "3            360.0             1.0                   2                1  \n",
       "4            360.0             1.0                   2                1  "
      ]
     },
     "execution_count": 84,
     "metadata": {},
     "output_type": "execute_result"
    }
   ],
   "source": [
    "df.head()"
   ]
  },
  {
   "cell_type": "code",
   "execution_count": 85,
   "metadata": {
    "id": "G-wOGeKMrG4p"
   },
   "outputs": [],
   "source": [
    "from sklearn.model_selection import train_test_split\n",
    "from sklearn.linear_model import LogisticRegression\n",
    "from sklearn import metrics"
   ]
  },
  {
   "cell_type": "code",
   "execution_count": 86,
   "metadata": {
    "id": "iYrRdXd4rHn0"
   },
   "outputs": [],
   "source": [
    "X = df.iloc[1:542,1:12].values\n",
    "y = df.iloc[1:542,12].values"
   ]
  },
  {
   "cell_type": "code",
   "execution_count": 87,
   "metadata": {
    "id": "QBJnVy9PrMit"
   },
   "outputs": [],
   "source": [
    "X_train, X_test, y_train, y_test = train_test_split(X, y, test_size=0.3,random_state=0)\n"
   ]
  },
  {
   "cell_type": "code",
   "execution_count": 88,
   "metadata": {
    "colab": {
     "base_uri": "https://localhost:8080/"
    },
    "id": "wEnWGzJRrX9r",
    "outputId": "0fbbb990-dd42-4cc7-a4d8-e2257c1d3c71"
   },
   "outputs": [
    {
     "name": "stdout",
     "output_type": "stream",
     "text": [
      "Logistic Regression accuracy =  0.7791411042944786\n"
     ]
    }
   ],
   "source": [
    "model = LogisticRegression()\n",
    "model.fit(X_train,y_train)\n",
    "\n",
    "lr_prediction = model.predict(X_test)\n",
    "print('Logistic Regression accuracy = ', metrics.accuracy_score(lr_prediction,y_test))"
   ]
  },
  {
   "cell_type": "code",
   "execution_count": 89,
   "metadata": {
    "colab": {
     "base_uri": "https://localhost:8080/"
    },
    "id": "xgV1v9Shrd6D",
    "outputId": "ff9876a3-d2ef-4c0b-d7f1-45d5f9ad9c7d"
   },
   "outputs": [
    {
     "name": "stdout",
     "output_type": "stream",
     "text": [
      "y_predicted [1 1 1 1 0 1 1 0 0 1 1 1 1 1 1 1 1 1 0 1 1 1 1 1 1 1 1 1 1 1 1 1 1 1 1 1 1\n",
      " 1 1 1 1 0 0 0 1 0 1 1 1 1 1 1 1 1 1 1 1 1 1 1 0 1 0 1 1 1 1 1 1 1 1 1 1 1\n",
      " 1 1 0 1 1 1 1 1 1 1 1 1 1 1 1 1 1 1 1 1 1 1 1 1 1 1 0 1 1 1 1 1 0 1 1 0 1\n",
      " 1 1 1 1 1 1 0 1 1 0 0 1 1 1 1 1 1 1 1 1 1 1 1 0 1 1 0 1 1 1 0 0 0 1 1 1 1\n",
      " 1 0 1 1 1 0 1 1 1 1 1 1 1 1 1]\n",
      "y_test [0 1 0 1 0 1 1 0 0 0 1 1 1 1 1 1 1 1 0 1 0 1 1 1 1 1 0 0 0 1 1 1 1 1 1 1 0\n",
      " 0 1 1 0 0 0 0 1 0 1 1 1 1 1 1 1 1 1 1 0 1 1 0 0 1 1 1 1 1 1 0 1 1 1 1 1 1\n",
      " 0 1 0 1 0 1 1 0 0 1 1 1 0 1 1 0 1 1 1 1 0 1 0 0 0 0 0 1 1 1 1 0 0 1 1 0 1\n",
      " 1 1 1 1 1 1 1 1 1 0 0 1 1 1 1 1 1 1 1 1 1 0 1 0 1 1 0 1 0 0 0 0 0 1 0 1 1\n",
      " 0 0 0 0 0 0 1 1 1 1 1 0 1 1 1]\n"
     ]
    }
   ],
   "source": [
    "\n",
    "print(\"y_predicted\",lr_prediction)\n",
    "print(\"y_test\",y_test)"
   ]
  },
  {
   "cell_type": "markdown",
   "metadata": {
    "id": "oSjnRte-rfa3"
   },
   "source": [
    "Status Pinjaman sangat bergantung pada Sejarah Kredit untuk Prediksi.\n",
    "Algoritma Regresi Logistik memberi kita Akurasi maksimum (sekitar 78%)"
   ]
  },
  {
   "cell_type": "markdown",
   "metadata": {
    "id": "XAewD60Gtx8Y"
   },
   "source": [
    "### IBL (Instance-Base Learning)\n",
    "\n",
    "sebelum pada K-Nearest Neighbor kita coba mengetahui apa itu IBL. IBL (Instance-Base Learning) di kenal dengan pembelejaran yang malas. \n",
    " \n",
    "Kenapa dikatakan pembelajaran yang malas ? \n",
    "\n",
    "Karena IBL tidak akan melakukan proses belajar (dari data latih), tetapi secara langsung mengambil keputusan (melakukan klasifikasi) berdasarkan beberapa data tentangga yang jaraknya terdekat / paling mirip dengan pola masukannya. \n",
    "\n",
    "IBL sama seperti ujian sistem open book. \n",
    "\n",
    "Kapan IBL akan digunakan ? \n",
    ">> Pada saat terdapat banyak data pencilan yang membuat representasi  model berbasis aturan, model didistribusikan kepadatan peluang. \n",
    "\n",
    "Metode yang teramaksud IBL KNN , Pseudo Nearest Neighbour Rule (PNNR) dan lainnya. \n",
    "\n"
   ]
  },
  {
   "cell_type": "markdown",
   "metadata": {
    "id": "Um8CULpHBy1O"
   },
   "source": [
    "\n"
   ]
  },
  {
   "cell_type": "markdown",
   "metadata": {
    "id": "kQpJ0Vsjwg-a"
   },
   "source": [
    "## K-Nearest Neighbor (KNN)"
   ]
  },
  {
   "cell_type": "markdown",
   "metadata": {
    "id": "HsRzrjFMT6OZ"
   },
   "source": [
    "KNN adalah algoritma non-parametric dan lazy learning algorithm. Non-parametric berarti tidak ada asumsi untuk distribusi data yang mendasarinya. Dengan kata lain, struktur model ditentukan dari dataset. \n",
    "\n",
    "Ini akan sangat membantu dalam praktik di mana sebagian besar kumpulan data dunia nyata tidak mengikuti asumsi teoretis matematis. \n",
    "\n",
    "Lazy algorithm berarti tidak memerlukan training data points untuk pembuatan model. Semua data pelatihan digunakan dalam tahap pengujian. \n",
    "\n",
    "Ini membuat pelatihan lebih cepat dan fase pengujian lebih lambat dan lebih mahal. \n",
    "\n",
    "Fase pengujian yang mahal artinya berdampak pada waktu dan memori. Dalam kasus terburuk, KNN membutuhkan lebih banyak waktu untuk memindai semua titik data dan memindai semua titik data akan membutuhkan lebih banyak memori untuk menyimpan data pelatihan."
   ]
  },
  {
   "cell_type": "markdown",
   "metadata": {
    "id": "L944HBgvT3Kl"
   },
   "source": [
    "### How does the KNN algorithm work?\n"
   ]
  },
  {
   "cell_type": "markdown",
   "metadata": {
    "id": "eO9GO-U4T0Iz"
   },
   "source": [
    "Di KNN, K adalah jumlah tetangga terdekat/nearest neighbors. Jumlah tetangga adalah faktor penentu utama. K umumnya bilangan ganjil jika jumlah kelasnya 2. Jika K = 1, maka algoritma tersebut dikenal sebagai nearest neighbor algorithm/algoritma tetangga terdekat. Ini kasus yang paling sederhana. \n",
    "\n",
    "Misalkan P1 adalah titik, yang perlu diprediksi oleh label. \n",
    "\n",
    "Pertama, kita menemukan satu titik terdekat ke P1 dan kemudian label titik terdekat ditetapkan ke P1."
   ]
  },
  {
   "cell_type": "markdown",
   "metadata": {
    "id": "n8eW-i5kTu6I"
   },
   "source": [
    "<img src=\"https://i.ibb.co/7bmFwMc/ds-12b-01.png\" width=\"600\" align=\"center\">\n",
    "\n",
    "\n"
   ]
  },
  {
   "cell_type": "markdown",
   "metadata": {
    "id": "jU3LOTrGTnN9"
   },
   "source": [
    "Misalkan P1 adalah titik, yang perlu diprediksi oleh label. \n",
    "\n",
    "Pertama, kita mencari k titik terdekat ke P1 dan kemudian mengklasifikasikan poin berdasarkan suara mayoritas dari k tetangganya. \n",
    "\n",
    "Setiap objek memberikan suara untuk kelasnya dan kelas dengan suara terbanyak diambil sebagai prediksi. \n",
    "\n",
    "Untuk menemukan titik terdekat yang serupa, kita mencari jarak antar titik menggunakan distance measures seperti Euclidean distance, Hamming distance, Manhattan distance dan Minkowski distance. \n",
    "\n",
    "KNN memiliki langkah-langkah dasar sebagai berikut:\n",
    "\n",
    "- Calculate distance\n",
    "- Find closest neighbors\n",
    "- Vote for labels"
   ]
  },
  {
   "cell_type": "markdown",
   "metadata": {
    "id": "ZsOGUs5kThDF"
   },
   "source": [
    "<img src=\"https://i.ibb.co/MZT9LPQ/ds-12b-02.png\" width=\"600\" align=\"center\">\n"
   ]
  },
  {
   "cell_type": "markdown",
   "metadata": {
    "id": "aT-boSZTRgt-"
   },
   "source": [
    "\n",
    "<img src=\"https://i.ibb.co/Wz12Xxq/ds-12b-03.png\" width=\"600\" align=\"center\">\n"
   ]
  },
  {
   "cell_type": "markdown",
   "metadata": {
    "id": "mqp3imfZRhYm"
   },
   "source": [
    "Kita perlu memprediksi status dari Andrew dengan menggunakan Eucledian Distance.\n",
    "\n"
   ]
  },
  {
   "cell_type": "markdown",
   "metadata": {
    "id": "miBmY3zhTVV4"
   },
   "source": [
    "<img src=\"https://i.ibb.co/dKd6rKc/ds-12b-04.png\" width=\"600\" align=\"center\">\n",
    "\n",
    "\n"
   ]
  },
  {
   "cell_type": "markdown",
   "metadata": {
    "id": "_P-4vbkKTUJE"
   },
   "source": [
    "Langkah pertama, hitung Eucledian Distance untuk semua datapoints.\n",
    "\n",
    "dist(d) = Sqrt(x₁-y₁)² + (x₂-y₂)²\n",
    "\n",
    "dist(d) = Sqrt(48 - 25)² + (142000 - 40000)²\n",
    "\n",
    "dist(d) = 102.000"
   ]
  },
  {
   "cell_type": "markdown",
   "metadata": {
    "id": "JP3iMoDlTPJL"
   },
   "source": [
    "<img src=\"https://i.ibb.co/g78DJj8/ds-12b-05.jpg\" width=\"550\" align=\"center\">\n",
    "\n"
   ]
  },
  {
   "cell_type": "markdown",
   "metadata": {
    "id": "pRTHeeh-TNic"
   },
   "source": [
    "Asumsikan bahwa K = 5\n",
    "\n"
   ]
  },
  {
   "cell_type": "markdown",
   "metadata": {
    "id": "ntwmv41tTHnT"
   },
   "source": [
    "\n",
    "<img src=\"https://i.ibb.co/hVNKbrD/ds-12b-06.png\" width=\"600\" align=\"center\">\n"
   ]
  },
  {
   "cell_type": "markdown",
   "metadata": {
    "id": "B4RsF6AGTFfp"
   },
   "source": [
    "Cari nilai minimun dari eucledian distance dan urutkan dari kecil ke besar. Dalam kasus ini dengan k=5 mendapatkan 2 N dan 3 Y. Kita dapat menyimpulkan status dari Andrew adalah Y.\n",
    "\n"
   ]
  },
  {
   "cell_type": "markdown",
   "metadata": {
    "id": "PFMno8yWTCMr"
   },
   "source": [
    "## KNN in Python With scikit-learn: Example 1\n"
   ]
  },
  {
   "cell_type": "markdown",
   "metadata": {
    "id": "I92mBXVHTAim"
   },
   "source": [
    "Defining dataset\n",
    "\n",
    "Mari pertama-tama buat dataset kita sendiri. Di sini kita membutuhkan dua jenis atribut atau kolom dalam data Anda: Feature dan label."
   ]
  },
  {
   "cell_type": "code",
   "execution_count": 90,
   "metadata": {
    "id": "vVytb-uQS88A"
   },
   "outputs": [],
   "source": [
    "# Assigning features and label variables\n",
    "\n",
    "# First Feature\n",
    "weather=['Sunny','Sunny','Overcast','Rainy','Rainy','Rainy','Overcast','Sunny','Sunny',\n",
    "'Rainy','Sunny','Overcast','Overcast','Rainy']\n",
    "\n",
    "# Second Feature\n",
    "temp=['Hot','Hot','Hot','Mild','Cool','Cool','Cool','Mild','Cool','Mild','Mild','Mild','Hot','Mild']\n",
    "\n",
    "# Label or target varible\n",
    "play=['No','No','Yes','Yes','Yes','No','Yes','No','Yes','Yes','Yes','Yes','Yes','No']"
   ]
  },
  {
   "cell_type": "markdown",
   "metadata": {
    "id": "YAE_VPRHS5je"
   },
   "source": [
    "Encoding data columns\n",
    "\n",
    "Berbagai machine learning algorithmsmemerlukan data input numerik, jadi kita perlu merepresentasikan kolom kategorikal dalam kolom numerik.\n",
    "\n",
    "Untuk encode data ini, kita dapat memetakan setiap nilai menjadi sebuah angka. misalnya Overcast:0, Rainy:1, dan Sunny:2.\n",
    "\n",
    "Proses ini dikenal sebagai label encoding, dan sklearn dengan mudah akan melakukannya untuk kita menggunakan Label Encoder."
   ]
  },
  {
   "cell_type": "code",
   "execution_count": 91,
   "metadata": {
    "colab": {
     "base_uri": "https://localhost:8080/"
    },
    "id": "wHFbBZ-eS3Ea",
    "outputId": "5414467d-0441-4336-cc4d-efdb47d3e60d"
   },
   "outputs": [
    {
     "name": "stdout",
     "output_type": "stream",
     "text": [
      "[2 2 0 1 1 1 0 2 2 1 2 0 0 1]\n"
     ]
    }
   ],
   "source": [
    "# Import LabelEncoder\n",
    "from sklearn import preprocessing\n",
    "\n",
    "#creating labelEncoder\n",
    "le = preprocessing.LabelEncoder()\n",
    "\n",
    "# Converting string labels into numbers.\n",
    "weather_encoded=le.fit_transform(weather)\n",
    "print(weather_encoded)\n"
   ]
  },
  {
   "cell_type": "markdown",
   "metadata": {
    "id": "ADM_TPVsSz9x"
   },
   "source": [
    "Di sini, kita  mengimpor modul preprocessing dan membuat objek Label Encoder. Dengan menggunakan objek LabelEncoder ini, kita dapat menyesuaikan dan mengubah kolom \"weather\" menjadi kolom numerik.\n",
    "\n",
    "Demikian pula, kita dapat menyandikan temperature dan label ke dalam kolom numerik."
   ]
  },
  {
   "cell_type": "code",
   "execution_count": 92,
   "metadata": {
    "colab": {
     "base_uri": "https://localhost:8080/"
    },
    "id": "MC1v1RRJSwrq",
    "outputId": "d5ebcb9d-9c57-47ab-fcf3-0a327ce9ca07"
   },
   "outputs": [
    {
     "name": "stdout",
     "output_type": "stream",
     "text": [
      "[1 1 1 2 0 0 0 2 0 2 2 2 1 2]\n"
     ]
    }
   ],
   "source": [
    "# converting string labels into numbers\n",
    "temp_encoded=le.fit_transform(temp)\n",
    "\n",
    "label=le.fit_transform(play)\n",
    "print(temp_encoded)"
   ]
  },
  {
   "cell_type": "markdown",
   "metadata": {
    "id": "nF3ku2bRStEm"
   },
   "source": [
    "Combining Features\n",
    "\n",
    "Di sini, kita akan menggabungkan beberapa kolom atau fitur menjadi satu set data menggunakan fungsi \"zip\""
   ]
  },
  {
   "cell_type": "code",
   "execution_count": 93,
   "metadata": {
    "colab": {
     "base_uri": "https://localhost:8080/"
    },
    "id": "NnlJmI-RSrGt",
    "outputId": "9323a11e-8515-4bd3-a4aa-85550827835d"
   },
   "outputs": [
    {
     "name": "stdout",
     "output_type": "stream",
     "text": [
      "[(2, 1), (2, 1), (0, 1), (1, 2), (1, 0), (1, 0), (0, 0), (2, 2), (2, 0), (1, 2), (2, 2), (0, 2), (0, 1), (1, 2)]\n"
     ]
    }
   ],
   "source": [
    "#combinig weather and temp into single listof tuples\n",
    "features=list(zip(weather_encoded,temp_encoded))\n",
    "\n",
    "print(features)"
   ]
  },
  {
   "cell_type": "markdown",
   "metadata": {
    "id": "2txFZHelSpl2"
   },
   "source": [
    "Generating Model\n",
    "\n",
    "Mari membangun classifier model KNN.\n",
    "\n",
    "Pertama, impor modul KNeighboursClassifier dan buat classifier object KNN dengan meneruskan argumen jumlah tetangga dalam fungsi KNeighboursClassifier().\n",
    "\n",
    "Kemudian, latih model kita dengan train set menggunakan fit() dan lakukan prediksi pada test set menggunakan predict()."
   ]
  },
  {
   "cell_type": "code",
   "execution_count": 94,
   "metadata": {
    "colab": {
     "base_uri": "https://localhost:8080/"
    },
    "id": "x5xO-tMQSm33",
    "outputId": "87af204f-d217-48b3-bb07-d8fa32e0fa66"
   },
   "outputs": [
    {
     "name": "stdout",
     "output_type": "stream",
     "text": [
      "[1]\n"
     ]
    }
   ],
   "source": [
    "from sklearn.neighbors import KNeighborsClassifier\n",
    "\n",
    "model = KNeighborsClassifier(n_neighbors=3)\n",
    "\n",
    "# Train the model using the training sets\n",
    "model.fit(features,label)\n",
    "\n",
    "#Predict Output\n",
    "predicted = model.predict([[0,2]]) # 0:Overcast, 2:Mild\n",
    "\n",
    "print(predicted)"
   ]
  },
  {
   "cell_type": "markdown",
   "metadata": {
    "id": "1eHxWCwKSkT-"
   },
   "source": [
    "Pada contoh di atas, kita memberikan input [0,2], di mana 0 berarti cuaca mendung/Overcast dan 2 berarti suhu sedang/Mild. Model memprediksi [1], yang artinya play."
   ]
  },
  {
   "cell_type": "markdown",
   "metadata": {
    "id": "ox6YYvpfSgE7"
   },
   "source": [
    "## KNN in Python With scikit-learn: KNN with Multiple Labels\n"
   ]
  },
  {
   "cell_type": "markdown",
   "metadata": {
    "id": "AJOAx15sSeM-"
   },
   "source": [
    "Hingga saat ini, kita telah mempelajari cara membuat pengklasifikasi KNN untuk dua kelas di python menggunakan scikit-learn. Sekarang kita akan belajar tentang KNN dengan banyak kelas.\n",
    "\n",
    "Dalam model, kita dapat menggunakan wine dataset, yang merupakan masalah multi-class classification problem yang sangat terkenal. Data ini merupakan hasil analisis kimiawi wines yang ditanam di wilayah yang sama di Italia menggunakan tiga kultivar berbeda. Analisis menentukan jumlah 13 unsur yang ditemukan di masing-masing dari tiga jenis anggur.\n",
    "\n",
    "Dataset terdiri dari 13 fitur ('alcohol', 'malic_acid', 'ash', 'alcalinity_of_ash', 'magnesium', 'total_phenols', 'flavanoids', 'nonflavanoid_phenols', 'proanthocyanins', 'color_intensity', 'hue', 'od280/od315_of_diluted_wines', 'proline') dan target (jenis kultivar).\n",
    "\n",
    "Data ini memiliki tiga jenis kelas kultivar: 'class_0', 'class_1', dan 'class_2'. Di sini, kita dapat membuat model untuk mengklasifikasikan jenis kultivar. Dataset tersedia di pustaka scikit-learn, atau kita juga dapat mengunduhnya dari UCI Machine Learning Library.\n",
    "\n",
    "Loading Data\n",
    "\n",
    "Let's first load the required wine dataset from scikit-learn datasets."
   ]
  },
  {
   "cell_type": "code",
   "execution_count": 95,
   "metadata": {
    "id": "TMmY6-TISZ2T"
   },
   "outputs": [],
   "source": [
    "#Import scikit-learn dataset library\n",
    "from sklearn import datasets\n",
    "\n",
    "#Load dataset\n",
    "wine = datasets.load_wine()"
   ]
  },
  {
   "cell_type": "markdown",
   "metadata": {
    "id": "_kw-ilD1SXy6"
   },
   "source": [
    "Exploring Data\n",
    "\n",
    "Setelah kita memuat set data, kita mungkin ingin tahu lebih banyak tentangnya. kita dapat memeriksa fitur dan nama target."
   ]
  },
  {
   "cell_type": "code",
   "execution_count": 96,
   "metadata": {
    "colab": {
     "base_uri": "https://localhost:8080/"
    },
    "id": "Vvlg6WRfSV4v",
    "outputId": "c4abac56-bd36-484c-8dd0-73b13c3a4b6f"
   },
   "outputs": [
    {
     "name": "stdout",
     "output_type": "stream",
     "text": [
      "['alcohol', 'malic_acid', 'ash', 'alcalinity_of_ash', 'magnesium', 'total_phenols', 'flavanoids', 'nonflavanoid_phenols', 'proanthocyanins', 'color_intensity', 'hue', 'od280/od315_of_diluted_wines', 'proline']\n"
     ]
    }
   ],
   "source": [
    "# print the names of the features\n",
    "print(wine.feature_names)"
   ]
  },
  {
   "cell_type": "code",
   "execution_count": 97,
   "metadata": {
    "colab": {
     "base_uri": "https://localhost:8080/"
    },
    "id": "ROaxGEgqST0-",
    "outputId": "e626c150-e589-4d13-9816-f07c9b6928a0"
   },
   "outputs": [
    {
     "name": "stdout",
     "output_type": "stream",
     "text": [
      "['class_0' 'class_1' 'class_2']\n"
     ]
    }
   ],
   "source": [
    "print(wine.target_names)\n"
   ]
  },
  {
   "cell_type": "markdown",
   "metadata": {
    "id": "DJ8Zt9T5SSVY"
   },
   "source": [
    "Mari kita periksa 5 record teratas dari set feature.\n",
    "\n"
   ]
  },
  {
   "cell_type": "code",
   "execution_count": 98,
   "metadata": {
    "colab": {
     "base_uri": "https://localhost:8080/"
    },
    "id": "p8LwoclHSQg3",
    "outputId": "8342795a-4b86-46ad-d916-801f515e22ad"
   },
   "outputs": [
    {
     "name": "stdout",
     "output_type": "stream",
     "text": [
      "[[1.423e+01 1.710e+00 2.430e+00 1.560e+01 1.270e+02 2.800e+00 3.060e+00\n",
      "  2.800e-01 2.290e+00 5.640e+00 1.040e+00 3.920e+00 1.065e+03]\n",
      " [1.320e+01 1.780e+00 2.140e+00 1.120e+01 1.000e+02 2.650e+00 2.760e+00\n",
      "  2.600e-01 1.280e+00 4.380e+00 1.050e+00 3.400e+00 1.050e+03]\n",
      " [1.316e+01 2.360e+00 2.670e+00 1.860e+01 1.010e+02 2.800e+00 3.240e+00\n",
      "  3.000e-01 2.810e+00 5.680e+00 1.030e+00 3.170e+00 1.185e+03]\n",
      " [1.437e+01 1.950e+00 2.500e+00 1.680e+01 1.130e+02 3.850e+00 3.490e+00\n",
      "  2.400e-01 2.180e+00 7.800e+00 8.600e-01 3.450e+00 1.480e+03]\n",
      " [1.324e+01 2.590e+00 2.870e+00 2.100e+01 1.180e+02 2.800e+00 2.690e+00\n",
      "  3.900e-01 1.820e+00 4.320e+00 1.040e+00 2.930e+00 7.350e+02]]\n"
     ]
    }
   ],
   "source": [
    "print(wine.data[0:5])\n"
   ]
  },
  {
   "cell_type": "markdown",
   "metadata": {
    "id": "zSXCTDdBSMW7"
   },
   "source": [
    "Mari kita periksa record set target.\n",
    "\n"
   ]
  },
  {
   "cell_type": "code",
   "execution_count": 99,
   "metadata": {
    "colab": {
     "base_uri": "https://localhost:8080/"
    },
    "id": "UCxXs4w9SKiX",
    "outputId": "17feebcc-35c7-4201-df01-54a8bfadfdb7"
   },
   "outputs": [
    {
     "name": "stdout",
     "output_type": "stream",
     "text": [
      "[0 0 0 0 0 0 0 0 0 0 0 0 0 0 0 0 0 0 0 0 0 0 0 0 0 0 0 0 0 0 0 0 0 0 0 0 0\n",
      " 0 0 0 0 0 0 0 0 0 0 0 0 0 0 0 0 0 0 0 0 0 0 1 1 1 1 1 1 1 1 1 1 1 1 1 1 1\n",
      " 1 1 1 1 1 1 1 1 1 1 1 1 1 1 1 1 1 1 1 1 1 1 1 1 1 1 1 1 1 1 1 1 1 1 1 1 1\n",
      " 1 1 1 1 1 1 1 1 1 1 1 1 1 1 1 1 1 1 1 2 2 2 2 2 2 2 2 2 2 2 2 2 2 2 2 2 2\n",
      " 2 2 2 2 2 2 2 2 2 2 2 2 2 2 2 2 2 2 2 2 2 2 2 2 2 2 2 2 2 2]\n"
     ]
    }
   ],
   "source": [
    "print(wine.target)\n"
   ]
  },
  {
   "cell_type": "markdown",
   "metadata": {
    "id": "rMwYHg4hSG0V"
   },
   "source": [
    "Mari kita jelajahi lebih banyak lagi. Kita juga dapat memeriksa bentuk kumpulan data menggunakan shape."
   ]
  },
  {
   "cell_type": "code",
   "execution_count": 100,
   "metadata": {
    "colab": {
     "base_uri": "https://localhost:8080/"
    },
    "id": "zs-6JdtfSE6y",
    "outputId": "05ba274f-0991-4bf4-a98d-3cd8ae048b8f"
   },
   "outputs": [
    {
     "name": "stdout",
     "output_type": "stream",
     "text": [
      "(178, 13)\n"
     ]
    }
   ],
   "source": [
    "# print data(feature)shape\n",
    "print(wine.data.shape)"
   ]
  },
  {
   "cell_type": "code",
   "execution_count": 101,
   "metadata": {
    "colab": {
     "base_uri": "https://localhost:8080/"
    },
    "id": "_2SqYt9OSCPG",
    "outputId": "67339b7a-83c5-4266-a436-82d79bb51536"
   },
   "outputs": [
    {
     "name": "stdout",
     "output_type": "stream",
     "text": [
      "(178,)\n"
     ]
    }
   ],
   "source": [
    "# print target(or label)shape\n",
    "print(wine.target.shape)"
   ]
  },
  {
   "cell_type": "markdown",
   "metadata": {
    "id": "hhKpws6FSC0s"
   },
   "source": [
    "Splitting Data\n",
    "\n",
    "Untuk memahami performa model, membagi set data menjadi training set dan a test adalah strategi yang baik.\n",
    "\n",
    "Mari kita pisahkan dataset dengan menggunakan function train_test_split(). Kita harus meneruskan 3 parameter yaitu features, target, dan test_set size. Selain itu, kita dapat menggunakan random_state untuk memilih record secara acak."
   ]
  },
  {
   "cell_type": "code",
   "execution_count": 102,
   "metadata": {
    "id": "V7aAoQZVSAWN"
   },
   "outputs": [],
   "source": [
    "\n",
    "# Import train_test_split function\n",
    "from sklearn.model_selection import train_test_split\n",
    "\n",
    "# Split dataset into training set and test set\n",
    "X_train, X_test, y_train, y_test = train_test_split(wine.data, wine.target, test_size=0.3) # 70% training and 30% test"
   ]
  },
  {
   "cell_type": "markdown",
   "metadata": {
    "id": "1EgXHuzSR-uT"
   },
   "source": [
    "Generating Model for K=5\n",
    "\n",
    "Mari kita buat model pengklasifikasi KNN untuk k = 5."
   ]
  },
  {
   "cell_type": "code",
   "execution_count": 103,
   "metadata": {
    "colab": {
     "base_uri": "https://localhost:8080/"
    },
    "id": "dFx0sgvHR8ER",
    "outputId": "e51b9e95-b113-497e-b700-b50cf6679c5b"
   },
   "outputs": [
    {
     "data": {
      "text/plain": [
       "array([1, 2, 1, 2, 0, 0, 1, 0, 1, 0, 0, 0, 1, 2, 2, 0, 2, 2, 1, 1, 1, 0,\n",
       "       1, 2, 0, 0, 0, 0, 2, 2, 0, 0, 1, 1, 0, 2, 1, 2, 0, 2, 2, 0, 2, 0,\n",
       "       0, 1, 0, 0, 2, 1, 1, 1, 1, 2])"
      ]
     },
     "execution_count": 103,
     "metadata": {},
     "output_type": "execute_result"
    }
   ],
   "source": [
    "#Import knearest neighbors Classifier model\n",
    "from sklearn.neighbors import KNeighborsClassifier\n",
    "\n",
    "#Create KNN Classifier\n",
    "knn = KNeighborsClassifier(n_neighbors=5)\n",
    "\n",
    "#Train the model using the training sets\n",
    "knn.fit(X_train, y_train)\n",
    "\n",
    "#Predict the response for test dataset\n",
    "y_pred = knn.predict(X_test)\n",
    "y_pred"
   ]
  },
  {
   "cell_type": "markdown",
   "metadata": {
    "id": "2Jd2p0FzR4vV"
   },
   "source": [
    "Model Evaluation for k=5\n",
    "\n",
    "Mari kita perkirakan, seberapa akurat pengklasifikasi atau model dapat memprediksi jenis kultivar.\n",
    "\n",
    "Akurasi dapat dihitung dengan membandingkan actual test set values dan predicted values."
   ]
  },
  {
   "cell_type": "code",
   "execution_count": 104,
   "metadata": {
    "colab": {
     "base_uri": "https://localhost:8080/"
    },
    "id": "MS8Z0ZVBR2Ns",
    "outputId": "419c7c22-a483-4300-bd70-9ccace0758d4"
   },
   "outputs": [
    {
     "name": "stdout",
     "output_type": "stream",
     "text": [
      "Accuracy: 0.6851851851851852\n"
     ]
    }
   ],
   "source": [
    "\n",
    "#Import scikit-learn metrics module for accuracy calculation\n",
    "from sklearn import metrics\n",
    "\n",
    "# Model Accuracy, how often is the classifier correct?\n",
    "print(\"Accuracy:\",metrics.accuracy_score(y_test, y_pred))"
   ]
  },
  {
   "cell_type": "markdown",
   "metadata": {
    "id": "x7BWo6W6R0o_"
   },
   "source": [
    "Kita mendapat tingkat klasifikasi 81%.\n",
    "\n",
    "Untuk evaluasi lebih lanjut, kita juga dapat membuat model untuk jumlah K tetangga yang berbeda.\n",
    "\n",
    "\n",
    "\n",
    "Re-generating Model for K=7\n",
    "\n",
    "> Indented block\n",
    "\n",
    "\n",
    "\n",
    "Mari kita buat model pengklasifikasi KNN untuk k = 7."
   ]
  },
  {
   "cell_type": "code",
   "execution_count": 105,
   "metadata": {
    "id": "nFBSmg_lRyd2"
   },
   "outputs": [],
   "source": [
    "#Import knearest neighbors Classifier model\n",
    "from sklearn.neighbors import KNeighborsClassifier\n",
    "\n",
    "#Create KNN Classifier\n",
    "knn = KNeighborsClassifier(n_neighbors=7)\n",
    "\n",
    "#Train the model using the training sets\n",
    "knn.fit(X_train, y_train)\n",
    "\n",
    "#Predict the response for test dataset\n",
    "y_pred = knn.predict(X_test)"
   ]
  },
  {
   "cell_type": "markdown",
   "metadata": {
    "id": "JyREq0unRvwn"
   },
   "source": [
    "Mari kita estimasi lagi, seberapa akurat pengklasifikasi atau model dapat memprediksi jenis kultivar untuk k = 7.\n",
    "\n"
   ]
  },
  {
   "cell_type": "code",
   "execution_count": 106,
   "metadata": {
    "colab": {
     "base_uri": "https://localhost:8080/"
    },
    "id": "2dmKmS9dRuq7",
    "outputId": "d4417841-57b6-4b9b-cf8e-083ee2f2233f"
   },
   "outputs": [
    {
     "name": "stdout",
     "output_type": "stream",
     "text": [
      "Accuracy: 0.6666666666666666\n"
     ]
    }
   ],
   "source": [
    "#Import scikit-learn metrics module for accuracy calculation\n",
    "from sklearn import metrics\n",
    "\n",
    "# Model Accuracy, how often is the classifier correct?\n",
    "print(\"Accuracy:\",metrics.accuracy_score(y_test, y_pred))"
   ]
  },
  {
   "cell_type": "markdown",
   "metadata": {
    "id": "w0ycAPEmRrfT"
   },
   "source": [
    "Nah, kita mendapat tingkat klasifikasi 83%.\n",
    "\n",
    "\n",
    "\n",
    "Di sini, kita telah meningkatkan jumlah tetangga dalam model dan akurasi menurun. Tapi, ini tidak perlu untuk setiap kasus dimana peningkatan banyak tetangga meningkatkan akurasi.\n",
    "\n",
    "Sekarang saatnya improve model dan mencari tahu nilai k yang optimal.\n",
    "\n"
   ]
  },
  {
   "cell_type": "code",
   "execution_count": 107,
   "metadata": {
    "id": "J-6W1cydRq8Q"
   },
   "outputs": [],
   "source": [
    "import numpy as np\n",
    "error = []\n",
    "\n",
    "# Calculating error for K values between 1 and 40\n",
    "for i in range(1, 40):  \n",
    "    knn = KNeighborsClassifier(n_neighbors=i)\n",
    "    knn.fit(X_train, y_train)\n",
    "    pred_i = knn.predict(X_test)\n",
    "    error.append(np.mean(pred_i != y_test))"
   ]
  },
  {
   "cell_type": "code",
   "execution_count": 108,
   "metadata": {
    "colab": {
     "base_uri": "https://localhost:8080/",
     "height": 552
    },
    "id": "4Xel68OqRoyE",
    "outputId": "10934395-4107-447d-edef-5d93e5ae4397"
   },
   "outputs": [
    {
     "data": {
      "text/plain": [
       "Text(0, 0.5, 'Error mean')"
      ]
     },
     "execution_count": 108,
     "metadata": {},
     "output_type": "execute_result"
    },
    {
     "data": {
      "image/png": "[encoded data removed]",
      "text/plain": [
       "<Figure size 864x432 with 1 Axes>"
      ]
     },
     "metadata": {},
     "output_type": "display_data"
    }
   ],
   "source": [
    "plt.figure(figsize=(12, 6))  \n",
    "plt.plot(range(1, 40), error, color='red', linestyle='dashed', marker='o',  \n",
    "         markerfacecolor='blue', markersize=10)\n",
    "plt.title('Error Rate K')  \n",
    "plt.xlabel('K')  \n",
    "plt.ylabel('Error mean')"
   ]
  },
  {
   "cell_type": "markdown",
   "metadata": {
    "id": "1YxoCqd8RlTk"
   },
   "source": [
    "Dari plot tersebut terlihat bahwa error terkecil yang kita dapatkan adalah 0,21 pada K = 25.\n",
    "\n"
   ]
  },
  {
   "cell_type": "code",
   "execution_count": 109,
   "metadata": {
    "colab": {
     "base_uri": "https://localhost:8080/"
    },
    "id": "d6of0-ptRjak",
    "outputId": "52c7533c-ae5a-467c-e44c-d54e4f49c511"
   },
   "outputs": [
    {
     "name": "stdout",
     "output_type": "stream",
     "text": [
      "Accuracy: 0.6666666666666666\n"
     ]
    }
   ],
   "source": [
    "#Import knearest neighbors Classifier model\n",
    "from sklearn.neighbors import KNeighborsClassifier\n",
    "\n",
    "#Create KNN Classifier\n",
    "knn = KNeighborsClassifier(n_neighbors=20)\n",
    "\n",
    "#Train the model using the training sets\n",
    "knn.fit(X_train, y_train)\n",
    "\n",
    "#Predict the response for test dataset\n",
    "y_pred = knn.predict(X_test)\n",
    "\n",
    "#Import scikit-learn metrics module for accuracy calculation\n",
    "from sklearn import metrics\n",
    "\n",
    "# Model Accuracy, how often is the classifier correct?\n",
    "print(\"Accuracy:\",metrics.accuracy_score(y_test, y_pred))"
   ]
  },
  {
   "cell_type": "markdown",
   "metadata": {
    "id": "RdWmArTGuEkg"
   },
   "source": [
    "## Latihan Penggunaan Data Bank "
   ]
  },
  {
   "cell_type": "markdown",
   "metadata": {
    "id": "0OSRu54OxJe7"
   },
   "source": [
    "### Keterangan data \n",
    "\n",
    "- 1. — age (numeric)\n",
    "- 2 — job : type of job (categorical: ‘admin.’,’blue-collar’,’entrepreneur’,’housemaid’,’management’,’retired’,’self-employed’,’services’,’student’,’technician’,’unemployed’,’unknown’)\n",
    "- 3 — marital : marital status (categorical: ‘divorced’, ‘married’, ‘single’, ‘unknown’; note: ‘divorced’ means divorced or widowed)\n",
    "- 4 — education (categorical: ‘basic.4y’,’basic.6y’,’basic.9y’,’high.school’,’illiterate’,’professional.course’,’university.degree’,’unknown’)\n",
    "- 5 — default: has credit in default? (categorical: ‘no’, ‘yes’, ‘unknown’)\n",
    "- 6 — housing: has housing loan? (categorical: ‘no’, ‘yes’ ,’unknown’)\n",
    "- 7 — loan: has personal loan? (categorical: ‘no’, ‘yes’, ‘unknown’)\n",
    "\n",
    "#### related with the last contact of the current campaign:\n",
    "- 8 — contact: contact communication type (categorical: ‘cellular’, ‘telephone’)\n",
    "- 9 — month: last contact month of year (categorical: ‘jan’, ‘feb’, ‘mar’, …, ‘nov’, ‘dec’)\n",
    "- 10 — day_of_week: last contact day of the week (categorical: ‘mon’,’tue’,’wed’,’thu’,’fri’)\n",
    "- 11 — duration: last contact duration, in seconds (numeric).\n",
    "Important note: this attribute highly affects the output target (e.g., if duration=0 then y=’no’). Yet, the duration is not known before a call is performed. Also, after the end of the call y is obviously known. Thus, this input should only be included for benchmark purposes and should be discarded if the intention is to have a realistic predictive model.\n",
    "\n",
    "#### other attributes:\n",
    "- 12 — campaign: number of contacts performed during this campaign and for this client (numeric, includes last contact)\n",
    "- 13 — pdays: number of days that passed by after the client was last contacted from a previous campaign (numeric; 999 means client was not previously contacted)\n",
    "- 14 — previous: number of contacts performed before this campaign and for this client (numeric)\n",
    "- 15 — poutcome: outcome of the previous marketing campaign (categorical: ‘failure’,’nonexistent’,’success’)\n",
    "\n",
    "#### social and economic context attributes\n",
    "- 16 — emp.var.rate: employment variation rate — quarterly indicator (numeric)\n",
    "- 17 — cons.price.idx: consumer price index — monthly indicator (numeric)\n",
    "- 18 — cons.conf.idx: consumer confidence index — monthly indicator (numeric)\n",
    "- 19 — euribor3m: euribor 3 month rate — daily indicator (numeric)\n",
    "- 20 — nr.employed: number of employees — quarterly indicator (numeric)\n",
    "\n",
    "#### Output variable (desired target):\n",
    "21 — y — has the client subscribed a term deposit? (binary: ‘yes’, ‘no’)  "
   ]
  },
  {
   "cell_type": "markdown",
   "metadata": {
    "id": "3lzbMMF8zDoI"
   },
   "source": [
    "https://raw.githubusercontent.com/iketutg/my_example_ds/main/data/bank.csv\n",
    "\n",
    "https://raw.githubusercontent.com/iketutg/my_example_ds/main/data/bank-additional.csv\n"
   ]
  },
  {
   "cell_type": "markdown",
   "metadata": {
    "id": "tVMrzKll1Xc0"
   },
   "source": [
    "### Load data \n",
    "\n",
    "- Shape \n",
    "- columns "
   ]
  },
  {
   "cell_type": "code",
   "execution_count": 110,
   "metadata": {
    "id": "5B4Sbd_fuJwE"
   },
   "outputs": [],
   "source": [
    "import pandas as pd \n",
    "import numpy as np \n",
    "\n",
    "pd.set_option(\"display.max.columns\", None)"
   ]
  },
  {
   "cell_type": "code",
   "execution_count": 111,
   "metadata": {
    "id": "E0bUGr-vzda6"
   },
   "outputs": [],
   "source": [
    "url_additional = \"https://raw.githubusercontent.com/iketutg/my_example_ds/main/data/bank-additional.csv\"\n",
    "url = \"https://raw.githubusercontent.com/iketutg/my_example_ds/main/data/bank-full.csv\""
   ]
  },
  {
   "cell_type": "code",
   "execution_count": 112,
   "metadata": {
    "colab": {
     "base_uri": "https://localhost:8080/",
     "height": 200
    },
    "id": "wreGhgk3zlRg",
    "outputId": "dd9f779a-7084-44f3-d440-89476e31555e"
   },
   "outputs": [
    {
     "data": {
      "text/html": [
       "<div>\n",
       "<style scoped>\n",
       "    .dataframe tbody tr th:only-of-type {\n",
       "        vertical-align: middle;\n",
       "    }\n",
       "\n",
       "    .dataframe tbody tr th {\n",
       "        vertical-align: top;\n",
       "    }\n",
       "\n",
       "    .dataframe thead th {\n",
       "        text-align: right;\n",
       "    }\n",
       "</style>\n",
       "<table border=\"1\" class=\"dataframe\">\n",
       "  <thead>\n",
       "    <tr style=\"text-align: right;\">\n",
       "      <th></th>\n",
       "      <th>age;\"job\";\"marital\";\"education\";\"default\";\"balance\";\"housing\";\"loan\";\"contact\";\"day\";\"month\";\"duration\";\"campaign\";\"pdays\";\"previous\";\"poutcome\";\"y\"</th>\n",
       "    </tr>\n",
       "  </thead>\n",
       "  <tbody>\n",
       "    <tr>\n",
       "      <th>0</th>\n",
       "      <td>58;\"management\";\"married\";\"tertiary\";\"no\";2143...</td>\n",
       "    </tr>\n",
       "    <tr>\n",
       "      <th>1</th>\n",
       "      <td>44;\"technician\";\"single\";\"secondary\";\"no\";29;\"...</td>\n",
       "    </tr>\n",
       "    <tr>\n",
       "      <th>2</th>\n",
       "      <td>33;\"entrepreneur\";\"married\";\"secondary\";\"no\";2...</td>\n",
       "    </tr>\n",
       "    <tr>\n",
       "      <th>3</th>\n",
       "      <td>47;\"blue-collar\";\"married\";\"unknown\";\"no\";1506...</td>\n",
       "    </tr>\n",
       "    <tr>\n",
       "      <th>4</th>\n",
       "      <td>33;\"unknown\";\"single\";\"unknown\";\"no\";1;\"no\";\"n...</td>\n",
       "    </tr>\n",
       "  </tbody>\n",
       "</table>\n",
       "</div>"
      ],
      "text/plain": [
       "  age;\"job\";\"marital\";\"education\";\"default\";\"balance\";\"housing\";\"loan\";\"contact\";\"day\";\"month\";\"duration\";\"campaign\";\"pdays\";\"previous\";\"poutcome\";\"y\"\n",
       "0  58;\"management\";\"married\";\"tertiary\";\"no\";2143...                                                                                                  \n",
       "1  44;\"technician\";\"single\";\"secondary\";\"no\";29;\"...                                                                                                  \n",
       "2  33;\"entrepreneur\";\"married\";\"secondary\";\"no\";2...                                                                                                  \n",
       "3  47;\"blue-collar\";\"married\";\"unknown\";\"no\";1506...                                                                                                  \n",
       "4  33;\"unknown\";\"single\";\"unknown\";\"no\";1;\"no\";\"n...                                                                                                  "
      ]
     },
     "execution_count": 112,
     "metadata": {},
     "output_type": "execute_result"
    }
   ],
   "source": [
    "df_bank = pd.read_csv(url)\n",
    "df_bank.head()"
   ]
  },
  {
   "cell_type": "code",
   "execution_count": 113,
   "metadata": {
    "colab": {
     "base_uri": "https://localhost:8080/",
     "height": 200
    },
    "id": "HgfFGQ1hztsH",
    "outputId": "4b3d20db-f084-4567-e53d-5f4b770daf3e"
   },
   "outputs": [
    {
     "data": {
      "text/html": [
       "<div>\n",
       "<style scoped>\n",
       "    .dataframe tbody tr th:only-of-type {\n",
       "        vertical-align: middle;\n",
       "    }\n",
       "\n",
       "    .dataframe tbody tr th {\n",
       "        vertical-align: top;\n",
       "    }\n",
       "\n",
       "    .dataframe thead th {\n",
       "        text-align: right;\n",
       "    }\n",
       "</style>\n",
       "<table border=\"1\" class=\"dataframe\">\n",
       "  <thead>\n",
       "    <tr style=\"text-align: right;\">\n",
       "      <th></th>\n",
       "      <th>age</th>\n",
       "      <th>job</th>\n",
       "      <th>marital</th>\n",
       "      <th>education</th>\n",
       "      <th>default</th>\n",
       "      <th>balance</th>\n",
       "      <th>housing</th>\n",
       "      <th>loan</th>\n",
       "      <th>contact</th>\n",
       "      <th>day</th>\n",
       "      <th>month</th>\n",
       "      <th>duration</th>\n",
       "      <th>campaign</th>\n",
       "      <th>pdays</th>\n",
       "      <th>previous</th>\n",
       "      <th>poutcome</th>\n",
       "      <th>y</th>\n",
       "    </tr>\n",
       "  </thead>\n",
       "  <tbody>\n",
       "    <tr>\n",
       "      <th>0</th>\n",
       "      <td>58</td>\n",
       "      <td>management</td>\n",
       "      <td>married</td>\n",
       "      <td>tertiary</td>\n",
       "      <td>no</td>\n",
       "      <td>2143</td>\n",
       "      <td>yes</td>\n",
       "      <td>no</td>\n",
       "      <td>unknown</td>\n",
       "      <td>5</td>\n",
       "      <td>may</td>\n",
       "      <td>261</td>\n",
       "      <td>1</td>\n",
       "      <td>-1</td>\n",
       "      <td>0</td>\n",
       "      <td>unknown</td>\n",
       "      <td>no</td>\n",
       "    </tr>\n",
       "    <tr>\n",
       "      <th>1</th>\n",
       "      <td>44</td>\n",
       "      <td>technician</td>\n",
       "      <td>single</td>\n",
       "      <td>secondary</td>\n",
       "      <td>no</td>\n",
       "      <td>29</td>\n",
       "      <td>yes</td>\n",
       "      <td>no</td>\n",
       "      <td>unknown</td>\n",
       "      <td>5</td>\n",
       "      <td>may</td>\n",
       "      <td>151</td>\n",
       "      <td>1</td>\n",
       "      <td>-1</td>\n",
       "      <td>0</td>\n",
       "      <td>unknown</td>\n",
       "      <td>no</td>\n",
       "    </tr>\n",
       "    <tr>\n",
       "      <th>2</th>\n",
       "      <td>33</td>\n",
       "      <td>entrepreneur</td>\n",
       "      <td>married</td>\n",
       "      <td>secondary</td>\n",
       "      <td>no</td>\n",
       "      <td>2</td>\n",
       "      <td>yes</td>\n",
       "      <td>yes</td>\n",
       "      <td>unknown</td>\n",
       "      <td>5</td>\n",
       "      <td>may</td>\n",
       "      <td>76</td>\n",
       "      <td>1</td>\n",
       "      <td>-1</td>\n",
       "      <td>0</td>\n",
       "      <td>unknown</td>\n",
       "      <td>no</td>\n",
       "    </tr>\n",
       "    <tr>\n",
       "      <th>3</th>\n",
       "      <td>47</td>\n",
       "      <td>blue-collar</td>\n",
       "      <td>married</td>\n",
       "      <td>unknown</td>\n",
       "      <td>no</td>\n",
       "      <td>1506</td>\n",
       "      <td>yes</td>\n",
       "      <td>no</td>\n",
       "      <td>unknown</td>\n",
       "      <td>5</td>\n",
       "      <td>may</td>\n",
       "      <td>92</td>\n",
       "      <td>1</td>\n",
       "      <td>-1</td>\n",
       "      <td>0</td>\n",
       "      <td>unknown</td>\n",
       "      <td>no</td>\n",
       "    </tr>\n",
       "    <tr>\n",
       "      <th>4</th>\n",
       "      <td>33</td>\n",
       "      <td>unknown</td>\n",
       "      <td>single</td>\n",
       "      <td>unknown</td>\n",
       "      <td>no</td>\n",
       "      <td>1</td>\n",
       "      <td>no</td>\n",
       "      <td>no</td>\n",
       "      <td>unknown</td>\n",
       "      <td>5</td>\n",
       "      <td>may</td>\n",
       "      <td>198</td>\n",
       "      <td>1</td>\n",
       "      <td>-1</td>\n",
       "      <td>0</td>\n",
       "      <td>unknown</td>\n",
       "      <td>no</td>\n",
       "    </tr>\n",
       "  </tbody>\n",
       "</table>\n",
       "</div>"
      ],
      "text/plain": [
       "   age           job  marital  education default  balance housing loan  \\\n",
       "0   58    management  married   tertiary      no     2143     yes   no   \n",
       "1   44    technician   single  secondary      no       29     yes   no   \n",
       "2   33  entrepreneur  married  secondary      no        2     yes  yes   \n",
       "3   47   blue-collar  married    unknown      no     1506     yes   no   \n",
       "4   33       unknown   single    unknown      no        1      no   no   \n",
       "\n",
       "   contact  day month  duration  campaign  pdays  previous poutcome   y  \n",
       "0  unknown    5   may       261         1     -1         0  unknown  no  \n",
       "1  unknown    5   may       151         1     -1         0  unknown  no  \n",
       "2  unknown    5   may        76         1     -1         0  unknown  no  \n",
       "3  unknown    5   may        92         1     -1         0  unknown  no  \n",
       "4  unknown    5   may       198         1     -1         0  unknown  no  "
      ]
     },
     "execution_count": 113,
     "metadata": {},
     "output_type": "execute_result"
    }
   ],
   "source": [
    "df_bank = pd.read_csv(url,sep=';',engine='python')\n",
    "df_bank.head()"
   ]
  },
  {
   "cell_type": "code",
   "execution_count": 114,
   "metadata": {
    "colab": {
     "base_uri": "https://localhost:8080/"
    },
    "id": "b8GX0wguz5wx",
    "outputId": "5f84ae9b-61f7-4309-8e2f-f469cc5e58e2"
   },
   "outputs": [
    {
     "data": {
      "text/plain": [
       "(45211, 17)"
      ]
     },
     "execution_count": 114,
     "metadata": {},
     "output_type": "execute_result"
    }
   ],
   "source": [
    "df_bank.shape"
   ]
  },
  {
   "cell_type": "code",
   "execution_count": 115,
   "metadata": {
    "colab": {
     "base_uri": "https://localhost:8080/"
    },
    "id": "nnuamBqt0nvE",
    "outputId": "680a23ba-9ca1-4a37-facd-6a0606507a78"
   },
   "outputs": [
    {
     "data": {
      "text/plain": [
       "Index(['age', 'job', 'marital', 'education', 'default', 'balance', 'housing',\n",
       "       'loan', 'contact', 'day', 'month', 'duration', 'campaign', 'pdays',\n",
       "       'previous', 'poutcome', 'y'],\n",
       "      dtype='object')"
      ]
     },
     "execution_count": 115,
     "metadata": {},
     "output_type": "execute_result"
    }
   ],
   "source": [
    "df_bank.columns"
   ]
  },
  {
   "cell_type": "markdown",
   "metadata": {
    "id": "kB7xLXKT1Glm"
   },
   "source": [
    "### Change column name y to deposit "
   ]
  },
  {
   "cell_type": "code",
   "execution_count": 116,
   "metadata": {
    "id": "4EIzBKO60u8C"
   },
   "outputs": [],
   "source": [
    "df_bank = df_bank.rename(columns={'y': 'deposit'}) "
   ]
  },
  {
   "cell_type": "code",
   "execution_count": 117,
   "metadata": {
    "colab": {
     "base_uri": "https://localhost:8080/"
    },
    "id": "Yc6FUNEn4rmE",
    "outputId": "ce2286b4-6699-4840-e0cf-e612f8a4163b"
   },
   "outputs": [
    {
     "data": {
      "text/plain": [
       "Index(['age', 'job', 'marital', 'education', 'default', 'balance', 'housing',\n",
       "       'loan', 'contact', 'day', 'month', 'duration', 'campaign', 'pdays',\n",
       "       'previous', 'poutcome', 'deposit'],\n",
       "      dtype='object')"
      ]
     },
     "execution_count": 117,
     "metadata": {},
     "output_type": "execute_result"
    }
   ],
   "source": [
    "df_bank.columns"
   ]
  },
  {
   "cell_type": "markdown",
   "metadata": {
    "id": "RE9kppv35S5Q"
   },
   "source": [
    "### Distribusi class \n",
    "yang ideal distribusi nya 50:50 "
   ]
  },
  {
   "cell_type": "code",
   "execution_count": 118,
   "metadata": {
    "colab": {
     "base_uri": "https://localhost:8080/"
    },
    "id": "x5FQIFr_4um4",
    "outputId": "2b821e0d-961f-40e1-c1cb-6ca9889be859"
   },
   "outputs": [
    {
     "data": {
      "text/plain": [
       "no     39922\n",
       "yes     5289\n",
       "Name: deposit, dtype: int64"
      ]
     },
     "execution_count": 118,
     "metadata": {},
     "output_type": "execute_result"
    }
   ],
   "source": [
    "df_bank['deposit'].value_counts()"
   ]
  },
  {
   "cell_type": "markdown",
   "metadata": {
    "id": "uiwQy9aF5aiI"
   },
   "source": [
    "### Missing Values"
   ]
  },
  {
   "cell_type": "code",
   "execution_count": 119,
   "metadata": {
    "colab": {
     "base_uri": "https://localhost:8080/"
    },
    "id": "-jI45U6_5D8h",
    "outputId": "a0339337-c641-4b5a-c3a6-c6d4c9f5a97b"
   },
   "outputs": [
    {
     "data": {
      "text/plain": [
       "age          0\n",
       "job          0\n",
       "marital      0\n",
       "education    0\n",
       "default      0\n",
       "balance      0\n",
       "housing      0\n",
       "loan         0\n",
       "contact      0\n",
       "day          0\n",
       "month        0\n",
       "duration     0\n",
       "campaign     0\n",
       "pdays        0\n",
       "previous     0\n",
       "poutcome     0\n",
       "deposit      0\n",
       "dtype: int64"
      ]
     },
     "execution_count": 119,
     "metadata": {},
     "output_type": "execute_result"
    }
   ],
   "source": [
    "df_bank.isnull().sum()"
   ]
  },
  {
   "cell_type": "markdown",
   "metadata": {
    "id": "7CRho1jf53tT"
   },
   "source": [
    "### Scaller \n",
    "\n",
    "menskalakan data numerik kami untuk menghindari kehadiran outlier yang dapat secara signifikan mempengaruhi model kami. Dengan menggunakan fungsi `StandardScaler()` dari sklearn, kita dapat menskalakan setiap kolom yang berisi data numerik. Penskalaan akan dilakukan dengan menggunakan rumus di bawah ini:\n",
    "\n",
    "<div align=\"center\">$Z = \\frac{X - U}{S}$</div>\n",
    "\n",
    "*Where:*\n",
    "\n",
    "*$Z:$ scaled value*\n",
    "\n",
    "*$X:$ original value*\n",
    "\n",
    "*$U:$ mean of the data*\n",
    "\n",
    "*$S:$ standard deviation of the data*"
   ]
  },
  {
   "cell_type": "code",
   "execution_count": 120,
   "metadata": {
    "colab": {
     "base_uri": "https://localhost:8080/",
     "height": 200
    },
    "id": "kgNVTnfE5HQz",
    "outputId": "74c58830-c84a-4613-cc62-a383ec53f9cf"
   },
   "outputs": [
    {
     "data": {
      "text/html": [
       "<div>\n",
       "<style scoped>\n",
       "    .dataframe tbody tr th:only-of-type {\n",
       "        vertical-align: middle;\n",
       "    }\n",
       "\n",
       "    .dataframe tbody tr th {\n",
       "        vertical-align: top;\n",
       "    }\n",
       "\n",
       "    .dataframe thead th {\n",
       "        text-align: right;\n",
       "    }\n",
       "</style>\n",
       "<table border=\"1\" class=\"dataframe\">\n",
       "  <thead>\n",
       "    <tr style=\"text-align: right;\">\n",
       "      <th></th>\n",
       "      <th>age</th>\n",
       "      <th>job</th>\n",
       "      <th>marital</th>\n",
       "      <th>education</th>\n",
       "      <th>default</th>\n",
       "      <th>balance</th>\n",
       "      <th>housing</th>\n",
       "      <th>loan</th>\n",
       "      <th>contact</th>\n",
       "      <th>day</th>\n",
       "      <th>month</th>\n",
       "      <th>duration</th>\n",
       "      <th>campaign</th>\n",
       "      <th>pdays</th>\n",
       "      <th>previous</th>\n",
       "      <th>poutcome</th>\n",
       "      <th>deposit</th>\n",
       "    </tr>\n",
       "  </thead>\n",
       "  <tbody>\n",
       "    <tr>\n",
       "      <th>0</th>\n",
       "      <td>1.606965</td>\n",
       "      <td>management</td>\n",
       "      <td>married</td>\n",
       "      <td>tertiary</td>\n",
       "      <td>no</td>\n",
       "      <td>0.256419</td>\n",
       "      <td>yes</td>\n",
       "      <td>no</td>\n",
       "      <td>unknown</td>\n",
       "      <td>-1.298476</td>\n",
       "      <td>may</td>\n",
       "      <td>261</td>\n",
       "      <td>-0.569351</td>\n",
       "      <td>-0.411453</td>\n",
       "      <td>-0.25194</td>\n",
       "      <td>unknown</td>\n",
       "      <td>no</td>\n",
       "    </tr>\n",
       "    <tr>\n",
       "      <th>1</th>\n",
       "      <td>0.288529</td>\n",
       "      <td>technician</td>\n",
       "      <td>single</td>\n",
       "      <td>secondary</td>\n",
       "      <td>no</td>\n",
       "      <td>-0.437895</td>\n",
       "      <td>yes</td>\n",
       "      <td>no</td>\n",
       "      <td>unknown</td>\n",
       "      <td>-1.298476</td>\n",
       "      <td>may</td>\n",
       "      <td>151</td>\n",
       "      <td>-0.569351</td>\n",
       "      <td>-0.411453</td>\n",
       "      <td>-0.25194</td>\n",
       "      <td>unknown</td>\n",
       "      <td>no</td>\n",
       "    </tr>\n",
       "    <tr>\n",
       "      <th>2</th>\n",
       "      <td>-0.747384</td>\n",
       "      <td>entrepreneur</td>\n",
       "      <td>married</td>\n",
       "      <td>secondary</td>\n",
       "      <td>no</td>\n",
       "      <td>-0.446762</td>\n",
       "      <td>yes</td>\n",
       "      <td>yes</td>\n",
       "      <td>unknown</td>\n",
       "      <td>-1.298476</td>\n",
       "      <td>may</td>\n",
       "      <td>76</td>\n",
       "      <td>-0.569351</td>\n",
       "      <td>-0.411453</td>\n",
       "      <td>-0.25194</td>\n",
       "      <td>unknown</td>\n",
       "      <td>no</td>\n",
       "    </tr>\n",
       "    <tr>\n",
       "      <th>3</th>\n",
       "      <td>0.571051</td>\n",
       "      <td>blue-collar</td>\n",
       "      <td>married</td>\n",
       "      <td>unknown</td>\n",
       "      <td>no</td>\n",
       "      <td>0.047205</td>\n",
       "      <td>yes</td>\n",
       "      <td>no</td>\n",
       "      <td>unknown</td>\n",
       "      <td>-1.298476</td>\n",
       "      <td>may</td>\n",
       "      <td>92</td>\n",
       "      <td>-0.569351</td>\n",
       "      <td>-0.411453</td>\n",
       "      <td>-0.25194</td>\n",
       "      <td>unknown</td>\n",
       "      <td>no</td>\n",
       "    </tr>\n",
       "    <tr>\n",
       "      <th>4</th>\n",
       "      <td>-0.747384</td>\n",
       "      <td>unknown</td>\n",
       "      <td>single</td>\n",
       "      <td>unknown</td>\n",
       "      <td>no</td>\n",
       "      <td>-0.447091</td>\n",
       "      <td>no</td>\n",
       "      <td>no</td>\n",
       "      <td>unknown</td>\n",
       "      <td>-1.298476</td>\n",
       "      <td>may</td>\n",
       "      <td>198</td>\n",
       "      <td>-0.569351</td>\n",
       "      <td>-0.411453</td>\n",
       "      <td>-0.25194</td>\n",
       "      <td>unknown</td>\n",
       "      <td>no</td>\n",
       "    </tr>\n",
       "  </tbody>\n",
       "</table>\n",
       "</div>"
      ],
      "text/plain": [
       "        age           job  marital  education default   balance housing loan  \\\n",
       "0  1.606965    management  married   tertiary      no  0.256419     yes   no   \n",
       "1  0.288529    technician   single  secondary      no -0.437895     yes   no   \n",
       "2 -0.747384  entrepreneur  married  secondary      no -0.446762     yes  yes   \n",
       "3  0.571051   blue-collar  married    unknown      no  0.047205     yes   no   \n",
       "4 -0.747384       unknown   single    unknown      no -0.447091      no   no   \n",
       "\n",
       "   contact       day month  duration  campaign     pdays  previous poutcome  \\\n",
       "0  unknown -1.298476   may       261 -0.569351 -0.411453  -0.25194  unknown   \n",
       "1  unknown -1.298476   may       151 -0.569351 -0.411453  -0.25194  unknown   \n",
       "2  unknown -1.298476   may        76 -0.569351 -0.411453  -0.25194  unknown   \n",
       "3  unknown -1.298476   may        92 -0.569351 -0.411453  -0.25194  unknown   \n",
       "4  unknown -1.298476   may       198 -0.569351 -0.411453  -0.25194  unknown   \n",
       "\n",
       "  deposit  \n",
       "0      no  \n",
       "1      no  \n",
       "2      no  \n",
       "3      no  \n",
       "4      no  "
      ]
     },
     "execution_count": 120,
     "metadata": {},
     "output_type": "execute_result"
    }
   ],
   "source": [
    "from sklearn.preprocessing import StandardScaler\n",
    "\n",
    "df_bank_new = df_bank.copy()\n",
    "\n",
    "scaler = StandardScaler()\n",
    "num_cols = ['age', 'balance', 'day', 'campaign', 'pdays', 'previous']\n",
    "df_bank_new[num_cols] = scaler.fit_transform(df_bank_new[num_cols])\n",
    "\n",
    "df_bank_new.head()"
   ]
  },
  {
   "cell_type": "markdown",
   "metadata": {
    "id": "T67fII-cA9u1"
   },
   "source": [
    "### Encoder \n",
    "\n",
    "melakukan pra-proses data kategoris , dari kata ke angka  menggunakan `OneHotEncoder()` pada  sklearn. Pada dasarnya itu akan mengubah kolom kategoris \n",
    "\n",
    "| marital | housing |\n",
    "|----------|---------|\n",
    "| single   | yes     |\n",
    "| divorced | no      |\n",
    "| married  | no      |\n",
    "\n",
    "\n",
    "| marital_single | marital_divorced | marital_married | housing_yes | housing_no |\n",
    "|----------------|------------------|-----------------|-------------|------------|\n",
    "| 1              | 0                | 0               | 1           | 0          |\n",
    "| 0              | 1                | 0               | 0           | 1          |\n",
    "| 0              | 0                | 1               | 0           | 1          |\n",
    "\n",
    "Dalam sel kode ini kita juga akan mengkodekan kolom label kita dengan mengganti 'ya' dan 'tidak' dengan masing-masing 1 dan 0. Kita dapat melakukan ini dengan menerapkan fungsi lambda/in-line sederhana pada kolom.\n"
   ]
  },
  {
   "cell_type": "code",
   "execution_count": 121,
   "metadata": {
    "id": "7OQG1_FrBdLQ"
   },
   "outputs": [],
   "source": [
    "from sklearn.preprocessing import OneHotEncoder\n",
    "\n",
    "encoder = OneHotEncoder(sparse=False)\n",
    "kol_cat = ['job', 'marital', 'education', 'default', 'housing', 'loan', 'contact', 'month', 'poutcome']\n"
   ]
  },
  {
   "cell_type": "code",
   "execution_count": 122,
   "metadata": {
    "colab": {
     "base_uri": "https://localhost:8080/"
    },
    "id": "P5HVjyzyCMuz",
    "outputId": "93b38b00-7017-4e63-f67e-670b60ceee2f"
   },
   "outputs": [
    {
     "name": "stdout",
     "output_type": "stream",
     "text": [
      "Index(['job_admin.', 'job_blue-collar', 'job_entrepreneur', 'job_housemaid',\n",
      "       'job_management', 'job_retired', 'job_self-employed', 'job_services',\n",
      "       'job_student', 'job_technician', 'job_unemployed', 'job_unknown',\n",
      "       'marital_divorced', 'marital_married', 'marital_single',\n",
      "       'education_primary', 'education_secondary', 'education_tertiary',\n",
      "       'education_unknown', 'default_no', 'default_yes', 'housing_no',\n",
      "       'housing_yes', 'loan_no', 'loan_yes', 'contact_cellular',\n",
      "       'contact_telephone', 'contact_unknown', 'month_apr', 'month_aug',\n",
      "       'month_dec', 'month_feb', 'month_jan', 'month_jul', 'month_jun',\n",
      "       'month_mar', 'month_may', 'month_nov', 'month_oct', 'month_sep',\n",
      "       'poutcome_failure', 'poutcome_other', 'poutcome_success',\n",
      "       'poutcome_unknown'],\n",
      "      dtype='object')\n"
     ]
    }
   ],
   "source": [
    "# process encode categorical data \n",
    "df_encode = pd.DataFrame(encoder.fit_transform(df_bank_new[kol_cat]))\n",
    "##print(df_encode)\n",
    "df_encode.columns = encoder.get_feature_names(kol_cat)\n",
    "print(df_encode.columns)"
   ]
  },
  {
   "cell_type": "code",
   "execution_count": 123,
   "metadata": {
    "colab": {
     "base_uri": "https://localhost:8080/"
    },
    "id": "ynBxC3LMC2u7",
    "outputId": "a1e8a215-9cc6-4229-da65-6486111288d0"
   },
   "outputs": [
    {
     "name": "stdout",
     "output_type": "stream",
     "text": [
      "            age   balance       day  duration  campaign     pdays  previous  \\\n",
      "0      1.606965  0.256419 -1.298476       261 -0.569351 -0.411453 -0.251940   \n",
      "1      0.288529 -0.437895 -1.298476       151 -0.569351 -0.411453 -0.251940   \n",
      "2     -0.747384 -0.446762 -1.298476        76 -0.569351 -0.411453 -0.251940   \n",
      "3      0.571051  0.047205 -1.298476        92 -0.569351 -0.411453 -0.251940   \n",
      "4     -0.747384 -0.447091 -1.298476       198 -0.569351 -0.411453 -0.251940   \n",
      "...         ...       ...       ...       ...       ...       ...       ...   \n",
      "45206  0.947747 -0.176460  0.143418       977  0.076230 -0.411453 -0.251940   \n",
      "45207  2.831227  0.120447  0.143418       456 -0.246560 -0.411453 -0.251940   \n",
      "45208  2.925401  1.429593  0.143418      1127  0.721811  1.436189  1.050473   \n",
      "45209  1.512791 -0.228024  0.143418       508  0.399020 -0.411453 -0.251940   \n",
      "45210 -0.370689  0.528364  0.143418       361 -0.246560  1.476138  4.523577   \n",
      "\n",
      "      deposit  \n",
      "0          no  \n",
      "1          no  \n",
      "2          no  \n",
      "3          no  \n",
      "4          no  \n",
      "...       ...  \n",
      "45206     yes  \n",
      "45207     yes  \n",
      "45208     yes  \n",
      "45209      no  \n",
      "45210      no  \n",
      "\n",
      "[45211 rows x 8 columns]\n"
     ]
    }
   ],
   "source": [
    "# drop \n",
    "df_bank_new = df_bank_new.drop(kol_cat ,axis=1)\n",
    "print(df_bank_new)"
   ]
  },
  {
   "cell_type": "code",
   "execution_count": 124,
   "metadata": {
    "colab": {
     "base_uri": "https://localhost:8080/",
     "height": 445
    },
    "id": "Pb0T42RCD9zj",
    "outputId": "531cdb7d-ac54-4af0-bf84-84348aa4de7b"
   },
   "outputs": [
    {
     "data": {
      "text/html": [
       "<div>\n",
       "<style scoped>\n",
       "    .dataframe tbody tr th:only-of-type {\n",
       "        vertical-align: middle;\n",
       "    }\n",
       "\n",
       "    .dataframe tbody tr th {\n",
       "        vertical-align: top;\n",
       "    }\n",
       "\n",
       "    .dataframe thead th {\n",
       "        text-align: right;\n",
       "    }\n",
       "</style>\n",
       "<table border=\"1\" class=\"dataframe\">\n",
       "  <thead>\n",
       "    <tr style=\"text-align: right;\">\n",
       "      <th></th>\n",
       "      <th>job_admin.</th>\n",
       "      <th>job_blue-collar</th>\n",
       "      <th>job_entrepreneur</th>\n",
       "      <th>job_housemaid</th>\n",
       "      <th>job_management</th>\n",
       "      <th>job_retired</th>\n",
       "      <th>job_self-employed</th>\n",
       "      <th>job_services</th>\n",
       "      <th>job_student</th>\n",
       "      <th>job_technician</th>\n",
       "      <th>job_unemployed</th>\n",
       "      <th>job_unknown</th>\n",
       "      <th>marital_divorced</th>\n",
       "      <th>marital_married</th>\n",
       "      <th>marital_single</th>\n",
       "      <th>education_primary</th>\n",
       "      <th>education_secondary</th>\n",
       "      <th>education_tertiary</th>\n",
       "      <th>education_unknown</th>\n",
       "      <th>default_no</th>\n",
       "      <th>default_yes</th>\n",
       "      <th>housing_no</th>\n",
       "      <th>housing_yes</th>\n",
       "      <th>loan_no</th>\n",
       "      <th>loan_yes</th>\n",
       "      <th>contact_cellular</th>\n",
       "      <th>contact_telephone</th>\n",
       "      <th>contact_unknown</th>\n",
       "      <th>month_apr</th>\n",
       "      <th>month_aug</th>\n",
       "      <th>month_dec</th>\n",
       "      <th>month_feb</th>\n",
       "      <th>month_jan</th>\n",
       "      <th>month_jul</th>\n",
       "      <th>month_jun</th>\n",
       "      <th>month_mar</th>\n",
       "      <th>month_may</th>\n",
       "      <th>month_nov</th>\n",
       "      <th>month_oct</th>\n",
       "      <th>month_sep</th>\n",
       "      <th>poutcome_failure</th>\n",
       "      <th>poutcome_other</th>\n",
       "      <th>poutcome_success</th>\n",
       "      <th>poutcome_unknown</th>\n",
       "      <th>age</th>\n",
       "      <th>balance</th>\n",
       "      <th>day</th>\n",
       "      <th>duration</th>\n",
       "      <th>campaign</th>\n",
       "      <th>pdays</th>\n",
       "      <th>previous</th>\n",
       "      <th>deposit</th>\n",
       "    </tr>\n",
       "  </thead>\n",
       "  <tbody>\n",
       "    <tr>\n",
       "      <th>0</th>\n",
       "      <td>0.0</td>\n",
       "      <td>0.0</td>\n",
       "      <td>0.0</td>\n",
       "      <td>0.0</td>\n",
       "      <td>1.0</td>\n",
       "      <td>0.0</td>\n",
       "      <td>0.0</td>\n",
       "      <td>0.0</td>\n",
       "      <td>0.0</td>\n",
       "      <td>0.0</td>\n",
       "      <td>0.0</td>\n",
       "      <td>0.0</td>\n",
       "      <td>0.0</td>\n",
       "      <td>1.0</td>\n",
       "      <td>0.0</td>\n",
       "      <td>0.0</td>\n",
       "      <td>0.0</td>\n",
       "      <td>1.0</td>\n",
       "      <td>0.0</td>\n",
       "      <td>1.0</td>\n",
       "      <td>0.0</td>\n",
       "      <td>0.0</td>\n",
       "      <td>1.0</td>\n",
       "      <td>1.0</td>\n",
       "      <td>0.0</td>\n",
       "      <td>0.0</td>\n",
       "      <td>0.0</td>\n",
       "      <td>1.0</td>\n",
       "      <td>0.0</td>\n",
       "      <td>0.0</td>\n",
       "      <td>0.0</td>\n",
       "      <td>0.0</td>\n",
       "      <td>0.0</td>\n",
       "      <td>0.0</td>\n",
       "      <td>0.0</td>\n",
       "      <td>0.0</td>\n",
       "      <td>1.0</td>\n",
       "      <td>0.0</td>\n",
       "      <td>0.0</td>\n",
       "      <td>0.0</td>\n",
       "      <td>0.0</td>\n",
       "      <td>0.0</td>\n",
       "      <td>0.0</td>\n",
       "      <td>1.0</td>\n",
       "      <td>1.606965</td>\n",
       "      <td>0.256419</td>\n",
       "      <td>-1.298476</td>\n",
       "      <td>261</td>\n",
       "      <td>-0.569351</td>\n",
       "      <td>-0.411453</td>\n",
       "      <td>-0.251940</td>\n",
       "      <td>no</td>\n",
       "    </tr>\n",
       "    <tr>\n",
       "      <th>1</th>\n",
       "      <td>0.0</td>\n",
       "      <td>0.0</td>\n",
       "      <td>0.0</td>\n",
       "      <td>0.0</td>\n",
       "      <td>0.0</td>\n",
       "      <td>0.0</td>\n",
       "      <td>0.0</td>\n",
       "      <td>0.0</td>\n",
       "      <td>0.0</td>\n",
       "      <td>1.0</td>\n",
       "      <td>0.0</td>\n",
       "      <td>0.0</td>\n",
       "      <td>0.0</td>\n",
       "      <td>0.0</td>\n",
       "      <td>1.0</td>\n",
       "      <td>0.0</td>\n",
       "      <td>1.0</td>\n",
       "      <td>0.0</td>\n",
       "      <td>0.0</td>\n",
       "      <td>1.0</td>\n",
       "      <td>0.0</td>\n",
       "      <td>0.0</td>\n",
       "      <td>1.0</td>\n",
       "      <td>1.0</td>\n",
       "      <td>0.0</td>\n",
       "      <td>0.0</td>\n",
       "      <td>0.0</td>\n",
       "      <td>1.0</td>\n",
       "      <td>0.0</td>\n",
       "      <td>0.0</td>\n",
       "      <td>0.0</td>\n",
       "      <td>0.0</td>\n",
       "      <td>0.0</td>\n",
       "      <td>0.0</td>\n",
       "      <td>0.0</td>\n",
       "      <td>0.0</td>\n",
       "      <td>1.0</td>\n",
       "      <td>0.0</td>\n",
       "      <td>0.0</td>\n",
       "      <td>0.0</td>\n",
       "      <td>0.0</td>\n",
       "      <td>0.0</td>\n",
       "      <td>0.0</td>\n",
       "      <td>1.0</td>\n",
       "      <td>0.288529</td>\n",
       "      <td>-0.437895</td>\n",
       "      <td>-1.298476</td>\n",
       "      <td>151</td>\n",
       "      <td>-0.569351</td>\n",
       "      <td>-0.411453</td>\n",
       "      <td>-0.251940</td>\n",
       "      <td>no</td>\n",
       "    </tr>\n",
       "    <tr>\n",
       "      <th>2</th>\n",
       "      <td>0.0</td>\n",
       "      <td>0.0</td>\n",
       "      <td>1.0</td>\n",
       "      <td>0.0</td>\n",
       "      <td>0.0</td>\n",
       "      <td>0.0</td>\n",
       "      <td>0.0</td>\n",
       "      <td>0.0</td>\n",
       "      <td>0.0</td>\n",
       "      <td>0.0</td>\n",
       "      <td>0.0</td>\n",
       "      <td>0.0</td>\n",
       "      <td>0.0</td>\n",
       "      <td>1.0</td>\n",
       "      <td>0.0</td>\n",
       "      <td>0.0</td>\n",
       "      <td>1.0</td>\n",
       "      <td>0.0</td>\n",
       "      <td>0.0</td>\n",
       "      <td>1.0</td>\n",
       "      <td>0.0</td>\n",
       "      <td>0.0</td>\n",
       "      <td>1.0</td>\n",
       "      <td>0.0</td>\n",
       "      <td>1.0</td>\n",
       "      <td>0.0</td>\n",
       "      <td>0.0</td>\n",
       "      <td>1.0</td>\n",
       "      <td>0.0</td>\n",
       "      <td>0.0</td>\n",
       "      <td>0.0</td>\n",
       "      <td>0.0</td>\n",
       "      <td>0.0</td>\n",
       "      <td>0.0</td>\n",
       "      <td>0.0</td>\n",
       "      <td>0.0</td>\n",
       "      <td>1.0</td>\n",
       "      <td>0.0</td>\n",
       "      <td>0.0</td>\n",
       "      <td>0.0</td>\n",
       "      <td>0.0</td>\n",
       "      <td>0.0</td>\n",
       "      <td>0.0</td>\n",
       "      <td>1.0</td>\n",
       "      <td>-0.747384</td>\n",
       "      <td>-0.446762</td>\n",
       "      <td>-1.298476</td>\n",
       "      <td>76</td>\n",
       "      <td>-0.569351</td>\n",
       "      <td>-0.411453</td>\n",
       "      <td>-0.251940</td>\n",
       "      <td>no</td>\n",
       "    </tr>\n",
       "    <tr>\n",
       "      <th>3</th>\n",
       "      <td>0.0</td>\n",
       "      <td>1.0</td>\n",
       "      <td>0.0</td>\n",
       "      <td>0.0</td>\n",
       "      <td>0.0</td>\n",
       "      <td>0.0</td>\n",
       "      <td>0.0</td>\n",
       "      <td>0.0</td>\n",
       "      <td>0.0</td>\n",
       "      <td>0.0</td>\n",
       "      <td>0.0</td>\n",
       "      <td>0.0</td>\n",
       "      <td>0.0</td>\n",
       "      <td>1.0</td>\n",
       "      <td>0.0</td>\n",
       "      <td>0.0</td>\n",
       "      <td>0.0</td>\n",
       "      <td>0.0</td>\n",
       "      <td>1.0</td>\n",
       "      <td>1.0</td>\n",
       "      <td>0.0</td>\n",
       "      <td>0.0</td>\n",
       "      <td>1.0</td>\n",
       "      <td>1.0</td>\n",
       "      <td>0.0</td>\n",
       "      <td>0.0</td>\n",
       "      <td>0.0</td>\n",
       "      <td>1.0</td>\n",
       "      <td>0.0</td>\n",
       "      <td>0.0</td>\n",
       "      <td>0.0</td>\n",
       "      <td>0.0</td>\n",
       "      <td>0.0</td>\n",
       "      <td>0.0</td>\n",
       "      <td>0.0</td>\n",
       "      <td>0.0</td>\n",
       "      <td>1.0</td>\n",
       "      <td>0.0</td>\n",
       "      <td>0.0</td>\n",
       "      <td>0.0</td>\n",
       "      <td>0.0</td>\n",
       "      <td>0.0</td>\n",
       "      <td>0.0</td>\n",
       "      <td>1.0</td>\n",
       "      <td>0.571051</td>\n",
       "      <td>0.047205</td>\n",
       "      <td>-1.298476</td>\n",
       "      <td>92</td>\n",
       "      <td>-0.569351</td>\n",
       "      <td>-0.411453</td>\n",
       "      <td>-0.251940</td>\n",
       "      <td>no</td>\n",
       "    </tr>\n",
       "    <tr>\n",
       "      <th>4</th>\n",
       "      <td>0.0</td>\n",
       "      <td>0.0</td>\n",
       "      <td>0.0</td>\n",
       "      <td>0.0</td>\n",
       "      <td>0.0</td>\n",
       "      <td>0.0</td>\n",
       "      <td>0.0</td>\n",
       "      <td>0.0</td>\n",
       "      <td>0.0</td>\n",
       "      <td>0.0</td>\n",
       "      <td>0.0</td>\n",
       "      <td>1.0</td>\n",
       "      <td>0.0</td>\n",
       "      <td>0.0</td>\n",
       "      <td>1.0</td>\n",
       "      <td>0.0</td>\n",
       "      <td>0.0</td>\n",
       "      <td>0.0</td>\n",
       "      <td>1.0</td>\n",
       "      <td>1.0</td>\n",
       "      <td>0.0</td>\n",
       "      <td>1.0</td>\n",
       "      <td>0.0</td>\n",
       "      <td>1.0</td>\n",
       "      <td>0.0</td>\n",
       "      <td>0.0</td>\n",
       "      <td>0.0</td>\n",
       "      <td>1.0</td>\n",
       "      <td>0.0</td>\n",
       "      <td>0.0</td>\n",
       "      <td>0.0</td>\n",
       "      <td>0.0</td>\n",
       "      <td>0.0</td>\n",
       "      <td>0.0</td>\n",
       "      <td>0.0</td>\n",
       "      <td>0.0</td>\n",
       "      <td>1.0</td>\n",
       "      <td>0.0</td>\n",
       "      <td>0.0</td>\n",
       "      <td>0.0</td>\n",
       "      <td>0.0</td>\n",
       "      <td>0.0</td>\n",
       "      <td>0.0</td>\n",
       "      <td>1.0</td>\n",
       "      <td>-0.747384</td>\n",
       "      <td>-0.447091</td>\n",
       "      <td>-1.298476</td>\n",
       "      <td>198</td>\n",
       "      <td>-0.569351</td>\n",
       "      <td>-0.411453</td>\n",
       "      <td>-0.251940</td>\n",
       "      <td>no</td>\n",
       "    </tr>\n",
       "    <tr>\n",
       "      <th>...</th>\n",
       "      <td>...</td>\n",
       "      <td>...</td>\n",
       "      <td>...</td>\n",
       "      <td>...</td>\n",
       "      <td>...</td>\n",
       "      <td>...</td>\n",
       "      <td>...</td>\n",
       "      <td>...</td>\n",
       "      <td>...</td>\n",
       "      <td>...</td>\n",
       "      <td>...</td>\n",
       "      <td>...</td>\n",
       "      <td>...</td>\n",
       "      <td>...</td>\n",
       "      <td>...</td>\n",
       "      <td>...</td>\n",
       "      <td>...</td>\n",
       "      <td>...</td>\n",
       "      <td>...</td>\n",
       "      <td>...</td>\n",
       "      <td>...</td>\n",
       "      <td>...</td>\n",
       "      <td>...</td>\n",
       "      <td>...</td>\n",
       "      <td>...</td>\n",
       "      <td>...</td>\n",
       "      <td>...</td>\n",
       "      <td>...</td>\n",
       "      <td>...</td>\n",
       "      <td>...</td>\n",
       "      <td>...</td>\n",
       "      <td>...</td>\n",
       "      <td>...</td>\n",
       "      <td>...</td>\n",
       "      <td>...</td>\n",
       "      <td>...</td>\n",
       "      <td>...</td>\n",
       "      <td>...</td>\n",
       "      <td>...</td>\n",
       "      <td>...</td>\n",
       "      <td>...</td>\n",
       "      <td>...</td>\n",
       "      <td>...</td>\n",
       "      <td>...</td>\n",
       "      <td>...</td>\n",
       "      <td>...</td>\n",
       "      <td>...</td>\n",
       "      <td>...</td>\n",
       "      <td>...</td>\n",
       "      <td>...</td>\n",
       "      <td>...</td>\n",
       "      <td>...</td>\n",
       "    </tr>\n",
       "    <tr>\n",
       "      <th>45206</th>\n",
       "      <td>0.0</td>\n",
       "      <td>0.0</td>\n",
       "      <td>0.0</td>\n",
       "      <td>0.0</td>\n",
       "      <td>0.0</td>\n",
       "      <td>0.0</td>\n",
       "      <td>0.0</td>\n",
       "      <td>0.0</td>\n",
       "      <td>0.0</td>\n",
       "      <td>1.0</td>\n",
       "      <td>0.0</td>\n",
       "      <td>0.0</td>\n",
       "      <td>0.0</td>\n",
       "      <td>1.0</td>\n",
       "      <td>0.0</td>\n",
       "      <td>0.0</td>\n",
       "      <td>0.0</td>\n",
       "      <td>1.0</td>\n",
       "      <td>0.0</td>\n",
       "      <td>1.0</td>\n",
       "      <td>0.0</td>\n",
       "      <td>1.0</td>\n",
       "      <td>0.0</td>\n",
       "      <td>1.0</td>\n",
       "      <td>0.0</td>\n",
       "      <td>1.0</td>\n",
       "      <td>0.0</td>\n",
       "      <td>0.0</td>\n",
       "      <td>0.0</td>\n",
       "      <td>0.0</td>\n",
       "      <td>0.0</td>\n",
       "      <td>0.0</td>\n",
       "      <td>0.0</td>\n",
       "      <td>0.0</td>\n",
       "      <td>0.0</td>\n",
       "      <td>0.0</td>\n",
       "      <td>0.0</td>\n",
       "      <td>1.0</td>\n",
       "      <td>0.0</td>\n",
       "      <td>0.0</td>\n",
       "      <td>0.0</td>\n",
       "      <td>0.0</td>\n",
       "      <td>0.0</td>\n",
       "      <td>1.0</td>\n",
       "      <td>0.947747</td>\n",
       "      <td>-0.176460</td>\n",
       "      <td>0.143418</td>\n",
       "      <td>977</td>\n",
       "      <td>0.076230</td>\n",
       "      <td>-0.411453</td>\n",
       "      <td>-0.251940</td>\n",
       "      <td>yes</td>\n",
       "    </tr>\n",
       "    <tr>\n",
       "      <th>45207</th>\n",
       "      <td>0.0</td>\n",
       "      <td>0.0</td>\n",
       "      <td>0.0</td>\n",
       "      <td>0.0</td>\n",
       "      <td>0.0</td>\n",
       "      <td>1.0</td>\n",
       "      <td>0.0</td>\n",
       "      <td>0.0</td>\n",
       "      <td>0.0</td>\n",
       "      <td>0.0</td>\n",
       "      <td>0.0</td>\n",
       "      <td>0.0</td>\n",
       "      <td>1.0</td>\n",
       "      <td>0.0</td>\n",
       "      <td>0.0</td>\n",
       "      <td>1.0</td>\n",
       "      <td>0.0</td>\n",
       "      <td>0.0</td>\n",
       "      <td>0.0</td>\n",
       "      <td>1.0</td>\n",
       "      <td>0.0</td>\n",
       "      <td>1.0</td>\n",
       "      <td>0.0</td>\n",
       "      <td>1.0</td>\n",
       "      <td>0.0</td>\n",
       "      <td>1.0</td>\n",
       "      <td>0.0</td>\n",
       "      <td>0.0</td>\n",
       "      <td>0.0</td>\n",
       "      <td>0.0</td>\n",
       "      <td>0.0</td>\n",
       "      <td>0.0</td>\n",
       "      <td>0.0</td>\n",
       "      <td>0.0</td>\n",
       "      <td>0.0</td>\n",
       "      <td>0.0</td>\n",
       "      <td>0.0</td>\n",
       "      <td>1.0</td>\n",
       "      <td>0.0</td>\n",
       "      <td>0.0</td>\n",
       "      <td>0.0</td>\n",
       "      <td>0.0</td>\n",
       "      <td>0.0</td>\n",
       "      <td>1.0</td>\n",
       "      <td>2.831227</td>\n",
       "      <td>0.120447</td>\n",
       "      <td>0.143418</td>\n",
       "      <td>456</td>\n",
       "      <td>-0.246560</td>\n",
       "      <td>-0.411453</td>\n",
       "      <td>-0.251940</td>\n",
       "      <td>yes</td>\n",
       "    </tr>\n",
       "    <tr>\n",
       "      <th>45208</th>\n",
       "      <td>0.0</td>\n",
       "      <td>0.0</td>\n",
       "      <td>0.0</td>\n",
       "      <td>0.0</td>\n",
       "      <td>0.0</td>\n",
       "      <td>1.0</td>\n",
       "      <td>0.0</td>\n",
       "      <td>0.0</td>\n",
       "      <td>0.0</td>\n",
       "      <td>0.0</td>\n",
       "      <td>0.0</td>\n",
       "      <td>0.0</td>\n",
       "      <td>0.0</td>\n",
       "      <td>1.0</td>\n",
       "      <td>0.0</td>\n",
       "      <td>0.0</td>\n",
       "      <td>1.0</td>\n",
       "      <td>0.0</td>\n",
       "      <td>0.0</td>\n",
       "      <td>1.0</td>\n",
       "      <td>0.0</td>\n",
       "      <td>1.0</td>\n",
       "      <td>0.0</td>\n",
       "      <td>1.0</td>\n",
       "      <td>0.0</td>\n",
       "      <td>1.0</td>\n",
       "      <td>0.0</td>\n",
       "      <td>0.0</td>\n",
       "      <td>0.0</td>\n",
       "      <td>0.0</td>\n",
       "      <td>0.0</td>\n",
       "      <td>0.0</td>\n",
       "      <td>0.0</td>\n",
       "      <td>0.0</td>\n",
       "      <td>0.0</td>\n",
       "      <td>0.0</td>\n",
       "      <td>0.0</td>\n",
       "      <td>1.0</td>\n",
       "      <td>0.0</td>\n",
       "      <td>0.0</td>\n",
       "      <td>0.0</td>\n",
       "      <td>0.0</td>\n",
       "      <td>1.0</td>\n",
       "      <td>0.0</td>\n",
       "      <td>2.925401</td>\n",
       "      <td>1.429593</td>\n",
       "      <td>0.143418</td>\n",
       "      <td>1127</td>\n",
       "      <td>0.721811</td>\n",
       "      <td>1.436189</td>\n",
       "      <td>1.050473</td>\n",
       "      <td>yes</td>\n",
       "    </tr>\n",
       "    <tr>\n",
       "      <th>45209</th>\n",
       "      <td>0.0</td>\n",
       "      <td>1.0</td>\n",
       "      <td>0.0</td>\n",
       "      <td>0.0</td>\n",
       "      <td>0.0</td>\n",
       "      <td>0.0</td>\n",
       "      <td>0.0</td>\n",
       "      <td>0.0</td>\n",
       "      <td>0.0</td>\n",
       "      <td>0.0</td>\n",
       "      <td>0.0</td>\n",
       "      <td>0.0</td>\n",
       "      <td>0.0</td>\n",
       "      <td>1.0</td>\n",
       "      <td>0.0</td>\n",
       "      <td>0.0</td>\n",
       "      <td>1.0</td>\n",
       "      <td>0.0</td>\n",
       "      <td>0.0</td>\n",
       "      <td>1.0</td>\n",
       "      <td>0.0</td>\n",
       "      <td>1.0</td>\n",
       "      <td>0.0</td>\n",
       "      <td>1.0</td>\n",
       "      <td>0.0</td>\n",
       "      <td>0.0</td>\n",
       "      <td>1.0</td>\n",
       "      <td>0.0</td>\n",
       "      <td>0.0</td>\n",
       "      <td>0.0</td>\n",
       "      <td>0.0</td>\n",
       "      <td>0.0</td>\n",
       "      <td>0.0</td>\n",
       "      <td>0.0</td>\n",
       "      <td>0.0</td>\n",
       "      <td>0.0</td>\n",
       "      <td>0.0</td>\n",
       "      <td>1.0</td>\n",
       "      <td>0.0</td>\n",
       "      <td>0.0</td>\n",
       "      <td>0.0</td>\n",
       "      <td>0.0</td>\n",
       "      <td>0.0</td>\n",
       "      <td>1.0</td>\n",
       "      <td>1.512791</td>\n",
       "      <td>-0.228024</td>\n",
       "      <td>0.143418</td>\n",
       "      <td>508</td>\n",
       "      <td>0.399020</td>\n",
       "      <td>-0.411453</td>\n",
       "      <td>-0.251940</td>\n",
       "      <td>no</td>\n",
       "    </tr>\n",
       "    <tr>\n",
       "      <th>45210</th>\n",
       "      <td>0.0</td>\n",
       "      <td>0.0</td>\n",
       "      <td>1.0</td>\n",
       "      <td>0.0</td>\n",
       "      <td>0.0</td>\n",
       "      <td>0.0</td>\n",
       "      <td>0.0</td>\n",
       "      <td>0.0</td>\n",
       "      <td>0.0</td>\n",
       "      <td>0.0</td>\n",
       "      <td>0.0</td>\n",
       "      <td>0.0</td>\n",
       "      <td>0.0</td>\n",
       "      <td>1.0</td>\n",
       "      <td>0.0</td>\n",
       "      <td>0.0</td>\n",
       "      <td>1.0</td>\n",
       "      <td>0.0</td>\n",
       "      <td>0.0</td>\n",
       "      <td>1.0</td>\n",
       "      <td>0.0</td>\n",
       "      <td>1.0</td>\n",
       "      <td>0.0</td>\n",
       "      <td>1.0</td>\n",
       "      <td>0.0</td>\n",
       "      <td>1.0</td>\n",
       "      <td>0.0</td>\n",
       "      <td>0.0</td>\n",
       "      <td>0.0</td>\n",
       "      <td>0.0</td>\n",
       "      <td>0.0</td>\n",
       "      <td>0.0</td>\n",
       "      <td>0.0</td>\n",
       "      <td>0.0</td>\n",
       "      <td>0.0</td>\n",
       "      <td>0.0</td>\n",
       "      <td>0.0</td>\n",
       "      <td>1.0</td>\n",
       "      <td>0.0</td>\n",
       "      <td>0.0</td>\n",
       "      <td>0.0</td>\n",
       "      <td>1.0</td>\n",
       "      <td>0.0</td>\n",
       "      <td>0.0</td>\n",
       "      <td>-0.370689</td>\n",
       "      <td>0.528364</td>\n",
       "      <td>0.143418</td>\n",
       "      <td>361</td>\n",
       "      <td>-0.246560</td>\n",
       "      <td>1.476138</td>\n",
       "      <td>4.523577</td>\n",
       "      <td>no</td>\n",
       "    </tr>\n",
       "  </tbody>\n",
       "</table>\n",
       "<p>45211 rows × 52 columns</p>\n",
       "</div>"
      ],
      "text/plain": [
       "       job_admin.  job_blue-collar  job_entrepreneur  job_housemaid  \\\n",
       "0             0.0              0.0               0.0            0.0   \n",
       "1             0.0              0.0               0.0            0.0   \n",
       "2             0.0              0.0               1.0            0.0   \n",
       "3             0.0              1.0               0.0            0.0   \n",
       "4             0.0              0.0               0.0            0.0   \n",
       "...           ...              ...               ...            ...   \n",
       "45206         0.0              0.0               0.0            0.0   \n",
       "45207         0.0              0.0               0.0            0.0   \n",
       "45208         0.0              0.0               0.0            0.0   \n",
       "45209         0.0              1.0               0.0            0.0   \n",
       "45210         0.0              0.0               1.0            0.0   \n",
       "\n",
       "       job_management  job_retired  job_self-employed  job_services  \\\n",
       "0                 1.0          0.0                0.0           0.0   \n",
       "1                 0.0          0.0                0.0           0.0   \n",
       "2                 0.0          0.0                0.0           0.0   \n",
       "3                 0.0          0.0                0.0           0.0   \n",
       "4                 0.0          0.0                0.0           0.0   \n",
       "...               ...          ...                ...           ...   \n",
       "45206             0.0          0.0                0.0           0.0   \n",
       "45207             0.0          1.0                0.0           0.0   \n",
       "45208             0.0          1.0                0.0           0.0   \n",
       "45209             0.0          0.0                0.0           0.0   \n",
       "45210             0.0          0.0                0.0           0.0   \n",
       "\n",
       "       job_student  job_technician  job_unemployed  job_unknown  \\\n",
       "0              0.0             0.0             0.0          0.0   \n",
       "1              0.0             1.0             0.0          0.0   \n",
       "2              0.0             0.0             0.0          0.0   \n",
       "3              0.0             0.0             0.0          0.0   \n",
       "4              0.0             0.0             0.0          1.0   \n",
       "...            ...             ...             ...          ...   \n",
       "45206          0.0             1.0             0.0          0.0   \n",
       "45207          0.0             0.0             0.0          0.0   \n",
       "45208          0.0             0.0             0.0          0.0   \n",
       "45209          0.0             0.0             0.0          0.0   \n",
       "45210          0.0             0.0             0.0          0.0   \n",
       "\n",
       "       marital_divorced  marital_married  marital_single  education_primary  \\\n",
       "0                   0.0              1.0             0.0                0.0   \n",
       "1                   0.0              0.0             1.0                0.0   \n",
       "2                   0.0              1.0             0.0                0.0   \n",
       "3                   0.0              1.0             0.0                0.0   \n",
       "4                   0.0              0.0             1.0                0.0   \n",
       "...                 ...              ...             ...                ...   \n",
       "45206               0.0              1.0             0.0                0.0   \n",
       "45207               1.0              0.0             0.0                1.0   \n",
       "45208               0.0              1.0             0.0                0.0   \n",
       "45209               0.0              1.0             0.0                0.0   \n",
       "45210               0.0              1.0             0.0                0.0   \n",
       "\n",
       "       education_secondary  education_tertiary  education_unknown  default_no  \\\n",
       "0                      0.0                 1.0                0.0         1.0   \n",
       "1                      1.0                 0.0                0.0         1.0   \n",
       "2                      1.0                 0.0                0.0         1.0   \n",
       "3                      0.0                 0.0                1.0         1.0   \n",
       "4                      0.0                 0.0                1.0         1.0   \n",
       "...                    ...                 ...                ...         ...   \n",
       "45206                  0.0                 1.0                0.0         1.0   \n",
       "45207                  0.0                 0.0                0.0         1.0   \n",
       "45208                  1.0                 0.0                0.0         1.0   \n",
       "45209                  1.0                 0.0                0.0         1.0   \n",
       "45210                  1.0                 0.0                0.0         1.0   \n",
       "\n",
       "       default_yes  housing_no  housing_yes  loan_no  loan_yes  \\\n",
       "0              0.0         0.0          1.0      1.0       0.0   \n",
       "1              0.0         0.0          1.0      1.0       0.0   \n",
       "2              0.0         0.0          1.0      0.0       1.0   \n",
       "3              0.0         0.0          1.0      1.0       0.0   \n",
       "4              0.0         1.0          0.0      1.0       0.0   \n",
       "...            ...         ...          ...      ...       ...   \n",
       "45206          0.0         1.0          0.0      1.0       0.0   \n",
       "45207          0.0         1.0          0.0      1.0       0.0   \n",
       "45208          0.0         1.0          0.0      1.0       0.0   \n",
       "45209          0.0         1.0          0.0      1.0       0.0   \n",
       "45210          0.0         1.0          0.0      1.0       0.0   \n",
       "\n",
       "       contact_cellular  contact_telephone  contact_unknown  month_apr  \\\n",
       "0                   0.0                0.0              1.0        0.0   \n",
       "1                   0.0                0.0              1.0        0.0   \n",
       "2                   0.0                0.0              1.0        0.0   \n",
       "3                   0.0                0.0              1.0        0.0   \n",
       "4                   0.0                0.0              1.0        0.0   \n",
       "...                 ...                ...              ...        ...   \n",
       "45206               1.0                0.0              0.0        0.0   \n",
       "45207               1.0                0.0              0.0        0.0   \n",
       "45208               1.0                0.0              0.0        0.0   \n",
       "45209               0.0                1.0              0.0        0.0   \n",
       "45210               1.0                0.0              0.0        0.0   \n",
       "\n",
       "       month_aug  month_dec  month_feb  month_jan  month_jul  month_jun  \\\n",
       "0            0.0        0.0        0.0        0.0        0.0        0.0   \n",
       "1            0.0        0.0        0.0        0.0        0.0        0.0   \n",
       "2            0.0        0.0        0.0        0.0        0.0        0.0   \n",
       "3            0.0        0.0        0.0        0.0        0.0        0.0   \n",
       "4            0.0        0.0        0.0        0.0        0.0        0.0   \n",
       "...          ...        ...        ...        ...        ...        ...   \n",
       "45206        0.0        0.0        0.0        0.0        0.0        0.0   \n",
       "45207        0.0        0.0        0.0        0.0        0.0        0.0   \n",
       "45208        0.0        0.0        0.0        0.0        0.0        0.0   \n",
       "45209        0.0        0.0        0.0        0.0        0.0        0.0   \n",
       "45210        0.0        0.0        0.0        0.0        0.0        0.0   \n",
       "\n",
       "       month_mar  month_may  month_nov  month_oct  month_sep  \\\n",
       "0            0.0        1.0        0.0        0.0        0.0   \n",
       "1            0.0        1.0        0.0        0.0        0.0   \n",
       "2            0.0        1.0        0.0        0.0        0.0   \n",
       "3            0.0        1.0        0.0        0.0        0.0   \n",
       "4            0.0        1.0        0.0        0.0        0.0   \n",
       "...          ...        ...        ...        ...        ...   \n",
       "45206        0.0        0.0        1.0        0.0        0.0   \n",
       "45207        0.0        0.0        1.0        0.0        0.0   \n",
       "45208        0.0        0.0        1.0        0.0        0.0   \n",
       "45209        0.0        0.0        1.0        0.0        0.0   \n",
       "45210        0.0        0.0        1.0        0.0        0.0   \n",
       "\n",
       "       poutcome_failure  poutcome_other  poutcome_success  poutcome_unknown  \\\n",
       "0                   0.0             0.0               0.0               1.0   \n",
       "1                   0.0             0.0               0.0               1.0   \n",
       "2                   0.0             0.0               0.0               1.0   \n",
       "3                   0.0             0.0               0.0               1.0   \n",
       "4                   0.0             0.0               0.0               1.0   \n",
       "...                 ...             ...               ...               ...   \n",
       "45206               0.0             0.0               0.0               1.0   \n",
       "45207               0.0             0.0               0.0               1.0   \n",
       "45208               0.0             0.0               1.0               0.0   \n",
       "45209               0.0             0.0               0.0               1.0   \n",
       "45210               0.0             1.0               0.0               0.0   \n",
       "\n",
       "            age   balance       day  duration  campaign     pdays  previous  \\\n",
       "0      1.606965  0.256419 -1.298476       261 -0.569351 -0.411453 -0.251940   \n",
       "1      0.288529 -0.437895 -1.298476       151 -0.569351 -0.411453 -0.251940   \n",
       "2     -0.747384 -0.446762 -1.298476        76 -0.569351 -0.411453 -0.251940   \n",
       "3      0.571051  0.047205 -1.298476        92 -0.569351 -0.411453 -0.251940   \n",
       "4     -0.747384 -0.447091 -1.298476       198 -0.569351 -0.411453 -0.251940   \n",
       "...         ...       ...       ...       ...       ...       ...       ...   \n",
       "45206  0.947747 -0.176460  0.143418       977  0.076230 -0.411453 -0.251940   \n",
       "45207  2.831227  0.120447  0.143418       456 -0.246560 -0.411453 -0.251940   \n",
       "45208  2.925401  1.429593  0.143418      1127  0.721811  1.436189  1.050473   \n",
       "45209  1.512791 -0.228024  0.143418       508  0.399020 -0.411453 -0.251940   \n",
       "45210 -0.370689  0.528364  0.143418       361 -0.246560  1.476138  4.523577   \n",
       "\n",
       "      deposit  \n",
       "0          no  \n",
       "1          no  \n",
       "2          no  \n",
       "3          no  \n",
       "4          no  \n",
       "...       ...  \n",
       "45206     yes  \n",
       "45207     yes  \n",
       "45208     yes  \n",
       "45209      no  \n",
       "45210      no  \n",
       "\n",
       "[45211 rows x 52 columns]"
      ]
     },
     "execution_count": 124,
     "metadata": {},
     "output_type": "execute_result"
    }
   ],
   "source": [
    "df_bank_new = pd.concat([df_encode, df_bank_new], axis=1)\n",
    "df_bank_new"
   ]
  },
  {
   "cell_type": "code",
   "execution_count": 125,
   "metadata": {
    "colab": {
     "base_uri": "https://localhost:8080/",
     "height": 252
    },
    "id": "9JTPeXLHCrFe",
    "outputId": "f0628841-efd0-4167-b111-2d619e7a0a54"
   },
   "outputs": [
    {
     "name": "stdout",
     "output_type": "stream",
     "text": [
      "(45211, 52)\n"
     ]
    },
    {
     "data": {
      "text/html": [
       "<div>\n",
       "<style scoped>\n",
       "    .dataframe tbody tr th:only-of-type {\n",
       "        vertical-align: middle;\n",
       "    }\n",
       "\n",
       "    .dataframe tbody tr th {\n",
       "        vertical-align: top;\n",
       "    }\n",
       "\n",
       "    .dataframe thead th {\n",
       "        text-align: right;\n",
       "    }\n",
       "</style>\n",
       "<table border=\"1\" class=\"dataframe\">\n",
       "  <thead>\n",
       "    <tr style=\"text-align: right;\">\n",
       "      <th></th>\n",
       "      <th>job_admin.</th>\n",
       "      <th>job_blue-collar</th>\n",
       "      <th>job_entrepreneur</th>\n",
       "      <th>job_housemaid</th>\n",
       "      <th>job_management</th>\n",
       "      <th>job_retired</th>\n",
       "      <th>job_self-employed</th>\n",
       "      <th>job_services</th>\n",
       "      <th>job_student</th>\n",
       "      <th>job_technician</th>\n",
       "      <th>job_unemployed</th>\n",
       "      <th>job_unknown</th>\n",
       "      <th>marital_divorced</th>\n",
       "      <th>marital_married</th>\n",
       "      <th>marital_single</th>\n",
       "      <th>education_primary</th>\n",
       "      <th>education_secondary</th>\n",
       "      <th>education_tertiary</th>\n",
       "      <th>education_unknown</th>\n",
       "      <th>default_no</th>\n",
       "      <th>default_yes</th>\n",
       "      <th>housing_no</th>\n",
       "      <th>housing_yes</th>\n",
       "      <th>loan_no</th>\n",
       "      <th>loan_yes</th>\n",
       "      <th>contact_cellular</th>\n",
       "      <th>contact_telephone</th>\n",
       "      <th>contact_unknown</th>\n",
       "      <th>month_apr</th>\n",
       "      <th>month_aug</th>\n",
       "      <th>month_dec</th>\n",
       "      <th>month_feb</th>\n",
       "      <th>month_jan</th>\n",
       "      <th>month_jul</th>\n",
       "      <th>month_jun</th>\n",
       "      <th>month_mar</th>\n",
       "      <th>month_may</th>\n",
       "      <th>month_nov</th>\n",
       "      <th>month_oct</th>\n",
       "      <th>month_sep</th>\n",
       "      <th>poutcome_failure</th>\n",
       "      <th>poutcome_other</th>\n",
       "      <th>poutcome_success</th>\n",
       "      <th>poutcome_unknown</th>\n",
       "      <th>age</th>\n",
       "      <th>balance</th>\n",
       "      <th>day</th>\n",
       "      <th>duration</th>\n",
       "      <th>campaign</th>\n",
       "      <th>pdays</th>\n",
       "      <th>previous</th>\n",
       "      <th>deposit</th>\n",
       "    </tr>\n",
       "  </thead>\n",
       "  <tbody>\n",
       "    <tr>\n",
       "      <th>0</th>\n",
       "      <td>0.0</td>\n",
       "      <td>0.0</td>\n",
       "      <td>0.0</td>\n",
       "      <td>0.0</td>\n",
       "      <td>1.0</td>\n",
       "      <td>0.0</td>\n",
       "      <td>0.0</td>\n",
       "      <td>0.0</td>\n",
       "      <td>0.0</td>\n",
       "      <td>0.0</td>\n",
       "      <td>0.0</td>\n",
       "      <td>0.0</td>\n",
       "      <td>0.0</td>\n",
       "      <td>1.0</td>\n",
       "      <td>0.0</td>\n",
       "      <td>0.0</td>\n",
       "      <td>0.0</td>\n",
       "      <td>1.0</td>\n",
       "      <td>0.0</td>\n",
       "      <td>1.0</td>\n",
       "      <td>0.0</td>\n",
       "      <td>0.0</td>\n",
       "      <td>1.0</td>\n",
       "      <td>1.0</td>\n",
       "      <td>0.0</td>\n",
       "      <td>0.0</td>\n",
       "      <td>0.0</td>\n",
       "      <td>1.0</td>\n",
       "      <td>0.0</td>\n",
       "      <td>0.0</td>\n",
       "      <td>0.0</td>\n",
       "      <td>0.0</td>\n",
       "      <td>0.0</td>\n",
       "      <td>0.0</td>\n",
       "      <td>0.0</td>\n",
       "      <td>0.0</td>\n",
       "      <td>1.0</td>\n",
       "      <td>0.0</td>\n",
       "      <td>0.0</td>\n",
       "      <td>0.0</td>\n",
       "      <td>0.0</td>\n",
       "      <td>0.0</td>\n",
       "      <td>0.0</td>\n",
       "      <td>1.0</td>\n",
       "      <td>1.606965</td>\n",
       "      <td>0.256419</td>\n",
       "      <td>-1.298476</td>\n",
       "      <td>261</td>\n",
       "      <td>-0.569351</td>\n",
       "      <td>-0.411453</td>\n",
       "      <td>-0.25194</td>\n",
       "      <td>0</td>\n",
       "    </tr>\n",
       "    <tr>\n",
       "      <th>1</th>\n",
       "      <td>0.0</td>\n",
       "      <td>0.0</td>\n",
       "      <td>0.0</td>\n",
       "      <td>0.0</td>\n",
       "      <td>0.0</td>\n",
       "      <td>0.0</td>\n",
       "      <td>0.0</td>\n",
       "      <td>0.0</td>\n",
       "      <td>0.0</td>\n",
       "      <td>1.0</td>\n",
       "      <td>0.0</td>\n",
       "      <td>0.0</td>\n",
       "      <td>0.0</td>\n",
       "      <td>0.0</td>\n",
       "      <td>1.0</td>\n",
       "      <td>0.0</td>\n",
       "      <td>1.0</td>\n",
       "      <td>0.0</td>\n",
       "      <td>0.0</td>\n",
       "      <td>1.0</td>\n",
       "      <td>0.0</td>\n",
       "      <td>0.0</td>\n",
       "      <td>1.0</td>\n",
       "      <td>1.0</td>\n",
       "      <td>0.0</td>\n",
       "      <td>0.0</td>\n",
       "      <td>0.0</td>\n",
       "      <td>1.0</td>\n",
       "      <td>0.0</td>\n",
       "      <td>0.0</td>\n",
       "      <td>0.0</td>\n",
       "      <td>0.0</td>\n",
       "      <td>0.0</td>\n",
       "      <td>0.0</td>\n",
       "      <td>0.0</td>\n",
       "      <td>0.0</td>\n",
       "      <td>1.0</td>\n",
       "      <td>0.0</td>\n",
       "      <td>0.0</td>\n",
       "      <td>0.0</td>\n",
       "      <td>0.0</td>\n",
       "      <td>0.0</td>\n",
       "      <td>0.0</td>\n",
       "      <td>1.0</td>\n",
       "      <td>0.288529</td>\n",
       "      <td>-0.437895</td>\n",
       "      <td>-1.298476</td>\n",
       "      <td>151</td>\n",
       "      <td>-0.569351</td>\n",
       "      <td>-0.411453</td>\n",
       "      <td>-0.25194</td>\n",
       "      <td>0</td>\n",
       "    </tr>\n",
       "    <tr>\n",
       "      <th>2</th>\n",
       "      <td>0.0</td>\n",
       "      <td>0.0</td>\n",
       "      <td>1.0</td>\n",
       "      <td>0.0</td>\n",
       "      <td>0.0</td>\n",
       "      <td>0.0</td>\n",
       "      <td>0.0</td>\n",
       "      <td>0.0</td>\n",
       "      <td>0.0</td>\n",
       "      <td>0.0</td>\n",
       "      <td>0.0</td>\n",
       "      <td>0.0</td>\n",
       "      <td>0.0</td>\n",
       "      <td>1.0</td>\n",
       "      <td>0.0</td>\n",
       "      <td>0.0</td>\n",
       "      <td>1.0</td>\n",
       "      <td>0.0</td>\n",
       "      <td>0.0</td>\n",
       "      <td>1.0</td>\n",
       "      <td>0.0</td>\n",
       "      <td>0.0</td>\n",
       "      <td>1.0</td>\n",
       "      <td>0.0</td>\n",
       "      <td>1.0</td>\n",
       "      <td>0.0</td>\n",
       "      <td>0.0</td>\n",
       "      <td>1.0</td>\n",
       "      <td>0.0</td>\n",
       "      <td>0.0</td>\n",
       "      <td>0.0</td>\n",
       "      <td>0.0</td>\n",
       "      <td>0.0</td>\n",
       "      <td>0.0</td>\n",
       "      <td>0.0</td>\n",
       "      <td>0.0</td>\n",
       "      <td>1.0</td>\n",
       "      <td>0.0</td>\n",
       "      <td>0.0</td>\n",
       "      <td>0.0</td>\n",
       "      <td>0.0</td>\n",
       "      <td>0.0</td>\n",
       "      <td>0.0</td>\n",
       "      <td>1.0</td>\n",
       "      <td>-0.747384</td>\n",
       "      <td>-0.446762</td>\n",
       "      <td>-1.298476</td>\n",
       "      <td>76</td>\n",
       "      <td>-0.569351</td>\n",
       "      <td>-0.411453</td>\n",
       "      <td>-0.25194</td>\n",
       "      <td>0</td>\n",
       "    </tr>\n",
       "    <tr>\n",
       "      <th>3</th>\n",
       "      <td>0.0</td>\n",
       "      <td>1.0</td>\n",
       "      <td>0.0</td>\n",
       "      <td>0.0</td>\n",
       "      <td>0.0</td>\n",
       "      <td>0.0</td>\n",
       "      <td>0.0</td>\n",
       "      <td>0.0</td>\n",
       "      <td>0.0</td>\n",
       "      <td>0.0</td>\n",
       "      <td>0.0</td>\n",
       "      <td>0.0</td>\n",
       "      <td>0.0</td>\n",
       "      <td>1.0</td>\n",
       "      <td>0.0</td>\n",
       "      <td>0.0</td>\n",
       "      <td>0.0</td>\n",
       "      <td>0.0</td>\n",
       "      <td>1.0</td>\n",
       "      <td>1.0</td>\n",
       "      <td>0.0</td>\n",
       "      <td>0.0</td>\n",
       "      <td>1.0</td>\n",
       "      <td>1.0</td>\n",
       "      <td>0.0</td>\n",
       "      <td>0.0</td>\n",
       "      <td>0.0</td>\n",
       "      <td>1.0</td>\n",
       "      <td>0.0</td>\n",
       "      <td>0.0</td>\n",
       "      <td>0.0</td>\n",
       "      <td>0.0</td>\n",
       "      <td>0.0</td>\n",
       "      <td>0.0</td>\n",
       "      <td>0.0</td>\n",
       "      <td>0.0</td>\n",
       "      <td>1.0</td>\n",
       "      <td>0.0</td>\n",
       "      <td>0.0</td>\n",
       "      <td>0.0</td>\n",
       "      <td>0.0</td>\n",
       "      <td>0.0</td>\n",
       "      <td>0.0</td>\n",
       "      <td>1.0</td>\n",
       "      <td>0.571051</td>\n",
       "      <td>0.047205</td>\n",
       "      <td>-1.298476</td>\n",
       "      <td>92</td>\n",
       "      <td>-0.569351</td>\n",
       "      <td>-0.411453</td>\n",
       "      <td>-0.25194</td>\n",
       "      <td>0</td>\n",
       "    </tr>\n",
       "    <tr>\n",
       "      <th>4</th>\n",
       "      <td>0.0</td>\n",
       "      <td>0.0</td>\n",
       "      <td>0.0</td>\n",
       "      <td>0.0</td>\n",
       "      <td>0.0</td>\n",
       "      <td>0.0</td>\n",
       "      <td>0.0</td>\n",
       "      <td>0.0</td>\n",
       "      <td>0.0</td>\n",
       "      <td>0.0</td>\n",
       "      <td>0.0</td>\n",
       "      <td>1.0</td>\n",
       "      <td>0.0</td>\n",
       "      <td>0.0</td>\n",
       "      <td>1.0</td>\n",
       "      <td>0.0</td>\n",
       "      <td>0.0</td>\n",
       "      <td>0.0</td>\n",
       "      <td>1.0</td>\n",
       "      <td>1.0</td>\n",
       "      <td>0.0</td>\n",
       "      <td>1.0</td>\n",
       "      <td>0.0</td>\n",
       "      <td>1.0</td>\n",
       "      <td>0.0</td>\n",
       "      <td>0.0</td>\n",
       "      <td>0.0</td>\n",
       "      <td>1.0</td>\n",
       "      <td>0.0</td>\n",
       "      <td>0.0</td>\n",
       "      <td>0.0</td>\n",
       "      <td>0.0</td>\n",
       "      <td>0.0</td>\n",
       "      <td>0.0</td>\n",
       "      <td>0.0</td>\n",
       "      <td>0.0</td>\n",
       "      <td>1.0</td>\n",
       "      <td>0.0</td>\n",
       "      <td>0.0</td>\n",
       "      <td>0.0</td>\n",
       "      <td>0.0</td>\n",
       "      <td>0.0</td>\n",
       "      <td>0.0</td>\n",
       "      <td>1.0</td>\n",
       "      <td>-0.747384</td>\n",
       "      <td>-0.447091</td>\n",
       "      <td>-1.298476</td>\n",
       "      <td>198</td>\n",
       "      <td>-0.569351</td>\n",
       "      <td>-0.411453</td>\n",
       "      <td>-0.25194</td>\n",
       "      <td>0</td>\n",
       "    </tr>\n",
       "  </tbody>\n",
       "</table>\n",
       "</div>"
      ],
      "text/plain": [
       "   job_admin.  job_blue-collar  job_entrepreneur  job_housemaid  \\\n",
       "0         0.0              0.0               0.0            0.0   \n",
       "1         0.0              0.0               0.0            0.0   \n",
       "2         0.0              0.0               1.0            0.0   \n",
       "3         0.0              1.0               0.0            0.0   \n",
       "4         0.0              0.0               0.0            0.0   \n",
       "\n",
       "   job_management  job_retired  job_self-employed  job_services  job_student  \\\n",
       "0             1.0          0.0                0.0           0.0          0.0   \n",
       "1             0.0          0.0                0.0           0.0          0.0   \n",
       "2             0.0          0.0                0.0           0.0          0.0   \n",
       "3             0.0          0.0                0.0           0.0          0.0   \n",
       "4             0.0          0.0                0.0           0.0          0.0   \n",
       "\n",
       "   job_technician  job_unemployed  job_unknown  marital_divorced  \\\n",
       "0             0.0             0.0          0.0               0.0   \n",
       "1             1.0             0.0          0.0               0.0   \n",
       "2             0.0             0.0          0.0               0.0   \n",
       "3             0.0             0.0          0.0               0.0   \n",
       "4             0.0             0.0          1.0               0.0   \n",
       "\n",
       "   marital_married  marital_single  education_primary  education_secondary  \\\n",
       "0              1.0             0.0                0.0                  0.0   \n",
       "1              0.0             1.0                0.0                  1.0   \n",
       "2              1.0             0.0                0.0                  1.0   \n",
       "3              1.0             0.0                0.0                  0.0   \n",
       "4              0.0             1.0                0.0                  0.0   \n",
       "\n",
       "   education_tertiary  education_unknown  default_no  default_yes  housing_no  \\\n",
       "0                 1.0                0.0         1.0          0.0         0.0   \n",
       "1                 0.0                0.0         1.0          0.0         0.0   \n",
       "2                 0.0                0.0         1.0          0.0         0.0   \n",
       "3                 0.0                1.0         1.0          0.0         0.0   \n",
       "4                 0.0                1.0         1.0          0.0         1.0   \n",
       "\n",
       "   housing_yes  loan_no  loan_yes  contact_cellular  contact_telephone  \\\n",
       "0          1.0      1.0       0.0               0.0                0.0   \n",
       "1          1.0      1.0       0.0               0.0                0.0   \n",
       "2          1.0      0.0       1.0               0.0                0.0   \n",
       "3          1.0      1.0       0.0               0.0                0.0   \n",
       "4          0.0      1.0       0.0               0.0                0.0   \n",
       "\n",
       "   contact_unknown  month_apr  month_aug  month_dec  month_feb  month_jan  \\\n",
       "0              1.0        0.0        0.0        0.0        0.0        0.0   \n",
       "1              1.0        0.0        0.0        0.0        0.0        0.0   \n",
       "2              1.0        0.0        0.0        0.0        0.0        0.0   \n",
       "3              1.0        0.0        0.0        0.0        0.0        0.0   \n",
       "4              1.0        0.0        0.0        0.0        0.0        0.0   \n",
       "\n",
       "   month_jul  month_jun  month_mar  month_may  month_nov  month_oct  \\\n",
       "0        0.0        0.0        0.0        1.0        0.0        0.0   \n",
       "1        0.0        0.0        0.0        1.0        0.0        0.0   \n",
       "2        0.0        0.0        0.0        1.0        0.0        0.0   \n",
       "3        0.0        0.0        0.0        1.0        0.0        0.0   \n",
       "4        0.0        0.0        0.0        1.0        0.0        0.0   \n",
       "\n",
       "   month_sep  poutcome_failure  poutcome_other  poutcome_success  \\\n",
       "0        0.0               0.0             0.0               0.0   \n",
       "1        0.0               0.0             0.0               0.0   \n",
       "2        0.0               0.0             0.0               0.0   \n",
       "3        0.0               0.0             0.0               0.0   \n",
       "4        0.0               0.0             0.0               0.0   \n",
       "\n",
       "   poutcome_unknown       age   balance       day  duration  campaign  \\\n",
       "0               1.0  1.606965  0.256419 -1.298476       261 -0.569351   \n",
       "1               1.0  0.288529 -0.437895 -1.298476       151 -0.569351   \n",
       "2               1.0 -0.747384 -0.446762 -1.298476        76 -0.569351   \n",
       "3               1.0  0.571051  0.047205 -1.298476        92 -0.569351   \n",
       "4               1.0 -0.747384 -0.447091 -1.298476       198 -0.569351   \n",
       "\n",
       "      pdays  previous  deposit  \n",
       "0 -0.411453  -0.25194        0  \n",
       "1 -0.411453  -0.25194        0  \n",
       "2 -0.411453  -0.25194        0  \n",
       "3 -0.411453  -0.25194        0  \n",
       "4 -0.411453  -0.25194        0  "
      ]
     },
     "execution_count": 125,
     "metadata": {},
     "output_type": "execute_result"
    }
   ],
   "source": [
    "# Encode target value\n",
    "df_bank_new['deposit'] = df_bank_new['deposit'].apply(lambda x: 1 if x == 'yes' else 0)\n",
    "\n",
    "print(df_bank_new.shape)\n",
    "df_bank_new.head()"
   ]
  },
  {
   "cell_type": "markdown",
   "metadata": {
    "id": "SeQFcekmBHDy"
   },
   "source": [
    "### Memisahkan Feature dan Target \n"
   ]
  },
  {
   "cell_type": "code",
   "execution_count": 126,
   "metadata": {
    "id": "ngJjXHVhEvmX"
   },
   "outputs": [],
   "source": [
    "# Select Features\n",
    "feature = df_bank_new.drop('deposit', axis=1)"
   ]
  },
  {
   "cell_type": "code",
   "execution_count": 127,
   "metadata": {
    "id": "E2kC7pyAEzKi"
   },
   "outputs": [],
   "source": [
    "# Select Target\n",
    "target = df_bank_new['deposit']"
   ]
  },
  {
   "cell_type": "markdown",
   "metadata": {
    "id": "bZgnZibx-bIx"
   },
   "source": [
    "### Split Dataset untuk data traning dan data test \n",
    "\n",
    "80:20\n"
   ]
  },
  {
   "cell_type": "code",
   "execution_count": 128,
   "metadata": {
    "colab": {
     "base_uri": "https://localhost:8080/"
    },
    "id": "fsl17Wbd-lVn",
    "outputId": "7293bee4-1940-4259-e110-c1812a0f4d83"
   },
   "outputs": [
    {
     "name": "stdout",
     "output_type": "stream",
     "text": [
      "Shape training feature: (36168, 51)\n",
      "Shape testing feature: (9043, 51)\n",
      "Shape training label: (36168,)\n",
      "Shape training label: (9043,)\n"
     ]
    }
   ],
   "source": [
    "# Set Training and Testing Data\n",
    "from sklearn.model_selection import train_test_split\n",
    "X_train, X_test, y_train, y_test = train_test_split(feature , target, \n",
    "                                                    shuffle = True, \n",
    "                                                    test_size=0.2, \n",
    "                                                    random_state=1)\n",
    "\n",
    "\n",
    "print('Shape training feature:', X_train.shape)\n",
    "print('Shape testing feature:', X_test.shape)\n",
    "print('Shape training label:', y_train.shape)\n",
    "print('Shape training label:', y_test.shape)"
   ]
  },
  {
   "cell_type": "markdown",
   "metadata": {
    "id": "7EhekTBnHybk"
   },
   "source": [
    "### Buat modul knn dengan neighbors  k = 3 "
   ]
  },
  {
   "cell_type": "code",
   "execution_count": 129,
   "metadata": {
    "id": "aXC0zRcUGEVX"
   },
   "outputs": [],
   "source": [
    "#Import knearest neighbors Classifier model\n",
    "from sklearn.neighbors import KNeighborsClassifier\n",
    "\n",
    "#Create KNN Classifier\n",
    "knn = KNeighborsClassifier(n_neighbors=3)\n",
    "\n",
    "#Train the model using the training sets\n",
    "knn.fit(X_train, y_train)\n",
    "\n",
    "#Predict the response for test dataset\n",
    "y_pred = knn.predict(X_test)"
   ]
  },
  {
   "cell_type": "markdown",
   "metadata": {
    "id": "5Kcy0rl8H6FJ"
   },
   "source": [
    "### Metric accuracy score "
   ]
  },
  {
   "cell_type": "code",
   "execution_count": 130,
   "metadata": {
    "colab": {
     "base_uri": "https://localhost:8080/"
    },
    "id": "9Q0Jdpr9GTAu",
    "outputId": "f60a283c-b954-41ee-fe72-dd847a2009b7"
   },
   "outputs": [
    {
     "name": "stdout",
     "output_type": "stream",
     "text": [
      "Accuracy: 0.8834457591507243\n"
     ]
    }
   ],
   "source": [
    "#Import scikit-learn metrics module for accuracy calculation\n",
    "from sklearn import metrics\n",
    "\n",
    "# Model Accuracy, how often is the classifier correct?\n",
    "print(\"Accuracy:\",metrics.accuracy_score(y_test, y_pred))"
   ]
  },
  {
   "cell_type": "markdown",
   "metadata": {
    "id": "9e7RQKasH_FR"
   },
   "source": [
    "### Buat modul knn dengan neighbors  k = 7 "
   ]
  },
  {
   "cell_type": "code",
   "execution_count": 131,
   "metadata": {
    "id": "Br4k5psnGfbp"
   },
   "outputs": [],
   "source": [
    "#Import knearest neighbors Classifier model\n",
    "from sklearn.neighbors import KNeighborsClassifier\n",
    "\n",
    "#Create KNN Classifier\n",
    "knn = KNeighborsClassifier(n_neighbors=7)\n",
    "\n",
    "#Train the model using the training sets\n",
    "knn.fit(X_train, y_train)\n",
    "\n",
    "#Predict the response for test dataset\n",
    "y_pred = knn.predict(X_test)"
   ]
  },
  {
   "cell_type": "code",
   "execution_count": 132,
   "metadata": {
    "colab": {
     "base_uri": "https://localhost:8080/"
    },
    "id": "wJqe4BWcGgto",
    "outputId": "3f5a98b8-1372-4395-aa8b-1e35f8365efb"
   },
   "outputs": [
    {
     "name": "stdout",
     "output_type": "stream",
     "text": [
      "Accuracy: 0.8901913081941834\n"
     ]
    }
   ],
   "source": [
    "#Import scikit-learn metrics module for accuracy calculation\n",
    "from sklearn import metrics\n",
    "\n",
    "# Model Accuracy, how often is the classifier correct?\n",
    "print(\"Accuracy:\",metrics.accuracy_score(y_test, y_pred))"
   ]
  }
 ],
 "metadata": {
  "colab": {
   "collapsed_sections": [
    "BSVpuBSfIo3s",
    "f0Ofz1HwO2Ji",
    "vKwA4vjMgxDz",
    "z_SEc0HK--xn",
    "Mr5_DHwdAugL",
    "krQoWsDeAxVk",
    "yV8g7Sw92ZpJ",
    "xwY0gEsv2gEG",
    "4aG9j_Va2y4G",
    "mmE-1dxhAy2l",
    "JtHHSwbtDJDI",
    "0rWdpoFdDXpd",
    "cO0e31WaDZQz",
    "0isE-OVSDnCK",
    "thc-ad__DsiN",
    "tDfe8h-ID-sA",
    "lu3kBC91KqE3",
    "pNyKmE7KNB9I",
    "v3vYdywZNYPv",
    "n6iU2a39Nvw2",
    "4jrJkT6QGk-B",
    "gfm1oy_CGrKf",
    "2RTrdRy9ZX-I",
    "OO2WSPANZN3w",
    "cU-hPetSY8O7",
    "38hbRmr0Q47r",
    "BBBALttCVNOD",
    "ZYd7HOXsFY4p",
    "RdWmArTGuEkg",
    "0OSRu54OxJe7",
    "tVMrzKll1Xc0",
    "kB7xLXKT1Glm",
    "RE9kppv35S5Q",
    "uiwQy9aF5aiI",
    "7CRho1jf53tT",
    "T67fII-cA9u1",
    "SeQFcekmBHDy",
    "bZgnZibx-bIx",
    "7EhekTBnHybk",
    "5Kcy0rl8H6FJ",
    "9e7RQKasH_FR"
   ],
   "name": "12-P4DS Classification 1.ipynb",
   "provenance": [],
   "toc_visible": true
  },
  "kernelspec": {
   "display_name": "Python 3",
   "language": "python",
   "name": "python3"
  },
  "language_info": {
   "codemirror_mode": {
    "name": "ipython",
    "version": 3
   },
   "file_extension": ".py",
   "mimetype": "text/x-python",
   "name": "python",
   "nbconvert_exporter": "python",
   "pygments_lexer": "ipython3",
   "version": "3.8.8"
  }
 },
 "nbformat": 4,
 "nbformat_minor": 1
}
