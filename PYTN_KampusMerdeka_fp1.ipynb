{
 "cells": [
  {
   "cell_type": "markdown",
   "id": "6737d932",
   "metadata": {},
   "source": [
    "#### Nama : Amin Fahri \n",
    "#### Kode Peserta : PYTN-KS01-002"
   ]
  },
  {
   "cell_type": "markdown",
   "id": "7cc0dafd",
   "metadata": {},
   "source": [
    "Anggota Kelompok :\n",
    "1. Amin Fahri (PYTN-KS01-002)\n",
    "2. Jessica Athalia Rieuwpassa (PYTN-KS01-005)\n",
    "3. Ninda Nurismiranda (PYTN-KS01-010)"
   ]
  },
  {
   "cell_type": "markdown",
   "id": "79fc2b04",
   "metadata": {},
   "source": [
    "# Final Project 1"
   ]
  },
  {
   "cell_type": "markdown",
   "id": "3d22f2f9",
   "metadata": {},
   "source": [
    "## Perkenalan"
   ]
  },
  {
   "cell_type": "markdown",
   "id": "06717e4a",
   "metadata": {},
   "source": [
    "Objektif yang ingin dicapai dari final project 1 ini yaitu mengevaluasi konsep regression sebagai berikut :\n",
    "- Mampu memahami konsep regression dengan Linear Regression\n",
    "- Mampu mempersiapkan data untuk digunakan dalam model Linear Regression\n",
    "- Mampu mengimplementasikan Linear Regression untuk membuat prediksi\n",
    "\n",
    "Dataset yang digunakan yaitu **Uber and Lyft Dataset Boston, MA** yang berisi record data perjalanan taksi uber dan lyft di Boston, MA. Dataset ini terdiri dari 57 kolom dan 693.071 data. Dataset diperoleh dari kaggle dengan link sebagai berikut https://www.kaggle.com/brllrb/uber-and-lyft-dataset-boston-ma\n",
    "\n",
    "Dataset ini mengandung banyak nilai NA dan outliers maka cocok untuk dilakukan data cleaning dan preprocessing. Selain itu, dataset ini juga terdiri dari banyak kolom (variabel) sehingga sangat cocok untuk membuat model regresi linier untuk melihat pola antara variabel-variabel yang berbeda, serta membuat suatu prediksi berdasarkan model regresi linier. \n",
    "\n",
    "Pada final project 1 ini akan dibuat prediksi harga taksi Uber dan Lyft (cab price), sehingga variabel price akan menjadi variabel dependen (variabel prediktor) dan beberapa variabel lainnya yang memiliki korelasi dengan variabel price akan menjadi variabel independen."
   ]
  },
  {
   "cell_type": "markdown",
   "id": "ea5342d7",
   "metadata": {},
   "source": [
    "## Import Pustaka"
   ]
  },
  {
   "cell_type": "code",
   "execution_count": 1,
   "id": "76334979",
   "metadata": {},
   "outputs": [],
   "source": [
    "import pandas as pd\n",
    "import numpy as np\n",
    "import matplotlib as mpl\n",
    "import matplotlib.pyplot as plt\n",
    "import seaborn as sns\n",
    "%matplotlib inline\n",
    "import statsmodels.api as sm\n",
    "from sklearn.model_selection import train_test_split\n",
    "from sklearn.linear_model import LinearRegression\n",
    "from sklearn.metrics import r2_score\n",
    "from statsmodels.stats.outliers_influence import variance_inflation_factor\n",
    "from warnings import filterwarnings\n",
    "filterwarnings('ignore')"
   ]
  },
  {
   "cell_type": "code",
   "execution_count": 2,
   "id": "62dee8a4",
   "metadata": {},
   "outputs": [],
   "source": [
    "import pickle"
   ]
  },
  {
   "cell_type": "code",
   "execution_count": 3,
   "id": "16bc351f",
   "metadata": {},
   "outputs": [],
   "source": [
    "pd.set_option(\"display.max.columns\", None)"
   ]
  },
  {
   "cell_type": "markdown",
   "id": "0ed17faf",
   "metadata": {},
   "source": [
    "## Data Loading"
   ]
  },
  {
   "cell_type": "code",
   "execution_count": 4,
   "id": "e9c3dd2c",
   "metadata": {},
   "outputs": [
    {
     "ename": "FileNotFoundError",
     "evalue": "[Errno 2] No such file or directory: 'rideshare_kaggle.csv'",
     "output_type": "error",
     "traceback": [
      "\u001b[1;31m---------------------------------------------------------------------------\u001b[0m",
      "\u001b[1;31mFileNotFoundError\u001b[0m                         Traceback (most recent call last)",
      "\u001b[1;32m<ipython-input-4-dcbd2fa0e289>\u001b[0m in \u001b[0;36m<module>\u001b[1;34m\u001b[0m\n\u001b[1;32m----> 1\u001b[1;33m \u001b[0mdf\u001b[0m \u001b[1;33m=\u001b[0m \u001b[0mpd\u001b[0m\u001b[1;33m.\u001b[0m\u001b[0mread_csv\u001b[0m\u001b[1;33m(\u001b[0m\u001b[1;34m\"rideshare_kaggle.csv\"\u001b[0m\u001b[1;33m)\u001b[0m\u001b[1;33m\u001b[0m\u001b[1;33m\u001b[0m\u001b[0m\n\u001b[0m\u001b[0;32m      2\u001b[0m \u001b[0mdf\u001b[0m\u001b[1;33m\u001b[0m\u001b[1;33m\u001b[0m\u001b[0m\n",
      "\u001b[1;32m~\\anaconda3\\lib\\site-packages\\pandas\\io\\parsers.py\u001b[0m in \u001b[0;36mread_csv\u001b[1;34m(filepath_or_buffer, sep, delimiter, header, names, index_col, usecols, squeeze, prefix, mangle_dupe_cols, dtype, engine, converters, true_values, false_values, skipinitialspace, skiprows, skipfooter, nrows, na_values, keep_default_na, na_filter, verbose, skip_blank_lines, parse_dates, infer_datetime_format, keep_date_col, date_parser, dayfirst, cache_dates, iterator, chunksize, compression, thousands, decimal, lineterminator, quotechar, quoting, doublequote, escapechar, comment, encoding, dialect, error_bad_lines, warn_bad_lines, delim_whitespace, low_memory, memory_map, float_precision, storage_options)\u001b[0m\n\u001b[0;32m    608\u001b[0m     \u001b[0mkwds\u001b[0m\u001b[1;33m.\u001b[0m\u001b[0mupdate\u001b[0m\u001b[1;33m(\u001b[0m\u001b[0mkwds_defaults\u001b[0m\u001b[1;33m)\u001b[0m\u001b[1;33m\u001b[0m\u001b[1;33m\u001b[0m\u001b[0m\n\u001b[0;32m    609\u001b[0m \u001b[1;33m\u001b[0m\u001b[0m\n\u001b[1;32m--> 610\u001b[1;33m     \u001b[1;32mreturn\u001b[0m \u001b[0m_read\u001b[0m\u001b[1;33m(\u001b[0m\u001b[0mfilepath_or_buffer\u001b[0m\u001b[1;33m,\u001b[0m \u001b[0mkwds\u001b[0m\u001b[1;33m)\u001b[0m\u001b[1;33m\u001b[0m\u001b[1;33m\u001b[0m\u001b[0m\n\u001b[0m\u001b[0;32m    611\u001b[0m \u001b[1;33m\u001b[0m\u001b[0m\n\u001b[0;32m    612\u001b[0m \u001b[1;33m\u001b[0m\u001b[0m\n",
      "\u001b[1;32m~\\anaconda3\\lib\\site-packages\\pandas\\io\\parsers.py\u001b[0m in \u001b[0;36m_read\u001b[1;34m(filepath_or_buffer, kwds)\u001b[0m\n\u001b[0;32m    460\u001b[0m \u001b[1;33m\u001b[0m\u001b[0m\n\u001b[0;32m    461\u001b[0m     \u001b[1;31m# Create the parser.\u001b[0m\u001b[1;33m\u001b[0m\u001b[1;33m\u001b[0m\u001b[1;33m\u001b[0m\u001b[0m\n\u001b[1;32m--> 462\u001b[1;33m     \u001b[0mparser\u001b[0m \u001b[1;33m=\u001b[0m \u001b[0mTextFileReader\u001b[0m\u001b[1;33m(\u001b[0m\u001b[0mfilepath_or_buffer\u001b[0m\u001b[1;33m,\u001b[0m \u001b[1;33m**\u001b[0m\u001b[0mkwds\u001b[0m\u001b[1;33m)\u001b[0m\u001b[1;33m\u001b[0m\u001b[1;33m\u001b[0m\u001b[0m\n\u001b[0m\u001b[0;32m    463\u001b[0m \u001b[1;33m\u001b[0m\u001b[0m\n\u001b[0;32m    464\u001b[0m     \u001b[1;32mif\u001b[0m \u001b[0mchunksize\u001b[0m \u001b[1;32mor\u001b[0m \u001b[0miterator\u001b[0m\u001b[1;33m:\u001b[0m\u001b[1;33m\u001b[0m\u001b[1;33m\u001b[0m\u001b[0m\n",
      "\u001b[1;32m~\\anaconda3\\lib\\site-packages\\pandas\\io\\parsers.py\u001b[0m in \u001b[0;36m__init__\u001b[1;34m(self, f, engine, **kwds)\u001b[0m\n\u001b[0;32m    817\u001b[0m             \u001b[0mself\u001b[0m\u001b[1;33m.\u001b[0m\u001b[0moptions\u001b[0m\u001b[1;33m[\u001b[0m\u001b[1;34m\"has_index_names\"\u001b[0m\u001b[1;33m]\u001b[0m \u001b[1;33m=\u001b[0m \u001b[0mkwds\u001b[0m\u001b[1;33m[\u001b[0m\u001b[1;34m\"has_index_names\"\u001b[0m\u001b[1;33m]\u001b[0m\u001b[1;33m\u001b[0m\u001b[1;33m\u001b[0m\u001b[0m\n\u001b[0;32m    818\u001b[0m \u001b[1;33m\u001b[0m\u001b[0m\n\u001b[1;32m--> 819\u001b[1;33m         \u001b[0mself\u001b[0m\u001b[1;33m.\u001b[0m\u001b[0m_engine\u001b[0m \u001b[1;33m=\u001b[0m \u001b[0mself\u001b[0m\u001b[1;33m.\u001b[0m\u001b[0m_make_engine\u001b[0m\u001b[1;33m(\u001b[0m\u001b[0mself\u001b[0m\u001b[1;33m.\u001b[0m\u001b[0mengine\u001b[0m\u001b[1;33m)\u001b[0m\u001b[1;33m\u001b[0m\u001b[1;33m\u001b[0m\u001b[0m\n\u001b[0m\u001b[0;32m    820\u001b[0m \u001b[1;33m\u001b[0m\u001b[0m\n\u001b[0;32m    821\u001b[0m     \u001b[1;32mdef\u001b[0m \u001b[0mclose\u001b[0m\u001b[1;33m(\u001b[0m\u001b[0mself\u001b[0m\u001b[1;33m)\u001b[0m\u001b[1;33m:\u001b[0m\u001b[1;33m\u001b[0m\u001b[1;33m\u001b[0m\u001b[0m\n",
      "\u001b[1;32m~\\anaconda3\\lib\\site-packages\\pandas\\io\\parsers.py\u001b[0m in \u001b[0;36m_make_engine\u001b[1;34m(self, engine)\u001b[0m\n\u001b[0;32m   1048\u001b[0m             )\n\u001b[0;32m   1049\u001b[0m         \u001b[1;31m# error: Too many arguments for \"ParserBase\"\u001b[0m\u001b[1;33m\u001b[0m\u001b[1;33m\u001b[0m\u001b[1;33m\u001b[0m\u001b[0m\n\u001b[1;32m-> 1050\u001b[1;33m         \u001b[1;32mreturn\u001b[0m \u001b[0mmapping\u001b[0m\u001b[1;33m[\u001b[0m\u001b[0mengine\u001b[0m\u001b[1;33m]\u001b[0m\u001b[1;33m(\u001b[0m\u001b[0mself\u001b[0m\u001b[1;33m.\u001b[0m\u001b[0mf\u001b[0m\u001b[1;33m,\u001b[0m \u001b[1;33m**\u001b[0m\u001b[0mself\u001b[0m\u001b[1;33m.\u001b[0m\u001b[0moptions\u001b[0m\u001b[1;33m)\u001b[0m  \u001b[1;31m# type: ignore[call-arg]\u001b[0m\u001b[1;33m\u001b[0m\u001b[1;33m\u001b[0m\u001b[0m\n\u001b[0m\u001b[0;32m   1051\u001b[0m \u001b[1;33m\u001b[0m\u001b[0m\n\u001b[0;32m   1052\u001b[0m     \u001b[1;32mdef\u001b[0m \u001b[0m_failover_to_python\u001b[0m\u001b[1;33m(\u001b[0m\u001b[0mself\u001b[0m\u001b[1;33m)\u001b[0m\u001b[1;33m:\u001b[0m\u001b[1;33m\u001b[0m\u001b[1;33m\u001b[0m\u001b[0m\n",
      "\u001b[1;32m~\\anaconda3\\lib\\site-packages\\pandas\\io\\parsers.py\u001b[0m in \u001b[0;36m__init__\u001b[1;34m(self, src, **kwds)\u001b[0m\n\u001b[0;32m   1865\u001b[0m \u001b[1;33m\u001b[0m\u001b[0m\n\u001b[0;32m   1866\u001b[0m         \u001b[1;31m# open handles\u001b[0m\u001b[1;33m\u001b[0m\u001b[1;33m\u001b[0m\u001b[1;33m\u001b[0m\u001b[0m\n\u001b[1;32m-> 1867\u001b[1;33m         \u001b[0mself\u001b[0m\u001b[1;33m.\u001b[0m\u001b[0m_open_handles\u001b[0m\u001b[1;33m(\u001b[0m\u001b[0msrc\u001b[0m\u001b[1;33m,\u001b[0m \u001b[0mkwds\u001b[0m\u001b[1;33m)\u001b[0m\u001b[1;33m\u001b[0m\u001b[1;33m\u001b[0m\u001b[0m\n\u001b[0m\u001b[0;32m   1868\u001b[0m         \u001b[1;32massert\u001b[0m \u001b[0mself\u001b[0m\u001b[1;33m.\u001b[0m\u001b[0mhandles\u001b[0m \u001b[1;32mis\u001b[0m \u001b[1;32mnot\u001b[0m \u001b[1;32mNone\u001b[0m\u001b[1;33m\u001b[0m\u001b[1;33m\u001b[0m\u001b[0m\n\u001b[0;32m   1869\u001b[0m         \u001b[1;32mfor\u001b[0m \u001b[0mkey\u001b[0m \u001b[1;32min\u001b[0m \u001b[1;33m(\u001b[0m\u001b[1;34m\"storage_options\"\u001b[0m\u001b[1;33m,\u001b[0m \u001b[1;34m\"encoding\"\u001b[0m\u001b[1;33m,\u001b[0m \u001b[1;34m\"memory_map\"\u001b[0m\u001b[1;33m,\u001b[0m \u001b[1;34m\"compression\"\u001b[0m\u001b[1;33m)\u001b[0m\u001b[1;33m:\u001b[0m\u001b[1;33m\u001b[0m\u001b[1;33m\u001b[0m\u001b[0m\n",
      "\u001b[1;32m~\\anaconda3\\lib\\site-packages\\pandas\\io\\parsers.py\u001b[0m in \u001b[0;36m_open_handles\u001b[1;34m(self, src, kwds)\u001b[0m\n\u001b[0;32m   1360\u001b[0m         \u001b[0mLet\u001b[0m \u001b[0mthe\u001b[0m \u001b[0mreaders\u001b[0m \u001b[0mopen\u001b[0m \u001b[0mIOHanldes\u001b[0m \u001b[0mafter\u001b[0m \u001b[0mthey\u001b[0m \u001b[0mare\u001b[0m \u001b[0mdone\u001b[0m \u001b[1;32mwith\u001b[0m \u001b[0mtheir\u001b[0m \u001b[0mpotential\u001b[0m \u001b[0mraises\u001b[0m\u001b[1;33m.\u001b[0m\u001b[1;33m\u001b[0m\u001b[1;33m\u001b[0m\u001b[0m\n\u001b[0;32m   1361\u001b[0m         \"\"\"\n\u001b[1;32m-> 1362\u001b[1;33m         self.handles = get_handle(\n\u001b[0m\u001b[0;32m   1363\u001b[0m             \u001b[0msrc\u001b[0m\u001b[1;33m,\u001b[0m\u001b[1;33m\u001b[0m\u001b[1;33m\u001b[0m\u001b[0m\n\u001b[0;32m   1364\u001b[0m             \u001b[1;34m\"r\"\u001b[0m\u001b[1;33m,\u001b[0m\u001b[1;33m\u001b[0m\u001b[1;33m\u001b[0m\u001b[0m\n",
      "\u001b[1;32m~\\anaconda3\\lib\\site-packages\\pandas\\io\\common.py\u001b[0m in \u001b[0;36mget_handle\u001b[1;34m(path_or_buf, mode, encoding, compression, memory_map, is_text, errors, storage_options)\u001b[0m\n\u001b[0;32m    645\u001b[0m                 \u001b[0merrors\u001b[0m \u001b[1;33m=\u001b[0m \u001b[1;34m\"replace\"\u001b[0m\u001b[1;33m\u001b[0m\u001b[1;33m\u001b[0m\u001b[0m\n\u001b[0;32m    646\u001b[0m             \u001b[1;31m# Encoding\u001b[0m\u001b[1;33m\u001b[0m\u001b[1;33m\u001b[0m\u001b[1;33m\u001b[0m\u001b[0m\n\u001b[1;32m--> 647\u001b[1;33m             handle = open(\n\u001b[0m\u001b[0;32m    648\u001b[0m                 \u001b[0mhandle\u001b[0m\u001b[1;33m,\u001b[0m\u001b[1;33m\u001b[0m\u001b[1;33m\u001b[0m\u001b[0m\n\u001b[0;32m    649\u001b[0m                 \u001b[0mioargs\u001b[0m\u001b[1;33m.\u001b[0m\u001b[0mmode\u001b[0m\u001b[1;33m,\u001b[0m\u001b[1;33m\u001b[0m\u001b[1;33m\u001b[0m\u001b[0m\n",
      "\u001b[1;31mFileNotFoundError\u001b[0m: [Errno 2] No such file or directory: 'rideshare_kaggle.csv'"
     ]
    }
   ],
   "source": [
    "df = pd.read_csv(\"rideshare_kaggle.csv\")\n",
    "df"
   ]
  },
  {
   "cell_type": "code",
   "execution_count": null,
   "id": "1a724904",
   "metadata": {
    "scrolled": true
   },
   "outputs": [],
   "source": [
    "df.head()"
   ]
  },
  {
   "cell_type": "markdown",
   "id": "7a27e9ed",
   "metadata": {},
   "source": [
    "Dataset ini memiliki 57 atribut. Atribut dalam dataset ini antara lain :\n",
    "1. id : unique identifier for each column\n",
    "2. timestamp : unix timestamp\n",
    "3. hour : hour of the day\n",
    "4. day : day of the week\n",
    "5. month : month in a year\n",
    "6. datetime : date value\n",
    "7. Timezone\n",
    "8. source : initial source of the ride\n",
    "9. destination : destination of the ride\n",
    "10. cab_type : the type of cab\n",
    "11. product_id\n",
    "12. name\n",
    "13. price\n",
    "14. distance\n",
    "15. surge_multiplier\n",
    "16. . . . dan lainnya"
   ]
  },
  {
   "cell_type": "markdown",
   "id": "b1fa80c7",
   "metadata": {},
   "source": [
    "## Data Cleaning "
   ]
  },
  {
   "cell_type": "code",
   "execution_count": null,
   "id": "24af5086",
   "metadata": {},
   "outputs": [],
   "source": [
    "# Print the dimension of data set\n",
    "df.shape"
   ]
  },
  {
   "cell_type": "code",
   "execution_count": null,
   "id": "12e8235f",
   "metadata": {},
   "outputs": [],
   "source": [
    "df.columns"
   ]
  },
  {
   "cell_type": "markdown",
   "id": "4c548491",
   "metadata": {},
   "source": [
    "### Cek data types"
   ]
  },
  {
   "cell_type": "code",
   "execution_count": null,
   "id": "963596c3",
   "metadata": {},
   "outputs": [],
   "source": [
    "#Melihat tipe objek masing-masing kolom\n",
    "df.info()"
   ]
  },
  {
   "cell_type": "markdown",
   "id": "60fb5d2e",
   "metadata": {},
   "source": [
    "Dataset terdiri dari column dengan tipe object, int, dan float"
   ]
  },
  {
   "cell_type": "code",
   "execution_count": null,
   "id": "59c74880",
   "metadata": {
    "scrolled": false
   },
   "outputs": [],
   "source": [
    "# menghapus data column yang tidak diperlukan\n",
    "data = df.drop(['id','timestamp','datetime','long_summary','apparentTemperatureHighTime','apparentTemperatureLowTime',\n",
    "                  'apparentTemperatureLowTime','windGustTime','sunriseTime','sunsetTime','uvIndexTime','temperatureMinTime',\n",
    "                 'temperatureMaxTime','apparentTemperatureMinTime','temperatureLowTime','apparentTemperatureMaxTime'\n",
    "                 ,'latitude','longitude'],axis = 1)\n",
    "print(data.shape)\n",
    "data.head()"
   ]
  },
  {
   "cell_type": "markdown",
   "id": "d3c3a373",
   "metadata": {},
   "source": [
    "### Cek data temperature dengan price"
   ]
  },
  {
   "cell_type": "code",
   "execution_count": null,
   "id": "944eaa71",
   "metadata": {},
   "outputs": [],
   "source": [
    "# membuat data frame baru yang terdiri dari variabel price dan temperature\n",
    "data_new = data[['price','temperature','apparentTemperature','temperatureHigh','temperatureLow','apparentTemperatureHigh',\n",
    "                'apparentTemperatureLow','temperatureMin','temperatureHighTime','temperatureMax','apparentTemperatureMin','apparentTemperatureMax']]\n",
    "data_new.head()"
   ]
  },
  {
   "cell_type": "code",
   "execution_count": null,
   "id": "09db4446",
   "metadata": {},
   "outputs": [],
   "source": [
    "#membuat plot heatmap untuk melihat korelasi antara variabel price dan temperature\n",
    "plt.figure(figsize=(10,10))\n",
    "sns.heatmap(data_new.corr(),annot=True, mask=np.triu(data_new.corr()))"
   ]
  },
  {
   "cell_type": "markdown",
   "id": "fe218146",
   "metadata": {},
   "source": [
    "Dari plot di atas dapat dilihat antara variabel prediktor (price) dengan variabel-variabel temperature memiliki korelasi yang sangat lemah karena nilai-nilainya hampir 0 sehingga variabel-variabel temperature dapat dihapus."
   ]
  },
  {
   "cell_type": "code",
   "execution_count": null,
   "id": "3e2bdf05",
   "metadata": {
    "scrolled": false
   },
   "outputs": [],
   "source": [
    "# drop data temperature features\n",
    "data_new = data[['temperature','apparentTemperature','temperatureHigh','temperatureLow','apparentTemperatureHigh',\n",
    "                'apparentTemperatureLow','temperatureMin','temperatureHighTime','temperatureMax','apparentTemperatureMin','apparentTemperatureMax']]\n",
    "data = data.drop(data_new.columns,axis=1)\n",
    "data.head()"
   ]
  },
  {
   "cell_type": "markdown",
   "id": "51c3b137",
   "metadata": {},
   "source": [
    "### Cek Data Categorical"
   ]
  },
  {
   "cell_type": "code",
   "execution_count": null,
   "id": "3a4bfe38",
   "metadata": {},
   "outputs": [],
   "source": [
    "cat_col = data.select_dtypes(include=['object','category']).columns.tolist()\n",
    "data_cat = data[cat_col]\n",
    "data_cat.head()"
   ]
  },
  {
   "cell_type": "code",
   "execution_count": null,
   "id": "9e103a6a",
   "metadata": {},
   "outputs": [],
   "source": [
    "# jumlah unique values pada data_cat\n",
    "data_cat.nunique()"
   ]
  },
  {
   "cell_type": "code",
   "execution_count": null,
   "id": "352a2a65",
   "metadata": {
    "scrolled": true
   },
   "outputs": [],
   "source": [
    "# unique values pada data_cat\n",
    "for col in data_cat:\n",
    "    print(f'{col} : {data_cat[col].unique()}')\n",
    "    print()"
   ]
  },
  {
   "cell_type": "markdown",
   "id": "4164c0ed",
   "metadata": {},
   "source": [
    "Dari cek unique values terlihat bahwa variable timezone hanya memiliki 1 unique value yaitu 'America/New_York' sehingga variabel timezone dapat dihapus."
   ]
  },
  {
   "cell_type": "code",
   "execution_count": null,
   "id": "8056cadf",
   "metadata": {
    "scrolled": true
   },
   "outputs": [],
   "source": [
    "data_cat['product_id'].value_counts()"
   ]
  },
  {
   "cell_type": "markdown",
   "id": "66967c4f",
   "metadata": {},
   "source": [
    "Variabel product_id terdiri lebih dari 50% value dengan junk data (contoh : 6f72dfc5-27f1-42e8-84db-ccc7a75f6969) sehingga variabel product_id lebih baik dihapus."
   ]
  },
  {
   "cell_type": "code",
   "execution_count": null,
   "id": "6e55f56a",
   "metadata": {
    "scrolled": true
   },
   "outputs": [],
   "source": [
    "# drop data timezone and product_id\n",
    "data = data.drop(['product_id','timezone'],axis=1)\n",
    "data.head()"
   ]
  },
  {
   "cell_type": "markdown",
   "id": "ab6000de",
   "metadata": {},
   "source": [
    "### Cek Data Numerical"
   ]
  },
  {
   "cell_type": "code",
   "execution_count": null,
   "id": "fb056aa3",
   "metadata": {},
   "outputs": [],
   "source": [
    "num_col = data.select_dtypes(include=['int64','float64']).columns.tolist()\n",
    "data_num = data[num_col]\n",
    "data_num.columns"
   ]
  },
  {
   "cell_type": "markdown",
   "id": "7f24e8f5",
   "metadata": {},
   "source": [
    "sebagian besar column dengan tipe numerical (int64 dan float64) merupakan column dengan variabel climate. Selanjutnya akan dicek korelasi antara variabel-variabel climate dengan variabel price."
   ]
  },
  {
   "cell_type": "markdown",
   "id": "1e16bc81",
   "metadata": {},
   "source": [
    "### Cek data climate dengan price"
   ]
  },
  {
   "cell_type": "code",
   "execution_count": null,
   "id": "156b2c5b",
   "metadata": {},
   "outputs": [],
   "source": [
    "# membuat data frame dengan variabel climate dan price\n",
    "cli_col = ['price','precipIntensity', 'precipProbability', 'humidity', 'windSpeed',\n",
    "       'windGust', 'visibility', 'dewPoint', 'pressure', 'windBearing',\n",
    "       'cloudCover', 'uvIndex', 'visibility.1', 'ozone', 'moonPhase',\n",
    "       'precipIntensityMax']\n",
    "data_cli = data[cli_col]\n",
    "data_cli.head()"
   ]
  },
  {
   "cell_type": "code",
   "execution_count": null,
   "id": "4a37f03c",
   "metadata": {},
   "outputs": [],
   "source": [
    "#membuat plot heatmap untuk melihat korelasi pada data_cli\n",
    "plt.figure(figsize=(12,12))\n",
    "sns.heatmap(data_cli.corr(),annot=True, mask=np.triu(data_cli.corr()))"
   ]
  },
  {
   "cell_type": "markdown",
   "id": "6f9daee8",
   "metadata": {},
   "source": [
    "Dari plot di atas dapat dilihat bahwa korelasi antara variabel prediktor (price) dengan variabel-variabel climate memiliki korelasi yang lemah karena nilainya hampir 0, sehingga variabel-variabel temperature tersebut dapat dihapus."
   ]
  },
  {
   "cell_type": "code",
   "execution_count": null,
   "id": "831f92f9",
   "metadata": {},
   "outputs": [],
   "source": [
    "# drop data climate features\n",
    "cli_col = ['precipIntensity', 'precipProbability', 'humidity', 'windSpeed',\n",
    "       'windGust', 'visibility', 'dewPoint', 'pressure', 'windBearing',\n",
    "       'cloudCover', 'uvIndex', 'visibility.1', 'ozone', 'moonPhase',\n",
    "       'precipIntensityMax']\n",
    "data = data.drop(cli_col,axis=1)\n",
    "data.head()"
   ]
  },
  {
   "cell_type": "code",
   "execution_count": null,
   "id": "df94d72b",
   "metadata": {},
   "outputs": [],
   "source": [
    "data.shape"
   ]
  },
  {
   "cell_type": "markdown",
   "id": "0e08e354",
   "metadata": {},
   "source": [
    "## Data Preprocessing"
   ]
  },
  {
   "cell_type": "markdown",
   "id": "5d22b5e1",
   "metadata": {},
   "source": [
    "### Data encoding"
   ]
  },
  {
   "cell_type": "markdown",
   "id": "ce2db206",
   "metadata": {},
   "source": [
    "Pada tahap data encoding dilakukan untuk variabel-variabel dengan tipe object dan category dengan tujuan untuk mengubah dari nilai object/category menjadi numeric (0 dan 1) sehingga variabel-variabel tersebut dapat diproses lebih lanjut."
   ]
  },
  {
   "cell_type": "code",
   "execution_count": null,
   "id": "d221ca6c",
   "metadata": {},
   "outputs": [],
   "source": [
    "from sklearn.preprocessing import OneHotEncoder\n",
    "cat_col = data.select_dtypes(include=['object','category']).columns.tolist()\n",
    "print(cat_col)\n",
    "\n",
    "# menjalankan OneHotEncoder dan menggabungkan data frame original (data) dengan data frame hasil encoding (enc_df)\n",
    "for col in cat_col:\n",
    "    encoder = OneHotEncoder(handle_unknown='ignore')\n",
    "    enc_df = pd.DataFrame(encoder.fit_transform(data[[col]]).toarray())\n",
    "    enc_df.columns = encoder.get_feature_names([col])\n",
    "    data = data.drop(col, axis=1)\n",
    "    data = pd.concat([data, enc_df], axis=1)"
   ]
  },
  {
   "cell_type": "code",
   "execution_count": null,
   "id": "3b65eaf2",
   "metadata": {},
   "outputs": [],
   "source": [
    "data.columns"
   ]
  },
  {
   "cell_type": "code",
   "execution_count": null,
   "id": "65e8a827",
   "metadata": {
    "scrolled": true
   },
   "outputs": [],
   "source": [
    "data.head()"
   ]
  },
  {
   "cell_type": "markdown",
   "id": "043a2f72",
   "metadata": {},
   "source": [
    "Data di atas merupakan hasil penggabungan dataframe original dan data hasil encoding yang akan digunakan untuk tahap selanjutnya. Pada data di atas terdapat variabel-variabel baru yaitu kolom source, destination, name, summary, dan icon. Maka tahap selanjutnya yaitu cek korelasi kolom-kolom tersebut dengan variabel prediktor (price)."
   ]
  },
  {
   "cell_type": "markdown",
   "id": "f15936ba",
   "metadata": {},
   "source": [
    "### Cek data source dengan price"
   ]
  },
  {
   "cell_type": "code",
   "execution_count": null,
   "id": "58bb8ee9",
   "metadata": {},
   "outputs": [],
   "source": [
    "# membuat dataframe dengan variabel price dan source\n",
    "src_col = ['price','source_Back Bay', 'source_Beacon Hill', 'source_Boston University',\n",
    "       'source_Fenway', 'source_Financial District', 'source_Haymarket Square',\n",
    "       'source_North End', 'source_North Station',\n",
    "       'source_Northeastern University', 'source_South Station',\n",
    "       'source_Theatre District', 'source_West End', 'destination_Back Bay']\n",
    "data_src = data[src_col]\n",
    "data_src.head()"
   ]
  },
  {
   "cell_type": "code",
   "execution_count": null,
   "id": "76b32c02",
   "metadata": {
    "scrolled": true
   },
   "outputs": [],
   "source": [
    "# membuat plot heatmap untuk melihat korelasi pada data_src\n",
    "plt.figure(figsize=(12,12))\n",
    "sns.heatmap(data_src.corr(),annot=True, mask=np.triu(data_src.corr()))"
   ]
  },
  {
   "cell_type": "markdown",
   "id": "c63196d2",
   "metadata": {},
   "source": [
    "Dari plot di atas dapat dilihat bahwa antara variabel prediktor (price) tidak memiliki korelasi dengan variabel-variabel source karena nilai korelasinya negatif dan ada juga yang hampir 0, sehingga variabel-variabel source tersebut dapat dihapus."
   ]
  },
  {
   "cell_type": "code",
   "execution_count": null,
   "id": "8000f5d6",
   "metadata": {},
   "outputs": [],
   "source": [
    "src_cols = ['source_Back Bay', 'source_Beacon Hill', 'source_Boston University',\n",
    "       'source_Fenway', 'source_Financial District', 'source_Haymarket Square',\n",
    "       'source_North End', 'source_North Station',\n",
    "       'source_Northeastern University', 'source_South Station',\n",
    "       'source_Theatre District', 'source_West End']\n",
    "data = data.drop(src_cols,axis=1)"
   ]
  },
  {
   "cell_type": "code",
   "execution_count": null,
   "id": "5bb35746",
   "metadata": {},
   "outputs": [],
   "source": [
    "print(data.shape)\n",
    "data.head()"
   ]
  },
  {
   "cell_type": "markdown",
   "id": "643b54cb",
   "metadata": {},
   "source": [
    "### Cek data destination dengan price"
   ]
  },
  {
   "cell_type": "code",
   "execution_count": null,
   "id": "74fac810",
   "metadata": {},
   "outputs": [],
   "source": [
    "# membuat dataframe dengan variabel price dan destination\n",
    "dst_col = ['price','destination_Back Bay',\n",
    "       'destination_Beacon Hill', 'destination_Boston University',\n",
    "       'destination_Fenway', 'destination_Financial District',\n",
    "       'destination_Haymarket Square', 'destination_North End',\n",
    "       'destination_North Station', 'destination_Northeastern University',\n",
    "       'destination_South Station', 'destination_Theatre District',\n",
    "       'destination_West End']\n",
    "data_dst = data[dst_col]\n",
    "data_dst.head()"
   ]
  },
  {
   "cell_type": "code",
   "execution_count": null,
   "id": "6dce94b2",
   "metadata": {
    "scrolled": true
   },
   "outputs": [],
   "source": [
    "# membuat plot heatmap untuk melihat korelasi pada data_dst\n",
    "plt.figure(figsize=(12,12))\n",
    "sns.heatmap(data_dst.corr(),annot=True, mask=np.triu(data_dst.corr()))"
   ]
  },
  {
   "cell_type": "markdown",
   "id": "08306a7a",
   "metadata": {},
   "source": [
    "Dari plot di atas dapat dilihat bahwa antara variabel prediktor (price) tidak memiliki korelasi dengan variabel-variabel destination karena nilai korelasinya negatif dan ada juga yang hampir 0, sehingga variabel-variabel destination tersebut dapat dihapus."
   ]
  },
  {
   "cell_type": "code",
   "execution_count": null,
   "id": "719b2b91",
   "metadata": {},
   "outputs": [],
   "source": [
    "# drop source dan destination column value\n",
    "dst_cols = ['destination_Back Bay','destination_Back Bay',\n",
    "       'destination_Beacon Hill', 'destination_Boston University',\n",
    "       'destination_Fenway', 'destination_Financial District',\n",
    "       'destination_Haymarket Square', 'destination_North End',\n",
    "       'destination_North Station', 'destination_Northeastern University',\n",
    "       'destination_South Station', 'destination_Theatre District',\n",
    "       'destination_West End']\n",
    "data = data.drop(dst_cols,axis=1)"
   ]
  },
  {
   "cell_type": "code",
   "execution_count": null,
   "id": "3563ef93",
   "metadata": {},
   "outputs": [],
   "source": [
    "print(data.shape)\n",
    "data.head()"
   ]
  },
  {
   "cell_type": "markdown",
   "id": "8abe987f",
   "metadata": {},
   "source": [
    "###  Cek data summary dengan price"
   ]
  },
  {
   "cell_type": "code",
   "execution_count": null,
   "id": "cd270bbb",
   "metadata": {},
   "outputs": [],
   "source": [
    "# membuat dataframe dengan variabel price dan summary\n",
    "summ_cols = ['price','short_summary_ Drizzle ', 'short_summary_ Foggy ',\n",
    "       'short_summary_ Light Rain ', 'short_summary_ Mostly Cloudy ',\n",
    "       'short_summary_ Overcast ', 'short_summary_ Partly Cloudy ',\n",
    "       'short_summary_ Possible Drizzle ', 'short_summary_ Rain ','short_summary_ Clear ']\n",
    "data_summ = data[summ_cols]\n",
    "data_summ.head()"
   ]
  },
  {
   "cell_type": "code",
   "execution_count": null,
   "id": "3b2c4865",
   "metadata": {},
   "outputs": [],
   "source": [
    "#membuat plot heatmap untuk melihat korelasi pada data_summ\n",
    "plt.figure(figsize=(12,12))\n",
    "sns.heatmap(data_summ.corr(),annot=True, mask=np.triu(data_summ.corr()))"
   ]
  },
  {
   "cell_type": "markdown",
   "id": "47356b0d",
   "metadata": {},
   "source": [
    "Dari plot di atas dapat dilihat bahwa antara variabel prediktor (price) tidak memiliki korelasi dengan variabel-variabel sumary karena nilai korelasinya negatif dan ada juga yang hampir 0, sehingga variabel-variabel summary tersebut dapat dihapus."
   ]
  },
  {
   "cell_type": "code",
   "execution_count": null,
   "id": "2bc0dc21",
   "metadata": {},
   "outputs": [],
   "source": [
    "# drop data column summary\n",
    "summ_cols = ['short_summary_ Drizzle ', 'short_summary_ Foggy ',\n",
    "       'short_summary_ Light Rain ', 'short_summary_ Mostly Cloudy ',\n",
    "       'short_summary_ Overcast ', 'short_summary_ Partly Cloudy ',\n",
    "       'short_summary_ Possible Drizzle ', 'short_summary_ Rain ','short_summary_ Clear ']\n",
    "data = data.drop(summ_cols,axis=1)"
   ]
  },
  {
   "cell_type": "code",
   "execution_count": null,
   "id": "56fb3b65",
   "metadata": {},
   "outputs": [],
   "source": [
    "print(data.shape)\n",
    "data.head()"
   ]
  },
  {
   "cell_type": "markdown",
   "id": "3c904732",
   "metadata": {},
   "source": [
    "### Cek data icon dengan price"
   ]
  },
  {
   "cell_type": "code",
   "execution_count": null,
   "id": "80e4a1c1",
   "metadata": {},
   "outputs": [],
   "source": [
    "# membuat dataframe dengan variabel price dan icon\n",
    "ico_cols = ['price','icon_ clear-day ', 'icon_ clear-night ', 'icon_ cloudy ', 'icon_ fog ',\n",
    "       'icon_ partly-cloudy-day ', 'icon_ partly-cloudy-night ',\n",
    "       'icon_ rain ']\n",
    "data_ico = data[ico_cols]\n",
    "data_ico.head()"
   ]
  },
  {
   "cell_type": "code",
   "execution_count": null,
   "id": "885e8d4e",
   "metadata": {},
   "outputs": [],
   "source": [
    "# membuat plot heatmap untuk melihat korelasi pada data_ico\n",
    "plt.figure(figsize=(12,12))\n",
    "sns.heatmap(data_ico.corr(),annot=True, mask=np.triu(data_ico.corr()))"
   ]
  },
  {
   "cell_type": "markdown",
   "id": "8f3f4e85",
   "metadata": {},
   "source": [
    "Dari plot di atas dapat dilihat bahwa antara variabel prediktor (price) tidak memiliki korelasi dengan variabel-variabel icon karena nilai korelasinya negatif dan ada juga yang hampir 0, sehingga variabel-variabel icon tersebut dapat dihapus."
   ]
  },
  {
   "cell_type": "code",
   "execution_count": null,
   "id": "ce440afe",
   "metadata": {
    "scrolled": true
   },
   "outputs": [],
   "source": [
    "# drop data column icon\n",
    "ico_cols = ['icon_ clear-day ', 'icon_ clear-night ', 'icon_ cloudy ', 'icon_ fog ',\n",
    "       'icon_ partly-cloudy-day ', 'icon_ partly-cloudy-night ',\n",
    "       'icon_ rain ']\n",
    "data = data.drop(ico_cols,axis=1)"
   ]
  },
  {
   "cell_type": "code",
   "execution_count": null,
   "id": "d043a019",
   "metadata": {},
   "outputs": [],
   "source": [
    "print(data.shape)\n",
    "data.head()"
   ]
  },
  {
   "cell_type": "markdown",
   "id": "4c7e7049",
   "metadata": {},
   "source": [
    "### Cek data name dengan price"
   ]
  },
  {
   "cell_type": "code",
   "execution_count": null,
   "id": "2ba0c312",
   "metadata": {},
   "outputs": [],
   "source": [
    "# membuat dataframe dengan variabel price dan name\n",
    "name_cols = ['price','name_Black', 'name_Black SUV',\n",
    "       'name_Lux', 'name_Lux Black', 'name_Lux Black XL', 'name_Lyft',\n",
    "       'name_Lyft XL', 'name_Shared', 'name_Taxi', 'name_UberPool',\n",
    "       'name_UberX', 'name_UberXL', 'name_WAV']\n",
    "data_name = data[name_cols]\n",
    "data_name.head()"
   ]
  },
  {
   "cell_type": "code",
   "execution_count": null,
   "id": "dc8d05e5",
   "metadata": {
    "scrolled": true
   },
   "outputs": [],
   "source": [
    "# membuat plot heatmap untuk melihat korelasi pada data_name\n",
    "plt.figure(figsize=(12,12))\n",
    "sns.heatmap(data_name.corr(),annot=True, mask=np.triu(data_name.corr()))"
   ]
  },
  {
   "cell_type": "markdown",
   "id": "4ff701fd",
   "metadata": {},
   "source": [
    "Dari plot di atas dapat dilihat bahwa beberapa variabel name memiliki korelasi positif dengan variabel price mencapai nilai korelasi 0.5, sehingga variabel name dapat menjadi variabel yang berpengaruh terhadap variabel price."
   ]
  },
  {
   "cell_type": "markdown",
   "id": "39285b99",
   "metadata": {},
   "source": [
    "### Cek data remaining column dengan price"
   ]
  },
  {
   "cell_type": "code",
   "execution_count": null,
   "id": "8036a257",
   "metadata": {},
   "outputs": [],
   "source": [
    "# membuat dataframe dengan variabel price dan variabel lainnya yang tersisa\n",
    "rem_cols =['price','hour', 'day', 'month', 'distance', 'surge_multiplier','cab_type_Lyft','cab_type_Uber']\n",
    "data_rem = data[rem_cols]\n",
    "data_rem.head()"
   ]
  },
  {
   "cell_type": "code",
   "execution_count": null,
   "id": "f1bf64f5",
   "metadata": {
    "scrolled": true
   },
   "outputs": [],
   "source": [
    "# membuat plot heatmap untuk melihat korelasi pada data_rem\n",
    "plt.figure(figsize=(12,12))\n",
    "sns.heatmap(data_rem.corr(),annot=True, mask=np.triu(data_rem.corr()))"
   ]
  },
  {
   "cell_type": "markdown",
   "id": "c6584bba",
   "metadata": {},
   "source": [
    "Dari plot di atas dapat dilihat bahwa variabel yang cukup memiliki korelasi dengan variabel price yaitu **surge_multiplier** dan **distance** dengan nilai korelasi **0.24** dan **0.35**, sedangkan variabel lainnya tidak memiliki korelasi atau memiliki korelasi yang lemah dengan variabel price karena nilai korelasinya negatif ataupun hampir 0 sehingga variabel lainnya dapat dihapus."
   ]
  },
  {
   "cell_type": "code",
   "execution_count": null,
   "id": "48fa804f",
   "metadata": {},
   "outputs": [],
   "source": [
    "data = data.drop(['month','day','hour','cab_type_Lyft','cab_type_Uber'],axis=1)\n",
    "print(data.shape)\n",
    "data.head()"
   ]
  },
  {
   "cell_type": "markdown",
   "id": "ceb83973",
   "metadata": {},
   "source": [
    "### Cek Missing Value Pada Dataset"
   ]
  },
  {
   "cell_type": "code",
   "execution_count": null,
   "id": "6e0a1198",
   "metadata": {
    "scrolled": true
   },
   "outputs": [],
   "source": [
    "#Mengecek missing value dari dataset\n",
    "data.isnull().sum()"
   ]
  },
  {
   "cell_type": "markdown",
   "id": "37365f80",
   "metadata": {},
   "source": [
    "Terdapat 55095 missing value pada data price. Sehingga untuk mengatasinya maka akan dihapus nilai NA pada data price dengan cara `.dropna` "
   ]
  },
  {
   "cell_type": "code",
   "execution_count": null,
   "id": "7b1002a7",
   "metadata": {},
   "outputs": [],
   "source": [
    "# handling missing value\n",
    "data = data.dropna(subset = ['price']).reset_index()"
   ]
  },
  {
   "cell_type": "code",
   "execution_count": null,
   "id": "37a7de6a",
   "metadata": {},
   "outputs": [],
   "source": [
    "# cek kembali missing value\n",
    "data.shape\n",
    "data.isnull().sum()"
   ]
  },
  {
   "cell_type": "markdown",
   "id": "da910815",
   "metadata": {},
   "source": [
    "Dapat dilihat bahwa sudah tidak terdapat missing value pada data, maka dapat dilanjutkan ke tahap selanjutnya yaitu cek outliers."
   ]
  },
  {
   "cell_type": "markdown",
   "id": "cf09c042",
   "metadata": {},
   "source": [
    "## Explorasi Data Analysis"
   ]
  },
  {
   "cell_type": "markdown",
   "id": "31ea9290",
   "metadata": {},
   "source": [
    "### Variabel Dependen"
   ]
  },
  {
   "cell_type": "code",
   "execution_count": null,
   "id": "b8abdd0a",
   "metadata": {
    "scrolled": true
   },
   "outputs": [],
   "source": [
    "sns.boxplot(data['price'])"
   ]
  },
  {
   "cell_type": "markdown",
   "id": "1efe6acc",
   "metadata": {},
   "source": [
    "Dari boxplot di atas terlihat bahwa terdapat banyak bulatan hitam, artinya data price mengandung banyak outlier. Agar model dapat bekerja dengan baik nantinya maka outliers tersebut perlu dihilangkan dengan cara menghapus nilai data price yang melebihi batas atas(max_threshold)."
   ]
  },
  {
   "cell_type": "code",
   "execution_count": null,
   "id": "c77a9e90",
   "metadata": {},
   "outputs": [],
   "source": [
    "max_threshold = data['price'].quantile(0.99)\n",
    "max_threshold"
   ]
  },
  {
   "cell_type": "markdown",
   "id": "0046229a",
   "metadata": {},
   "source": [
    "Batas atas quantile yaitu 42.5"
   ]
  },
  {
   "cell_type": "code",
   "execution_count": null,
   "id": "775f88ff",
   "metadata": {},
   "outputs": [],
   "source": [
    "# melihat data price dengan nilai lebih dari max_threshold\n",
    "data[data['price']>max_threshold]"
   ]
  },
  {
   "cell_type": "code",
   "execution_count": null,
   "id": "0925be86",
   "metadata": {
    "scrolled": true
   },
   "outputs": [],
   "source": [
    "# drop data price yang memiliki nilai lebih dari max_threshold atau lebih dari 42.5\n",
    "out = np.where(data['price']>42.5)\n",
    "print(out[0])\n",
    "print(np.count_nonzero(np.where(data['price']>42.5)))"
   ]
  },
  {
   "cell_type": "code",
   "execution_count": null,
   "id": "59aabba7",
   "metadata": {},
   "outputs": [],
   "source": [
    "data.drop(out[0], inplace = True)\n",
    "data.shape"
   ]
  },
  {
   "cell_type": "code",
   "execution_count": null,
   "id": "98722f7d",
   "metadata": {
    "scrolled": true
   },
   "outputs": [],
   "source": [
    "# cek kembali outliers\n",
    "sns.boxplot(data['price'])"
   ]
  },
  {
   "cell_type": "markdown",
   "id": "50f64585",
   "metadata": {},
   "source": [
    "Dari box plot di atas dapat dilihat bahwa data price sudah tidak mengandung outliers."
   ]
  },
  {
   "cell_type": "markdown",
   "id": "2589847c",
   "metadata": {},
   "source": [
    "### Variabel Independen"
   ]
  },
  {
   "cell_type": "code",
   "execution_count": null,
   "id": "6ba9f17e",
   "metadata": {
    "scrolled": true
   },
   "outputs": [],
   "source": [
    "# membuat data frame yang berisi variabel price, distance, dan surge multiplier\n",
    "data2 = data[['price','distance','surge_multiplier']]\n",
    "data2.head()"
   ]
  },
  {
   "cell_type": "code",
   "execution_count": null,
   "id": "2e8048a3",
   "metadata": {},
   "outputs": [],
   "source": [
    "data2.info()"
   ]
  },
  {
   "cell_type": "code",
   "execution_count": null,
   "id": "af9b9208",
   "metadata": {
    "scrolled": true
   },
   "outputs": [],
   "source": [
    "data2.describe()"
   ]
  },
  {
   "cell_type": "markdown",
   "id": "fda28009",
   "metadata": {},
   "source": [
    "Untuk variabel distance :\n",
    "- rata-rata jarak perjalanan yaitu 2,17\n",
    "- jarak terdekat yang ditempuh yaitu 0,02 sedangkan jarak terjauh yang ditemputh yaitu 7,86\n",
    "\n",
    "Untuk variabel surge multiplier :\n",
    "- data surge multiplier bernilai dari rentang 1 - 3\n",
    "- rata-rata surge multiplier yaitu 1"
   ]
  },
  {
   "cell_type": "code",
   "execution_count": null,
   "id": "fe111407",
   "metadata": {
    "scrolled": true
   },
   "outputs": [],
   "source": [
    "# melihat distribusi dari variabel distance\n",
    "f = plt.figure(figsize=(12,4))\n",
    "\n",
    "f.add_subplot(1,2,1)\n",
    "data2['distance'].plot(kind='kde')\n",
    "\n",
    "f.add_subplot(1,2,2)\n",
    "plt.boxplot(data2['distance'])\n",
    "plt.show()"
   ]
  },
  {
   "cell_type": "markdown",
   "id": "b520acd0",
   "metadata": {},
   "source": [
    "- Density dari distribusi variabel distance berada di sekitar angka 0 - 4\n",
    "- Dari boxplot menunjukkan terdapat outliers pada variabel distance"
   ]
  },
  {
   "cell_type": "code",
   "execution_count": null,
   "id": "06da8f81",
   "metadata": {
    "scrolled": true
   },
   "outputs": [],
   "source": [
    "# melihat distribusi dari variabel surge_multiplier\n",
    "f = plt.figure(figsize=(12,4))\n",
    "\n",
    "f.add_subplot(1,2,1)\n",
    "sns.countplot(data2['surge_multiplier'])\n",
    "\n",
    "f.add_subplot(1,2,2)\n",
    "plt.boxplot(data2['surge_multiplier'])\n",
    "plt.show()"
   ]
  },
  {
   "cell_type": "markdown",
   "id": "eeedf196",
   "metadata": {},
   "source": [
    "- Dari countplot terlihat bahwa sebagian besar data surge multiplier memiliki nilai 1, hanya sedikit data yang memiliki nilai 1,25 - 3\n",
    "- Boxplot menunjukan terdapat outlier karena sebagian besar data bernilai 1, sehingga nilai lainnya dianggap outliers"
   ]
  },
  {
   "cell_type": "code",
   "execution_count": null,
   "id": "51069545",
   "metadata": {},
   "outputs": [],
   "source": [
    "# melihat hubungan antara independent dan dependent variabel\n",
    "plt.figure(figsize=(10,8))\n",
    "sns.pairplot(data=data, x_vars=['distance','surge_multiplier'], y_vars=['price'], size=5, aspect=0.75)\n",
    "plt.show()"
   ]
  },
  {
   "cell_type": "markdown",
   "id": "d2c0c488",
   "metadata": {},
   "source": [
    "Dari scatterplot di atas dapat dilihat bahwa polanya naik artinya variabel distance dan surge_multiplier memiliki korelasi positif dengan variabel price"
   ]
  },
  {
   "cell_type": "code",
   "execution_count": null,
   "id": "10fbab63",
   "metadata": {},
   "outputs": [],
   "source": [
    "data2.corr().style.background_gradient().set_precision(2)"
   ]
  },
  {
   "cell_type": "markdown",
   "id": "6cb0ae3d",
   "metadata": {},
   "source": [
    "- Dari tabel korelasi di atas dapat dilihat bahwa variabel distance dan surge multiplier memiliki korelasi positif dengan variabel price dengan nilai 0.32 dan 0.14\n",
    "- Variabel distance dan surge multiplier mempengaruhi price"
   ]
  },
  {
   "cell_type": "markdown",
   "id": "b0c80c2b",
   "metadata": {},
   "source": [
    "## Pendefinisian Model"
   ]
  },
  {
   "cell_type": "markdown",
   "id": "4dac98de",
   "metadata": {},
   "source": [
    "Setelah melalui tahap data cleaning dan preprocessing maka diperoleh data yang akan digunakan untuk pelatihan model selanjutnya. Dari hasil preprocessing, variabel yang memiliki korelasi atau berpengaruh terhadap variabel prediktor (price) yaitu variabel distance, surge_multiplier, dan name. Sehingga variabel-variabel tersebut yang akan digunakan dalam membentuk model linear regression untuk memprediksi price. Berikut datanya :"
   ]
  },
  {
   "cell_type": "code",
   "execution_count": null,
   "id": "a534c574",
   "metadata": {
    "scrolled": true
   },
   "outputs": [],
   "source": [
    "data.head()"
   ]
  },
  {
   "cell_type": "markdown",
   "id": "fe8738bc",
   "metadata": {},
   "source": [
    "Split data menjadi data training dan testing dengan ratio 70:30"
   ]
  },
  {
   "cell_type": "code",
   "execution_count": null,
   "id": "50ea1ca7",
   "metadata": {},
   "outputs": [],
   "source": [
    "from sklearn.model_selection import train_test_split\n",
    "y = data['price'].values\n",
    "X = data.drop(columns=['index','price'],axis=1).values\n",
    "\n",
    "X_train, X_test, y_train, y_test = train_test_split(X, y, test_size=0.30, random_state=0)"
   ]
  },
  {
   "cell_type": "markdown",
   "id": "48d1ccbd",
   "metadata": {},
   "source": [
    "## Pelatihan Model"
   ]
  },
  {
   "cell_type": "code",
   "execution_count": null,
   "id": "397410e8",
   "metadata": {},
   "outputs": [],
   "source": [
    "from sklearn.linear_model import LinearRegression\n",
    "\n",
    "model = LinearRegression()\n",
    "model = model.fit(X_train,y_train)"
   ]
  },
  {
   "cell_type": "markdown",
   "id": "d131e0b6",
   "metadata": {},
   "source": [
    "`.fit()` untuk menghitung nilai optimal dari bobot 𝑏₀ dan 𝑏₁ pada model linear regression."
   ]
  },
  {
   "cell_type": "code",
   "execution_count": null,
   "id": "99ec2117",
   "metadata": {},
   "outputs": [],
   "source": [
    "# model intercept\n",
    "print('intercept:', model.intercept_)"
   ]
  },
  {
   "cell_type": "code",
   "execution_count": null,
   "id": "f4a4d8fc",
   "metadata": {},
   "outputs": [],
   "source": [
    "data_column = data.drop(['index','price'], axis=1)"
   ]
  },
  {
   "cell_type": "code",
   "execution_count": null,
   "id": "577e1901",
   "metadata": {},
   "outputs": [],
   "source": [
    "# model slope\n",
    "data_column = data.drop(['index','price'], axis=1)\n",
    "coef_dict = {\n",
    "    'features' : data_column.columns,\n",
    "    'coef_value' : model.coef_\n",
    "}\n",
    "coef = pd.DataFrame(coef_dict, columns=['features', 'coef_value'])\n",
    "coef"
   ]
  },
  {
   "cell_type": "markdown",
   "id": "c9a38dd1",
   "metadata": {},
   "source": [
    "Intercept dan Slope merupakan atribut dari `model` dengan keterangan :\n",
    "- `.intercept_` :  𝑏0 \n",
    "- `.coef_` : 𝑏1, 𝑏2, . . ., 𝑏n"
   ]
  },
  {
   "cell_type": "code",
   "execution_count": null,
   "id": "fd7a5525",
   "metadata": {},
   "outputs": [],
   "source": [
    "y_pred = model.predict(X_test)\n",
    "print('predicted response: ', y_pred, sep='\\n')"
   ]
  },
  {
   "cell_type": "markdown",
   "id": "5002c525",
   "metadata": {},
   "source": [
    "## Evaluasi Model"
   ]
  },
  {
   "cell_type": "code",
   "execution_count": null,
   "id": "9ee836b0",
   "metadata": {},
   "outputs": [],
   "source": [
    "r_sq = model.score(X_train,y_train)\n",
    "print('coefficient of determination:', r_sq)"
   ]
  },
  {
   "cell_type": "markdown",
   "id": "85807398",
   "metadata": {},
   "source": [
    "- Untuk mengetahui apakah model memberikan hasil prediksi yang baik yaitu dengan nilai coefficient of determination (𝑅²). \n",
    "\n",
    "- Dari `.score()` diperoleh nilai 𝑅² sebesar 0.9332386099913654 atau sebesar 93,32% maka dapat dikatakan model bekerja dengan baik karena variabel distance, surge_multiplier, dan name efektif untuk memprediksi variabel price.\n",
    "\n",
    "- Dapat diartikan pula bahwa variabel distance, surge_multiplier, dan name merupakan faktor-faktor yang mempengaruhi price sebesar 93,32%, sedangkan 6,68% sisanya dipengaruhi oleh faktor lain."
   ]
  },
  {
   "cell_type": "code",
   "execution_count": null,
   "id": "9ab60064",
   "metadata": {},
   "outputs": [],
   "source": [
    "from sklearn.metrics import mean_squared_error\n",
    "mse = mean_squared_error(y_test,y_pred)\n",
    "rootmeansq = np.sqrt(mse)\n",
    "print(mse)\n",
    "print(rootmeansq)"
   ]
  },
  {
   "cell_type": "markdown",
   "id": "e2b2246b",
   "metadata": {},
   "source": [
    "Root Mean Squared Error (RMSE) adalah suatu metode evaluasi yang didasarkan pada total kuadratis dari simpangan antara hasil model dengan hasil observasi. Nilai RMSE menunjukkan seberapa besar error yang dimiliki model dibandingkan dengan data riil/aktual.\n",
    "\n",
    "Model regresi di atas memiliki nilai RMSE = 2.2601751143350115 sehingga error dari model yaitu sekitar 2.26%, karena nilai errornya sangat kecil artinya nilai data hasil prediksi dekat dengan nilai data aktual sehingga dapat dikatakan bahwa model cukup akurat untuk memprediksi harga taksi."
   ]
  },
  {
   "cell_type": "code",
   "execution_count": null,
   "id": "5034fb50",
   "metadata": {},
   "outputs": [],
   "source": [
    "pickle.dump(model, open('model_linreg.pkl','wb'))"
   ]
  },
  {
   "cell_type": "markdown",
   "id": "4efb10ff",
   "metadata": {},
   "source": [
    "## Prediction"
   ]
  },
  {
   "cell_type": "markdown",
   "id": "72230d9a",
   "metadata": {},
   "source": [
    "####  <span style='background:yellow'>Follow  these instructions before predicting the price:</span> \n",
    "<hr>\n",
    "\n",
    "-  **For distance**: Enter distance value using (ex : 2)\n",
    "\n",
    "- **For Surge_multiplier** : <font color = 'red'>Enter Surge Multiplier value from 1 to 3</font>\n",
    "\n",
    "- **for Cab Name**:  <font color = 'blue'>Put value \"1\" for the cab name that you want to predict and put value \"0\" for the rest of the cab name</font>"
   ]
  },
  {
   "cell_type": "markdown",
   "id": "e6eeb4ee",
   "metadata": {},
   "source": [
    "Misalkan prediksi harga taksi dengan kriteria sebagai berikut :\n",
    "1. distance = 2.5\n",
    "2. surge multiplier = 1\n",
    "3. Cab Name = Lux Black XL"
   ]
  },
  {
   "cell_type": "code",
   "execution_count": null,
   "id": "d4dfae7c",
   "metadata": {},
   "outputs": [],
   "source": [
    "# prediksi harga taksi\n",
    "# model.predict(distance, surge_multiplier, black, black SUV, lux, lux black, Black XL, Lyft, Lyft XL, Shared, Taxi, UberPool, UberX, UberXL, WAV)\n",
    "\n",
    "model.predict([[2.5,1,0,0,0,0,1,0,0,0,0,0,0,0,0]])"
   ]
  },
  {
   "cell_type": "markdown",
   "id": "068147ff",
   "metadata": {},
   "source": [
    "Harga taksi Lux Black XL untuk perjalanan dengan distance 2.5 dan surge multiplier 1 diprediksi sebesar $31.87"
   ]
  },
  {
   "cell_type": "markdown",
   "id": "e2c0fd47",
   "metadata": {},
   "source": [
    "## Kesimpulan"
   ]
  },
  {
   "cell_type": "markdown",
   "id": "ef3e0efd",
   "metadata": {},
   "source": [
    "1. Pada project ini dilakukan prediksi harga taksi uber dan lyft dengan variabel dependen yaitu 'price', serta variabel independen yaitu 'distance', 'surge multiplier', dan 'name'\n",
    "\n",
    "\n",
    "2. Variabel name merupakan data category sehingga menggunakan OneHotEncoding sehingga terbagi menjadi beberapa kolom yaitu 'name_Black', 'name_Black SUV', 'name_Lux', 'name_Lux Black', 'name_Lux Black XL', 'name_Lyft', 'name_Lyft XL', 'name_Shared', 'name_Taxi', 'name_UberPool', 'name_UberX', 'name_UberXL', 'name_WAV'\n",
    "\n",
    "\n",
    "3. Beberapa variabel name tersebut memiliki korelasi positif dengan variabel price mencapai nilai korelasi 0.5, sehingga variabel name merupakan variabel yang berpengaruh terhadap variabel price\n",
    "\n",
    "\n",
    "4. Variabel distance dan surge multiplier juga berpengaruh terhadap memiliki korelasi positif dengan variabel price dengan nilai koreasi 0.32 dan 0.14\n",
    "\n",
    "\n",
    "5. Diperoleh model regresi linier dari data dengan intercept (𝑏0) = -2042273534122.41 dan slope (𝑏1, 𝑏2, . . ., 𝑏n) sebagai berikut ="
   ]
  },
  {
   "cell_type": "markdown",
   "id": "bb426168",
   "metadata": {},
   "source": [
    "6. Koefisien determinasi (𝑅²) dari model yaitu 0.9332386099913654 atau sebesar 93,32% yang berarti bahwa variabel distance, surge_multiplier, dan name merupakan faktor-faktor yang mempengaruhi price sebesar 93,32%, sedangkan 6,68% sisanya dipengaruhi oleh faktor lain. Karena nilai 𝑅² nya besar maka model bekerja dengan baik karena variabel distance, surge multiplier, dan name efektif untuk memprediksi variabel price.\n",
    "\n",
    "\n",
    "7. Nilai Root Mean Squared Error (RMSE) dari model yaitu 2.2601751143350115 sehingga errornya sekitar 2.26%, karena nilai errornya sangat kecil artinya nilai data hasil prediksi dekat dengan nilai data aktual sehingga dapat dikatakan bahwa model cukup akurat untuk memprediksi harga taksi."
   ]
  }
 ],
 "metadata": {
  "kernelspec": {
   "display_name": "Python 3",
   "language": "python",
   "name": "python3"
  },
  "language_info": {
   "codemirror_mode": {
    "name": "ipython",
    "version": 3
   },
   "file_extension": ".py",
   "mimetype": "text/x-python",
   "name": "python",
   "nbconvert_exporter": "python",
   "pygments_lexer": "ipython3",
   "version": "3.8.8"
  }
 },
 "nbformat": 4,
 "nbformat_minor": 5
}
