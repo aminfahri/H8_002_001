{
 "cells": [
  {
   "cell_type": "markdown",
   "metadata": {
    "id": "WeOVN3PGCEwx"
   },
   "source": [
    "# Hacktiv8-PTP Python For Data Science // S.14 // Unsupervised\n",
    "\n"
   ]
  },
  {
   "cell_type": "markdown",
   "metadata": {
    "id": "Oqa9bpOJs2Yx"
   },
   "source": [
    "## Introduction\n"
   ]
  },
  {
   "cell_type": "markdown",
   "metadata": {
    "id": "RWDGW_6t46Ac"
   },
   "source": [
    "Unsupervised machine learning algorithm digunakan untuk mengelompokkan data tidak terstruktur menurut kesamaan dan pola yang berbeda dalam kumpulan data.\n",
    "\n",
    "Istilah \"unsupervised\" mengacu pada fakta bahwa algoritme tidak dipandu seperti supervised learning algorithm.\n",
    "\n",
    "Unsupervised algorithm menangani data tanpa pelatihan sebelumnya - ini adalah fungsi yang melakukan tugasnya dengan data yang tersedia. Di satu sisi, Unsupervised dibiarkan di perangkatnya sendiri untuk menyelesaikan masalah sesuai keinginannya.\n",
    "\n",
    "Unsupervised algorithm berfungsi dengan data tak berlabel. Tujuannya adalah eksplorasi. Jika supervised machine learning berfungsi di bawah aturan yang ditetapkan dengan jelas, unsupervised learning berfungsi dalam kondisi hasil yang tidak diketahui dan karenanya perlu didefinisikan dalam proses.\n",
    "\n",
    "Unsupervised machine learning algorithm digunakan untuk: "
   ]
  },
  {
   "cell_type": "markdown",
   "metadata": {
    "id": "ZzZEZya-5F_7"
   },
   "source": [
    "1. **explore** the structure of the information;\n",
    "2. **extract** valuable insights;\n",
    "3. **detect** patterns;\n",
    "4.**implement** this into its operation in order to increase efficiency."
   ]
  },
  {
   "cell_type": "markdown",
   "metadata": {
    "id": "o9-t4n_Q6Z1t"
   },
   "source": [
    "Dengan kata lain, Unsupervised learning mendeskripsikan informasi yang ada - menelusuri seluk-beluknya dan mengidentifikasi data apa itu sebenarnya.\n",
    "\n",
    "Dua kasus penggunaan umum untuk unsupervised learning adalah exploratory analysis dan dimensionality reduction.\n",
    "\n",
    "Unsupervised learning sangat berguna dalam analisis eksplorasi karena dapat secara otomatis mengidentifikasi struktur dalam data. \n",
    "\n",
    "Misalnya, jika seorang analis mencoba untuk mensegmentasikan konsumen, metode unsupervised clustering akan menjadi titik awal yang bagus untuk analisis mereka. Dalam situasi di mana tidak mungkin atau tidak praktis bagi manusia untuk mengusulkan tren dalam data, unsupervised learning dapat memberikan wawasan awal yang kemudian dapat digunakan untuk menguji hipotesis individu.\n"
   ]
  },
  {
   "cell_type": "markdown",
   "metadata": {
    "id": "qmGhmaycVy1g"
   },
   "source": [
    "\n",
    "\"**Clustering**\" adalah istilah yang digunakan untuk menggambarkan eksplorasi data. Operasi clustering ada dua. Hasil tangkapannya adalah bahwa kedua bagian dari proses tersebut dilakukan pada waktu yang bersamaan.\n",
    "\n",
    "Pengelompokan meliputi:\n",
    "\n",
    "- **Menentukan kredensial** yang membentuk persyaratan untuk setiap cluster. Kredensial kemudian dicocokkan dengan data yang diproses dan dengan demikian cluster terbentuk.\n",
    "- **Mengelompokkan kumpulan data** ke dalam grup tertentu (dikenal sebagai kluster) berdasarkan fitur umumnya.\n",
    "\n",
    "\n"
   ]
  },
  {
   "cell_type": "markdown",
   "metadata": {
    "id": "AQ0qX2D8X9_3"
   },
   "source": [
    "\n",
    "Teknik Clustering sederhana namun efektif. Mereka membutuhkan kerja keras namun seringkali dapat memberi kita beberapa wawasan berharga tentang data.\n",
    "\n",
    "Dengan demikian, Clustering telah digunakan di banyak aplikasi selama beberapa dekade termasuk:\n",
    "\n",
    "- Biology — untuk pengelompokan genetik dan spesies;\n",
    "- Medical imaging — untuk membedakan berbagai jenis jaringan;\n",
    "- Market research — untuk memahami berbagai kelompok pelanggan berdasarkan beberapa atribut\n",
    "- Recommender systems — such as giving you better Amazon suggestions or Netflix movie matches.\n"
   ]
  },
  {
   "cell_type": "markdown",
   "metadata": {
    "id": "CQG92GZTYBgH"
   },
   "source": [
    "\n",
    "Dimensionality reduction, yang mengacu pada metode yang digunakan untuk merepresentasikan data menggunakan lebih sedikit kolom atau fitur, dapat dilakukan melalui unsupervised methods.\n",
    "\n",
    "Singkatnya, Dimensionality reduction adalah proses penyaringan informasi yang relevan. Dimensionality reduction juga dapat diulangi sebagai menyingkirkan hal-hal yang tidak perlu.\n",
    "\n",
    "Masalahnya, data mentah biasanya dilapisi dengan lapisan noise data yang tebal. Bisa apa saja - nilai yang hilang, data yang salah, bit yang kacau, sesuatu yang sederhana yang tidak relevan dengan penyebabnya. Karena itu, sebelum kita mulai menggali insight, kita perlu membersihkannya terlebih dahulu. Dari sudut pandang teknis, Dimensionality reduction adalah proses mengurangi kompleksitas data sambil mempertahankan bagian yang relevan dari strukturnya hingga tingkat tertentu."
   ]
  },
  {
   "cell_type": "markdown",
   "metadata": {
    "id": "WZvn4bfdhV-P"
   },
   "source": [
    "Keuntungan dari teknik dimension reduction : \n",
    "\n",
    "- Mengingkatkan efesiensi dengan mengurangi pemakaian memory komputer dan waktu komputasi \n",
    "- Mempercepat analisa data , proses analisa dengan data rendah biasanya lebih akurat . \n",
    "- Mempercepat pembentukan model dikarenakan tidak semua feature akan di proses pada saat traning. \n",
    "- Mengurangi noice pada data set , membuat peningkatan pada performa model. \n",
    "\n",
    "Kerugian dari teknik dimension reduction : \n",
    "\n",
    "- Adanya potensi loss data (hilang nya informasi yang penting) \n",
    "- Dapat memicu kesalahan interetasi dan pembentukan model. \n",
    "\n"
   ]
  },
  {
   "cell_type": "markdown",
   "metadata": {
    "id": "6Dtwb4tpiwj1"
   },
   "source": [
    "Metode Dimension Reduction : \n",
    "\n",
    "- Missing value ration \n",
    "\n",
    "- Low variance filter \n",
    "\n",
    "- High correlation filter \n",
    "\n",
    "- Backward Feature Elimination \n",
    "\n",
    "- Forward Feature Elimination \n",
    "\n",
    "- High Correlation \n",
    "\n",
    "- Factor Analysis: \n",
    "  - CFA ( Confirmatory Factor Analysis) \n",
    "  - EFA ( Exploratory Factor Analysis) \n",
    "\n",
    "- **Principal Component Analysis (PCA)**\n",
    "\n",
    "- Idependent Component Analysis (ICA) \n",
    "\n",
    "- Linear Discrimanant Analysis (LDA) \n",
    "\n",
    "- Generalized Discriminant Analysis (GDA) \n",
    "\n",
    "- Self-organizing maps (SOM) "
   ]
  },
  {
   "cell_type": "markdown",
   "metadata": {
    "id": "97DsT5mu6oor"
   },
   "source": [
    "# Principal Component Analysis\n"
   ]
  },
  {
   "cell_type": "markdown",
   "metadata": {
    "id": "03DDBEMi6q1a"
   },
   "source": [
    "Principal Component Analysis (PCA) adalah teknik linear dimensionality reduction yang dapat digunakan untuk mengekstraksi informasi dari ruang dimensi tinggi dengan memproyeksikannya ke dalam sub-ruang berdimensi lebih rendah. PCA mencoba untuk mempertahankan bagian penting yang memiliki lebih banyak variasi data dan menghapus bagian yang tidak penting dengan variasi yang lebih sedikit.\n",
    "\n",
    "Dimensionality rediction ini adalah teknik untuk mengurangi jumlah feature dengan tetap menjaga kualitas informasi yang ada pda data set. "
   ]
  },
  {
   "cell_type": "markdown",
   "metadata": {
    "id": "bkm0zKE_Yikw"
   },
   "source": [
    "\n",
    "Dimensi tidak lain adalah fitur yang mewakili data. Misalnya, gambar A 28 X 28 memiliki 784 elemen gambar (piksel) yang merupakan dimensi atau fitur yang secara bersama-sama mewakili gambar tersebut.\n",
    "\n",
    "Satu hal penting yang perlu diperhatikan tentang PCA adalah bahwa ini adalah teknik Unsupervised dimensionality reduction, kita dapat mengelompokkan titik data serupa berdasarkan korelasi fitur di antara mereka tanpa pengawasan (atau label).\n",
    "\n",
    "Menurut Wikipedia, PCA adalah statistical procedure yang menggunakan orthogonal transformation untuk mengubah serangkaian observasi variabel yang mungkin berkorelasi (entitas yang masing-masing mengambil berbagai nilai numerik) menjadi satu set nilai variabel yang tidak berkorelasi linier yang disebut principal components."
   ]
  },
  {
   "cell_type": "markdown",
   "metadata": {
    "id": "6W_GoVBRn5zZ"
   },
   "source": [
    "\"**PCA adalah suatu metode untuk mereduksi dimensi dengan penggunaan beberapa garis/bidang atau principle components (PCs)**\".\n",
    "\n",
    "Dengan tujuan dalam penggunaan beberapa PC, kita dengan mudah melihat dan menafsirkan data ke dalam beberapa cluster. (Tidak selalu tujuan utamanya pembagian cluster). "
   ]
  },
  {
   "cell_type": "markdown",
   "metadata": {
    "id": "tYKlC4tq6xO6"
   },
   "source": [
    "**But where all you can apply PCA?**\n",
    "\n",
    "- **Data Visualization**: Saat mengerjakan masalah terkait data apa pun, tantangan di dunia saat ini adalah banyaknya volume data, dan variabel / fitur yang menentukan data tersebut. Untuk memecahkan masalah di mana data adalah kuncinya, kita memerlukan eksplorasi data yang ekstensif seperti mencari tahu bagaimana variabel dikorelasikan atau memahami distribusi beberapa variabel. Mengingat ada banyak variabel atau dimensi yang digunakan untuk mendistribusikan data, visualisasi dapat menjadi tantangan dan hampir tidak mungkin.\n",
    "\n",
    "Karenanya, PCA dapat melakukan itu untuk kita karena memproyeksikan data ke dimensi yang lebih rendah, sehingga memungkinkan kita untuk memvisualisasikan data dalam ruang 2D atau 3D dengan mata telanjang.\n",
    "\n",
    "- **Speeding Machine Learning (ML) Algorithm**: Karena ide utama PCA adalah pengurangan dimensi/dimensionality reduction, kita dapat memanfaatkannya untuk mempercepat waktu pelatihan dan pengujian algoritma machine learning kita mengingat data kita memiliki banyak fitur.\n",
    "\n",
    "Pada tingkat abstrak, kita mengambil kumpulan data yang memiliki banyak fitur, dan kita menyederhanakan kumpulan data tersebut dengan memilih beberapa Principal Components dari fitur asli.\n"
   ]
  },
  {
   "cell_type": "markdown",
   "metadata": {
    "id": "6aN62A0npbGY"
   },
   "source": [
    "***Hasil akhir dari PCA adalah kita bisa mengetahui faktor apa saja yang paling berperan dalam menjelaskan fenomena yang ada di dataset dengan tetap mempertahankan karakteristik data (maximum variance).***\n",
    "\n",
    "\n",
    "\n",
    "PCA juga merupakan bagian dari unsupervised learning, yang artinya ia tidak memerlukan dependent variables."
   ]
  },
  {
   "cell_type": "markdown",
   "metadata": {
    "id": "G-92mMYuq9wK"
   },
   "source": [
    "## Ilustrasi PCA \n",
    "\n",
    "ilustrasi ini ref dari \"mega bagus herlambang\" "
   ]
  },
  {
   "cell_type": "markdown",
   "metadata": {
    "id": "t4_2G3N9rAm0"
   },
   "source": [
    "Data awal : kita memiliki 6 kelinci dengan 2 DNA \n",
    "contoh seperti gambar dibawah ini : \n"
   ]
  },
  {
   "cell_type": "markdown",
   "metadata": {
    "id": "mMYGLeHmrkv7"
   },
   "source": [
    "<img src=\"https://i.ibb.co/y8vKrH2/PCA-01.jpg\" width=\"500\" align=\"center\">"
   ]
  },
  {
   "cell_type": "markdown",
   "metadata": {
    "id": "shiP9yW5sbK5"
   },
   "source": [
    "Pada saat kita lakukan dalam sebuah scatter plot, maka terlihat seperti dibawah ini :"
   ]
  },
  {
   "cell_type": "markdown",
   "metadata": {
    "id": "L0sil61_r2RU"
   },
   "source": [
    "<img src=\"https://i.ibb.co/VWVH4tn/PCA-02.jpg\" width=\"500\" align=\"center\">"
   ]
  },
  {
   "cell_type": "markdown",
   "metadata": {
    "id": "FCl-k5FassQv"
   },
   "source": [
    "Apakah kita dapat dengan mudah mereprestasikan gambar diatas ? .   \n",
    "\n",
    "Kita bisa menduka terdapat 2 cluster dengan masing2 3 data. Disisi kiri 3 dan disisi kanan 3. Karena terlihat dari titik tersebut berkelompok. \n",
    "\n",
    "Apakah dalam hal ini kita membutuhkan PCA ? \" Saat ini kita tidak membutuhkan. \n",
    "\n",
    "Kemudian ada penambahan data lagi dengan ada 3 Gen seperti gambar dibawah ini : "
   ]
  },
  {
   "cell_type": "markdown",
   "metadata": {
    "id": "EVtaoEKqr3h2"
   },
   "source": [
    "<img src=\"https://i.ibb.co/FsFnf91/PCA-03.jpg\" width=\"500\" align=\"center\">"
   ]
  },
  {
   "cell_type": "markdown",
   "metadata": {
    "id": "wBIkCjuYwpbV"
   },
   "source": [
    "Kita bentuk data diatas menjadi scatter plot seperti dibawah ini : "
   ]
  },
  {
   "cell_type": "markdown",
   "metadata": {
    "id": "zMgqx96TwO9d"
   },
   "source": [
    "<img src=\"https://i.ibb.co/7tFqdwJ/PCA-05.jpg\" width=\"400\" align=\"center\">\n",
    "\n"
   ]
  },
  {
   "cell_type": "markdown",
   "metadata": {
    "id": "qjkFf-DUwxnp"
   },
   "source": [
    "Pada gambar diatas adalah scatter plot 3D. Lingkaran besar datanya lebih dekat ke kita (sebagai pengamat), sedangkan lingkaran kecil artinya datanya semakin jauh.\n",
    "\n",
    "Dengan scatter plaot 3D diatas kita masih bisa mudah melihat atau mengamati dan terdapat 2 cluster yang terbentuk. Dan kita belum memerlukan PCA. \n",
    "\n",
    "Kemudian kita ada tambahan lagi pada Gen , sekarang  terdapat 4 Gen "
   ]
  },
  {
   "cell_type": "markdown",
   "metadata": {
    "id": "w4ShHd4-r4e4"
   },
   "source": [
    "<img src=\"https://i.ibb.co/Sm2ntXZ/PCA-04.jpg\" width=\"500\" align=\"center\">\n"
   ]
  },
  {
   "cell_type": "markdown",
   "metadata": {
    "id": "gCHsfbC_xk07"
   },
   "source": [
    "Dengan Gambaran dataset diatas , kita memiliki 4 feature , kita tidak bisa membuat 4 D . Dan kita hanya mampu melihat 3D , solusi dengan menggunakan PCA . \n",
    "\n",
    "\n",
    "Dengan kita menggunakan PCA, akan membuat PC yang baru dan kita memiliki sudut pandag yang baru. Dengan susut pandang tersebut kita dengan mudah menafsirkan dan membaca data, serta mempertahankan karaktristik datanya tersebut tapi dalam wujud seakan akan beda. \n"
   ]
  },
  {
   "cell_type": "markdown",
   "metadata": {
    "id": "LosnK4s57IF5"
   },
   "source": [
    "## How PCA works\n"
   ]
  },
  {
   "cell_type": "markdown",
   "metadata": {
    "id": "u_FAwvkq62mr"
   },
   "source": [
    "Mari kita lihat cara kerja PCA, menggunakan geometrical approach.\n",
    "\n",
    "Pertimbangkan matriks X dengan baris N (alias \"observasi\") dan kolom K (alias \"variabel\"). Untuk matriks ini kita membangun ruang variabel dengan dimensi sebanyak variabel (lihat gambar di bawah). Setiap variabel mewakili satu sumbu koordinat. Untuk setiap variabel, panjangnya telah distandarisasi menurut kriteria penskalaan, biasanya dengan penskalaan ke varian unit.\n",
    "\n"
   ]
  },
  {
   "cell_type": "markdown",
   "metadata": {
    "id": "Da9x-vF07Je7"
   },
   "source": [
    "<img src=\"https://i.ibb.co/LQNDXMk/14-01.png\" width=\"700\" align=\"center\">"
   ]
  },
  {
   "cell_type": "markdown",
   "metadata": {
    "id": "hbBJEsWB7Odj"
   },
   "source": [
    "K-dimensional variable space. Untuk mempermudah, hanya tiga sumbu variabel yang ditampilkan. \"Panjang\" dari setiap sumbu koordinat telah distandarisasi sesuai dengan kriteria tertentu, biasanya skala varian unit.\n",
    "\n",
    "Pada langkah berikutnya, setiap observasi (baris) dari matriks X ditempatkan di ruang variabel K-dimensional. Akibatnya, baris di tabel data membentuk sekumpulan titik di ruang ini."
   ]
  },
  {
   "cell_type": "markdown",
   "metadata": {
    "id": "HBuJJtjk7RQC"
   },
   "source": [
    "<img src=\"https://i.ibb.co/WHGcNKm/14-02.png\" width=\"700\" align=\"center\">\n"
   ]
  },
  {
   "cell_type": "markdown",
   "metadata": {
    "id": "dkTx-FQl7SMU"
   },
   "source": [
    "Pengamatan (rows) dalam matriks data X dapat dipahami sebagai sekumpulan titik dalam ruang variabel (K-space)."
   ]
  },
  {
   "cell_type": "markdown",
   "metadata": {
    "id": "xbP7GQdn7dxa"
   },
   "source": [
    "### Mean centering"
   ]
  },
  {
   "cell_type": "markdown",
   "metadata": {
    "id": "dpQnqmNA7iER"
   },
   "source": [
    "Selanjutnya, mean-centering melibatkan pengurangan rata-rata variabel dari data. Vektor rata-rata sesuai dengan titik di ruang-K."
   ]
  },
  {
   "cell_type": "markdown",
   "metadata": {
    "id": "Nv4pzfsH7nL9"
   },
   "source": [
    "<img src=\"https://i.ibb.co/1XxFTKw/14-03.png\" width=\"700\" align=\"center\">\n",
    "\n",
    "\n"
   ]
  },
  {
   "cell_type": "markdown",
   "metadata": {
    "id": "Fv86xt6k7q3m"
   },
   "source": [
    "Dalam prosedur mean-centering, pertama kita menghitung rata-rata variabel. Vektor rata-rata ini dapat diinterpretasikan sebagai titik (di sini berwarna merah) di ruang. Titik tersebut terletak di tengah-tengah titik swarm (di pusat gravitasi).\n",
    "\n",
    "Pengurangan rata-rata dari data dilanjutkan dengan pemosisian ulang sistem koordinat, sehingga titik rata-rata sekarang adalah titik asal."
   ]
  },
  {
   "cell_type": "markdown",
   "metadata": {
    "id": "3e7iTDz67sLp"
   },
   "source": [
    "<img src=\"https://i.ibb.co/JqBLWmS/14-04.png\" width=\"700\" align=\"center\">\n",
    "\n"
   ]
  },
  {
   "cell_type": "markdown",
   "metadata": {
    "id": "3IlhLE-w7uT9"
   },
   "source": [
    "Prosedur mean-centering dilanjutkan dengan memindahkan asal dari sistem koordinat untuk bertepatan dengan titik rata-rata (di sini berwarna merah).\n",
    "\n"
   ]
  },
  {
   "cell_type": "markdown",
   "metadata": {
    "id": "M4fTJfuy73kf"
   },
   "source": [
    "### The first principal component\n",
    "Setelah pemusatan rata-rata dan penskalaan ke varian unit, kumpulan data siap untuk penghitungan summary index pertama, principal component pertama (PC1). \n",
    "\n",
    "Komponen ini adalah garis dalam ruang variabel dimensi-K yang paling mendekati data dalam least squares. Garis ini melewati titik rata-rata. Setiap pengamatan (titik kuning) sekarang dapat diproyeksikan ke garis ini untuk mendapatkan nilai koordinat di sepanjang PC-line. Nilai koordinat baru ini juga dikenal sebagai score."
   ]
  },
  {
   "cell_type": "markdown",
   "metadata": {
    "id": "0u6-6dBJ76XY"
   },
   "source": [
    "<img src=\"https://i.ibb.co/SxBnXXt/14-05.png\" width=\"700\" align=\"center\">\n",
    "\n"
   ]
  },
  {
   "cell_type": "markdown",
   "metadata": {
    "id": "cvQ4cKfe77KN"
   },
   "source": [
    "Principal component pertama (PC1) adalah garis yang paling sesuai untuk point swarm. PC1 mewakili maximum variance direction dalam data. Setiap pengamatan (titik kuning) dapat diproyeksikan ke garis ini untuk mendapatkan nilai koordinat di sepanjang PC-line. Nilai ini dikenal sebagai score."
   ]
  },
  {
   "cell_type": "markdown",
   "metadata": {
    "id": "X8s37tMG7-ck"
   },
   "source": [
    "### The second principal component\n"
   ]
  },
  {
   "cell_type": "markdown",
   "metadata": {
    "id": "6eHVojpG8BVo"
   },
   "source": [
    "Biasanya, satu summary index atau principal component tidak cukup untuk memodelkan systematic variation dari suatu kumpulan data. Jadi, summary index kedua - principal component kedua (PC2) - dihitung. PC kedua juga diwakili oleh garis dalam ruang variabel K-dimensional, yang ortogonal ke PC pertama. Garis ini juga **melewati titik rata-rata**, dan meningkatkan perkiraan data X sebanyak mungkin."
   ]
  },
  {
   "cell_type": "markdown",
   "metadata": {
    "id": "MHB8SlEj8ENu"
   },
   "source": [
    "<img src=\"https://i.ibb.co/JdSCThk/14-06.png\" width=\"700\" align=\"center\">"
   ]
  },
  {
   "cell_type": "markdown",
   "metadata": {
    "id": "KRt__d128FHS"
   },
   "source": [
    "Principal component kedua (PC2) diorientasikan sedemikian rupa sehingga mencerminkan sumber variasi terbesar kedua dalam data, sementara ortogonal terhadap PC pertama. PC2 juga melewati titik rata-rata."
   ]
  },
  {
   "cell_type": "markdown",
   "metadata": {
    "id": "a_t1AEjg8IJ7"
   },
   "source": [
    "### Two principal components define a model plane\n"
   ]
  },
  {
   "cell_type": "markdown",
   "metadata": {
    "id": "fRClh1Cw8LN5"
   },
   "source": [
    "Ketika dua principal components ditemukan, mereka bersama-sama menentukan place, window ke ruang variabel K-dimensional. Dengan memproyeksikan semua pengamatan ke sub-ruang berdimensi rendah dan memplot hasilnya, dimungkinkan untuk memvisualisasikan struktur kumpulan data yang diselidiki. Nilai koordinat dari pengamatan pada bidang ini disebut skor, dan karenanya penggambaran konfigurasi yang diproyeksikan seperti itu dikenal sebagai score plot."
   ]
  },
  {
   "cell_type": "markdown",
   "metadata": {
    "id": "K9rJDzJs8TvY"
   },
   "source": [
    "<img src=\"https://i.ibb.co/b7Kwrm6/14-07.png\" width=\"700\" align=\"center\">"
   ]
  },
  {
   "cell_type": "markdown",
   "metadata": {
    "id": "7WU7i6Lw8UsS"
   },
   "source": [
    "Dua PC membentuk plane. Bidang ini merupakan window ke dalam ruang multidimensi, yang dapat divisualisasikan secara grafis. Setiap pengamatan dapat diproyeksikan ke bidang ini, memberikan skor untuk masing-masing."
   ]
  },
  {
   "cell_type": "markdown",
   "metadata": {
    "id": "JcwsWOm08XO4"
   },
   "source": [
    "<img src=\"https://i.ibb.co/hCn2mcn/14-08.png\" width=\"700\" align=\"center\">\n"
   ]
  },
  {
   "cell_type": "markdown",
   "metadata": {
    "id": "iX2omriE8Zpp"
   },
   "source": [
    "# PCA with Python\n"
   ]
  },
  {
   "cell_type": "markdown",
   "metadata": {
    "id": "xkvJg58czQsR"
   },
   "source": [
    "## PCA with Python (Iris Dataset)"
   ]
  },
  {
   "cell_type": "markdown",
   "metadata": {
    "id": "B2eGmS8Tzp36"
   },
   "source": [
    "langkah - langkah dalam melakukan PCA dengan dataset Iris:\n",
    "\n",
    "- Langkah 1: Impor Modul yang Diperlukan\n",
    "- Langkah 2: Dapatkan Dataset Anda\n",
    "- Langkah 3: Pratinjau Data Anda\n",
    "- Langkah 4: Standarisasi Data\n",
    "- Langkah 5: Lakukan PCA\n",
    "- Langkah 6: Menggabungkan Target dan Komponen Utama\n",
    "- Langkah 7: Lakukan Scree Plot dari Komponen Utama\n",
    "- Langkah 8: Visualisasikan Data Baru Anda dalam 2D"
   ]
  },
  {
   "cell_type": "markdown",
   "metadata": {
    "id": "U_gO3Kc70B5L"
   },
   "source": [
    "### Langkah 1: Impor Modul yang Diperlukan"
   ]
  },
  {
   "cell_type": "code",
   "execution_count": 1,
   "metadata": {
    "id": "7k2m30918X7V"
   },
   "outputs": [],
   "source": [
    "import pandas as pd\n",
    "import numpy as np\n",
    "from sklearn.decomposition import PCA\n",
    "from sklearn import preprocessing\n",
    "import matplotlib.pyplot as plt"
   ]
  },
  {
   "cell_type": "markdown",
   "metadata": {
    "id": "zzIih_rz0H4V"
   },
   "source": [
    "### Langkah 2: Dapatkan Dataset Anda\n",
    "\n",
    "\n",
    "\n"
   ]
  },
  {
   "cell_type": "markdown",
   "metadata": {
    "id": "mAKpvPus8eTN"
   },
   "source": []
  },
  {
   "cell_type": "code",
   "execution_count": 2,
   "metadata": {
    "id": "IczpCQ1T8d5S"
   },
   "outputs": [],
   "source": [
    "url = \"https://archive.ics.uci.edu/ml/machine-learning-databases/iris/iris.data\"\n",
    "\n",
    "df = pd.read_csv(url, names=['sepal length', 'sepal width' , 'petal lenght', 'petal width', 'target'])"
   ]
  },
  {
   "cell_type": "markdown",
   "metadata": {
    "id": "UwrNFdSQ8gaC"
   },
   "source": [
    "### Langkah 3: Pratinjau Data Anda\n"
   ]
  },
  {
   "cell_type": "code",
   "execution_count": 3,
   "metadata": {
    "colab": {
     "base_uri": "https://localhost:8080/",
     "height": 408
    },
    "id": "RhExW5ZD8k7j",
    "outputId": "c1e6a7d9-77aa-4204-bef6-9f85b3e6d0ad"
   },
   "outputs": [
    {
     "data": {
      "text/html": [
       "<div>\n",
       "<style scoped>\n",
       "    .dataframe tbody tr th:only-of-type {\n",
       "        vertical-align: middle;\n",
       "    }\n",
       "\n",
       "    .dataframe tbody tr th {\n",
       "        vertical-align: top;\n",
       "    }\n",
       "\n",
       "    .dataframe thead th {\n",
       "        text-align: right;\n",
       "    }\n",
       "</style>\n",
       "<table border=\"1\" class=\"dataframe\">\n",
       "  <thead>\n",
       "    <tr style=\"text-align: right;\">\n",
       "      <th></th>\n",
       "      <th>sepal length</th>\n",
       "      <th>sepal width</th>\n",
       "      <th>petal lenght</th>\n",
       "      <th>petal width</th>\n",
       "      <th>target</th>\n",
       "    </tr>\n",
       "  </thead>\n",
       "  <tbody>\n",
       "    <tr>\n",
       "      <th>0</th>\n",
       "      <td>5.1</td>\n",
       "      <td>3.5</td>\n",
       "      <td>1.4</td>\n",
       "      <td>0.2</td>\n",
       "      <td>Iris-setosa</td>\n",
       "    </tr>\n",
       "    <tr>\n",
       "      <th>1</th>\n",
       "      <td>4.9</td>\n",
       "      <td>3.0</td>\n",
       "      <td>1.4</td>\n",
       "      <td>0.2</td>\n",
       "      <td>Iris-setosa</td>\n",
       "    </tr>\n",
       "    <tr>\n",
       "      <th>2</th>\n",
       "      <td>4.7</td>\n",
       "      <td>3.2</td>\n",
       "      <td>1.3</td>\n",
       "      <td>0.2</td>\n",
       "      <td>Iris-setosa</td>\n",
       "    </tr>\n",
       "    <tr>\n",
       "      <th>3</th>\n",
       "      <td>4.6</td>\n",
       "      <td>3.1</td>\n",
       "      <td>1.5</td>\n",
       "      <td>0.2</td>\n",
       "      <td>Iris-setosa</td>\n",
       "    </tr>\n",
       "    <tr>\n",
       "      <th>4</th>\n",
       "      <td>5.0</td>\n",
       "      <td>3.6</td>\n",
       "      <td>1.4</td>\n",
       "      <td>0.2</td>\n",
       "      <td>Iris-setosa</td>\n",
       "    </tr>\n",
       "    <tr>\n",
       "      <th>...</th>\n",
       "      <td>...</td>\n",
       "      <td>...</td>\n",
       "      <td>...</td>\n",
       "      <td>...</td>\n",
       "      <td>...</td>\n",
       "    </tr>\n",
       "    <tr>\n",
       "      <th>145</th>\n",
       "      <td>6.7</td>\n",
       "      <td>3.0</td>\n",
       "      <td>5.2</td>\n",
       "      <td>2.3</td>\n",
       "      <td>Iris-virginica</td>\n",
       "    </tr>\n",
       "    <tr>\n",
       "      <th>146</th>\n",
       "      <td>6.3</td>\n",
       "      <td>2.5</td>\n",
       "      <td>5.0</td>\n",
       "      <td>1.9</td>\n",
       "      <td>Iris-virginica</td>\n",
       "    </tr>\n",
       "    <tr>\n",
       "      <th>147</th>\n",
       "      <td>6.5</td>\n",
       "      <td>3.0</td>\n",
       "      <td>5.2</td>\n",
       "      <td>2.0</td>\n",
       "      <td>Iris-virginica</td>\n",
       "    </tr>\n",
       "    <tr>\n",
       "      <th>148</th>\n",
       "      <td>6.2</td>\n",
       "      <td>3.4</td>\n",
       "      <td>5.4</td>\n",
       "      <td>2.3</td>\n",
       "      <td>Iris-virginica</td>\n",
       "    </tr>\n",
       "    <tr>\n",
       "      <th>149</th>\n",
       "      <td>5.9</td>\n",
       "      <td>3.0</td>\n",
       "      <td>5.1</td>\n",
       "      <td>1.8</td>\n",
       "      <td>Iris-virginica</td>\n",
       "    </tr>\n",
       "  </tbody>\n",
       "</table>\n",
       "<p>150 rows × 5 columns</p>\n",
       "</div>"
      ],
      "text/plain": [
       "     sepal length  sepal width  petal lenght  petal width          target\n",
       "0             5.1          3.5           1.4          0.2     Iris-setosa\n",
       "1             4.9          3.0           1.4          0.2     Iris-setosa\n",
       "2             4.7          3.2           1.3          0.2     Iris-setosa\n",
       "3             4.6          3.1           1.5          0.2     Iris-setosa\n",
       "4             5.0          3.6           1.4          0.2     Iris-setosa\n",
       "..            ...          ...           ...          ...             ...\n",
       "145           6.7          3.0           5.2          2.3  Iris-virginica\n",
       "146           6.3          2.5           5.0          1.9  Iris-virginica\n",
       "147           6.5          3.0           5.2          2.0  Iris-virginica\n",
       "148           6.2          3.4           5.4          2.3  Iris-virginica\n",
       "149           5.9          3.0           5.1          1.8  Iris-virginica\n",
       "\n",
       "[150 rows x 5 columns]"
      ]
     },
     "execution_count": 3,
     "metadata": {},
     "output_type": "execute_result"
    }
   ],
   "source": [
    "df"
   ]
  },
  {
   "cell_type": "markdown",
   "metadata": {
    "id": "chW9bRro8ljr"
   },
   "source": [
    "### Langkah 4: Standarisasi Data\n"
   ]
  },
  {
   "cell_type": "markdown",
   "metadata": {
    "id": "vsVRtQ0E9WW0"
   },
   "source": [
    "Ini berarti bahwa kita perlu memusatkan dan menskalakan data. Dengan cara ini nilai rata-rata setiap record akan menjadi 0 dan varians untuk setiap record akan menjadi 1.\n",
    "\n",
    "Untuk menskalakan data kami, kami akan menggunakan StandardScalar yang tersedia di sklearn.\n",
    "\n",
    "Perhatikan bahwa kami hanya akan menskalakan fitur dan bukan target. Jadi untuk melakukan ini, kita\n",
    "\n",
    "- first import StandardScalar\n",
    "- separate the features from the target\n",
    "- scale the features"
   ]
  },
  {
   "cell_type": "code",
   "execution_count": 4,
   "metadata": {
    "id": "YmSjgdRv-707"
   },
   "outputs": [],
   "source": [
    "from sklearn.preprocessing import StandardScaler\n",
    "\n",
    "features = ['sepal length','sepal width','petal lenght','petal width']"
   ]
  },
  {
   "cell_type": "code",
   "execution_count": 5,
   "metadata": {
    "id": "NJF31OLY--Cq"
   },
   "outputs": [],
   "source": [
    "# feature\n",
    "x = df.loc[:, features].values\n"
   ]
  },
  {
   "cell_type": "code",
   "execution_count": 6,
   "metadata": {
    "id": "4Of6dPn_80jA"
   },
   "outputs": [],
   "source": [
    "# target\n",
    "y = df.loc[:, ['target']].values"
   ]
  },
  {
   "cell_type": "code",
   "execution_count": 7,
   "metadata": {
    "id": "jv4vDykX_5i3"
   },
   "outputs": [],
   "source": [
    "# scale the features\n",
    "x = StandardScaler().fit_transform(x)"
   ]
  },
  {
   "cell_type": "code",
   "execution_count": 8,
   "metadata": {
    "colab": {
     "base_uri": "https://localhost:8080/"
    },
    "id": "Og4RTGGB8mcA",
    "outputId": "4597467f-1821-4d7c-a19c-a026f812bc91"
   },
   "outputs": [
    {
     "data": {
      "text/plain": [
       "array([[-9.00681170e-01,  1.03205722e+00, -1.34127240e+00,\n",
       "        -1.31297673e+00],\n",
       "       [-1.14301691e+00, -1.24957601e-01, -1.34127240e+00,\n",
       "        -1.31297673e+00],\n",
       "       [-1.38535265e+00,  3.37848329e-01, -1.39813811e+00,\n",
       "        -1.31297673e+00],\n",
       "       [-1.50652052e+00,  1.06445364e-01, -1.28440670e+00,\n",
       "        -1.31297673e+00],\n",
       "       [-1.02184904e+00,  1.26346019e+00, -1.34127240e+00,\n",
       "        -1.31297673e+00],\n",
       "       [-5.37177559e-01,  1.95766909e+00, -1.17067529e+00,\n",
       "        -1.05003079e+00],\n",
       "       [-1.50652052e+00,  8.00654259e-01, -1.34127240e+00,\n",
       "        -1.18150376e+00],\n",
       "       [-1.02184904e+00,  8.00654259e-01, -1.28440670e+00,\n",
       "        -1.31297673e+00],\n",
       "       [-1.74885626e+00, -3.56360566e-01, -1.34127240e+00,\n",
       "        -1.31297673e+00],\n",
       "       [-1.14301691e+00,  1.06445364e-01, -1.28440670e+00,\n",
       "        -1.44444970e+00],\n",
       "       [-5.37177559e-01,  1.49486315e+00, -1.28440670e+00,\n",
       "        -1.31297673e+00],\n",
       "       [-1.26418478e+00,  8.00654259e-01, -1.22754100e+00,\n",
       "        -1.31297673e+00],\n",
       "       [-1.26418478e+00, -1.24957601e-01, -1.34127240e+00,\n",
       "        -1.44444970e+00],\n",
       "       [-1.87002413e+00, -1.24957601e-01, -1.51186952e+00,\n",
       "        -1.44444970e+00],\n",
       "       [-5.25060772e-02,  2.18907205e+00, -1.45500381e+00,\n",
       "        -1.31297673e+00],\n",
       "       [-1.73673948e-01,  3.11468391e+00, -1.28440670e+00,\n",
       "        -1.05003079e+00],\n",
       "       [-5.37177559e-01,  1.95766909e+00, -1.39813811e+00,\n",
       "        -1.05003079e+00],\n",
       "       [-9.00681170e-01,  1.03205722e+00, -1.34127240e+00,\n",
       "        -1.18150376e+00],\n",
       "       [-1.73673948e-01,  1.72626612e+00, -1.17067529e+00,\n",
       "        -1.18150376e+00],\n",
       "       [-9.00681170e-01,  1.72626612e+00, -1.28440670e+00,\n",
       "        -1.18150376e+00],\n",
       "       [-5.37177559e-01,  8.00654259e-01, -1.17067529e+00,\n",
       "        -1.31297673e+00],\n",
       "       [-9.00681170e-01,  1.49486315e+00, -1.28440670e+00,\n",
       "        -1.05003079e+00],\n",
       "       [-1.50652052e+00,  1.26346019e+00, -1.56873522e+00,\n",
       "        -1.31297673e+00],\n",
       "       [-9.00681170e-01,  5.69251294e-01, -1.17067529e+00,\n",
       "        -9.18557817e-01],\n",
       "       [-1.26418478e+00,  8.00654259e-01, -1.05694388e+00,\n",
       "        -1.31297673e+00],\n",
       "       [-1.02184904e+00, -1.24957601e-01, -1.22754100e+00,\n",
       "        -1.31297673e+00],\n",
       "       [-1.02184904e+00,  8.00654259e-01, -1.22754100e+00,\n",
       "        -1.05003079e+00],\n",
       "       [-7.79513300e-01,  1.03205722e+00, -1.28440670e+00,\n",
       "        -1.31297673e+00],\n",
       "       [-7.79513300e-01,  8.00654259e-01, -1.34127240e+00,\n",
       "        -1.31297673e+00],\n",
       "       [-1.38535265e+00,  3.37848329e-01, -1.22754100e+00,\n",
       "        -1.31297673e+00],\n",
       "       [-1.26418478e+00,  1.06445364e-01, -1.22754100e+00,\n",
       "        -1.31297673e+00],\n",
       "       [-5.37177559e-01,  8.00654259e-01, -1.28440670e+00,\n",
       "        -1.05003079e+00],\n",
       "       [-7.79513300e-01,  2.42047502e+00, -1.28440670e+00,\n",
       "        -1.44444970e+00],\n",
       "       [-4.16009689e-01,  2.65187798e+00, -1.34127240e+00,\n",
       "        -1.31297673e+00],\n",
       "       [-1.14301691e+00,  1.06445364e-01, -1.28440670e+00,\n",
       "        -1.44444970e+00],\n",
       "       [-1.02184904e+00,  3.37848329e-01, -1.45500381e+00,\n",
       "        -1.31297673e+00],\n",
       "       [-4.16009689e-01,  1.03205722e+00, -1.39813811e+00,\n",
       "        -1.31297673e+00],\n",
       "       [-1.14301691e+00,  1.06445364e-01, -1.28440670e+00,\n",
       "        -1.44444970e+00],\n",
       "       [-1.74885626e+00, -1.24957601e-01, -1.39813811e+00,\n",
       "        -1.31297673e+00],\n",
       "       [-9.00681170e-01,  8.00654259e-01, -1.28440670e+00,\n",
       "        -1.31297673e+00],\n",
       "       [-1.02184904e+00,  1.03205722e+00, -1.39813811e+00,\n",
       "        -1.18150376e+00],\n",
       "       [-1.62768839e+00, -1.74477836e+00, -1.39813811e+00,\n",
       "        -1.18150376e+00],\n",
       "       [-1.74885626e+00,  3.37848329e-01, -1.39813811e+00,\n",
       "        -1.31297673e+00],\n",
       "       [-1.02184904e+00,  1.03205722e+00, -1.22754100e+00,\n",
       "        -7.87084847e-01],\n",
       "       [-9.00681170e-01,  1.72626612e+00, -1.05694388e+00,\n",
       "        -1.05003079e+00],\n",
       "       [-1.26418478e+00, -1.24957601e-01, -1.34127240e+00,\n",
       "        -1.18150376e+00],\n",
       "       [-9.00681170e-01,  1.72626612e+00, -1.22754100e+00,\n",
       "        -1.31297673e+00],\n",
       "       [-1.50652052e+00,  3.37848329e-01, -1.34127240e+00,\n",
       "        -1.31297673e+00],\n",
       "       [-6.58345429e-01,  1.49486315e+00, -1.28440670e+00,\n",
       "        -1.31297673e+00],\n",
       "       [-1.02184904e+00,  5.69251294e-01, -1.34127240e+00,\n",
       "        -1.31297673e+00],\n",
       "       [ 1.40150837e+00,  3.37848329e-01,  5.35295827e-01,\n",
       "         2.64698913e-01],\n",
       "       [ 6.74501145e-01,  3.37848329e-01,  4.21564419e-01,\n",
       "         3.96171883e-01],\n",
       "       [ 1.28034050e+00,  1.06445364e-01,  6.49027235e-01,\n",
       "         3.96171883e-01],\n",
       "       [-4.16009689e-01, -1.74477836e+00,  1.37235899e-01,\n",
       "         1.33225943e-01],\n",
       "       [ 7.95669016e-01, -5.87763531e-01,  4.78430123e-01,\n",
       "         3.96171883e-01],\n",
       "       [-1.73673948e-01, -5.87763531e-01,  4.21564419e-01,\n",
       "         1.33225943e-01],\n",
       "       [ 5.53333275e-01,  5.69251294e-01,  5.35295827e-01,\n",
       "         5.27644853e-01],\n",
       "       [-1.14301691e+00, -1.51337539e+00, -2.60824029e-01,\n",
       "        -2.61192967e-01],\n",
       "       [ 9.16836886e-01, -3.56360566e-01,  4.78430123e-01,\n",
       "         1.33225943e-01],\n",
       "       [-7.79513300e-01, -8.19166497e-01,  8.03701950e-02,\n",
       "         2.64698913e-01],\n",
       "       [-1.02184904e+00, -2.43898725e+00, -1.47092621e-01,\n",
       "        -2.61192967e-01],\n",
       "       [ 6.86617933e-02, -1.24957601e-01,  2.50967307e-01,\n",
       "         3.96171883e-01],\n",
       "       [ 1.89829664e-01, -1.97618132e+00,  1.37235899e-01,\n",
       "        -2.61192967e-01],\n",
       "       [ 3.10997534e-01, -3.56360566e-01,  5.35295827e-01,\n",
       "         2.64698913e-01],\n",
       "       [-2.94841818e-01, -3.56360566e-01, -9.02269170e-02,\n",
       "         1.33225943e-01],\n",
       "       [ 1.03800476e+00,  1.06445364e-01,  3.64698715e-01,\n",
       "         2.64698913e-01],\n",
       "       [-2.94841818e-01, -1.24957601e-01,  4.21564419e-01,\n",
       "         3.96171883e-01],\n",
       "       [-5.25060772e-02, -8.19166497e-01,  1.94101603e-01,\n",
       "        -2.61192967e-01],\n",
       "       [ 4.32165405e-01, -1.97618132e+00,  4.21564419e-01,\n",
       "         3.96171883e-01],\n",
       "       [-2.94841818e-01, -1.28197243e+00,  8.03701950e-02,\n",
       "        -1.29719997e-01],\n",
       "       [ 6.86617933e-02,  3.37848329e-01,  5.92161531e-01,\n",
       "         7.90590793e-01],\n",
       "       [ 3.10997534e-01, -5.87763531e-01,  1.37235899e-01,\n",
       "         1.33225943e-01],\n",
       "       [ 5.53333275e-01, -1.28197243e+00,  6.49027235e-01,\n",
       "         3.96171883e-01],\n",
       "       [ 3.10997534e-01, -5.87763531e-01,  5.35295827e-01,\n",
       "         1.75297293e-03],\n",
       "       [ 6.74501145e-01, -3.56360566e-01,  3.07833011e-01,\n",
       "         1.33225943e-01],\n",
       "       [ 9.16836886e-01, -1.24957601e-01,  3.64698715e-01,\n",
       "         2.64698913e-01],\n",
       "       [ 1.15917263e+00, -5.87763531e-01,  5.92161531e-01,\n",
       "         2.64698913e-01],\n",
       "       [ 1.03800476e+00, -1.24957601e-01,  7.05892939e-01,\n",
       "         6.59117823e-01],\n",
       "       [ 1.89829664e-01, -3.56360566e-01,  4.21564419e-01,\n",
       "         3.96171883e-01],\n",
       "       [-1.73673948e-01, -1.05056946e+00, -1.47092621e-01,\n",
       "        -2.61192967e-01],\n",
       "       [-4.16009689e-01, -1.51337539e+00,  2.35044910e-02,\n",
       "        -1.29719997e-01],\n",
       "       [-4.16009689e-01, -1.51337539e+00, -3.33612130e-02,\n",
       "        -2.61192967e-01],\n",
       "       [-5.25060772e-02, -8.19166497e-01,  8.03701950e-02,\n",
       "         1.75297293e-03],\n",
       "       [ 1.89829664e-01, -8.19166497e-01,  7.62758643e-01,\n",
       "         5.27644853e-01],\n",
       "       [-5.37177559e-01, -1.24957601e-01,  4.21564419e-01,\n",
       "         3.96171883e-01],\n",
       "       [ 1.89829664e-01,  8.00654259e-01,  4.21564419e-01,\n",
       "         5.27644853e-01],\n",
       "       [ 1.03800476e+00,  1.06445364e-01,  5.35295827e-01,\n",
       "         3.96171883e-01],\n",
       "       [ 5.53333275e-01, -1.74477836e+00,  3.64698715e-01,\n",
       "         1.33225943e-01],\n",
       "       [-2.94841818e-01, -1.24957601e-01,  1.94101603e-01,\n",
       "         1.33225943e-01],\n",
       "       [-4.16009689e-01, -1.28197243e+00,  1.37235899e-01,\n",
       "         1.33225943e-01],\n",
       "       [-4.16009689e-01, -1.05056946e+00,  3.64698715e-01,\n",
       "         1.75297293e-03],\n",
       "       [ 3.10997534e-01, -1.24957601e-01,  4.78430123e-01,\n",
       "         2.64698913e-01],\n",
       "       [-5.25060772e-02, -1.05056946e+00,  1.37235899e-01,\n",
       "         1.75297293e-03],\n",
       "       [-1.02184904e+00, -1.74477836e+00, -2.60824029e-01,\n",
       "        -2.61192967e-01],\n",
       "       [-2.94841818e-01, -8.19166497e-01,  2.50967307e-01,\n",
       "         1.33225943e-01],\n",
       "       [-1.73673948e-01, -1.24957601e-01,  2.50967307e-01,\n",
       "         1.75297293e-03],\n",
       "       [-1.73673948e-01, -3.56360566e-01,  2.50967307e-01,\n",
       "         1.33225943e-01],\n",
       "       [ 4.32165405e-01, -3.56360566e-01,  3.07833011e-01,\n",
       "         1.33225943e-01],\n",
       "       [-9.00681170e-01, -1.28197243e+00, -4.31421141e-01,\n",
       "        -1.29719997e-01],\n",
       "       [-1.73673948e-01, -5.87763531e-01,  1.94101603e-01,\n",
       "         1.33225943e-01],\n",
       "       [ 5.53333275e-01,  5.69251294e-01,  1.27454998e+00,\n",
       "         1.71090158e+00],\n",
       "       [-5.25060772e-02, -8.19166497e-01,  7.62758643e-01,\n",
       "         9.22063763e-01],\n",
       "       [ 1.52267624e+00, -1.24957601e-01,  1.21768427e+00,\n",
       "         1.18500970e+00],\n",
       "       [ 5.53333275e-01, -3.56360566e-01,  1.04708716e+00,\n",
       "         7.90590793e-01],\n",
       "       [ 7.95669016e-01, -1.24957601e-01,  1.16081857e+00,\n",
       "         1.31648267e+00],\n",
       "       [ 2.12851559e+00, -1.24957601e-01,  1.61574420e+00,\n",
       "         1.18500970e+00],\n",
       "       [-1.14301691e+00, -1.28197243e+00,  4.21564419e-01,\n",
       "         6.59117823e-01],\n",
       "       [ 1.76501198e+00, -3.56360566e-01,  1.44514709e+00,\n",
       "         7.90590793e-01],\n",
       "       [ 1.03800476e+00, -1.28197243e+00,  1.16081857e+00,\n",
       "         7.90590793e-01],\n",
       "       [ 1.64384411e+00,  1.26346019e+00,  1.33141568e+00,\n",
       "         1.71090158e+00],\n",
       "       [ 7.95669016e-01,  3.37848329e-01,  7.62758643e-01,\n",
       "         1.05353673e+00],\n",
       "       [ 6.74501145e-01, -8.19166497e-01,  8.76490051e-01,\n",
       "         9.22063763e-01],\n",
       "       [ 1.15917263e+00, -1.24957601e-01,  9.90221459e-01,\n",
       "         1.18500970e+00],\n",
       "       [-1.73673948e-01, -1.28197243e+00,  7.05892939e-01,\n",
       "         1.05353673e+00],\n",
       "       [-5.25060772e-02, -5.87763531e-01,  7.62758643e-01,\n",
       "         1.57942861e+00],\n",
       "       [ 6.74501145e-01,  3.37848329e-01,  8.76490051e-01,\n",
       "         1.44795564e+00],\n",
       "       [ 7.95669016e-01, -1.24957601e-01,  9.90221459e-01,\n",
       "         7.90590793e-01],\n",
       "       [ 2.24968346e+00,  1.72626612e+00,  1.67260991e+00,\n",
       "         1.31648267e+00],\n",
       "       [ 2.24968346e+00, -1.05056946e+00,  1.78634131e+00,\n",
       "         1.44795564e+00],\n",
       "       [ 1.89829664e-01, -1.97618132e+00,  7.05892939e-01,\n",
       "         3.96171883e-01],\n",
       "       [ 1.28034050e+00,  3.37848329e-01,  1.10395287e+00,\n",
       "         1.44795564e+00],\n",
       "       [-2.94841818e-01, -5.87763531e-01,  6.49027235e-01,\n",
       "         1.05353673e+00],\n",
       "       [ 2.24968346e+00, -5.87763531e-01,  1.67260991e+00,\n",
       "         1.05353673e+00],\n",
       "       [ 5.53333275e-01, -8.19166497e-01,  6.49027235e-01,\n",
       "         7.90590793e-01],\n",
       "       [ 1.03800476e+00,  5.69251294e-01,  1.10395287e+00,\n",
       "         1.18500970e+00],\n",
       "       [ 1.64384411e+00,  3.37848329e-01,  1.27454998e+00,\n",
       "         7.90590793e-01],\n",
       "       [ 4.32165405e-01, -5.87763531e-01,  5.92161531e-01,\n",
       "         7.90590793e-01],\n",
       "       [ 3.10997534e-01, -1.24957601e-01,  6.49027235e-01,\n",
       "         7.90590793e-01],\n",
       "       [ 6.74501145e-01, -5.87763531e-01,  1.04708716e+00,\n",
       "         1.18500970e+00],\n",
       "       [ 1.64384411e+00, -1.24957601e-01,  1.16081857e+00,\n",
       "         5.27644853e-01],\n",
       "       [ 1.88617985e+00, -5.87763531e-01,  1.33141568e+00,\n",
       "         9.22063763e-01],\n",
       "       [ 2.49201920e+00,  1.72626612e+00,  1.50201279e+00,\n",
       "         1.05353673e+00],\n",
       "       [ 6.74501145e-01, -5.87763531e-01,  1.04708716e+00,\n",
       "         1.31648267e+00],\n",
       "       [ 5.53333275e-01, -5.87763531e-01,  7.62758643e-01,\n",
       "         3.96171883e-01],\n",
       "       [ 3.10997534e-01, -1.05056946e+00,  1.04708716e+00,\n",
       "         2.64698913e-01],\n",
       "       [ 2.24968346e+00, -1.24957601e-01,  1.33141568e+00,\n",
       "         1.44795564e+00],\n",
       "       [ 5.53333275e-01,  8.00654259e-01,  1.04708716e+00,\n",
       "         1.57942861e+00],\n",
       "       [ 6.74501145e-01,  1.06445364e-01,  9.90221459e-01,\n",
       "         7.90590793e-01],\n",
       "       [ 1.89829664e-01, -1.24957601e-01,  5.92161531e-01,\n",
       "         7.90590793e-01],\n",
       "       [ 1.28034050e+00,  1.06445364e-01,  9.33355755e-01,\n",
       "         1.18500970e+00],\n",
       "       [ 1.03800476e+00,  1.06445364e-01,  1.04708716e+00,\n",
       "         1.57942861e+00],\n",
       "       [ 1.28034050e+00,  1.06445364e-01,  7.62758643e-01,\n",
       "         1.44795564e+00],\n",
       "       [-5.25060772e-02, -8.19166497e-01,  7.62758643e-01,\n",
       "         9.22063763e-01],\n",
       "       [ 1.15917263e+00,  3.37848329e-01,  1.21768427e+00,\n",
       "         1.44795564e+00],\n",
       "       [ 1.03800476e+00,  5.69251294e-01,  1.10395287e+00,\n",
       "         1.71090158e+00],\n",
       "       [ 1.03800476e+00, -1.24957601e-01,  8.19624347e-01,\n",
       "         1.44795564e+00],\n",
       "       [ 5.53333275e-01, -1.28197243e+00,  7.05892939e-01,\n",
       "         9.22063763e-01],\n",
       "       [ 7.95669016e-01, -1.24957601e-01,  8.19624347e-01,\n",
       "         1.05353673e+00],\n",
       "       [ 4.32165405e-01,  8.00654259e-01,  9.33355755e-01,\n",
       "         1.44795564e+00],\n",
       "       [ 6.86617933e-02, -1.24957601e-01,  7.62758643e-01,\n",
       "         7.90590793e-01]])"
      ]
     },
     "execution_count": 8,
     "metadata": {},
     "output_type": "execute_result"
    }
   ],
   "source": [
    "x"
   ]
  },
  {
   "cell_type": "markdown",
   "metadata": {
    "id": "FWrO6UuA9uy4"
   },
   "source": [
    "### Langkah 5: Lakukan PCA"
   ]
  },
  {
   "cell_type": "markdown",
   "metadata": {
    "id": "pc7YDZ7wAYcQ"
   },
   "source": [
    "Untuk kemudian melakukan PCA, kita akan menggunakan modul PCA dari sklearn "
   ]
  },
  {
   "cell_type": "code",
   "execution_count": 9,
   "metadata": {
    "id": "ZnUMcwhq9vaT"
   },
   "outputs": [],
   "source": [
    "# PCA untuk dua Komponen Utama\n",
    "pca = PCA(n_components=2)\n",
    "\n",
    "principalComponents = pca.fit_transform(x)\n",
    "\n",
    "principalDataframe = pd.DataFrame(data = principalComponents, columns = ['PC1', 'PC2'])"
   ]
  },
  {
   "cell_type": "code",
   "execution_count": 10,
   "metadata": {
    "colab": {
     "base_uri": "https://localhost:8080/",
     "height": 408
    },
    "id": "xFW62AkjAjVO",
    "outputId": "f5c7eacc-a479-44ac-93e6-fc32e811f780"
   },
   "outputs": [
    {
     "data": {
      "text/html": [
       "<div>\n",
       "<style scoped>\n",
       "    .dataframe tbody tr th:only-of-type {\n",
       "        vertical-align: middle;\n",
       "    }\n",
       "\n",
       "    .dataframe tbody tr th {\n",
       "        vertical-align: top;\n",
       "    }\n",
       "\n",
       "    .dataframe thead th {\n",
       "        text-align: right;\n",
       "    }\n",
       "</style>\n",
       "<table border=\"1\" class=\"dataframe\">\n",
       "  <thead>\n",
       "    <tr style=\"text-align: right;\">\n",
       "      <th></th>\n",
       "      <th>PC1</th>\n",
       "      <th>PC2</th>\n",
       "    </tr>\n",
       "  </thead>\n",
       "  <tbody>\n",
       "    <tr>\n",
       "      <th>0</th>\n",
       "      <td>-2.264542</td>\n",
       "      <td>0.505704</td>\n",
       "    </tr>\n",
       "    <tr>\n",
       "      <th>1</th>\n",
       "      <td>-2.086426</td>\n",
       "      <td>-0.655405</td>\n",
       "    </tr>\n",
       "    <tr>\n",
       "      <th>2</th>\n",
       "      <td>-2.367950</td>\n",
       "      <td>-0.318477</td>\n",
       "    </tr>\n",
       "    <tr>\n",
       "      <th>3</th>\n",
       "      <td>-2.304197</td>\n",
       "      <td>-0.575368</td>\n",
       "    </tr>\n",
       "    <tr>\n",
       "      <th>4</th>\n",
       "      <td>-2.388777</td>\n",
       "      <td>0.674767</td>\n",
       "    </tr>\n",
       "    <tr>\n",
       "      <th>...</th>\n",
       "      <td>...</td>\n",
       "      <td>...</td>\n",
       "    </tr>\n",
       "    <tr>\n",
       "      <th>145</th>\n",
       "      <td>1.870522</td>\n",
       "      <td>0.382822</td>\n",
       "    </tr>\n",
       "    <tr>\n",
       "      <th>146</th>\n",
       "      <td>1.558492</td>\n",
       "      <td>-0.905314</td>\n",
       "    </tr>\n",
       "    <tr>\n",
       "      <th>147</th>\n",
       "      <td>1.520845</td>\n",
       "      <td>0.266795</td>\n",
       "    </tr>\n",
       "    <tr>\n",
       "      <th>148</th>\n",
       "      <td>1.376391</td>\n",
       "      <td>1.016362</td>\n",
       "    </tr>\n",
       "    <tr>\n",
       "      <th>149</th>\n",
       "      <td>0.959299</td>\n",
       "      <td>-0.022284</td>\n",
       "    </tr>\n",
       "  </tbody>\n",
       "</table>\n",
       "<p>150 rows × 2 columns</p>\n",
       "</div>"
      ],
      "text/plain": [
       "          PC1       PC2\n",
       "0   -2.264542  0.505704\n",
       "1   -2.086426 -0.655405\n",
       "2   -2.367950 -0.318477\n",
       "3   -2.304197 -0.575368\n",
       "4   -2.388777  0.674767\n",
       "..        ...       ...\n",
       "145  1.870522  0.382822\n",
       "146  1.558492 -0.905314\n",
       "147  1.520845  0.266795\n",
       "148  1.376391  1.016362\n",
       "149  0.959299 -0.022284\n",
       "\n",
       "[150 rows x 2 columns]"
      ]
     },
     "execution_count": 10,
     "metadata": {},
     "output_type": "execute_result"
    }
   ],
   "source": [
    "principalDataframe"
   ]
  },
  {
   "cell_type": "markdown",
   "metadata": {
    "id": "l2feoqLxAtbD"
   },
   "source": [
    "diawal kita memiliki empat fitur dan sekarang kita memiliki 2 kolom . "
   ]
  },
  {
   "cell_type": "markdown",
   "metadata": {
    "id": "EvvpVcl68mym"
   },
   "source": [
    "### Langkah 6: Menggabungkan Target dan Komponen Utama\n"
   ]
  },
  {
   "cell_type": "markdown",
   "metadata": {
    "id": "ctwReD_MA7Ck"
   },
   "source": [
    "Kita gabungkan 2 feature kita dengan target "
   ]
  },
  {
   "cell_type": "code",
   "execution_count": 11,
   "metadata": {
    "id": "KTUx6NX68nex"
   },
   "outputs": [],
   "source": [
    "targetDataframe = df[['target']]\n",
    "\n",
    "newDataframe = pd.concat([principalDataframe, targetDataframe],axis = 1)"
   ]
  },
  {
   "cell_type": "code",
   "execution_count": 12,
   "metadata": {
    "colab": {
     "base_uri": "https://localhost:8080/",
     "height": 408
    },
    "id": "zHIarPSq97wr",
    "outputId": "a559a937-90c6-4ad8-e254-f1f92641834c"
   },
   "outputs": [
    {
     "data": {
      "text/html": [
       "<div>\n",
       "<style scoped>\n",
       "    .dataframe tbody tr th:only-of-type {\n",
       "        vertical-align: middle;\n",
       "    }\n",
       "\n",
       "    .dataframe tbody tr th {\n",
       "        vertical-align: top;\n",
       "    }\n",
       "\n",
       "    .dataframe thead th {\n",
       "        text-align: right;\n",
       "    }\n",
       "</style>\n",
       "<table border=\"1\" class=\"dataframe\">\n",
       "  <thead>\n",
       "    <tr style=\"text-align: right;\">\n",
       "      <th></th>\n",
       "      <th>PC1</th>\n",
       "      <th>PC2</th>\n",
       "      <th>target</th>\n",
       "    </tr>\n",
       "  </thead>\n",
       "  <tbody>\n",
       "    <tr>\n",
       "      <th>0</th>\n",
       "      <td>-2.264542</td>\n",
       "      <td>0.505704</td>\n",
       "      <td>Iris-setosa</td>\n",
       "    </tr>\n",
       "    <tr>\n",
       "      <th>1</th>\n",
       "      <td>-2.086426</td>\n",
       "      <td>-0.655405</td>\n",
       "      <td>Iris-setosa</td>\n",
       "    </tr>\n",
       "    <tr>\n",
       "      <th>2</th>\n",
       "      <td>-2.367950</td>\n",
       "      <td>-0.318477</td>\n",
       "      <td>Iris-setosa</td>\n",
       "    </tr>\n",
       "    <tr>\n",
       "      <th>3</th>\n",
       "      <td>-2.304197</td>\n",
       "      <td>-0.575368</td>\n",
       "      <td>Iris-setosa</td>\n",
       "    </tr>\n",
       "    <tr>\n",
       "      <th>4</th>\n",
       "      <td>-2.388777</td>\n",
       "      <td>0.674767</td>\n",
       "      <td>Iris-setosa</td>\n",
       "    </tr>\n",
       "    <tr>\n",
       "      <th>...</th>\n",
       "      <td>...</td>\n",
       "      <td>...</td>\n",
       "      <td>...</td>\n",
       "    </tr>\n",
       "    <tr>\n",
       "      <th>145</th>\n",
       "      <td>1.870522</td>\n",
       "      <td>0.382822</td>\n",
       "      <td>Iris-virginica</td>\n",
       "    </tr>\n",
       "    <tr>\n",
       "      <th>146</th>\n",
       "      <td>1.558492</td>\n",
       "      <td>-0.905314</td>\n",
       "      <td>Iris-virginica</td>\n",
       "    </tr>\n",
       "    <tr>\n",
       "      <th>147</th>\n",
       "      <td>1.520845</td>\n",
       "      <td>0.266795</td>\n",
       "      <td>Iris-virginica</td>\n",
       "    </tr>\n",
       "    <tr>\n",
       "      <th>148</th>\n",
       "      <td>1.376391</td>\n",
       "      <td>1.016362</td>\n",
       "      <td>Iris-virginica</td>\n",
       "    </tr>\n",
       "    <tr>\n",
       "      <th>149</th>\n",
       "      <td>0.959299</td>\n",
       "      <td>-0.022284</td>\n",
       "      <td>Iris-virginica</td>\n",
       "    </tr>\n",
       "  </tbody>\n",
       "</table>\n",
       "<p>150 rows × 3 columns</p>\n",
       "</div>"
      ],
      "text/plain": [
       "          PC1       PC2          target\n",
       "0   -2.264542  0.505704     Iris-setosa\n",
       "1   -2.086426 -0.655405     Iris-setosa\n",
       "2   -2.367950 -0.318477     Iris-setosa\n",
       "3   -2.304197 -0.575368     Iris-setosa\n",
       "4   -2.388777  0.674767     Iris-setosa\n",
       "..        ...       ...             ...\n",
       "145  1.870522  0.382822  Iris-virginica\n",
       "146  1.558492 -0.905314  Iris-virginica\n",
       "147  1.520845  0.266795  Iris-virginica\n",
       "148  1.376391  1.016362  Iris-virginica\n",
       "149  0.959299 -0.022284  Iris-virginica\n",
       "\n",
       "[150 rows x 3 columns]"
      ]
     },
     "execution_count": 12,
     "metadata": {},
     "output_type": "execute_result"
    }
   ],
   "source": [
    "newDataframe"
   ]
  },
  {
   "cell_type": "markdown",
   "metadata": {
    "id": "PG-hEw7F8nva"
   },
   "source": [
    "### Langkah 7: Lakukan Scree Plot dari Komponen Utama\n"
   ]
  },
  {
   "cell_type": "markdown",
   "metadata": {
    "id": "-tVtsXVOBK-D"
   },
   "source": [
    "Berikutnya kita lakukan Scree plot pada 2 feature  seperti diagram batang yang menunjukkan ukuran masing-masing komponen utama. \n",
    "\n",
    "Dengan begitu kita akan terbantu dengan memvisualisasikan persentase variasi yang ditangkap oleh masing-masing komponen utama. "
   ]
  },
  {
   "cell_type": "code",
   "execution_count": 13,
   "metadata": {
    "id": "qWIgQ5yH8pg8"
   },
   "outputs": [],
   "source": [
    "percent_variance = np.round(pca.explained_variance_ratio_* 100, decimals =2)\n",
    "columns = ['PC1', 'PC2']\n"
   ]
  },
  {
   "cell_type": "code",
   "execution_count": 14,
   "metadata": {
    "colab": {
     "base_uri": "https://localhost:8080/"
    },
    "id": "L48QR0AyB0ZA",
    "outputId": "09664061-aca6-4c5b-a427-f8d2cdddd7f0"
   },
   "outputs": [
    {
     "data": {
      "text/plain": [
       "[72.77, 23.03]"
      ]
     },
     "execution_count": 14,
     "metadata": {},
     "output_type": "execute_result"
    }
   ],
   "source": [
    "list(percent_variance)"
   ]
  },
  {
   "cell_type": "code",
   "execution_count": 15,
   "metadata": {
    "colab": {
     "base_uri": "https://localhost:8080/",
     "height": 295
    },
    "id": "QaOHYSykBkiD",
    "outputId": "d7ac5925-104b-4060-fed4-6ad82ae72a72"
   },
   "outputs": [
    {
     "data": {
      "image/png": "[encoded data removed]",
      "text/plain": [
       "<Figure size 432x288 with 1 Axes>"
      ]
     },
     "metadata": {
      "needs_background": "light"
     },
     "output_type": "display_data"
    }
   ],
   "source": [
    "plt.bar(x= list(range(1,3)), height=list(percent_variance), tick_label=columns)\n",
    "plt.ylabel('Percentate of Variance Explained')\n",
    "plt.xlabel('Principal Component (PC)')\n",
    "plt.title('PCA Scree Plot')\n",
    "plt.show()"
   ]
  },
  {
   "cell_type": "markdown",
   "metadata": {
    "id": "EsRiV_2W8pyr"
   },
   "source": [
    "### Langkah 8: Visualisasikan Data Baru Anda dalam 2D\n"
   ]
  },
  {
   "cell_type": "code",
   "execution_count": 16,
   "metadata": {
    "colab": {
     "base_uri": "https://localhost:8080/",
     "height": 311
    },
    "id": "iOpt1U7h8qZ_",
    "outputId": "1be1d648-c0f5-473e-cd5e-262d3a73cabd"
   },
   "outputs": [
    {
     "data": {
      "text/plain": [
       "Text(0, 0.5, 'PC2')"
      ]
     },
     "execution_count": 16,
     "metadata": {},
     "output_type": "execute_result"
    },
    {
     "data": {
      "image/png": "[encoded data removed]",
      "text/plain": [
       "<Figure size 432x288 with 1 Axes>"
      ]
     },
     "metadata": {
      "needs_background": "light"
     },
     "output_type": "display_data"
    }
   ],
   "source": [
    "plt.scatter(principalDataframe.PC1, principalDataframe.PC2)\n",
    "plt.title('PC1 against PC2')\n",
    "plt.xlabel('PC1')\n",
    "plt.ylabel('PC2')"
   ]
  },
  {
   "cell_type": "markdown",
   "metadata": {
    "id": "YtnFPg9x-K9U"
   },
   "source": []
  },
  {
   "cell_type": "code",
   "execution_count": 17,
   "metadata": {
    "colab": {
     "base_uri": "https://localhost:8080/",
     "height": 517
    },
    "id": "KIC6pEMH-LcS",
    "outputId": "56040c7f-264c-4331-cc59-cef2cbe9cd77"
   },
   "outputs": [
    {
     "data": {
      "image/png": "[encoded data removed]",
      "text/plain": [
       "<Figure size 576x576 with 1 Axes>"
      ]
     },
     "metadata": {
      "needs_background": "light"
     },
     "output_type": "display_data"
    }
   ],
   "source": [
    "fig = plt.figure(figsize = (8,8))\n",
    "ax = fig.add_subplot(1,1,1) \n",
    "ax.set_xlabel('PC1')\n",
    "ax.set_ylabel('PC2')\n",
    "\n",
    "ax.set_title('Plot of PC1 vs PC2', fontsize = 20)\n",
    "\n",
    "targets = ['Iris-setosa', 'Iris-versicolor', 'Iris-virginica']\n",
    "# menyiapkan warna yang berbeda tiap target \n",
    "colors = ['r', 'g', 'b']\n",
    "\n",
    "for target, color in zip(targets,colors):\n",
    "    indicesToKeep = newDataframe['target'] == target\n",
    "    ax.scatter(newDataframe.loc[indicesToKeep, 'PC1']\n",
    "               , newDataframe.loc[indicesToKeep, 'PC2']\n",
    "               , c = color\n",
    "               , s = 50)\n",
    "    \n",
    "ax.legend(targets)\n",
    "ax.grid()"
   ]
  },
  {
   "cell_type": "markdown",
   "metadata": {
    "id": "3Sww5sK1-URy"
   },
   "source": [
    "Explaining the Variance Using Principal Component\n",
    "\n"
   ]
  },
  {
   "cell_type": "code",
   "execution_count": 18,
   "metadata": {
    "colab": {
     "base_uri": "https://localhost:8080/"
    },
    "id": "cckMqvEz-RRA",
    "outputId": "b9d945b2-aef2-498f-958d-1eed0f7b34fd"
   },
   "outputs": [
    {
     "data": {
      "text/plain": [
       "array([0.72770452, 0.23030523])"
      ]
     },
     "execution_count": 18,
     "metadata": {},
     "output_type": "execute_result"
    }
   ],
   "source": [
    "pca.explained_variance_ratio_\n"
   ]
  },
  {
   "cell_type": "markdown",
   "metadata": {
    "id": "8qbu9mtaFIEx"
   },
   "source": [
    "Pada nilai diatas , bahwa \n",
    "\n",
    "- Komponen utama PC1 : 72,77% variasi dari data asli. \n",
    "- Komponen utama ke 2 PC2 : 23,03% variasi dari data asli. \n",
    "\n",
    "dari 4 dimensi yang asli kita dpt melakukan reduksi menjadi 2 dimensi menggunakan PCA . \n"
   ]
  },
  {
   "cell_type": "markdown",
   "metadata": {
    "id": "IWXz5dxCzkHz"
   },
   "source": [
    "## PCA with Python (Breast Cancer) "
   ]
  },
  {
   "cell_type": "markdown",
   "metadata": {
    "id": "F9jVLA1E8a2b"
   },
   "source": [
    "Sebelum kita melanjutkan dan memuat data, ada baiknya kita memahami dan melihat data yang akan kita kerjakan.\n",
    "\n",
    "Breast Cancer\n",
    "\n",
    "The Breast Cancer data set adalah real-valued multivariate data yang terdiri dari dua kelas, di mana setiap kelas menandakan apakah seorang pasien menderita kanker payudara atau tidak. Kedua kategori tersebut adalah: malignant dan benign.\n",
    "\n",
    "Kelas malignant memiliki 212 sampel, sedangkan kelas benign memiliki 357 sampel.\n",
    "\n",
    "Dataset ini memiliki 30 fitur yang dibagikan di semua kelas: radius, texture, perimeter, area, smoothness, fractal dimension, etc.\n",
    "\n"
   ]
  },
  {
   "cell_type": "markdown",
   "metadata": {
    "id": "QG4pSPb98dxZ"
   },
   "source": [
    "### Data Exploration\n"
   ]
  },
  {
   "cell_type": "markdown",
   "metadata": {
    "id": "TfnAe13r8gN0"
   },
   "source": [
    "Sekarang kita akan memuat dan menganalisis dataset Breast Cancer.  Jadi, mari kita cepat menjelajahi kumpulan data tersebut. Mari pertama-tama jelajahi Breast Cancer dataset. Kita akan menggunakan modul dataset sklearn dan mengimpor dataset Breast Cancer darinya.\n",
    "\n"
   ]
  },
  {
   "cell_type": "code",
   "execution_count": 19,
   "metadata": {
    "id": "5h-iHBG98kQe"
   },
   "outputs": [],
   "source": [
    "from sklearn.datasets import load_breast_cancer"
   ]
  },
  {
   "cell_type": "markdown",
   "metadata": {
    "id": "YfdeNBkX8iV2"
   },
   "source": [
    "load_breast_cancer akan memberi kita label dan data. Untuk mengambil data, kita akan memanggil .data dan untuk mengambil label kita bisa memanggil .target.\n",
    "\n",
    "Data tersebut memiliki 569 sampel dengan tiga puluh fitur, dan setiap sampel memiliki label yang terkait dengannya. Ada dua label dalam kumpulan data ini."
   ]
  },
  {
   "cell_type": "code",
   "execution_count": 20,
   "metadata": {
    "colab": {
     "base_uri": "https://localhost:8080/"
    },
    "id": "Kin90x5G6hvK",
    "outputId": "edb99fe9-1dc6-4a6c-ef2c-e9edc085bc3d"
   },
   "outputs": [
    {
     "data": {
      "text/plain": [
       "(569, 30)"
      ]
     },
     "execution_count": 20,
     "metadata": {},
     "output_type": "execute_result"
    }
   ],
   "source": [
    "breast = load_breast_cancer()\n",
    "breast_data = breast.data\n",
    "breast_data.shape\n"
   ]
  },
  {
   "cell_type": "markdown",
   "metadata": {
    "id": "LmXy97kf9Kwx"
   },
   "source": [
    "Meskipun kita tidak membutuhkan label tetapi tetap untuk pemahaman yang lebih baik, mari muat label dan periksa bentuknya.\n",
    "\n"
   ]
  },
  {
   "cell_type": "code",
   "execution_count": 21,
   "metadata": {
    "colab": {
     "base_uri": "https://localhost:8080/"
    },
    "id": "DMANOoJX9Lf1",
    "outputId": "3b92e95f-f7f3-4260-eaef-0890e0c03b8b"
   },
   "outputs": [
    {
     "data": {
      "text/plain": [
       "(569,)"
      ]
     },
     "execution_count": 21,
     "metadata": {},
     "output_type": "execute_result"
    }
   ],
   "source": [
    "breast_labels = breast.target\n",
    "breast_labels.shape\n"
   ]
  },
  {
   "cell_type": "markdown",
   "metadata": {
    "id": "9xjIRkAk9Pb0"
   },
   "source": [
    "Sekarang kita akan mengimpor numpy karena kita akan membentuk kembali breast_labels untuk digabungkan dengan breast_data sehingga kita akhirnya bisa membuat DataFrame yang akan memiliki data dan label.\n",
    "\n"
   ]
  },
  {
   "cell_type": "code",
   "execution_count": 22,
   "metadata": {
    "id": "M-fgpEbr9R6v"
   },
   "outputs": [],
   "source": [
    "import numpy as np\n"
   ]
  },
  {
   "cell_type": "code",
   "execution_count": 23,
   "metadata": {
    "id": "hc04s3QctYhc"
   },
   "outputs": [],
   "source": [
    "labels = np.reshape(breast_labels,(569,1))\n"
   ]
  },
  {
   "cell_type": "markdown",
   "metadata": {
    "id": "xPo8_oimtamT"
   },
   "source": [
    "Setelah reshaping label, kita akan concatenate data dan label di sepanjang second axis,, yang berarti bentuk akhir dari array akan menjadi 569 x 31.\n",
    "\n"
   ]
  },
  {
   "cell_type": "code",
   "execution_count": 24,
   "metadata": {
    "colab": {
     "base_uri": "https://localhost:8080/"
    },
    "id": "GwSWnivwtbQ3",
    "outputId": "83d4e83c-caa7-4cb7-96ec-b36dbae7f01c"
   },
   "outputs": [
    {
     "data": {
      "text/plain": [
       "(569, 31)"
      ]
     },
     "execution_count": 24,
     "metadata": {},
     "output_type": "execute_result"
    }
   ],
   "source": [
    "final_breast_data = np.concatenate([breast_data,labels],axis=1)\n",
    "final_breast_data.shape\n"
   ]
  },
  {
   "cell_type": "markdown",
   "metadata": {
    "id": "wb4abd_9thoR"
   },
   "source": [
    "Sekarang kita akan mengimpor pandas untuk membuat DataFrame dari data akhir untuk merepresentasikan data secara tabular.\n",
    "\n"
   ]
  },
  {
   "cell_type": "code",
   "execution_count": 25,
   "metadata": {
    "colab": {
     "base_uri": "https://localhost:8080/"
    },
    "id": "BUJoGkrytiKc",
    "outputId": "0feb069f-b43b-4c45-b02b-d0edaf0ddb13"
   },
   "outputs": [
    {
     "data": {
      "text/plain": [
       "array(['mean radius', 'mean texture', 'mean perimeter', 'mean area',\n",
       "       'mean smoothness', 'mean compactness', 'mean concavity',\n",
       "       'mean concave points', 'mean symmetry', 'mean fractal dimension',\n",
       "       'radius error', 'texture error', 'perimeter error', 'area error',\n",
       "       'smoothness error', 'compactness error', 'concavity error',\n",
       "       'concave points error', 'symmetry error',\n",
       "       'fractal dimension error', 'worst radius', 'worst texture',\n",
       "       'worst perimeter', 'worst area', 'worst smoothness',\n",
       "       'worst compactness', 'worst concavity', 'worst concave points',\n",
       "       'worst symmetry', 'worst fractal dimension'], dtype='<U23')"
      ]
     },
     "execution_count": 25,
     "metadata": {},
     "output_type": "execute_result"
    }
   ],
   "source": [
    "import pandas as pd\n",
    "breast_dataset = pd.DataFrame(final_breast_data)\n",
    "features = breast.feature_names\n",
    "features"
   ]
  },
  {
   "cell_type": "markdown",
   "metadata": {
    "id": "pqTNY0wVtqlr"
   },
   "source": [
    "Jika kita lihat dalam array fitur, bidang label hilang. Oleh karena itu, kita harus menambahkannya secara manual ke array fitur karena kita akan menyamakan array ini dengan nama kolom dari dataframe breast_dataset kita.\n",
    "\n"
   ]
  },
  {
   "cell_type": "code",
   "execution_count": 26,
   "metadata": {
    "id": "psD1wgn-tsfg"
   },
   "outputs": [],
   "source": [
    "features_labels = np.append(features,'label')\n"
   ]
  },
  {
   "cell_type": "markdown",
   "metadata": {
    "id": "Yy8LFNpDtuTo"
   },
   "source": [
    "Sekarang kita akan menyematkan nama kolom ke dataframe breast_dataset.\n",
    "\n"
   ]
  },
  {
   "cell_type": "code",
   "execution_count": 27,
   "metadata": {
    "colab": {
     "base_uri": "https://localhost:8080/",
     "height": 252
    },
    "id": "u_v58TldtwhL",
    "outputId": "8c82ace5-eec4-495b-ca8c-659b1b6aeec2"
   },
   "outputs": [
    {
     "data": {
      "text/html": [
       "<div>\n",
       "<style scoped>\n",
       "    .dataframe tbody tr th:only-of-type {\n",
       "        vertical-align: middle;\n",
       "    }\n",
       "\n",
       "    .dataframe tbody tr th {\n",
       "        vertical-align: top;\n",
       "    }\n",
       "\n",
       "    .dataframe thead th {\n",
       "        text-align: right;\n",
       "    }\n",
       "</style>\n",
       "<table border=\"1\" class=\"dataframe\">\n",
       "  <thead>\n",
       "    <tr style=\"text-align: right;\">\n",
       "      <th></th>\n",
       "      <th>mean radius</th>\n",
       "      <th>mean texture</th>\n",
       "      <th>mean perimeter</th>\n",
       "      <th>mean area</th>\n",
       "      <th>mean smoothness</th>\n",
       "      <th>mean compactness</th>\n",
       "      <th>mean concavity</th>\n",
       "      <th>mean concave points</th>\n",
       "      <th>mean symmetry</th>\n",
       "      <th>mean fractal dimension</th>\n",
       "      <th>...</th>\n",
       "      <th>worst texture</th>\n",
       "      <th>worst perimeter</th>\n",
       "      <th>worst area</th>\n",
       "      <th>worst smoothness</th>\n",
       "      <th>worst compactness</th>\n",
       "      <th>worst concavity</th>\n",
       "      <th>worst concave points</th>\n",
       "      <th>worst symmetry</th>\n",
       "      <th>worst fractal dimension</th>\n",
       "      <th>label</th>\n",
       "    </tr>\n",
       "  </thead>\n",
       "  <tbody>\n",
       "    <tr>\n",
       "      <th>0</th>\n",
       "      <td>17.99</td>\n",
       "      <td>10.38</td>\n",
       "      <td>122.80</td>\n",
       "      <td>1001.0</td>\n",
       "      <td>0.11840</td>\n",
       "      <td>0.27760</td>\n",
       "      <td>0.3001</td>\n",
       "      <td>0.14710</td>\n",
       "      <td>0.2419</td>\n",
       "      <td>0.07871</td>\n",
       "      <td>...</td>\n",
       "      <td>17.33</td>\n",
       "      <td>184.60</td>\n",
       "      <td>2019.0</td>\n",
       "      <td>0.1622</td>\n",
       "      <td>0.6656</td>\n",
       "      <td>0.7119</td>\n",
       "      <td>0.2654</td>\n",
       "      <td>0.4601</td>\n",
       "      <td>0.11890</td>\n",
       "      <td>0.0</td>\n",
       "    </tr>\n",
       "    <tr>\n",
       "      <th>1</th>\n",
       "      <td>20.57</td>\n",
       "      <td>17.77</td>\n",
       "      <td>132.90</td>\n",
       "      <td>1326.0</td>\n",
       "      <td>0.08474</td>\n",
       "      <td>0.07864</td>\n",
       "      <td>0.0869</td>\n",
       "      <td>0.07017</td>\n",
       "      <td>0.1812</td>\n",
       "      <td>0.05667</td>\n",
       "      <td>...</td>\n",
       "      <td>23.41</td>\n",
       "      <td>158.80</td>\n",
       "      <td>1956.0</td>\n",
       "      <td>0.1238</td>\n",
       "      <td>0.1866</td>\n",
       "      <td>0.2416</td>\n",
       "      <td>0.1860</td>\n",
       "      <td>0.2750</td>\n",
       "      <td>0.08902</td>\n",
       "      <td>0.0</td>\n",
       "    </tr>\n",
       "    <tr>\n",
       "      <th>2</th>\n",
       "      <td>19.69</td>\n",
       "      <td>21.25</td>\n",
       "      <td>130.00</td>\n",
       "      <td>1203.0</td>\n",
       "      <td>0.10960</td>\n",
       "      <td>0.15990</td>\n",
       "      <td>0.1974</td>\n",
       "      <td>0.12790</td>\n",
       "      <td>0.2069</td>\n",
       "      <td>0.05999</td>\n",
       "      <td>...</td>\n",
       "      <td>25.53</td>\n",
       "      <td>152.50</td>\n",
       "      <td>1709.0</td>\n",
       "      <td>0.1444</td>\n",
       "      <td>0.4245</td>\n",
       "      <td>0.4504</td>\n",
       "      <td>0.2430</td>\n",
       "      <td>0.3613</td>\n",
       "      <td>0.08758</td>\n",
       "      <td>0.0</td>\n",
       "    </tr>\n",
       "    <tr>\n",
       "      <th>3</th>\n",
       "      <td>11.42</td>\n",
       "      <td>20.38</td>\n",
       "      <td>77.58</td>\n",
       "      <td>386.1</td>\n",
       "      <td>0.14250</td>\n",
       "      <td>0.28390</td>\n",
       "      <td>0.2414</td>\n",
       "      <td>0.10520</td>\n",
       "      <td>0.2597</td>\n",
       "      <td>0.09744</td>\n",
       "      <td>...</td>\n",
       "      <td>26.50</td>\n",
       "      <td>98.87</td>\n",
       "      <td>567.7</td>\n",
       "      <td>0.2098</td>\n",
       "      <td>0.8663</td>\n",
       "      <td>0.6869</td>\n",
       "      <td>0.2575</td>\n",
       "      <td>0.6638</td>\n",
       "      <td>0.17300</td>\n",
       "      <td>0.0</td>\n",
       "    </tr>\n",
       "    <tr>\n",
       "      <th>4</th>\n",
       "      <td>20.29</td>\n",
       "      <td>14.34</td>\n",
       "      <td>135.10</td>\n",
       "      <td>1297.0</td>\n",
       "      <td>0.10030</td>\n",
       "      <td>0.13280</td>\n",
       "      <td>0.1980</td>\n",
       "      <td>0.10430</td>\n",
       "      <td>0.1809</td>\n",
       "      <td>0.05883</td>\n",
       "      <td>...</td>\n",
       "      <td>16.67</td>\n",
       "      <td>152.20</td>\n",
       "      <td>1575.0</td>\n",
       "      <td>0.1374</td>\n",
       "      <td>0.2050</td>\n",
       "      <td>0.4000</td>\n",
       "      <td>0.1625</td>\n",
       "      <td>0.2364</td>\n",
       "      <td>0.07678</td>\n",
       "      <td>0.0</td>\n",
       "    </tr>\n",
       "  </tbody>\n",
       "</table>\n",
       "<p>5 rows × 31 columns</p>\n",
       "</div>"
      ],
      "text/plain": [
       "   mean radius  mean texture  mean perimeter  mean area  mean smoothness  \\\n",
       "0        17.99         10.38          122.80     1001.0          0.11840   \n",
       "1        20.57         17.77          132.90     1326.0          0.08474   \n",
       "2        19.69         21.25          130.00     1203.0          0.10960   \n",
       "3        11.42         20.38           77.58      386.1          0.14250   \n",
       "4        20.29         14.34          135.10     1297.0          0.10030   \n",
       "\n",
       "   mean compactness  mean concavity  mean concave points  mean symmetry  \\\n",
       "0           0.27760          0.3001              0.14710         0.2419   \n",
       "1           0.07864          0.0869              0.07017         0.1812   \n",
       "2           0.15990          0.1974              0.12790         0.2069   \n",
       "3           0.28390          0.2414              0.10520         0.2597   \n",
       "4           0.13280          0.1980              0.10430         0.1809   \n",
       "\n",
       "   mean fractal dimension  ...  worst texture  worst perimeter  worst area  \\\n",
       "0                 0.07871  ...          17.33           184.60      2019.0   \n",
       "1                 0.05667  ...          23.41           158.80      1956.0   \n",
       "2                 0.05999  ...          25.53           152.50      1709.0   \n",
       "3                 0.09744  ...          26.50            98.87       567.7   \n",
       "4                 0.05883  ...          16.67           152.20      1575.0   \n",
       "\n",
       "   worst smoothness  worst compactness  worst concavity  worst concave points  \\\n",
       "0            0.1622             0.6656           0.7119                0.2654   \n",
       "1            0.1238             0.1866           0.2416                0.1860   \n",
       "2            0.1444             0.4245           0.4504                0.2430   \n",
       "3            0.2098             0.8663           0.6869                0.2575   \n",
       "4            0.1374             0.2050           0.4000                0.1625   \n",
       "\n",
       "   worst symmetry  worst fractal dimension  label  \n",
       "0          0.4601                  0.11890    0.0  \n",
       "1          0.2750                  0.08902    0.0  \n",
       "2          0.3613                  0.08758    0.0  \n",
       "3          0.6638                  0.17300    0.0  \n",
       "4          0.2364                  0.07678    0.0  \n",
       "\n",
       "[5 rows x 31 columns]"
      ]
     },
     "execution_count": 27,
     "metadata": {},
     "output_type": "execute_result"
    }
   ],
   "source": [
    "breast_dataset.columns = features_labels\n",
    "breast_dataset.head()\n"
   ]
  },
  {
   "cell_type": "markdown",
   "metadata": {
    "id": "WDo3AzRZt1Hy"
   },
   "source": [
    "Karena label asli dalam format 0,1, kita akan mengubah label menjadi benign dan malignant menggunakan fungsi .replace. Kita akan menggunakan inplace = True yang akan memodifikasi dataframe breast_dataset.\n",
    "\n"
   ]
  },
  {
   "cell_type": "code",
   "execution_count": 28,
   "metadata": {
    "colab": {
     "base_uri": "https://localhost:8080/",
     "height": 252
    },
    "id": "yDH0lRAnt3uR",
    "outputId": "ab43e9fe-f659-408e-9753-1957a746d266"
   },
   "outputs": [
    {
     "data": {
      "text/html": [
       "<div>\n",
       "<style scoped>\n",
       "    .dataframe tbody tr th:only-of-type {\n",
       "        vertical-align: middle;\n",
       "    }\n",
       "\n",
       "    .dataframe tbody tr th {\n",
       "        vertical-align: top;\n",
       "    }\n",
       "\n",
       "    .dataframe thead th {\n",
       "        text-align: right;\n",
       "    }\n",
       "</style>\n",
       "<table border=\"1\" class=\"dataframe\">\n",
       "  <thead>\n",
       "    <tr style=\"text-align: right;\">\n",
       "      <th></th>\n",
       "      <th>mean radius</th>\n",
       "      <th>mean texture</th>\n",
       "      <th>mean perimeter</th>\n",
       "      <th>mean area</th>\n",
       "      <th>mean smoothness</th>\n",
       "      <th>mean compactness</th>\n",
       "      <th>mean concavity</th>\n",
       "      <th>mean concave points</th>\n",
       "      <th>mean symmetry</th>\n",
       "      <th>mean fractal dimension</th>\n",
       "      <th>...</th>\n",
       "      <th>worst texture</th>\n",
       "      <th>worst perimeter</th>\n",
       "      <th>worst area</th>\n",
       "      <th>worst smoothness</th>\n",
       "      <th>worst compactness</th>\n",
       "      <th>worst concavity</th>\n",
       "      <th>worst concave points</th>\n",
       "      <th>worst symmetry</th>\n",
       "      <th>worst fractal dimension</th>\n",
       "      <th>label</th>\n",
       "    </tr>\n",
       "  </thead>\n",
       "  <tbody>\n",
       "    <tr>\n",
       "      <th>564</th>\n",
       "      <td>21.56</td>\n",
       "      <td>22.39</td>\n",
       "      <td>142.00</td>\n",
       "      <td>1479.0</td>\n",
       "      <td>0.11100</td>\n",
       "      <td>0.11590</td>\n",
       "      <td>0.24390</td>\n",
       "      <td>0.13890</td>\n",
       "      <td>0.1726</td>\n",
       "      <td>0.05623</td>\n",
       "      <td>...</td>\n",
       "      <td>26.40</td>\n",
       "      <td>166.10</td>\n",
       "      <td>2027.0</td>\n",
       "      <td>0.14100</td>\n",
       "      <td>0.21130</td>\n",
       "      <td>0.4107</td>\n",
       "      <td>0.2216</td>\n",
       "      <td>0.2060</td>\n",
       "      <td>0.07115</td>\n",
       "      <td>Benign</td>\n",
       "    </tr>\n",
       "    <tr>\n",
       "      <th>565</th>\n",
       "      <td>20.13</td>\n",
       "      <td>28.25</td>\n",
       "      <td>131.20</td>\n",
       "      <td>1261.0</td>\n",
       "      <td>0.09780</td>\n",
       "      <td>0.10340</td>\n",
       "      <td>0.14400</td>\n",
       "      <td>0.09791</td>\n",
       "      <td>0.1752</td>\n",
       "      <td>0.05533</td>\n",
       "      <td>...</td>\n",
       "      <td>38.25</td>\n",
       "      <td>155.00</td>\n",
       "      <td>1731.0</td>\n",
       "      <td>0.11660</td>\n",
       "      <td>0.19220</td>\n",
       "      <td>0.3215</td>\n",
       "      <td>0.1628</td>\n",
       "      <td>0.2572</td>\n",
       "      <td>0.06637</td>\n",
       "      <td>Benign</td>\n",
       "    </tr>\n",
       "    <tr>\n",
       "      <th>566</th>\n",
       "      <td>16.60</td>\n",
       "      <td>28.08</td>\n",
       "      <td>108.30</td>\n",
       "      <td>858.1</td>\n",
       "      <td>0.08455</td>\n",
       "      <td>0.10230</td>\n",
       "      <td>0.09251</td>\n",
       "      <td>0.05302</td>\n",
       "      <td>0.1590</td>\n",
       "      <td>0.05648</td>\n",
       "      <td>...</td>\n",
       "      <td>34.12</td>\n",
       "      <td>126.70</td>\n",
       "      <td>1124.0</td>\n",
       "      <td>0.11390</td>\n",
       "      <td>0.30940</td>\n",
       "      <td>0.3403</td>\n",
       "      <td>0.1418</td>\n",
       "      <td>0.2218</td>\n",
       "      <td>0.07820</td>\n",
       "      <td>Benign</td>\n",
       "    </tr>\n",
       "    <tr>\n",
       "      <th>567</th>\n",
       "      <td>20.60</td>\n",
       "      <td>29.33</td>\n",
       "      <td>140.10</td>\n",
       "      <td>1265.0</td>\n",
       "      <td>0.11780</td>\n",
       "      <td>0.27700</td>\n",
       "      <td>0.35140</td>\n",
       "      <td>0.15200</td>\n",
       "      <td>0.2397</td>\n",
       "      <td>0.07016</td>\n",
       "      <td>...</td>\n",
       "      <td>39.42</td>\n",
       "      <td>184.60</td>\n",
       "      <td>1821.0</td>\n",
       "      <td>0.16500</td>\n",
       "      <td>0.86810</td>\n",
       "      <td>0.9387</td>\n",
       "      <td>0.2650</td>\n",
       "      <td>0.4087</td>\n",
       "      <td>0.12400</td>\n",
       "      <td>Benign</td>\n",
       "    </tr>\n",
       "    <tr>\n",
       "      <th>568</th>\n",
       "      <td>7.76</td>\n",
       "      <td>24.54</td>\n",
       "      <td>47.92</td>\n",
       "      <td>181.0</td>\n",
       "      <td>0.05263</td>\n",
       "      <td>0.04362</td>\n",
       "      <td>0.00000</td>\n",
       "      <td>0.00000</td>\n",
       "      <td>0.1587</td>\n",
       "      <td>0.05884</td>\n",
       "      <td>...</td>\n",
       "      <td>30.37</td>\n",
       "      <td>59.16</td>\n",
       "      <td>268.6</td>\n",
       "      <td>0.08996</td>\n",
       "      <td>0.06444</td>\n",
       "      <td>0.0000</td>\n",
       "      <td>0.0000</td>\n",
       "      <td>0.2871</td>\n",
       "      <td>0.07039</td>\n",
       "      <td>Malignant</td>\n",
       "    </tr>\n",
       "  </tbody>\n",
       "</table>\n",
       "<p>5 rows × 31 columns</p>\n",
       "</div>"
      ],
      "text/plain": [
       "     mean radius  mean texture  mean perimeter  mean area  mean smoothness  \\\n",
       "564        21.56         22.39          142.00     1479.0          0.11100   \n",
       "565        20.13         28.25          131.20     1261.0          0.09780   \n",
       "566        16.60         28.08          108.30      858.1          0.08455   \n",
       "567        20.60         29.33          140.10     1265.0          0.11780   \n",
       "568         7.76         24.54           47.92      181.0          0.05263   \n",
       "\n",
       "     mean compactness  mean concavity  mean concave points  mean symmetry  \\\n",
       "564           0.11590         0.24390              0.13890         0.1726   \n",
       "565           0.10340         0.14400              0.09791         0.1752   \n",
       "566           0.10230         0.09251              0.05302         0.1590   \n",
       "567           0.27700         0.35140              0.15200         0.2397   \n",
       "568           0.04362         0.00000              0.00000         0.1587   \n",
       "\n",
       "     mean fractal dimension  ...  worst texture  worst perimeter  worst area  \\\n",
       "564                 0.05623  ...          26.40           166.10      2027.0   \n",
       "565                 0.05533  ...          38.25           155.00      1731.0   \n",
       "566                 0.05648  ...          34.12           126.70      1124.0   \n",
       "567                 0.07016  ...          39.42           184.60      1821.0   \n",
       "568                 0.05884  ...          30.37            59.16       268.6   \n",
       "\n",
       "     worst smoothness  worst compactness  worst concavity  \\\n",
       "564           0.14100            0.21130           0.4107   \n",
       "565           0.11660            0.19220           0.3215   \n",
       "566           0.11390            0.30940           0.3403   \n",
       "567           0.16500            0.86810           0.9387   \n",
       "568           0.08996            0.06444           0.0000   \n",
       "\n",
       "     worst concave points  worst symmetry  worst fractal dimension      label  \n",
       "564                0.2216          0.2060                  0.07115     Benign  \n",
       "565                0.1628          0.2572                  0.06637     Benign  \n",
       "566                0.1418          0.2218                  0.07820     Benign  \n",
       "567                0.2650          0.4087                  0.12400     Benign  \n",
       "568                0.0000          0.2871                  0.07039  Malignant  \n",
       "\n",
       "[5 rows x 31 columns]"
      ]
     },
     "execution_count": 28,
     "metadata": {},
     "output_type": "execute_result"
    }
   ],
   "source": [
    "breast_dataset['label'].replace(0, 'Benign',inplace=True)\n",
    "breast_dataset['label'].replace(1, 'Malignant',inplace=True)\n",
    "breast_dataset.tail()\n"
   ]
  },
  {
   "cell_type": "markdown",
   "metadata": {
    "id": "wgEWCJ34t8JF"
   },
   "source": [
    "### Data Visualization using PCA\n"
   ]
  },
  {
   "cell_type": "markdown",
   "metadata": {
    "id": "EoYhsFwAuAHk"
   },
   "source": [
    "**Visualizing the Breast Cancer data**\n",
    "\n",
    "Kita mulai dengan Standardizing data karena keluaran PCA dipengaruhi berdasarkan skala fitur data.\n",
    "\n",
    "Ini adalah praktik umum untuk menormalkan data kita sebelum memasukkannya ke machine learning algorithm apa pun.\n",
    "\n",
    "Untuk menerapkan normalization, kita akan mengimpor modul StandardScaler dari sklearn library dan hanya memilih fitur dari breast_dataset yang kita buat di langkah Eksplorasi Data. Setelah kita memiliki fiturnya, kita kemudian akan menerapkan scaling dengan melakukan fit_transform pada data fitur.\n",
    "\n",
    "Saat menerapkan StandardScaler, setiap fitur data kita harus didistribusikan secara normal sehingga akan menskalakan distribusi ke rata-rata nol dan deviasi standar satu."
   ]
  },
  {
   "cell_type": "code",
   "execution_count": 29,
   "metadata": {
    "colab": {
     "base_uri": "https://localhost:8080/"
    },
    "id": "iq0PRfmtuEPj",
    "outputId": "cef90217-d113-4f02-d4bd-8078efd5589f"
   },
   "outputs": [
    {
     "data": {
      "text/plain": [
       "(569, 30)"
      ]
     },
     "execution_count": 29,
     "metadata": {},
     "output_type": "execute_result"
    }
   ],
   "source": [
    "from sklearn.preprocessing import StandardScaler\n",
    "x = breast_dataset.loc[:, features].values\n",
    "x = StandardScaler().fit_transform(x) # normalizing the features\n",
    "x.shape\n"
   ]
  },
  {
   "cell_type": "markdown",
   "metadata": {
    "id": "I1kZkWMvuHwI"
   },
   "source": [
    "Mari kita ubah fitur yang dinormalisasi menjadi format tabel dengan bantuan DataFrame.\n",
    "\n"
   ]
  },
  {
   "cell_type": "code",
   "execution_count": 30,
   "metadata": {
    "colab": {
     "base_uri": "https://localhost:8080/",
     "height": 220
    },
    "id": "GZZ6-6VGuIdW",
    "outputId": "ce8011e6-1715-4494-a439-2907994bfcee"
   },
   "outputs": [
    {
     "data": {
      "text/html": [
       "<div>\n",
       "<style scoped>\n",
       "    .dataframe tbody tr th:only-of-type {\n",
       "        vertical-align: middle;\n",
       "    }\n",
       "\n",
       "    .dataframe tbody tr th {\n",
       "        vertical-align: top;\n",
       "    }\n",
       "\n",
       "    .dataframe thead th {\n",
       "        text-align: right;\n",
       "    }\n",
       "</style>\n",
       "<table border=\"1\" class=\"dataframe\">\n",
       "  <thead>\n",
       "    <tr style=\"text-align: right;\">\n",
       "      <th></th>\n",
       "      <th>feature0</th>\n",
       "      <th>feature1</th>\n",
       "      <th>feature2</th>\n",
       "      <th>feature3</th>\n",
       "      <th>feature4</th>\n",
       "      <th>feature5</th>\n",
       "      <th>feature6</th>\n",
       "      <th>feature7</th>\n",
       "      <th>feature8</th>\n",
       "      <th>feature9</th>\n",
       "      <th>...</th>\n",
       "      <th>feature20</th>\n",
       "      <th>feature21</th>\n",
       "      <th>feature22</th>\n",
       "      <th>feature23</th>\n",
       "      <th>feature24</th>\n",
       "      <th>feature25</th>\n",
       "      <th>feature26</th>\n",
       "      <th>feature27</th>\n",
       "      <th>feature28</th>\n",
       "      <th>feature29</th>\n",
       "    </tr>\n",
       "  </thead>\n",
       "  <tbody>\n",
       "    <tr>\n",
       "      <th>564</th>\n",
       "      <td>2.110995</td>\n",
       "      <td>0.721473</td>\n",
       "      <td>2.060786</td>\n",
       "      <td>2.343856</td>\n",
       "      <td>1.041842</td>\n",
       "      <td>0.219060</td>\n",
       "      <td>1.947285</td>\n",
       "      <td>2.320965</td>\n",
       "      <td>-0.312589</td>\n",
       "      <td>-0.931027</td>\n",
       "      <td>...</td>\n",
       "      <td>1.901185</td>\n",
       "      <td>0.117700</td>\n",
       "      <td>1.752563</td>\n",
       "      <td>2.015301</td>\n",
       "      <td>0.378365</td>\n",
       "      <td>-0.273318</td>\n",
       "      <td>0.664512</td>\n",
       "      <td>1.629151</td>\n",
       "      <td>-1.360158</td>\n",
       "      <td>-0.709091</td>\n",
       "    </tr>\n",
       "    <tr>\n",
       "      <th>565</th>\n",
       "      <td>1.704854</td>\n",
       "      <td>2.085134</td>\n",
       "      <td>1.615931</td>\n",
       "      <td>1.723842</td>\n",
       "      <td>0.102458</td>\n",
       "      <td>-0.017833</td>\n",
       "      <td>0.693043</td>\n",
       "      <td>1.263669</td>\n",
       "      <td>-0.217664</td>\n",
       "      <td>-1.058611</td>\n",
       "      <td>...</td>\n",
       "      <td>1.536720</td>\n",
       "      <td>2.047399</td>\n",
       "      <td>1.421940</td>\n",
       "      <td>1.494959</td>\n",
       "      <td>-0.691230</td>\n",
       "      <td>-0.394820</td>\n",
       "      <td>0.236573</td>\n",
       "      <td>0.733827</td>\n",
       "      <td>-0.531855</td>\n",
       "      <td>-0.973978</td>\n",
       "    </tr>\n",
       "    <tr>\n",
       "      <th>566</th>\n",
       "      <td>0.702284</td>\n",
       "      <td>2.045574</td>\n",
       "      <td>0.672676</td>\n",
       "      <td>0.577953</td>\n",
       "      <td>-0.840484</td>\n",
       "      <td>-0.038680</td>\n",
       "      <td>0.046588</td>\n",
       "      <td>0.105777</td>\n",
       "      <td>-0.809117</td>\n",
       "      <td>-0.895587</td>\n",
       "      <td>...</td>\n",
       "      <td>0.561361</td>\n",
       "      <td>1.374854</td>\n",
       "      <td>0.579001</td>\n",
       "      <td>0.427906</td>\n",
       "      <td>-0.809587</td>\n",
       "      <td>0.350735</td>\n",
       "      <td>0.326767</td>\n",
       "      <td>0.414069</td>\n",
       "      <td>-1.104549</td>\n",
       "      <td>-0.318409</td>\n",
       "    </tr>\n",
       "    <tr>\n",
       "      <th>567</th>\n",
       "      <td>1.838341</td>\n",
       "      <td>2.336457</td>\n",
       "      <td>1.982524</td>\n",
       "      <td>1.735218</td>\n",
       "      <td>1.525767</td>\n",
       "      <td>3.272144</td>\n",
       "      <td>3.296944</td>\n",
       "      <td>2.658866</td>\n",
       "      <td>2.137194</td>\n",
       "      <td>1.043695</td>\n",
       "      <td>...</td>\n",
       "      <td>1.961239</td>\n",
       "      <td>2.237926</td>\n",
       "      <td>2.303601</td>\n",
       "      <td>1.653171</td>\n",
       "      <td>1.430427</td>\n",
       "      <td>3.904848</td>\n",
       "      <td>3.197605</td>\n",
       "      <td>2.289985</td>\n",
       "      <td>1.919083</td>\n",
       "      <td>2.219635</td>\n",
       "    </tr>\n",
       "    <tr>\n",
       "      <th>568</th>\n",
       "      <td>-1.808401</td>\n",
       "      <td>1.221792</td>\n",
       "      <td>-1.814389</td>\n",
       "      <td>-1.347789</td>\n",
       "      <td>-3.112085</td>\n",
       "      <td>-1.150752</td>\n",
       "      <td>-1.114873</td>\n",
       "      <td>-1.261820</td>\n",
       "      <td>-0.820070</td>\n",
       "      <td>-0.561032</td>\n",
       "      <td>...</td>\n",
       "      <td>-1.410893</td>\n",
       "      <td>0.764190</td>\n",
       "      <td>-1.432735</td>\n",
       "      <td>-1.075813</td>\n",
       "      <td>-1.859019</td>\n",
       "      <td>-1.207552</td>\n",
       "      <td>-1.305831</td>\n",
       "      <td>-1.745063</td>\n",
       "      <td>-0.048138</td>\n",
       "      <td>-0.751207</td>\n",
       "    </tr>\n",
       "  </tbody>\n",
       "</table>\n",
       "<p>5 rows × 30 columns</p>\n",
       "</div>"
      ],
      "text/plain": [
       "     feature0  feature1  feature2  feature3  feature4  feature5  feature6  \\\n",
       "564  2.110995  0.721473  2.060786  2.343856  1.041842  0.219060  1.947285   \n",
       "565  1.704854  2.085134  1.615931  1.723842  0.102458 -0.017833  0.693043   \n",
       "566  0.702284  2.045574  0.672676  0.577953 -0.840484 -0.038680  0.046588   \n",
       "567  1.838341  2.336457  1.982524  1.735218  1.525767  3.272144  3.296944   \n",
       "568 -1.808401  1.221792 -1.814389 -1.347789 -3.112085 -1.150752 -1.114873   \n",
       "\n",
       "     feature7  feature8  feature9  ...  feature20  feature21  feature22  \\\n",
       "564  2.320965 -0.312589 -0.931027  ...   1.901185   0.117700   1.752563   \n",
       "565  1.263669 -0.217664 -1.058611  ...   1.536720   2.047399   1.421940   \n",
       "566  0.105777 -0.809117 -0.895587  ...   0.561361   1.374854   0.579001   \n",
       "567  2.658866  2.137194  1.043695  ...   1.961239   2.237926   2.303601   \n",
       "568 -1.261820 -0.820070 -0.561032  ...  -1.410893   0.764190  -1.432735   \n",
       "\n",
       "     feature23  feature24  feature25  feature26  feature27  feature28  \\\n",
       "564   2.015301   0.378365  -0.273318   0.664512   1.629151  -1.360158   \n",
       "565   1.494959  -0.691230  -0.394820   0.236573   0.733827  -0.531855   \n",
       "566   0.427906  -0.809587   0.350735   0.326767   0.414069  -1.104549   \n",
       "567   1.653171   1.430427   3.904848   3.197605   2.289985   1.919083   \n",
       "568  -1.075813  -1.859019  -1.207552  -1.305831  -1.745063  -0.048138   \n",
       "\n",
       "     feature29  \n",
       "564  -0.709091  \n",
       "565  -0.973978  \n",
       "566  -0.318409  \n",
       "567   2.219635  \n",
       "568  -0.751207  \n",
       "\n",
       "[5 rows x 30 columns]"
      ]
     },
     "execution_count": 30,
     "metadata": {},
     "output_type": "execute_result"
    }
   ],
   "source": [
    "feat_cols = ['feature'+str(i) for i in range(x.shape[1])]\n",
    "normalised_breast = pd.DataFrame(x,columns=feat_cols)\n",
    "normalised_breast.tail()"
   ]
  },
  {
   "cell_type": "markdown",
   "metadata": {
    "id": "_DdM8q1wuM-6"
   },
   "source": [
    "Sekarang sampai pada critical part, beberapa baris kode berikutnya akan memproyeksikan thirty-dimensional Breast Cancer data ke two-dimensional principal components.\n",
    "\n",
    "Kita akan menggunakan pustaka sklearn untuk mengimpor modul PCA, dan dalam metode PCA, kita akan mengirimkan jumlah komponen (n_components = 2) dan terakhir memanggil fit_transform pada data agregat. Di sini, beberapa komponen mewakili dimensi yang lebih rendah di mana kita akan memproyeksikan data dimensi yang lebih tinggi."
   ]
  },
  {
   "cell_type": "code",
   "execution_count": 31,
   "metadata": {
    "id": "2S4NP2QBuQeW"
   },
   "outputs": [],
   "source": [
    "from sklearn.decomposition import PCA\n",
    "pca_breast = PCA(n_components=2)\n",
    "principalComponents_breast = pca_breast.fit_transform(x)"
   ]
  },
  {
   "cell_type": "markdown",
   "metadata": {
    "id": "pS2fqHJuuT8C"
   },
   "source": [
    "Selanjutnya, mari buat DataFrame yang akan memiliki nilai principal component untuk semua 569 sampel.\n",
    "\n"
   ]
  },
  {
   "cell_type": "code",
   "execution_count": 32,
   "metadata": {
    "colab": {
     "base_uri": "https://localhost:8080/",
     "height": 200
    },
    "id": "STbqFC8yuWTi",
    "outputId": "978b8541-d9ef-4186-d807-af9ff813e061"
   },
   "outputs": [
    {
     "data": {
      "text/html": [
       "<div>\n",
       "<style scoped>\n",
       "    .dataframe tbody tr th:only-of-type {\n",
       "        vertical-align: middle;\n",
       "    }\n",
       "\n",
       "    .dataframe tbody tr th {\n",
       "        vertical-align: top;\n",
       "    }\n",
       "\n",
       "    .dataframe thead th {\n",
       "        text-align: right;\n",
       "    }\n",
       "</style>\n",
       "<table border=\"1\" class=\"dataframe\">\n",
       "  <thead>\n",
       "    <tr style=\"text-align: right;\">\n",
       "      <th></th>\n",
       "      <th>principal component 1</th>\n",
       "      <th>principal component 2</th>\n",
       "    </tr>\n",
       "  </thead>\n",
       "  <tbody>\n",
       "    <tr>\n",
       "      <th>564</th>\n",
       "      <td>6.439315</td>\n",
       "      <td>-3.576817</td>\n",
       "    </tr>\n",
       "    <tr>\n",
       "      <th>565</th>\n",
       "      <td>3.793382</td>\n",
       "      <td>-3.584048</td>\n",
       "    </tr>\n",
       "    <tr>\n",
       "      <th>566</th>\n",
       "      <td>1.256179</td>\n",
       "      <td>-1.902297</td>\n",
       "    </tr>\n",
       "    <tr>\n",
       "      <th>567</th>\n",
       "      <td>10.374794</td>\n",
       "      <td>1.672010</td>\n",
       "    </tr>\n",
       "    <tr>\n",
       "      <th>568</th>\n",
       "      <td>-5.475243</td>\n",
       "      <td>-0.670637</td>\n",
       "    </tr>\n",
       "  </tbody>\n",
       "</table>\n",
       "</div>"
      ],
      "text/plain": [
       "     principal component 1  principal component 2\n",
       "564               6.439315              -3.576817\n",
       "565               3.793382              -3.584048\n",
       "566               1.256179              -1.902297\n",
       "567              10.374794               1.672010\n",
       "568              -5.475243              -0.670637"
      ]
     },
     "execution_count": 32,
     "metadata": {},
     "output_type": "execute_result"
    }
   ],
   "source": [
    "principal_breast_Df = pd.DataFrame(data=principalComponents_breast,\n",
    "                                   columns=['principal component 1', 'principal component 2'])\n",
    "principal_breast_Df.tail()\n"
   ]
  },
  {
   "cell_type": "markdown",
   "metadata": {
    "id": "d2QYxKSXuaAF"
   },
   "source": [
    "Setelah kita memiliki principal components, kita dapat menemukan explained_variance_ratio. Ini akan memberi kita jumlah informasi atau varians yang dimiliki setiap principal component setelah memproyeksikan data ke subruang dimensi yang lebih rendah."
   ]
  },
  {
   "cell_type": "code",
   "execution_count": 33,
   "metadata": {
    "colab": {
     "base_uri": "https://localhost:8080/"
    },
    "id": "QDzNnVxiua3Q",
    "outputId": "ef15dc14-6633-424f-fdcd-60594ca28332"
   },
   "outputs": [
    {
     "name": "stdout",
     "output_type": "stream",
     "text": [
      "Explained variation per principal component: [0.44272026 0.18971182]\n"
     ]
    }
   ],
   "source": [
    "print('Explained variation per principal component: {}'.format(pca_breast.explained_variance_ratio_))"
   ]
  },
  {
   "cell_type": "markdown",
   "metadata": {
    "id": "4jfGonWTueHa"
   },
   "source": [
    "Dari keluaran di atas, kita dapat mengamati bahwa principal component 1 menampung 44,2% informasi sedangkan principal component 2 hanya menampung 19% informasi. Juga, hal lain yang perlu diperhatikan adalah saat memproyeksikan data tiga puluh dimensi menjadi data dua dimensi, 36,8% informasi hilang.\n",
    "\n",
    "Mari kita gambarkan visualisasi dari 569 sampel di sepanjang sumbu principal component - 1 dan principal component - 2. Ini akan memberi kita wawasan yang baik tentang bagaimana sampel kita didistribusikan di antara dua kelas."
   ]
  },
  {
   "cell_type": "code",
   "execution_count": 34,
   "metadata": {
    "colab": {
     "base_uri": "https://localhost:8080/",
     "height": 655
    },
    "id": "gbees309ugVa",
    "outputId": "8fb8b928-7e82-4555-86ae-14331f8a31e3"
   },
   "outputs": [
    {
     "data": {
      "text/plain": [
       "<Figure size 432x288 with 0 Axes>"
      ]
     },
     "metadata": {},
     "output_type": "display_data"
    },
    {
     "data": {
      "image/png": "[encoded data removed]",
      "text/plain": [
       "<Figure size 720x720 with 1 Axes>"
      ]
     },
     "metadata": {
      "needs_background": "light"
     },
     "output_type": "display_data"
    }
   ],
   "source": [
    "\n",
    "import matplotlib as mpl\n",
    "import matplotlib.pyplot as plt\n",
    "\n",
    "%matplotlib inline\n",
    "\n",
    "plt.figure()\n",
    "plt.figure(figsize=(10,10))\n",
    "plt.xticks(fontsize=12)\n",
    "plt.yticks(fontsize=14)\n",
    "plt.xlabel('Principal Component - 1',fontsize=20)\n",
    "plt.ylabel('Principal Component - 2',fontsize=20)\n",
    "plt.title(\"Principal Component Analysis of Breast Cancer Dataset\",fontsize=20)\n",
    "targets = ['Benign', 'Malignant']\n",
    "colors = ['r', 'g']\n",
    "for target, color in zip(targets,colors):\n",
    "    indicesToKeep = breast_dataset['label'] == target\n",
    "    plt.scatter(principal_breast_Df.loc[indicesToKeep, 'principal component 1']\n",
    "               , principal_breast_Df.loc[indicesToKeep, 'principal component 2'], c = color, s = 50)\n",
    "\n",
    "plt.legend(targets,prop={'size': 15})\n",
    "\n",
    "plt.show()"
   ]
  },
  {
   "cell_type": "markdown",
   "metadata": {
    "id": "m7_uaewQumJg"
   },
   "source": [
    "Dari grafik di atas, kita dapat mengamati bahwa dua kelas benign dan malignant, ketika diproyeksikan ke ruang dua dimensi, dapat dipisahkan secara linier sampai batas tertentu. Pengamatan lain dapat berupa penyebaran kelas benign dibandingkan dengan kelas malignant."
   ]
  },
  {
   "cell_type": "markdown",
   "metadata": {
    "id": "XLLQ4I7FGR3h"
   },
   "source": [
    "------"
   ]
  },
  {
   "cell_type": "markdown",
   "metadata": {
    "id": "bbt153ltGUSm"
   },
   "source": [
    "## PCA dengan dataset wine (Optional)"
   ]
  },
  {
   "cell_type": "code",
   "execution_count": 35,
   "metadata": {
    "colab": {
     "base_uri": "https://localhost:8080/",
     "height": 426
    },
    "id": "Eh-NNSnrGhJf",
    "outputId": "b7183088-2074-4a79-9e39-2c288226e9e9"
   },
   "outputs": [
    {
     "ename": "FileNotFoundError",
     "evalue": "[Errno 2] No such file or directory: 'Wine.csv'",
     "output_type": "error",
     "traceback": [
      "\u001b[1;31m---------------------------------------------------------------------------\u001b[0m",
      "\u001b[1;31mFileNotFoundError\u001b[0m                         Traceback (most recent call last)",
      "\u001b[1;32m<ipython-input-35-df6f86d20491>\u001b[0m in \u001b[0;36m<module>\u001b[1;34m\u001b[0m\n\u001b[0;32m      5\u001b[0m \u001b[1;33m\u001b[0m\u001b[0m\n\u001b[0;32m      6\u001b[0m \u001b[1;31m# Mengimpor datasetnya\u001b[0m\u001b[1;33m\u001b[0m\u001b[1;33m\u001b[0m\u001b[1;33m\u001b[0m\u001b[0m\n\u001b[1;32m----> 7\u001b[1;33m \u001b[0mdataset\u001b[0m \u001b[1;33m=\u001b[0m \u001b[0mpd\u001b[0m\u001b[1;33m.\u001b[0m\u001b[0mread_csv\u001b[0m\u001b[1;33m(\u001b[0m\u001b[1;34m'Wine.csv'\u001b[0m\u001b[1;33m)\u001b[0m\u001b[1;33m\u001b[0m\u001b[1;33m\u001b[0m\u001b[0m\n\u001b[0m\u001b[0;32m      8\u001b[0m \u001b[0mX\u001b[0m \u001b[1;33m=\u001b[0m \u001b[0mdataset\u001b[0m\u001b[1;33m.\u001b[0m\u001b[0miloc\u001b[0m\u001b[1;33m[\u001b[0m\u001b[1;33m:\u001b[0m\u001b[1;33m,\u001b[0m \u001b[1;36m0\u001b[0m\u001b[1;33m:\u001b[0m\u001b[1;36m13\u001b[0m\u001b[1;33m]\u001b[0m\u001b[1;33m.\u001b[0m\u001b[0mvalues\u001b[0m\u001b[1;33m\u001b[0m\u001b[1;33m\u001b[0m\u001b[0m\n\u001b[0;32m      9\u001b[0m \u001b[0my\u001b[0m \u001b[1;33m=\u001b[0m \u001b[0mdataset\u001b[0m\u001b[1;33m.\u001b[0m\u001b[0miloc\u001b[0m\u001b[1;33m[\u001b[0m\u001b[1;33m:\u001b[0m\u001b[1;33m,\u001b[0m \u001b[1;36m13\u001b[0m\u001b[1;33m]\u001b[0m\u001b[1;33m.\u001b[0m\u001b[0mvalues\u001b[0m\u001b[1;33m\u001b[0m\u001b[1;33m\u001b[0m\u001b[0m\n",
      "\u001b[1;32m~\\anaconda3\\lib\\site-packages\\pandas\\io\\parsers.py\u001b[0m in \u001b[0;36mread_csv\u001b[1;34m(filepath_or_buffer, sep, delimiter, header, names, index_col, usecols, squeeze, prefix, mangle_dupe_cols, dtype, engine, converters, true_values, false_values, skipinitialspace, skiprows, skipfooter, nrows, na_values, keep_default_na, na_filter, verbose, skip_blank_lines, parse_dates, infer_datetime_format, keep_date_col, date_parser, dayfirst, cache_dates, iterator, chunksize, compression, thousands, decimal, lineterminator, quotechar, quoting, doublequote, escapechar, comment, encoding, dialect, error_bad_lines, warn_bad_lines, delim_whitespace, low_memory, memory_map, float_precision, storage_options)\u001b[0m\n\u001b[0;32m    608\u001b[0m     \u001b[0mkwds\u001b[0m\u001b[1;33m.\u001b[0m\u001b[0mupdate\u001b[0m\u001b[1;33m(\u001b[0m\u001b[0mkwds_defaults\u001b[0m\u001b[1;33m)\u001b[0m\u001b[1;33m\u001b[0m\u001b[1;33m\u001b[0m\u001b[0m\n\u001b[0;32m    609\u001b[0m \u001b[1;33m\u001b[0m\u001b[0m\n\u001b[1;32m--> 610\u001b[1;33m     \u001b[1;32mreturn\u001b[0m \u001b[0m_read\u001b[0m\u001b[1;33m(\u001b[0m\u001b[0mfilepath_or_buffer\u001b[0m\u001b[1;33m,\u001b[0m \u001b[0mkwds\u001b[0m\u001b[1;33m)\u001b[0m\u001b[1;33m\u001b[0m\u001b[1;33m\u001b[0m\u001b[0m\n\u001b[0m\u001b[0;32m    611\u001b[0m \u001b[1;33m\u001b[0m\u001b[0m\n\u001b[0;32m    612\u001b[0m \u001b[1;33m\u001b[0m\u001b[0m\n",
      "\u001b[1;32m~\\anaconda3\\lib\\site-packages\\pandas\\io\\parsers.py\u001b[0m in \u001b[0;36m_read\u001b[1;34m(filepath_or_buffer, kwds)\u001b[0m\n\u001b[0;32m    460\u001b[0m \u001b[1;33m\u001b[0m\u001b[0m\n\u001b[0;32m    461\u001b[0m     \u001b[1;31m# Create the parser.\u001b[0m\u001b[1;33m\u001b[0m\u001b[1;33m\u001b[0m\u001b[1;33m\u001b[0m\u001b[0m\n\u001b[1;32m--> 462\u001b[1;33m     \u001b[0mparser\u001b[0m \u001b[1;33m=\u001b[0m \u001b[0mTextFileReader\u001b[0m\u001b[1;33m(\u001b[0m\u001b[0mfilepath_or_buffer\u001b[0m\u001b[1;33m,\u001b[0m \u001b[1;33m**\u001b[0m\u001b[0mkwds\u001b[0m\u001b[1;33m)\u001b[0m\u001b[1;33m\u001b[0m\u001b[1;33m\u001b[0m\u001b[0m\n\u001b[0m\u001b[0;32m    463\u001b[0m \u001b[1;33m\u001b[0m\u001b[0m\n\u001b[0;32m    464\u001b[0m     \u001b[1;32mif\u001b[0m \u001b[0mchunksize\u001b[0m \u001b[1;32mor\u001b[0m \u001b[0miterator\u001b[0m\u001b[1;33m:\u001b[0m\u001b[1;33m\u001b[0m\u001b[1;33m\u001b[0m\u001b[0m\n",
      "\u001b[1;32m~\\anaconda3\\lib\\site-packages\\pandas\\io\\parsers.py\u001b[0m in \u001b[0;36m__init__\u001b[1;34m(self, f, engine, **kwds)\u001b[0m\n\u001b[0;32m    817\u001b[0m             \u001b[0mself\u001b[0m\u001b[1;33m.\u001b[0m\u001b[0moptions\u001b[0m\u001b[1;33m[\u001b[0m\u001b[1;34m\"has_index_names\"\u001b[0m\u001b[1;33m]\u001b[0m \u001b[1;33m=\u001b[0m \u001b[0mkwds\u001b[0m\u001b[1;33m[\u001b[0m\u001b[1;34m\"has_index_names\"\u001b[0m\u001b[1;33m]\u001b[0m\u001b[1;33m\u001b[0m\u001b[1;33m\u001b[0m\u001b[0m\n\u001b[0;32m    818\u001b[0m \u001b[1;33m\u001b[0m\u001b[0m\n\u001b[1;32m--> 819\u001b[1;33m         \u001b[0mself\u001b[0m\u001b[1;33m.\u001b[0m\u001b[0m_engine\u001b[0m \u001b[1;33m=\u001b[0m \u001b[0mself\u001b[0m\u001b[1;33m.\u001b[0m\u001b[0m_make_engine\u001b[0m\u001b[1;33m(\u001b[0m\u001b[0mself\u001b[0m\u001b[1;33m.\u001b[0m\u001b[0mengine\u001b[0m\u001b[1;33m)\u001b[0m\u001b[1;33m\u001b[0m\u001b[1;33m\u001b[0m\u001b[0m\n\u001b[0m\u001b[0;32m    820\u001b[0m \u001b[1;33m\u001b[0m\u001b[0m\n\u001b[0;32m    821\u001b[0m     \u001b[1;32mdef\u001b[0m \u001b[0mclose\u001b[0m\u001b[1;33m(\u001b[0m\u001b[0mself\u001b[0m\u001b[1;33m)\u001b[0m\u001b[1;33m:\u001b[0m\u001b[1;33m\u001b[0m\u001b[1;33m\u001b[0m\u001b[0m\n",
      "\u001b[1;32m~\\anaconda3\\lib\\site-packages\\pandas\\io\\parsers.py\u001b[0m in \u001b[0;36m_make_engine\u001b[1;34m(self, engine)\u001b[0m\n\u001b[0;32m   1048\u001b[0m             )\n\u001b[0;32m   1049\u001b[0m         \u001b[1;31m# error: Too many arguments for \"ParserBase\"\u001b[0m\u001b[1;33m\u001b[0m\u001b[1;33m\u001b[0m\u001b[1;33m\u001b[0m\u001b[0m\n\u001b[1;32m-> 1050\u001b[1;33m         \u001b[1;32mreturn\u001b[0m \u001b[0mmapping\u001b[0m\u001b[1;33m[\u001b[0m\u001b[0mengine\u001b[0m\u001b[1;33m]\u001b[0m\u001b[1;33m(\u001b[0m\u001b[0mself\u001b[0m\u001b[1;33m.\u001b[0m\u001b[0mf\u001b[0m\u001b[1;33m,\u001b[0m \u001b[1;33m**\u001b[0m\u001b[0mself\u001b[0m\u001b[1;33m.\u001b[0m\u001b[0moptions\u001b[0m\u001b[1;33m)\u001b[0m  \u001b[1;31m# type: ignore[call-arg]\u001b[0m\u001b[1;33m\u001b[0m\u001b[1;33m\u001b[0m\u001b[0m\n\u001b[0m\u001b[0;32m   1051\u001b[0m \u001b[1;33m\u001b[0m\u001b[0m\n\u001b[0;32m   1052\u001b[0m     \u001b[1;32mdef\u001b[0m \u001b[0m_failover_to_python\u001b[0m\u001b[1;33m(\u001b[0m\u001b[0mself\u001b[0m\u001b[1;33m)\u001b[0m\u001b[1;33m:\u001b[0m\u001b[1;33m\u001b[0m\u001b[1;33m\u001b[0m\u001b[0m\n",
      "\u001b[1;32m~\\anaconda3\\lib\\site-packages\\pandas\\io\\parsers.py\u001b[0m in \u001b[0;36m__init__\u001b[1;34m(self, src, **kwds)\u001b[0m\n\u001b[0;32m   1865\u001b[0m \u001b[1;33m\u001b[0m\u001b[0m\n\u001b[0;32m   1866\u001b[0m         \u001b[1;31m# open handles\u001b[0m\u001b[1;33m\u001b[0m\u001b[1;33m\u001b[0m\u001b[1;33m\u001b[0m\u001b[0m\n\u001b[1;32m-> 1867\u001b[1;33m         \u001b[0mself\u001b[0m\u001b[1;33m.\u001b[0m\u001b[0m_open_handles\u001b[0m\u001b[1;33m(\u001b[0m\u001b[0msrc\u001b[0m\u001b[1;33m,\u001b[0m \u001b[0mkwds\u001b[0m\u001b[1;33m)\u001b[0m\u001b[1;33m\u001b[0m\u001b[1;33m\u001b[0m\u001b[0m\n\u001b[0m\u001b[0;32m   1868\u001b[0m         \u001b[1;32massert\u001b[0m \u001b[0mself\u001b[0m\u001b[1;33m.\u001b[0m\u001b[0mhandles\u001b[0m \u001b[1;32mis\u001b[0m \u001b[1;32mnot\u001b[0m \u001b[1;32mNone\u001b[0m\u001b[1;33m\u001b[0m\u001b[1;33m\u001b[0m\u001b[0m\n\u001b[0;32m   1869\u001b[0m         \u001b[1;32mfor\u001b[0m \u001b[0mkey\u001b[0m \u001b[1;32min\u001b[0m \u001b[1;33m(\u001b[0m\u001b[1;34m\"storage_options\"\u001b[0m\u001b[1;33m,\u001b[0m \u001b[1;34m\"encoding\"\u001b[0m\u001b[1;33m,\u001b[0m \u001b[1;34m\"memory_map\"\u001b[0m\u001b[1;33m,\u001b[0m \u001b[1;34m\"compression\"\u001b[0m\u001b[1;33m)\u001b[0m\u001b[1;33m:\u001b[0m\u001b[1;33m\u001b[0m\u001b[1;33m\u001b[0m\u001b[0m\n",
      "\u001b[1;32m~\\anaconda3\\lib\\site-packages\\pandas\\io\\parsers.py\u001b[0m in \u001b[0;36m_open_handles\u001b[1;34m(self, src, kwds)\u001b[0m\n\u001b[0;32m   1360\u001b[0m         \u001b[0mLet\u001b[0m \u001b[0mthe\u001b[0m \u001b[0mreaders\u001b[0m \u001b[0mopen\u001b[0m \u001b[0mIOHanldes\u001b[0m \u001b[0mafter\u001b[0m \u001b[0mthey\u001b[0m \u001b[0mare\u001b[0m \u001b[0mdone\u001b[0m \u001b[1;32mwith\u001b[0m \u001b[0mtheir\u001b[0m \u001b[0mpotential\u001b[0m \u001b[0mraises\u001b[0m\u001b[1;33m.\u001b[0m\u001b[1;33m\u001b[0m\u001b[1;33m\u001b[0m\u001b[0m\n\u001b[0;32m   1361\u001b[0m         \"\"\"\n\u001b[1;32m-> 1362\u001b[1;33m         self.handles = get_handle(\n\u001b[0m\u001b[0;32m   1363\u001b[0m             \u001b[0msrc\u001b[0m\u001b[1;33m,\u001b[0m\u001b[1;33m\u001b[0m\u001b[1;33m\u001b[0m\u001b[0m\n\u001b[0;32m   1364\u001b[0m             \u001b[1;34m\"r\"\u001b[0m\u001b[1;33m,\u001b[0m\u001b[1;33m\u001b[0m\u001b[1;33m\u001b[0m\u001b[0m\n",
      "\u001b[1;32m~\\anaconda3\\lib\\site-packages\\pandas\\io\\common.py\u001b[0m in \u001b[0;36mget_handle\u001b[1;34m(path_or_buf, mode, encoding, compression, memory_map, is_text, errors, storage_options)\u001b[0m\n\u001b[0;32m    645\u001b[0m                 \u001b[0merrors\u001b[0m \u001b[1;33m=\u001b[0m \u001b[1;34m\"replace\"\u001b[0m\u001b[1;33m\u001b[0m\u001b[1;33m\u001b[0m\u001b[0m\n\u001b[0;32m    646\u001b[0m             \u001b[1;31m# Encoding\u001b[0m\u001b[1;33m\u001b[0m\u001b[1;33m\u001b[0m\u001b[1;33m\u001b[0m\u001b[0m\n\u001b[1;32m--> 647\u001b[1;33m             handle = open(\n\u001b[0m\u001b[0;32m    648\u001b[0m                 \u001b[0mhandle\u001b[0m\u001b[1;33m,\u001b[0m\u001b[1;33m\u001b[0m\u001b[1;33m\u001b[0m\u001b[0m\n\u001b[0;32m    649\u001b[0m                 \u001b[0mioargs\u001b[0m\u001b[1;33m.\u001b[0m\u001b[0mmode\u001b[0m\u001b[1;33m,\u001b[0m\u001b[1;33m\u001b[0m\u001b[1;33m\u001b[0m\u001b[0m\n",
      "\u001b[1;31mFileNotFoundError\u001b[0m: [Errno 2] No such file or directory: 'Wine.csv'"
     ]
    }
   ],
   "source": [
    "# Mengimpor library yang diperlukan\n",
    "import numpy as np\n",
    "import matplotlib.pyplot as plt\n",
    "import pandas as pd\n",
    " \n",
    "# Mengimpor datasetnya\n",
    "dataset = pd.read_csv('Wine.csv')\n",
    "X = dataset.iloc[:, 0:13].values\n",
    "y = dataset.iloc[:, 13].values\n",
    " \n",
    "# Membagi data ke dalam  Training set dan Test set\n",
    "from sklearn.model_selection import train_test_split\n",
    "X_train, X_test, y_train, y_test = train_test_split(X, y, test_size = 0.2, random_state = 0)\n",
    " \n",
    "# Proses Feature Scaling\n",
    "from sklearn.preprocessing import StandardScaler\n",
    "sc = StandardScaler()\n",
    "X_train = sc.fit_transform(X_train)\n",
    "X_test = sc.transform(X_test)\n",
    " \n",
    "# Menjalankan algoritma PCA\n",
    "from sklearn.decomposition import PCA\n",
    "pca = PCA(n_components = None)\n",
    "X_train = pca.fit_transform(X_train)\n",
    "X_test = pca.transform(X_test)\n",
    "hasil_variance = pca.explained_variance_ratio_ # Proses pengecekan variance\n",
    " \n",
    "# Proses pemilihan PCs\n",
    "X_train, X_test, y_train, y_test = train_test_split(X, y, test_size = 0.2, random_state = 0)\n",
    "sc = StandardScaler()\n",
    "X_train = sc.fit_transform(X_train)\n",
    "X_test = sc.transform(X_test)\n",
    "pca = PCA(n_components = 2)\n",
    "X_train = pca.fit_transform(X_train)\n",
    "X_test = pca.transform(X_test)\n",
    "hasil_variance2 = pca.explained_variance_ratio_\n",
    " \n",
    "# Menjalankan algoritma logistic regression ke training set\n",
    "from sklearn.linear_model import LogisticRegression\n",
    "mesin_klasifikasi = LogisticRegression(random_state = 0)\n",
    "mesin_klasifikasi.fit(X_train, y_train)\n",
    " \n",
    "# Memprediksi test set berdasakan model logistic regression\n",
    "y_pred = mesin_klasifikasi.predict(X_test)\n",
    " \n",
    "# Membuat confusion matrix\n",
    "from sklearn.metrics import confusion_matrix\n",
    "cm = confusion_matrix(y_test, y_pred)\n",
    " \n",
    "# Visualisasi Training Set\n",
    "from matplotlib.colors import ListedColormap\n",
    "X_set, y_set = X_train, y_train\n",
    "X1, X2 = np.meshgrid(np.arange(start = X_set[:, 0].min() - 1, stop = X_set[:, 0].max() + 1, step = 0.01),\n",
    "                     np.arange(start = X_set[:, 1].min() - 1, stop = X_set[:, 1].max() + 1, step = 0.01))\n",
    "plt.contourf(X1, X2, mesin_klasifikasi.predict(np.array([X1.ravel(), X2.ravel()]).T).reshape(X1.shape),\n",
    "             alpha = 0.75, cmap = ListedColormap(('red', 'green', 'blue')))\n",
    "plt.xlim(X1.min(), X1.max())\n",
    "plt.ylim(X2.min(), X2.max())\n",
    "for i, j in enumerate(np.unique(y_set)):\n",
    "    plt.scatter(X_set[y_set == j, 0], X_set[y_set == j, 1],\n",
    "                c = ListedColormap(('red', 'green', 'blue'))(i), label = j)\n",
    "plt.title('Logistic Regression (Training set)')\n",
    "plt.xlabel('PC1')\n",
    "plt.ylabel('PC2')\n",
    "plt.legend()\n",
    "plt.show()\n",
    " \n",
    "# Visualisasi Test Set\n",
    "from matplotlib.colors import ListedColormap\n",
    "X_set, y_set = X_test, y_test\n",
    "X1, X2 = np.meshgrid(np.arange(start = X_set[:, 0].min() - 1, stop = X_set[:, 0].max() + 1, step = 0.01),\n",
    "                     np.arange(start = X_set[:, 1].min() - 1, stop = X_set[:, 1].max() + 1, step = 0.01))\n",
    "plt.contourf(X1, X2, mesin_klasifikasi.predict(np.array([X1.ravel(), X2.ravel()]).T).reshape(X1.shape),\n",
    "             alpha = 0.75, cmap = ListedColormap(('red', 'green', 'blue')))\n",
    "plt.xlim(X1.min(), X1.max())\n",
    "plt.ylim(X2.min(), X2.max())\n",
    "for i, j in enumerate(np.unique(y_set)):\n",
    "    plt.scatter(X_set[y_set == j, 0], X_set[y_set == j, 1],\n",
    "                c = ListedColormap(('red', 'green', 'blue'))(i), label = j)\n",
    "plt.title('Logistic Regression (Test set)')\n",
    "plt.xlabel('PC1')\n",
    "plt.ylabel('PC2')\n",
    "plt.legend()\n",
    "plt.show()\n"
   ]
  },
  {
   "cell_type": "markdown",
   "metadata": {
    "id": "IYzLNHVLmGGH"
   },
   "source": [
    "# Metode Clustering :\n",
    "\n",
    "1. Exlusive Clustering, disebut juga partitional clustering atau hard clustering.  Merupakan jenis clustering dimana masing-masing elemen hanya di miliki oleh sebuah cluster dan tidak boleh dimiliki oleh cluster yang lain.\n",
    "(K-Means)  \n",
    "\n",
    "2. Overlaping Clustering disebut juga soft clustering, merupakan jenis clustering dimana elemen2 boleh di miliki oleh beberapa cluster.  \n",
    "\n",
    "3. Hirachical Clustering, disebut juga multilevel hierachy. Cluster yang lebih besar dikelompokan menjadi dua atau lebih cluster yang lebih kecil sehingga membentuk tree diagram yang disebut dendrogram.  \n",
    "\n",
    "4. Density-based Clustering. Jenis clustering yang berhubungan dengan kerapatan object (densitas) dimana cluster yang lebih padat dipisahkan oleh cluster yang lebih renggang.  \n",
    "\n",
    "5. Model"
   ]
  },
  {
   "cell_type": "markdown",
   "metadata": {
    "id": "RvGLiAmoupcM"
   },
   "source": [
    "# K-Means Clustering\n"
   ]
  },
  {
   "cell_type": "markdown",
   "metadata": {
    "id": "ElqM3H4fusYL"
   },
   "source": [
    "Clustering adalah tugas mengelompokkan sekumpulan objek sedemikian rupa sehingga objek dalam kluster yang sama lebih mirip satu sama lain daripada objek di kluster lain. \n",
    "\n",
    "Similarity adalah metrik yang mencerminkan kekuatan hubungan antara dua objek data. Clustering terutama digunakan untuk exploratory data mining. \n",
    "\n",
    "Clustering memiliki banyak penggunaan di banyak bidang seperti machine learning, pattern recognition, image analysis, information retrieval, bio-informatics, data compression, dan computer graphics.\n",
    "\n"
   ]
  },
  {
   "cell_type": "markdown",
   "metadata": {
    "id": "ZY15D7BcutNS"
   },
   "source": [
    "## How is Clustering an Unsupervised Learning Problem?\n"
   ]
  },
  {
   "cell_type": "markdown",
   "metadata": {
    "id": "Tsc1Qfx0ux1Z"
   },
   "source": [
    "Misalkan kita sedang mengerjakan sebuah proyek di mana kita perlu memprediksi penjualan pasar besar:\n",
    "\n"
   ]
  },
  {
   "cell_type": "markdown",
   "metadata": {
    "id": "fsqugJ9Bu0j7"
   },
   "source": [
    "<img src=\"https://i.ibb.co/xfFBXRn/kmean-01.png\" width=\"500\" align=\"center\">\n"
   ]
  },
  {
   "cell_type": "markdown",
   "metadata": {
    "id": "bNHGF0xhu1f-"
   },
   "source": [
    "Atau, proyek di mana tugas kita adalah memprediksi apakah pinjaman akan disetujui atau tidak:\n",
    "\n"
   ]
  },
  {
   "cell_type": "markdown",
   "metadata": {
    "id": "JQMkZljtu2F0"
   },
   "source": [
    "<img src=\"https://i.ibb.co/5FzFYph/kmeans-02.png\" width=\"500\" align=\"center\">"
   ]
  },
  {
   "cell_type": "markdown",
   "metadata": {
    "id": "C3vvj_u3u26l"
   },
   "source": [
    "Kita memiliki target untuk diprediksi dalam kedua situasi ini. Pada soal prediksi penjualan, kita harus memprediksi Item_Outlet_Sales berdasarkan outlet_size, outlet_location_type, dll. Dan dalam masalah loan approval, kita harus memprediksi Loan_Status berdasarkan Gender, marital status, the income of the customers, dll."
   ]
  },
  {
   "cell_type": "markdown",
   "metadata": {
    "id": "m5X1JFpTu8XF"
   },
   "source": [
    "Jadi, ketika kita memiliki variabel target untuk diprediksi berdasarkan seperangkat prediktor atau variabel independen tertentu, masalah seperti itu disebut masalah pembelajaran terawasi.\n",
    "\n",
    "Sekarang, mungkin ada situasi di mana kita tidak memiliki variabel target untuk diprediksi.\n",
    "\n",
    "Masalah seperti itu, tanpa variabel target tetap, dikenal sebagai masalah pembelajaran tanpa pengawasan. Dalam masalah ini, kami hanya memiliki variabel independen dan tidak ada variabel target/dependen.\n",
    "\n",
    "Dalam clustering, kami tidak memiliki target untuk diprediksi. Kami melihat data dan kemudian mencoba menggabungkan pengamatan yang sama dan membentuk kelompok yang berbeda. Oleh karena itu, ini adalah masalah belajar tanpa pengawasan.\n",
    "\n",
    "Sekarang kita tahu apa itu cluster dan konsep clustering. Selanjutnya, mari kita lihat properti dari cluster ini yang harus kita pertimbangkan saat membentuk cluster."
   ]
  },
  {
   "cell_type": "markdown",
   "metadata": {
    "id": "X2GOG-g6u9iv"
   },
   "source": [
    "## Properties of Clusters\n"
   ]
  },
  {
   "cell_type": "markdown",
   "metadata": {
    "id": "oU8eRfleu_wg"
   },
   "source": [
    "Kita akan mengambil bank yang sama seperti sebelumnya yang ingin menyegmentasikan pelanggannya. Untuk kesederhanaan, katakanlah bank hanya ingin menggunakan income dan debt untuk membuat segmentasi. Mereka mengumpulkan data pelanggan dan menggunakan scatter plot untuk memvisualisasikannya:"
   ]
  },
  {
   "cell_type": "markdown",
   "metadata": {
    "id": "8bJrxivQvCRn"
   },
   "source": [
    "<img src=\"https://i.ibb.co/hCn2mcn/14-08.png\" width=\"500\" align=\"center\">"
   ]
  },
  {
   "cell_type": "markdown",
   "metadata": {
    "id": "bSU9kqSDvDHI"
   },
   "source": [
    "Pada sumbu X, kita memiliki income pelanggan dan sumbu y mewakili jumlah debt. Di sini, kita dapat dengan jelas memvisualisasikan bahwa pelanggan ini dapat dibagi menjadi 4 cluster berbeda seperti yang ditunjukkan di bawah ini:"
   ]
  },
  {
   "cell_type": "markdown",
   "metadata": {
    "id": "8nZetxIhvFfQ"
   },
   "source": [
    "<img src=\"https://i.ibb.co/D1H5T7B/14-09.png\" width=\"400\" align=\"center\">\n",
    "\n",
    "\n",
    "\n"
   ]
  },
  {
   "cell_type": "markdown",
   "metadata": {
    "id": "tnoZyTVBvIAO"
   },
   "source": [
    "Beginilah cara clustering membantu membuat segmen (cluster) dari data. Bank selanjutnya dapat menggunakan cluster ini untuk membuat strategi dan menawarkan diskon kepada nasabahnya. Jadi mari kita lihat properti dari cluster ini."
   ]
  },
  {
   "cell_type": "markdown",
   "metadata": {
    "id": "8SRgQ3NnvKKp"
   },
   "source": [
    "### Property 1\n"
   ]
  },
  {
   "cell_type": "markdown",
   "metadata": {
    "id": "CmBsPco8vNYZ"
   },
   "source": [
    "All the data points in a cluster should be similar to each other. Mari kita mengilustrasikannya menggunakan contoh di atas:"
   ]
  },
  {
   "cell_type": "markdown",
   "metadata": {
    "id": "N-r2KUoWvOAl"
   },
   "source": [
    "<img src=\"https://i.ibb.co/C1MsxgB/14-10.png\" width=\"200\" align=\"center\">\n",
    "\n",
    "\n",
    "\n"
   ]
  },
  {
   "cell_type": "markdown",
   "metadata": {
    "id": "I7APXdRUvOoq"
   },
   "source": [
    "Jika pelanggan dalam cluster tertentu tidak serupa satu sama lain, maka persyaratan mereka mungkin berbeda, bukan? Jika bank memberi mereka penawaran yang sama, mereka mungkin tidak menyukainya dan minat mereka pada bank mungkin berkurang. Tidak ideal.\n",
    "\n",
    "Memiliki titik data serupa dalam cluster yang sama membantu bank untuk menggunakan pemasaran yang ditargetkan."
   ]
  },
  {
   "cell_type": "markdown",
   "metadata": {
    "id": "gXAGCt10vRGP"
   },
   "source": [
    "### Property 2\n"
   ]
  },
  {
   "cell_type": "markdown",
   "metadata": {
    "id": "ZYN4oTeZvU-s"
   },
   "source": [
    "The data points from different clusters should be as different as possible. Ini secara intuitif akan masuk akal jika kita memahami properti di atas. Mari kita ambil lagi contoh yang sama untuk memahami properti ini:"
   ]
  },
  {
   "cell_type": "markdown",
   "metadata": {
    "id": "TZGUJPTHvYNB"
   },
   "source": [
    "<img src=\"https://i.ibb.co/5cdcR4V/14-11.png\" width=\"600\" align=\"center\">\n",
    "\n",
    "\n",
    "\n"
   ]
  },
  {
   "cell_type": "markdown",
   "metadata": {
    "id": "VUDP7fRuvYzV"
   },
   "source": [
    "Manakah dari kasus berikut yang menurut kalian akan memberi kita cluster yang lebih baik? Jika melihat kasus I:\n",
    "\n"
   ]
  },
  {
   "cell_type": "markdown",
   "metadata": {
    "id": "vrNDItyzvZXX"
   },
   "source": [
    "<img src=\"https://i.ibb.co/nCBdNgF/14-12.png\" width=\"600\" align=\"center\">\n",
    "\n",
    "\n",
    "\n"
   ]
  },
  {
   "cell_type": "markdown",
   "metadata": {
    "id": "fqoXzlWQvaGs"
   },
   "source": [
    "Pelanggan dalam kelompok merah dan biru sangat mirip satu sama lain. Empat poin teratas di cluster merah memiliki properti yang serupa dengan dua pelanggan teratas di cluster biru. Mereka memiliki pendapatan tinggi dan nilai hutang yang tinggi. Di sini, kita mengelompokkan mereka secara berbeda. Sedangkan jika melihat kasus II:"
   ]
  },
  {
   "cell_type": "markdown",
   "metadata": {
    "id": "Ru5qjKS9vdhY"
   },
   "source": [
    "<img src=\"https://i.ibb.co/gJJTVtD/14-13.png\" width=\"500\" align=\"center\">\n",
    "\n",
    "\n",
    "\n"
   ]
  },
  {
   "cell_type": "markdown",
   "metadata": {
    "id": "LGB1Yld1vh_1"
   },
   "source": [
    "Poin di cluster merah sama sekali berbeda dari pelanggan di cluster biru. Semua pelanggan di cluster merah memiliki pendapatan tinggi dan hutang tinggi dan pelanggan di cluster biru memiliki pendapatan tinggi dan nilai hutang rendah. Jelas kita memiliki clustering pelanggan yang lebih baik dalam kasus ini.\n",
    "\n",
    "Oleh karena itu, poin data dari cluster yang berbeda harus sama berbeda satu sama lain mungkin untuk memiliki cluster yang lebih bermakna."
   ]
  },
  {
   "cell_type": "markdown",
   "metadata": {
    "id": "128FirXFvlWk"
   },
   "source": [
    "## Understanding the Different Evaluation Metrics for Clustering\n"
   ]
  },
  {
   "cell_type": "markdown",
   "metadata": {
    "id": "WJe-pmE1vnAk"
   },
   "source": [
    "Tujuan utama clustering tidak hanya untuk membuat cluster, tetapi untuk membuat cluster yang baik dan bermakna. Kita melihat ini pada contoh di bawah ini:\n",
    "\n"
   ]
  },
  {
   "cell_type": "markdown",
   "metadata": {
    "id": "6HMMOksYvpXi"
   },
   "source": [
    "<img src=\"https://i.ibb.co/5cdcR4V/14-11.png\" width=\"600\" align=\"center\">\n",
    "\n",
    "\n",
    "\n"
   ]
  },
  {
   "cell_type": "markdown",
   "metadata": {
    "id": "TYeJWecUvqNt"
   },
   "source": [
    "Di sini, kita hanya menggunakan dua fitur dan karenanya mudah bagi kita untuk memvisualisasikan dan memutuskan cluster mana yang lebih baik.\n",
    "\n",
    "Sayangnya, skenario dunia nyata tidak bekerja seperti itu. Kita akan memiliki banyak fitur untuk dikerjakan. Mari kita ambil contoh segmentasi pelanggan lagi - kita akan memiliki fitur seperti customer’s income, occupation, gender, age, dan banyak lagi. Memvisualisasikan semua fitur ini bersama-sama dan memutuskan cluster yang lebih baik dan bermakna tidak akan mungkin bagi kita.\n",
    "\n",
    "Di sinilah kita dapat menggunakan evaluation metrics. Mari kita bahas beberapa di antaranya dan pahami bagaimana kita dapat menggunakannya untuk mengevaluasi kualitas cluster kita.\n",
    "\n"
   ]
  },
  {
   "cell_type": "markdown",
   "metadata": {
    "id": "PJJa2yopvv_Z"
   },
   "source": [
    "### Inertia\n"
   ]
  },
  {
   "cell_type": "markdown",
   "metadata": {
    "id": "kRAG09vFv1Ew"
   },
   "source": [
    "ingat kembali properti pertama dari cluster yang kita bahas di atas. Inilah yang mengevaluasi inersia. Inertia memberi tahu kita seberapa jauh titik dalam sebuah cluster. Jadi, inersia sebenarnya menghitung jumlah jarak semua titik dalam sebuah cluster dari pusat cluster tersebut.\n",
    "\n",
    "Kita menghitung ini untuk semua cluster dan nilai inersia akhir adalah jumlah dari semua jarak ini. Jarak dalam cluster ini dikenal sebagai intracluster distance. Jadi, inersia memberi kita sum of intracluster distances:\n",
    "\n"
   ]
  },
  {
   "cell_type": "markdown",
   "metadata": {
    "id": "rGQ3HM_iv9h3"
   },
   "source": [
    "<img src=\"https://i.ibb.co/sFrvxcZ/14-15.png\" width=\"400\" align=\"center\">\n",
    "\n",
    "\n",
    "\n"
   ]
  },
  {
   "cell_type": "markdown",
   "metadata": {
    "id": "22QRcTV9v-Zb"
   },
   "source": [
    "Sekarang, menurut kita apa yang seharusnya menjadi nilai inersia untuk cluster yang baik? Apakah nilai inersia kecil baik atau kita membutuhkan nilai yang lebih besar? Kita ingin poin dalam cluster yang sama serupa satu sama lain, bukan? Oleh karena itu, jarak di antara mereka harus serendah mungkin.\n",
    "\n",
    "Ingat properti pertama dari cluster - ini menyatakan bahwa titik-titik dalam cluster harus serupa satu sama lain. Jadi, tujuan kita di sini adalah meminimalkan jarak antara titik-titik dalam sebuah cluster.\n",
    "\n",
    "There is an algorithm that tries to minimize the distance of the points in a cluster with their centroid – the k-means clustering technique.\n",
    "\n",
    "K-means adalah centroid-based algorithm, atau distance-based algorithm, dimana kita menghitung jarak untuk menetapkan titik ke sebuah cluster. Di K-Means, setiap cluster dikaitkan dengan centroid.\n",
    "\n",
    "The main objective of the K-Means algorithm is to minimize the sum of distances between the points and their respective cluster centroid.\n",
    "\n",
    "Sekarang mari kita ambil contoh untuk memahami cara kerja K-Means:\n",
    "\n"
   ]
  },
  {
   "cell_type": "markdown",
   "metadata": {
    "id": "ePhYl7KewAi6"
   },
   "source": [
    "<img src=\"https://i.ibb.co/9V6CKVC/14-16.png\" width=\"400\" align=\"center\">"
   ]
  },
  {
   "cell_type": "markdown",
   "metadata": {
    "id": "QztzrIQmwBc4"
   },
   "source": [
    "Kita memiliki 8 poin ini dan kami ingin menerapkan k-means untuk membuat cluster untuk poin ini. Inilah cara melakukannya.\n",
    "\n"
   ]
  },
  {
   "cell_type": "markdown",
   "metadata": {
    "id": "QDv-o4dVwCJN"
   },
   "source": [
    "### Step 1: Choose the number of clusters k\n",
    "\n",
    "\n"
   ]
  },
  {
   "cell_type": "markdown",
   "metadata": {
    "id": "Vpnz3oA_wGmc"
   },
   "source": [
    "Langkah pertama dalam k-means adalah memilih jumlah cluster, k."
   ]
  },
  {
   "cell_type": "markdown",
   "metadata": {
    "id": "e6Z6xjWswIbB"
   },
   "source": [
    "### Step 2: Select k random points from the data as centroids\n"
   ]
  },
  {
   "cell_type": "markdown",
   "metadata": {
    "id": "RdT7wxiEwLam"
   },
   "source": [
    "Selanjutnya, kita secara acak memilih centroiduntuk setiap cluster. Misalkan kita ingin memiliki 2 cluster, jadi k sama dengan 2 di sini. Kita kemudian secara acak memilih centroid:"
   ]
  },
  {
   "cell_type": "markdown",
   "metadata": {
    "id": "yRrqInY4wRSe"
   },
   "source": [
    "<img src=\"https://i.ibb.co/S0wz0kP/14-17.png\" width=\"400\" align=\"center\">"
   ]
  },
  {
   "cell_type": "markdown",
   "metadata": {
    "id": "h3mPfJcDwR-S"
   },
   "source": [
    "Di sini, lingkaran merah dan hijau mewakili centroid untuk kelompok ini.\n",
    "\n"
   ]
  },
  {
   "cell_type": "markdown",
   "metadata": {
    "id": "WYZGA4o1wSuz"
   },
   "source": [
    "### Step 3: Assign all the points to the closest cluster centroid\n"
   ]
  },
  {
   "cell_type": "markdown",
   "metadata": {
    "id": "t-OgoH5OwVn0"
   },
   "source": [
    "Setelah kita menginisialisasi centroids, kita menetapkan setiap titik ke cluster centroid terdekat:\n",
    "\n"
   ]
  },
  {
   "cell_type": "markdown",
   "metadata": {
    "id": "klFjBCoqwXbw"
   },
   "source": [
    "<img src=\"https://i.ibb.co/xFvwncv/14-18.png\" width=\"400\" align=\"center\">"
   ]
  },
  {
   "cell_type": "markdown",
   "metadata": {
    "id": "m4vGnuCxwYR5"
   },
   "source": [
    "Di sini kita dapat melihat bahwa titik-titik yang lebih dekat ke titik merah ditetapkan ke kelompok merah sedangkan titik-titik yang lebih dekat ke titik hijau ditetapkan ke kelompok hijau."
   ]
  },
  {
   "cell_type": "markdown",
   "metadata": {
    "id": "Yf4yomHtwahC"
   },
   "source": [
    "### Step 4: Recompute the centroids of newly formed clusters\n"
   ]
  },
  {
   "cell_type": "markdown",
   "metadata": {
    "id": "qrx3Shk5wdHl"
   },
   "source": [
    "Sekarang, setelah kita menetapkan semua titik ke salah satu cluster, langkah selanjutnya adalah menghitung centroid dari cluster yang baru terbentuk dengan menggeser centroid ke titik tengah dari data:"
   ]
  },
  {
   "cell_type": "markdown",
   "metadata": {
    "id": "A5YlDBsfwgIn"
   },
   "source": [
    "<img src=\"https://i.ibb.co/64XYSWB/14-19.png\" width=\"400\" align=\"center\">\n",
    "\n",
    "\n",
    "\n"
   ]
  },
  {
   "cell_type": "markdown",
   "metadata": {
    "id": "orlZjUCwwk4t"
   },
   "source": [
    "Di sini, silang merah dan hijau adalah centroids baru.\n",
    "\n"
   ]
  },
  {
   "cell_type": "markdown",
   "metadata": {
    "id": "eUmQpLX_wtiR"
   },
   "source": [
    "### Step 5: Repeat steps 3 and 4\n"
   ]
  },
  {
   "cell_type": "markdown",
   "metadata": {
    "id": "ru2IRqAnwt6b"
   },
   "source": [
    "Kita kemudian mengulangi langkah 3 dan 4:\n",
    "\n"
   ]
  },
  {
   "cell_type": "markdown",
   "metadata": {
    "id": "fTv9v1Wpwzuo"
   },
   "source": [
    "<img src=\"https://i.ibb.co/VJsMcBT/14-20.png\" width=\"400\" align=\"center\">\n",
    "\n",
    "\n",
    "\n"
   ]
  },
  {
   "cell_type": "markdown",
   "metadata": {
    "id": "o6VKgEciw01s"
   },
   "source": [
    "Langkah menghitung centroiddan menetapkan semua titik ke kluster berdasarkan jaraknya dari centroid adalah satu iterasi. Tapi tunggu - kapan kita harus menghentikan proses ini?"
   ]
  },
  {
   "cell_type": "markdown",
   "metadata": {
    "id": "-dODH-6iw3OH"
   },
   "source": [
    "### Stopping Criteria for K-Means Clustering\n"
   ]
  },
  {
   "cell_type": "markdown",
   "metadata": {
    "id": "iwPNgT6lw7_c"
   },
   "source": [
    "Pada dasarnya ada tiga kriteria penghentian yang dapat diadopsi untuk menghentikan algoritma K-means:\n",
    "\n",
    "Centroid dari cluster yang baru terbentuk tidak berubah\n",
    "Poin tetap di cluster yang sama\n",
    "Jumlah maksimum iterasi tercapai\n",
    "\n",
    "\n",
    "Kita dapat menghentikan algoritma jika centroids dari cluster yang baru terbentuk tidak berubah. Bahkan setelah beberapa iterasi, jika kita mendapatkan centroid yang sama untuk semua cluster, kita dapat mengatakan bahwa algoritma tersebut tidak mempelajari pola baru apa pun dan itu adalah tanda untuk menghentikan pelatihan.\n",
    "\n",
    "Tanda jelas lainnya bahwa kita harus menghentikan proses pelatihan jika poin tetap berada dalam cluster yang sama bahkan setelah melatih algoritme untuk beberapa iterasi.\n",
    "\n",
    "Terakhir, kita bisa menghentikan pelatihan jika jumlah iterasi maksimum tercapai. Misalkan kita telah menyetel jumlah iterasi menjadi 100. Proses akan berulang sebanyak 100 iterasi sebelum berhenti.\n",
    "\n",
    "Aplikasi K-Means di dunia nyata meliputi:\n",
    "\n",
    "customer profiling\n",
    "market segmentation\n",
    "computer vision\n",
    "search engines\n",
    "astronomy"
   ]
  },
  {
   "cell_type": "markdown",
   "metadata": {
    "id": "MVulflN4xE5c"
   },
   "source": [
    "### How to Choose the Right Number of Clusters in K-Means Clustering?\n"
   ]
  },
  {
   "cell_type": "markdown",
   "metadata": {
    "id": "OVQzO3xdxH_h"
   },
   "source": [
    "Salah satu keraguan paling umum yang dimiliki setiap orang saat bekerja dengan K-Means adalah memilih jumlah cluster yang tepat.\n",
    "\n",
    "Jadi, mari kita lihat teknik yang akan membantu kita memilih nilai cluster yang tepat untuk algoritme K-Means. Mari kita ambil contoh segmentasi pelanggan yang telah kita lihat sebelumnya. Singkatnya, bank ingin menyegmentasikan nasabahnya berdasarkan incomedan jumlah debt:"
   ]
  },
  {
   "cell_type": "markdown",
   "metadata": {
    "id": "8NFw3WHhxOqa"
   },
   "source": [
    "<img src=\"https://i.ibb.co/yy1jmN9/14-21.png\" width=\"500\" align=\"center\">\n",
    "\n",
    "\n",
    "\n"
   ]
  },
  {
   "cell_type": "markdown",
   "metadata": {
    "id": "ukECdZyvxSLw"
   },
   "source": [
    "Di sini, kita dapat memiliki dua cluster yang akan memisahkan pelanggan seperti yang ditunjukkan di bawah ini:\n",
    "\n"
   ]
  },
  {
   "cell_type": "markdown",
   "metadata": {
    "id": "K_lynImuxVqL"
   },
   "source": [
    "<img src=\"https://i.ibb.co/c2c22Vv/14-22.png\" width=\"500\" align=\"center\">\n"
   ]
  },
  {
   "cell_type": "markdown",
   "metadata": {
    "id": "BD_1nl0VxWsF"
   },
   "source": [
    "Semua pelanggan dengan pendapatan rendah berada dalam satu cluster sedangkan pelanggan dengan pendapatan tinggi berada di cluster kedua. Kita juga dapat memiliki 4 cluster:\n",
    "\n"
   ]
  },
  {
   "cell_type": "markdown",
   "metadata": {
    "id": "u3xdmQL_xZeG"
   },
   "source": [
    "<img src=\"https://i.ibb.co/87KB7Nw/14-23.png\" width=\"500\" align=\"center\">"
   ]
  },
  {
   "cell_type": "markdown",
   "metadata": {
    "id": "8pj2n34jxaHi"
   },
   "source": [
    "Di sini, satu cluster dapat mewakili pelanggan yang berpenghasilan rendah dan hutang rendah, cluster lainnya adalah tempat pelanggan berpenghasilan tinggi dan hutang tinggi, dan sebagainya. Bisa juga ada 8 cluster:\n",
    "\n"
   ]
  },
  {
   "cell_type": "markdown",
   "metadata": {
    "id": "MenbLSHCRTsj"
   },
   "source": [
    "<img src=\"https://i.ibb.co/VmqsTWt/14-24.png\" width=\"500\" align=\"center\">"
   ]
  },
  {
   "cell_type": "markdown",
   "metadata": {
    "id": "LsECPE9OxdDy"
   },
   "source": [
    "Kita  dapat memiliki sejumlah cluster. Dapatkah kita menebak berapa jumlah maksimum kluster yang mungkin? Satu hal yang dapat kita lakukan adalah menetapkan setiap titik ke cluster terpisah. Oleh karena itu, dalam hal ini jumlah cluster akan sama dengan jumlah titik atau pengamatan. Jadi,\n",
    "\n",
    "The maximum possible number of clusters will be equal to the number of observations in the dataset.\n",
    "\n",
    "Tapi lalu bagaimana kita bisa menentukan jumlah cluster yang optimal? Satu hal yang dapat kita lakukan adalah memplot grafik, juga dikenal sebagai elbow curve, di mana sumbu x akan mewakili jumlah cluster dan sumbu y akan menjadi metrik evaluasi. Katakanlah kita akan menggunakan inertia untuk saat ini."
   ]
  },
  {
   "cell_type": "markdown",
   "metadata": {
    "id": "TzQ69sYTxf1H"
   },
   "source": [
    "\n",
    "\n",
    "<img src=\"https://i.ibb.co/WyMKBN9/14-25.png\" width=\"500\" align=\"center\">"
   ]
  },
  {
   "cell_type": "markdown",
   "metadata": {
    "id": "uFLLFPVrxj96"
   },
   "source": [
    "Selanjutnya, kita akan mulai dengan nilai cluster kecil, katakanlah 2. Latih model menggunakan 2 cluster, hitung inersia untuk model tersebut, dan terakhir plot di grafik di atas. Misalkan kita mendapatkan nilai inertia sekitar 1000:\n",
    "\n"
   ]
  },
  {
   "cell_type": "markdown",
   "metadata": {
    "id": "zuZyLp4Ixr1V"
   },
   "source": [
    "\n",
    "\n",
    "<img src=\"https://i.ibb.co/w4wHytx/14-26.png\" width=\"500\" align=\"center\">"
   ]
  },
  {
   "cell_type": "markdown",
   "metadata": {
    "id": "nJkPCRPexsnZ"
   },
   "source": [
    "Sekarang, kita akan menambah jumlah cluster, melatih model lagi, dan memplot nilai inertia. Inilah plot yang kita dapatkan:\n",
    "\n"
   ]
  },
  {
   "cell_type": "markdown",
   "metadata": {
    "id": "6ZCFAIh8xyTy"
   },
   "source": [
    "\n",
    "\n",
    "<img src=\"https://i.ibb.co/D1gxYdf/14-27.png\" width=\"500\" align=\"center\">"
   ]
  },
  {
   "cell_type": "markdown",
   "metadata": {
    "id": "4lDZZTgAxzLe"
   },
   "source": [
    "Ketika kita mengubah nilai cluster dari 2 menjadi 4, nilai inertiaberkurang sangat tajam. Penurunan nilai inersia ini berkurang dan akhirnya menjadi konstan saat kami menambah jumlah cluster lebih lanjut. Jadi,\n",
    "\n",
    "the cluster value where this decrease in inertia value becomes constant can be chosen as the right cluster value for our data."
   ]
  },
  {
   "cell_type": "markdown",
   "metadata": {
    "id": "nO-PggIfx6i6"
   },
   "source": [
    "\n",
    "\n",
    "<img src=\"https://i.ibb.co/xLvyHQn/14-28.png\" width=\"500\" align=\"center\">"
   ]
  },
  {
   "cell_type": "markdown",
   "metadata": {
    "id": "taJXi5ujx7mH"
   },
   "source": [
    "Di sini, kita dapat memilih sejumlah cluster antara 6 dan 10. Kita dapat memiliki 7, 8, atau bahkan 9 cluster. Kita juga harus melihat computation cost sambil menentukan jumlah cluster. Jika kita menambah jumlah cluster, maka computation cost juga akan meningkat. Jadi, jika kita  tidak memiliki sumber daya komputasi yang tinggi, disarankan untuk memilih jumlah cluster yang lebih sedikit."
   ]
  },
  {
   "cell_type": "markdown",
   "metadata": {
    "id": "13dJWKHS2L2L"
   },
   "source": [
    "## K-Means Clustering in Python"
   ]
  },
  {
   "cell_type": "code",
   "execution_count": null,
   "metadata": {
    "colab": {
     "base_uri": "https://localhost:8080/"
    },
    "id": "OoQqZRb22UMS",
    "outputId": "060d53fc-16c0-4548-d438-f9a8462b4380"
   },
   "outputs": [],
   "source": [
    "!pip install kneed"
   ]
  },
  {
   "cell_type": "code",
   "execution_count": null,
   "metadata": {
    "id": "uIQyp_rm2PQG"
   },
   "outputs": [],
   "source": [
    "import matplotlib.pyplot as plt\n",
    "from kneed import KneeLocator\n",
    "from sklearn.datasets import make_blobs\n",
    "from sklearn.cluster import KMeans\n",
    "from sklearn.metrics import silhouette_score\n",
    "from sklearn.preprocessing import StandardScaler"
   ]
  },
  {
   "cell_type": "code",
   "execution_count": null,
   "metadata": {
    "id": "BpAAcbPS2ayY"
   },
   "outputs": [],
   "source": [
    "\n",
    "features, true_labels = make_blobs(\n",
    "    n_samples=200, centers=3, cluster_std=2.75, random_state=42\n",
    ")"
   ]
  },
  {
   "cell_type": "code",
   "execution_count": null,
   "metadata": {
    "colab": {
     "base_uri": "https://localhost:8080/"
    },
    "id": "gUYzJ7v72xHc",
    "outputId": "742a3f66-bfcf-4fed-c3ba-38aaddeafc7f"
   },
   "outputs": [],
   "source": [
    "features[:5]\n"
   ]
  },
  {
   "cell_type": "code",
   "execution_count": null,
   "metadata": {
    "colab": {
     "base_uri": "https://localhost:8080/"
    },
    "id": "bq4FCDOs20P4",
    "outputId": "36d8c790-6002-4859-e9ac-6c63d7018bff"
   },
   "outputs": [],
   "source": [
    "true_labels[:5]\n"
   ]
  },
  {
   "cell_type": "code",
   "execution_count": null,
   "metadata": {
    "id": "TGxQeYc5229M"
   },
   "outputs": [],
   "source": [
    "scaler = StandardScaler()\n",
    "scaled_features = scaler.fit_transform(features)"
   ]
  },
  {
   "cell_type": "code",
   "execution_count": null,
   "metadata": {
    "colab": {
     "base_uri": "https://localhost:8080/"
    },
    "id": "fXcfGtGS244n",
    "outputId": "9c32cbca-cbba-40b0-f374-ed61fc4e78e1"
   },
   "outputs": [],
   "source": [
    "scaled_features[:5]"
   ]
  },
  {
   "cell_type": "code",
   "execution_count": null,
   "metadata": {
    "id": "yr70Rf4T279Z"
   },
   "outputs": [],
   "source": [
    "kmeans = KMeans(\n",
    "    init=\"random\",\n",
    "    n_clusters=3,\n",
    "    n_init=10,\n",
    "    max_iter=300,\n",
    "    random_state=42\n",
    ")"
   ]
  },
  {
   "cell_type": "code",
   "execution_count": null,
   "metadata": {
    "colab": {
     "base_uri": "https://localhost:8080/"
    },
    "id": "R2lrF7Ip29zc",
    "outputId": "96d167e6-d27f-418d-9588-35b44cf166f3"
   },
   "outputs": [],
   "source": [
    "kmeans.fit(scaled_features)"
   ]
  },
  {
   "cell_type": "code",
   "execution_count": null,
   "metadata": {
    "colab": {
     "base_uri": "https://localhost:8080/"
    },
    "id": "S5gaxJsB3BW3",
    "outputId": "ed6f8e5a-beff-4883-a535-4cdbb1ef6fcc"
   },
   "outputs": [],
   "source": [
    "# The lowest SSE value\n",
    "kmeans.inertia_"
   ]
  },
  {
   "cell_type": "code",
   "execution_count": null,
   "metadata": {
    "colab": {
     "base_uri": "https://localhost:8080/"
    },
    "id": "NOmgoS9o3EeJ",
    "outputId": "a9214424-738a-4dcc-8d82-7e09e3dd4ea7"
   },
   "outputs": [],
   "source": [
    "# Final locations of the centroid\n",
    "kmeans.cluster_centers_"
   ]
  },
  {
   "cell_type": "code",
   "execution_count": null,
   "metadata": {
    "colab": {
     "base_uri": "https://localhost:8080/"
    },
    "id": "fRu-S-kU3GNi",
    "outputId": "13208277-70e6-41c2-fb35-ae004c5e3329"
   },
   "outputs": [],
   "source": [
    "\n",
    "# The number of iterations required to converge\n",
    "kmeans.n_iter_"
   ]
  },
  {
   "cell_type": "code",
   "execution_count": null,
   "metadata": {
    "colab": {
     "base_uri": "https://localhost:8080/"
    },
    "id": "AuGGqxA73IY8",
    "outputId": "695fa0bc-bea5-4d4f-e61c-bd2e7966d941"
   },
   "outputs": [],
   "source": [
    "kmeans.labels_[:5]\n"
   ]
  },
  {
   "cell_type": "markdown",
   "metadata": {
    "id": "L7wMvWKM3N0n"
   },
   "source": [
    "How to Choose the Number of Clusters\n"
   ]
  },
  {
   "cell_type": "code",
   "execution_count": null,
   "metadata": {
    "id": "1gOpvwTO3MBh"
   },
   "outputs": [],
   "source": [
    "kmeans_kwargs = {\n",
    "    \"init\": \"random\",\n",
    "    \"n_init\": 10,\n",
    "    \"max_iter\": 300,\n",
    "    \"random_state\": 42,\n",
    "}\n",
    "\n",
    "# A list holds the SSE values for each k\n",
    "sse = []\n",
    "for k in range(1, 11):\n",
    "    kmeans = KMeans(n_clusters=k, **kmeans_kwargs)\n",
    "    kmeans.fit(scaled_features)\n",
    "    sse.append(kmeans.inertia_)"
   ]
  },
  {
   "cell_type": "code",
   "execution_count": null,
   "metadata": {
    "colab": {
     "base_uri": "https://localhost:8080/",
     "height": 303
    },
    "id": "VCCE6Col3Rr9",
    "outputId": "98577784-ab25-4f42-de52-d64a7d114877"
   },
   "outputs": [],
   "source": [
    "plt.style.use(\"fivethirtyeight\")\n",
    "plt.plot(range(1, 11), sse)\n",
    "plt.xticks(range(1, 11))\n",
    "plt.xlabel(\"Number of Clusters\")\n",
    "plt.ylabel(\"SSE\")\n",
    "plt.show()"
   ]
  },
  {
   "cell_type": "code",
   "execution_count": null,
   "metadata": {
    "id": "5G9Bu0BT3fTw"
   },
   "outputs": [],
   "source": [
    "# A list holds the silhouette coefficients for each k\n",
    "silhouette_coefficients = []\n",
    "\n",
    "# Notice we start at 2 clusters for silhouette coefficient\n",
    "for k in range(2, 11):\n",
    "    kmeans = KMeans(n_clusters=k, **kmeans_kwargs)\n",
    "    kmeans.fit(scaled_features)\n",
    "    score = silhouette_score(scaled_features, kmeans.labels_)\n",
    "    silhouette_coefficients.append(score)"
   ]
  },
  {
   "cell_type": "code",
   "execution_count": null,
   "metadata": {
    "colab": {
     "base_uri": "https://localhost:8080/",
     "height": 305
    },
    "id": "RVSf6I5m3ltp",
    "outputId": "222e7eac-b33e-43f7-c0a5-5daa14aaeea0"
   },
   "outputs": [],
   "source": [
    "plt.style.use(\"fivethirtyeight\")\n",
    "plt.plot(range(2, 11), silhouette_coefficients)\n",
    "plt.xticks(range(2, 11))\n",
    "plt.xlabel(\"Number of Clusters\")\n",
    "plt.ylabel(\"Silhouette Coefficient\")\n",
    "plt.show()"
   ]
  },
  {
   "cell_type": "markdown",
   "metadata": {
    "id": "k0Eg00iF3qnb"
   },
   "source": [
    "Advanced Clustering Evaluation\n"
   ]
  },
  {
   "cell_type": "code",
   "execution_count": null,
   "metadata": {
    "id": "vz7DdV1w3rwX"
   },
   "outputs": [],
   "source": [
    "\n",
    "from sklearn.cluster import DBSCAN\n",
    "from sklearn.datasets import make_moons\n",
    "from sklearn.metrics import adjusted_rand_score"
   ]
  },
  {
   "cell_type": "code",
   "execution_count": null,
   "metadata": {
    "id": "s7z6A3ty3vTK"
   },
   "outputs": [],
   "source": [
    "features, true_labels = make_moons(\n",
    "    n_samples=250, noise=0.05, random_state=42\n",
    ")\n",
    "scaled_features = scaler.fit_transform(features)"
   ]
  },
  {
   "cell_type": "code",
   "execution_count": null,
   "metadata": {
    "id": "QJUXx1xS3x41"
   },
   "outputs": [],
   "source": [
    "# Instantiate k-means and dbscan algorithms\n",
    "kmeans = KMeans(n_clusters=2)\n",
    "dbscan = DBSCAN(eps=0.3)\n",
    "\n",
    "# Fit the algorithms to the features\n",
    "kmeans.fit(scaled_features)\n",
    "dbscan.fit(scaled_features)\n",
    "\n",
    "# Compute the silhouette scores for each algorithm\n",
    "kmeans_silhouette = silhouette_score(\n",
    "    scaled_features, kmeans.labels_\n",
    ").round(2)\n",
    "dbscan_silhouette = silhouette_score(\n",
    "   scaled_features, dbscan.labels_\n",
    ").round (2)"
   ]
  },
  {
   "cell_type": "code",
   "execution_count": null,
   "metadata": {
    "colab": {
     "base_uri": "https://localhost:8080/"
    },
    "id": "My1GZehf30rb",
    "outputId": "3379db18-e9d7-4cff-fc74-ff22f0824c77"
   },
   "outputs": [],
   "source": [
    "kmeans_silhouette\n"
   ]
  },
  {
   "cell_type": "code",
   "execution_count": null,
   "metadata": {
    "colab": {
     "base_uri": "https://localhost:8080/"
    },
    "id": "iZYivaMx32uI",
    "outputId": "6fbd4a9d-b30d-497d-98ee-ed0bac8604c2"
   },
   "outputs": [],
   "source": [
    "dbscan_silhouette\n"
   ]
  },
  {
   "cell_type": "code",
   "execution_count": null,
   "metadata": {
    "colab": {
     "base_uri": "https://localhost:8080/",
     "height": 442
    },
    "id": "51I0FSbA36S3",
    "outputId": "1cb207ab-723a-42da-9fbf-f8ea95db78a2"
   },
   "outputs": [],
   "source": [
    "# Plot the data and cluster silhouette comparison\n",
    "fig, (ax1, ax2) = plt.subplots(\n",
    "    1, 2, figsize=(8, 6), sharex=True, sharey=True\n",
    ")\n",
    "fig.suptitle(f\"Clustering Algorithm Comparison: Crescents\", fontsize=16)\n",
    "fte_colors = {\n",
    "    0: \"#008fd5\",\n",
    "    1: \"#fc4f30\",\n",
    "}\n",
    "# The k-means plot\n",
    "km_colors = [fte_colors[label] for label in kmeans.labels_]\n",
    "ax1.scatter(scaled_features[:, 0], scaled_features[:, 1], c=km_colors)\n",
    "ax1.set_title(\n",
    "    f\"k-means\\nSilhouette: {kmeans_silhouette}\", fontdict={\"fontsize\": 12}\n",
    ")\n",
    "\n",
    "# The dbscan plot\n",
    "db_colors = [fte_colors[label] for label in dbscan.labels_]\n",
    "ax2.scatter(scaled_features[:, 0], scaled_features[:, 1], c=db_colors)\n",
    "ax2.set_title(\n",
    "    f\"DBSCAN\\nSilhouette: {dbscan_silhouette}\", fontdict={\"fontsize\": 12}\n",
    ")\n",
    "plt.show()"
   ]
  },
  {
   "cell_type": "code",
   "execution_count": null,
   "metadata": {
    "id": "uFkySUIk3-F6"
   },
   "outputs": [],
   "source": [
    "ari_kmeans = adjusted_rand_score(true_labels, kmeans.labels_)\n",
    "ari_dbscan = adjusted_rand_score(true_labels, dbscan.labels_)"
   ]
  },
  {
   "cell_type": "code",
   "execution_count": null,
   "metadata": {
    "colab": {
     "base_uri": "https://localhost:8080/"
    },
    "id": "qc0SYkHb4AJu",
    "outputId": "39689c0c-c86a-43f4-f090-8051aa24c38a"
   },
   "outputs": [],
   "source": [
    "round(ari_kmeans, 2)\n"
   ]
  },
  {
   "cell_type": "code",
   "execution_count": null,
   "metadata": {
    "colab": {
     "base_uri": "https://localhost:8080/"
    },
    "id": "C9PQIk8a4C01",
    "outputId": "6337a0b0-50ea-40ae-82d9-2d0bb4fc6c02"
   },
   "outputs": [],
   "source": [
    "round(ari_dbscan, 2)\n"
   ]
  },
  {
   "cell_type": "markdown",
   "metadata": {
    "id": "vXQmKDy-x8bh"
   },
   "source": [
    "## K Means with Python\n",
    "\n"
   ]
  },
  {
   "cell_type": "code",
   "execution_count": null,
   "metadata": {
    "colab": {
     "base_uri": "https://localhost:8080/",
     "height": 282
    },
    "id": "649zFkmouods",
    "outputId": "e7a01f68-a227-4d4a-bbc0-861638c4c334"
   },
   "outputs": [],
   "source": [
    "from sklearn.cluster import KMeans\n",
    "X= -2 * np.random.rand(100,2)\n",
    "X1 = 1 + 2 * np.random.rand(50,2)\n",
    "X[50:100, :] = X1\n",
    "\n",
    "plt.scatter(X[ : , 0], X[ :, 1], s = 50, c = 'b')\n",
    "plt.show()"
   ]
  },
  {
   "cell_type": "code",
   "execution_count": null,
   "metadata": {
    "colab": {
     "base_uri": "https://localhost:8080/",
     "height": 325
    },
    "id": "-wS4afeQRj24",
    "outputId": "4c804b5e-7e9a-48a3-cc42-52d5ea536c54"
   },
   "outputs": [],
   "source": [
    "wcss = []\n",
    "\n",
    "for i in range(1, 11):\n",
    "    kmeans = KMeans(n_clusters = i, init = 'k-means++', max_iter = 300, n_init = 10, random_state = 0)\n",
    "    kmeans.fit(X)\n",
    "    wcss.append(kmeans.inertia_)\n",
    "    \n",
    "plt.plot(range(1, 11), wcss)\n",
    "plt.title('The elbow method')\n",
    "plt.xlabel('Number of clusters')\n",
    "plt.ylabel('WCSS') #within cluster sum of squares\n",
    "plt.show()"
   ]
  },
  {
   "cell_type": "code",
   "execution_count": null,
   "metadata": {
    "colab": {
     "base_uri": "https://localhost:8080/"
    },
    "id": "Ci607FDwyZyF",
    "outputId": "c91d82dd-ac7f-40e0-caf5-04f9b3a540b2"
   },
   "outputs": [],
   "source": [
    "Kmean = KMeans(n_clusters=2)\n",
    "Kmean.fit(X)"
   ]
  },
  {
   "cell_type": "code",
   "execution_count": null,
   "metadata": {
    "colab": {
     "base_uri": "https://localhost:8080/"
    },
    "id": "C700D-6GRpZZ",
    "outputId": "3bc73fb4-d5a0-45d8-b694-3a6da53d3d27"
   },
   "outputs": [],
   "source": [
    "Kmean.cluster_centers_\n"
   ]
  },
  {
   "cell_type": "markdown",
   "metadata": {
    "id": "tOzP4bkfyK87"
   },
   "source": []
  },
  {
   "cell_type": "code",
   "execution_count": null,
   "metadata": {
    "colab": {
     "base_uri": "https://localhost:8080/",
     "height": 282
    },
    "id": "mc-eScBJyYJW",
    "outputId": "282f3004-b97d-4cb1-ddf1-f06de96279fe"
   },
   "outputs": [],
   "source": [
    "plt.scatter(X[ : , 0], X[ : , 1], s =50, c='b')\n",
    "plt.scatter(-0.94665068, -0.97138368, s=200, c='g', marker='s')\n",
    "plt.scatter(2.01559419, 2.02597093, s=200, c='r', marker='s')\n",
    "plt.show()"
   ]
  },
  {
   "cell_type": "markdown",
   "metadata": {
    "id": "bazQBP9iycXM"
   },
   "source": [
    "Kami akan menangani masalah segmentasi pelanggan grosir. Kita dapat mengunduh kumpulan data menggunakan this link. Data tersebut disimpan di UCI Machine Learning repository.\n",
    "\n",
    "Tujuan dari masalah ini adalah untuk mensegmentasikan klien distributor grosir berdasarkan pengeluaran tahunan mereka pada berbagai kategori produk, seperti susu, toko bahan makanan, wilayah, dll.\n",
    "\n",
    "Pertama-tama akan mengimpor perpustakaan yang diperlukan:\n",
    "\n"
   ]
  },
  {
   "cell_type": "code",
   "execution_count": null,
   "metadata": {
    "id": "dZtjAWTXykOT"
   },
   "outputs": [],
   "source": [
    "import pandas as pd\n",
    "import numpy as np\n",
    "import matplotlib.pyplot as plt\n",
    "%matplotlib inline\n",
    "from sklearn.cluster import KMeans"
   ]
  },
  {
   "cell_type": "code",
   "execution_count": null,
   "metadata": {
    "colab": {
     "base_uri": "https://localhost:8080/",
     "height": 200
    },
    "id": "bglZXClyymZF",
    "outputId": "b484be76-a39e-4357-8790-4965c9b99ccc"
   },
   "outputs": [],
   "source": [
    "data=pd.read_csv('https://archive.ics.uci.edu/ml/machine-learning-databases/00292/Wholesale%20customers%20data.csv')\n",
    "data.head()"
   ]
  },
  {
   "cell_type": "markdown",
   "metadata": {
    "id": "axVhz0CMypBA"
   },
   "source": []
  },
  {
   "cell_type": "code",
   "execution_count": null,
   "metadata": {
    "colab": {
     "base_uri": "https://localhost:8080/",
     "height": 290
    },
    "id": "51FzDGv6ys0e",
    "outputId": "1d7dd653-7572-4161-f29d-7b49f652967f"
   },
   "outputs": [],
   "source": [
    "data.describe()\n"
   ]
  },
  {
   "cell_type": "markdown",
   "metadata": {
    "id": "tbAhLF9ZyGKq"
   },
   "source": [
    "Di sini, kami melihat bahwa ada banyak variasi dalam besaran datanya. Variabel seperti Channel dan Region memiliki magnitude yang rendah sedangkan variabel seperti Fresh, Milk, Grocery, dll memiliki magnitude yang lebih tinggi.\n",
    "\n",
    "Karena K-Means adalah algoritme berbasis jarak/distance-based algorithm, perbedaan magnitude ini dapat menimbulkan masalah. Jadi, pertama-tama mari kita bawa semua variabel ke magnitude yang sama:\n",
    "\n"
   ]
  },
  {
   "cell_type": "code",
   "execution_count": null,
   "metadata": {
    "colab": {
     "base_uri": "https://localhost:8080/",
     "height": 290
    },
    "id": "LRZ_4h-_y0pp",
    "outputId": "3225cd83-f2c3-47ec-a7fb-eb03590bd682"
   },
   "outputs": [],
   "source": [
    "# standardizing the data\n",
    "from sklearn.preprocessing import StandardScaler\n",
    "scaler = StandardScaler()\n",
    "data_scaled = scaler.fit_transform(data)\n",
    "\n",
    "# statistics of scaled data\n",
    "pd.DataFrame(data_scaled).describe()\n"
   ]
  },
  {
   "cell_type": "markdown",
   "metadata": {
    "id": "qtvjbctey5Wj"
   },
   "source": [
    "Besarannya terlihat serupa sekarang. Selanjutnya, mari kita buat fungsi kmeans dan latih dengan data:\n",
    "\n"
   ]
  },
  {
   "cell_type": "code",
   "execution_count": null,
   "metadata": {
    "colab": {
     "base_uri": "https://localhost:8080/"
    },
    "id": "3bbVug-TzD79",
    "outputId": "06deb0da-4f47-42e8-fa5e-3988f41bc07c"
   },
   "outputs": [],
   "source": [
    "# inertia on the fitted data\n",
    "kmeans.inertia_\n"
   ]
  },
  {
   "cell_type": "markdown",
   "metadata": {
    "id": "Sno8e8oTzEXi"
   },
   "source": [
    "Kita mendapatkan nilai inersia hampir 2600. Sekarang, mari kita lihat bagaimana kita dapat menggunakan elbow curve untuk menentukan jumlah optimal cluster.\n",
    "\n",
    "Pertama-tama kita akan melatih beberapa model k-means dan di setiap model yang berurutan, kita akan menambah jumlah cluster. Kita akan menyimpan nilai inersia dari setiap model dan kemudian memplotnya untuk memvisualisasikan hasilnya:\n",
    "\n"
   ]
  },
  {
   "cell_type": "code",
   "execution_count": null,
   "metadata": {
    "colab": {
     "base_uri": "https://localhost:8080/",
     "height": 403
    },
    "id": "FavoqFZgzNrD",
    "outputId": "919c6773-19e1-4d8c-a680-903e115a5b7a"
   },
   "outputs": [],
   "source": [
    "# fitting multiple k-means algorithms and storing the values in an empty list\n",
    "SSE = []\n",
    "for cluster in range(1,20):\n",
    "    kmeans = KMeans(n_jobs = -1, n_clusters = cluster, init='k-means++')\n",
    "    kmeans.fit(data_scaled)\n",
    "    SSE.append(kmeans.inertia_)\n",
    "\n",
    "# converting the results into a dataframe and plotting them\n",
    "frame = pd.DataFrame({'Cluster':range(1,20), 'SSE':SSE})\n",
    "plt.figure(figsize=(12,6))\n",
    "plt.plot(frame['Cluster'], frame['SSE'], marker='o')\n",
    "plt.xlabel('Number of clusters')\n",
    "plt.ylabel('Inertia')"
   ]
  },
  {
   "cell_type": "markdown",
   "metadata": {
    "id": "3sEs4GNnzRCL"
   },
   "source": [
    "Can you tell the optimum cluster value from this plot? Looking at the above elbow curve, we can choose any number of clusters between 5 to 8. Let’s set the number of clusters as 6 and fit the model:\n",
    "\n",
    "Bisakah kalian melihat nilai cluster optimal dari plot ini? Melihat elbow curve di atas, kita dapat memilih sejumlah cluster antara 5 hingga 8. Mari kita tetapkan jumlah cluster sebagai 6 dan latih model:\n",
    "\n"
   ]
  },
  {
   "cell_type": "code",
   "execution_count": null,
   "metadata": {
    "colab": {
     "base_uri": "https://localhost:8080/"
    },
    "id": "5o9JFsx_zUAt",
    "outputId": "f8c4775e-7841-4e09-9824-3f08dd25d653"
   },
   "outputs": [],
   "source": [
    "# k means using 5 clusters and k-means++ initialization\n",
    "kmeans = KMeans(n_jobs = -1, n_clusters = 6, init='k-means++')\n",
    "kmeans.fit(data_scaled)\n",
    "pred = kmeans.predict(data_scaled)\n",
    "pred"
   ]
  },
  {
   "cell_type": "markdown",
   "metadata": {
    "id": "B-nL36ETzV3T"
   },
   "source": [
    "Terakhir, mari kita lihat jumlah nilai poin di setiap cluster yang dibentuk di atas:\n"
   ]
  },
  {
   "cell_type": "code",
   "execution_count": null,
   "metadata": {
    "colab": {
     "base_uri": "https://localhost:8080/"
    },
    "id": "e85NKVVazYGT",
    "outputId": "22127167-0a2b-4292-d201-91430ac65024"
   },
   "outputs": [],
   "source": [
    "frame = pd.DataFrame(data_scaled)\n",
    "frame['cluster'] = pred\n",
    "frame['cluster'].value_counts()\n"
   ]
  },
  {
   "cell_type": "markdown",
   "metadata": {
    "id": "rISVoWHqzbT3"
   },
   "source": [
    "Jadi, ada 211 titik data yang termasuk dalam cluster 1 (indeks 0), kemudian 125 titik pada cluster 2 (indeks 1), dan seterusnya.\n",
    "Save and Load Models\n"
   ]
  },
  {
   "cell_type": "markdown",
   "metadata": {
    "id": "NrQvd8tbzfwe"
   },
   "source": [
    "## Finalize Your Model with pickle\n"
   ]
  },
  {
   "cell_type": "markdown",
   "metadata": {
    "id": "rHwEyLzUzKOU"
   },
   "source": [
    "Pickle adalah cara standar untuk membuat serialisasi objek dengan Python.\n",
    "\n",
    "Kita dapat menggunakan operasi Pickle untuk serialize machine learning algorithms kita dan menyimpan format serialized ke sebuah file.\n",
    "\n",
    "Nantinya kita dapat memuat file ini untuk deserialize model dan menggunakannya untuk membuat prediksi baru.\n",
    "\n"
   ]
  },
  {
   "cell_type": "code",
   "execution_count": null,
   "metadata": {
    "id": "UXDxZCB4zlRi"
   },
   "outputs": [],
   "source": [
    "\n",
    "# Assigning features and label variables\n",
    "weather=['Sunny','Sunny','Overcast','Rainy','Rainy','Rainy','Overcast','Sunny','Sunny', 'Rainy','Sunny','Overcast','Overcast','Rainy']\n",
    "temp=['Hot','Hot','Hot','Mild','Cool','Cool','Cool','Mild','Cool','Mild','Mild','Mild','Hot','Mild']\n",
    "play=['No','No','Yes','Yes','Yes','No','Yes','No','Yes','Yes','Yes','Yes','Yes','No']\n",
    "\n",
    "# Import LabelEncoder\n",
    "from sklearn import preprocessing\n",
    "\n",
    "#creating labelEncoder\n",
    "le = preprocessing.LabelEncoder()\n",
    "\n",
    "# Converting string labels into numbers.\n",
    "weather_encoded=le.fit_transform(weather)\n",
    "\n",
    "# Converting string labels into numbers\n",
    "temp_encoded=le.fit_transform(temp)\n",
    "label=le.fit_transform(play)\n",
    "\n",
    "#Combinig weather and temp into single listof tuples\n",
    "features=list(zip(weather_encoded,temp_encoded))\n",
    "\n",
    "#Import Gaussian Naive Bayes model\n",
    "from sklearn.naive_bayes import GaussianNB\n",
    "\n",
    "#Create a Gaussian Classifier\n",
    "model = GaussianNB()\n",
    "\n",
    "# Train the model using the training sets\n",
    "model.fit(features,label)\n",
    "\n",
    "# save the model to disk\n",
    "import pickle\n",
    "\n",
    "filename = 'finalized_model.sav'\n",
    "pickle.dump(model, open(filename, 'wb'))\n"
   ]
  },
  {
   "cell_type": "code",
   "execution_count": null,
   "metadata": {
    "id": "DjTCRvY4zp3V"
   },
   "outputs": [],
   "source": [
    "loaded_model = pickle.load(open('finalized_model.sav', 'rb'))\n"
   ]
  },
  {
   "cell_type": "code",
   "execution_count": null,
   "metadata": {
    "colab": {
     "base_uri": "https://localhost:8080/"
    },
    "id": "y0vhbXkxzsSO",
    "outputId": "519f57ce-e666-4293-9471-d64ef320a451"
   },
   "outputs": [],
   "source": [
    "loaded_model.predict([[0,2]])\n"
   ]
  },
  {
   "cell_type": "markdown",
   "metadata": {
    "id": "RWEXGCVKzu8N"
   },
   "source": [
    "### Tips for Finalizing Your Model\n",
    "\n",
    "- Versi Python. Perhatikan versi python. Anda hampir pasti memerlukan versi Python mayor (dan mungkin minor) yang sama yang digunakan untuk membuat serial model saat Anda memuatnya dan membatalkan serialisasi nanti.\n",
    "\n",
    "- Library Version. Versi semua library utama yang digunakan dalam proyek pembelajaran mesin Anda hampir pasti harus sama saat melakukan deserializing model yang disimpan. Ini tidak terbatas pada versi NumPy dan versi scikit-learn.\n",
    "\n",
    "- Manual Serialization. Anda mungkin ingin secara manual menampilkan parameter model yang Anda pelajari sehingga Anda dapat menggunakannya secara langsung di scikit-learn atau platform lain di masa mendatang. Seringkali algoritme yang digunakan oleh algoritme pembelajaran mesin untuk membuat prediksi jauh lebih sederhana daripada yang digunakan untuk mempelajari parameter yang mungkin mudah diterapkan dalam kode khusus yang Anda kendalikan.\n",
    "\n",
    "Catat versinya sehingga kita dapat re-create lingkungan jika karena alasan tertentu kita tidak dapat memuat ulang model kita di komputer lain atau platform lain di lain waktu."
   ]
  },
  {
   "cell_type": "markdown",
   "metadata": {
    "id": "GPn4QLX5Jigc"
   },
   "source": [
    "## DBSCAN "
   ]
  },
  {
   "cell_type": "markdown",
   "metadata": {
    "id": "fwZA51WMKSM5"
   },
   "source": [
    "Density – Based Spatial Clustering Algorithm With Noise (DBSCAN) adalah algoritma pengelompokan yang didasarkan pada kepadatan (density) data. \n",
    "\n",
    "Algoritma DBSCAN mengakategorikan daerah yang memiliki kerapatan tinggi menjadi cluster-cluster dengan memanfaatkan noise.\n",
    "\n",
    "Noise sendiri mewakili daerah yang kurang padat yang digunakan untuk memisahkan antara cluster satu dengan cluster lainnya. \n",
    "\n",
    "Konsep kepadatan yang dimaksud dalam DBSCAN adalah banyaknya data (minPts) yang berada dalam radius Eps (ɛ) dari setiap data. Konsep kepadatan seperti ini menghasilkan tiga macam status dari setiap data, yaitu inti (core), batas (border), dan noise. \n",
    "\n",
    "Data inti merupakan data yang jumlah data di dalam radius eps lebih dari minPts, data noise merupakan data yang jumlah data di dalam radius eps kurang dari minPts, dan data batas merupakan data yang jumlah data di dalam radius eps kurang dari minPts tetapi menjadikan data tetangganya menjadi data inti. \n",
    "\n",
    "Proses pengelompokan DBSCAN adalah menghitung jarak titik pusat (p) ke titik yang lain menggunakan jarak Euclidean dan dinyatakan dalam persamaan. "
   ]
  },
  {
   "cell_type": "markdown",
   "metadata": {
    "id": "CAwV-kj2MDA7"
   },
   "source": [
    "### DBSCAN with Python"
   ]
  },
  {
   "cell_type": "code",
   "execution_count": null,
   "metadata": {
    "id": "EfQ2oaewMQU6"
   },
   "outputs": [],
   "source": [
    "import matplotlib.pyplot as plt\n",
    "from sklearn import datasets\n",
    "from sklearn.cluster import DBSCAN\n",
    "from sklearn.decomposition import PCA \n"
   ]
  },
  {
   "cell_type": "code",
   "execution_count": null,
   "metadata": {
    "id": "MmFbKO7CJlDa"
   },
   "outputs": [],
   "source": [
    "bunga = datasets.load_iris()"
   ]
  },
  {
   "cell_type": "code",
   "execution_count": null,
   "metadata": {
    "colab": {
     "base_uri": "https://localhost:8080/"
    },
    "id": "HUyTWqVBNKY7",
    "outputId": "6044508e-6a36-46f1-b26a-8977e8b2d3e1"
   },
   "outputs": [],
   "source": [
    "print(dir(bunga))"
   ]
  },
  {
   "cell_type": "code",
   "execution_count": null,
   "metadata": {
    "colab": {
     "base_uri": "https://localhost:8080/"
    },
    "id": "0ooPJPAqN9HL",
    "outputId": "054332ac-57e9-42e8-f9bb-f42db0e66eae"
   },
   "outputs": [],
   "source": [
    "print(bunga.feature_names)"
   ]
  },
  {
   "cell_type": "code",
   "execution_count": null,
   "metadata": {
    "colab": {
     "base_uri": "https://localhost:8080/"
    },
    "id": "G8YLAgzIODOH",
    "outputId": "0916959d-e0c6-4223-d750-32cdda0bb776"
   },
   "outputs": [],
   "source": [
    "print(bunga.target_names)"
   ]
  },
  {
   "cell_type": "code",
   "execution_count": null,
   "metadata": {
    "id": "75VMMc50OFHU"
   },
   "outputs": [],
   "source": [
    "x_axis = bunga.data[:,0] \n",
    "y_axis = bunga.data[:,2]"
   ]
  },
  {
   "cell_type": "code",
   "execution_count": null,
   "metadata": {
    "colab": {
     "base_uri": "https://localhost:8080/",
     "height": 296
    },
    "id": "udJlJIg2OPyT",
    "outputId": "d9d8326d-2e12-4904-ce2d-8e0d49b18081"
   },
   "outputs": [],
   "source": [
    "plt.scatter(x_axis,y_axis, c=bunga.target)\n",
    "plt.xlabel(\"Sepal lenght\")\n",
    "plt.ylabel(\"Sepal with\") \n",
    "plt.title(\"Bunga Iris\")\n",
    "plt.show()"
   ]
  },
  {
   "cell_type": "code",
   "execution_count": null,
   "metadata": {
    "id": "kmI2w2arOoL9"
   },
   "outputs": [],
   "source": [
    "# menggunakan model dbscan \n",
    "dbscan = DBSCAN() \n",
    "# ftting data\n",
    "dbscan.fit(bunga.data) \n",
    "\n",
    "#transformasi \n",
    "pca = PCA(n_components=2).fit(bunga.data) \n",
    "pca_2d = pca.transform(bunga.data)"
   ]
  },
  {
   "cell_type": "code",
   "execution_count": null,
   "metadata": {
    "colab": {
     "base_uri": "https://localhost:8080/"
    },
    "id": "rp6e6rlsPHdg",
    "outputId": "f473158c-1d7b-4e70-b075-d270a8b10d0e"
   },
   "outputs": [],
   "source": [
    "pca_2d"
   ]
  },
  {
   "cell_type": "code",
   "execution_count": null,
   "metadata": {
    "colab": {
     "base_uri": "https://localhost:8080/",
     "height": 517
    },
    "id": "fMfZy9hxPJGa",
    "outputId": "34e7e9f3-23fa-4423-ea92-9573953d108c"
   },
   "outputs": [],
   "source": [
    "# visualisasi \n",
    "\n",
    "fig = plt.figure(figsize = (8,8))\n",
    "ax = fig.add_subplot(1,1,1) \n",
    "ax.set_xlabel('PC1')\n",
    "ax.set_ylabel('PC2')\n",
    "\n",
    "ax.set_title('Plot of PC1 vs PC2', fontsize = 20)\n",
    "\n",
    "targets = ['Iris-setosa', 'Iris-versicolor', 'Iris-virginica']\n",
    "# menyiapkan warna yang berbeda tiap target \n",
    "colors = ['r', 'g', 'b']\n",
    "\n",
    "for target, color in zip(targets,colors):\n",
    "    indicesToKeep = newDataframe['target'] == target\n",
    "    ax.scatter(newDataframe.loc[indicesToKeep, 'PC1']\n",
    "               , newDataframe.loc[indicesToKeep, 'PC2']\n",
    "               , c = color\n",
    "               , s = 50)\n",
    "    \n",
    "ax.legend(targets)\n",
    "ax.grid()"
   ]
  },
  {
   "cell_type": "markdown",
   "metadata": {
    "id": "wTAAqcXRP3I1"
   },
   "source": []
  },
  {
   "cell_type": "code",
   "execution_count": null,
   "metadata": {
    "colab": {
     "base_uri": "https://localhost:8080/",
     "height": 278
    },
    "id": "dlvuPEaBQPOj",
    "outputId": "21f35036-39c8-4ce8-8ef6-f93bea121a09"
   },
   "outputs": [],
   "source": [
    "label = {0:'red',1:'blue',2:'green'}\n",
    "\n",
    "for i in range (0, pca_2d.shape[0]):\n",
    "    if dbscan.labels_[i] == 0:\n",
    "        cluster1 = plt.scatter(pca_2d[i,0],\n",
    "                               pca_2d[i,1],\n",
    "                               c='r',\n",
    "                               marker='^')\n",
    "    elif dbscan.labels_[i] == 1:\n",
    "        cluster2 = plt.scatter(pca_2d[i,0],\n",
    "                               pca_2d[i,1],\n",
    "                               c='g',\n",
    "                               marker='o')\n",
    "    elif dbscan.labels_[i] == -1:\n",
    "        noise = plt.scatter(pca_2d[i,0],\n",
    "                               pca_2d[i,1],\n",
    "                               c='b',\n",
    "                               marker='X')         \n",
    "\n",
    "plt.legend([cluster1,cluster2,noise],['cluster1','cluster2','noise'])\n",
    "plt.title(\"Klasisifikasi DBSCAN\") \n",
    "plt.show()"
   ]
  },
  {
   "cell_type": "code",
   "execution_count": null,
   "metadata": {
    "id": "jm90wxwHR8o4"
   },
   "outputs": [],
   "source": []
  }
 ],
 "metadata": {
  "colab": {
   "collapsed_sections": [
    "LosnK4s57IF5",
    "ZY15D7BcutNS",
    "X2GOG-g6u9iv",
    "8SRgQ3NnvKKp",
    "gXAGCt10vRGP",
    "128FirXFvlWk",
    "PJJa2yopvv_Z",
    "QDv-o4dVwCJN",
    "e6Z6xjWswIbB",
    "WYZGA4o1wSuz",
    "Yf4yomHtwahC",
    "eUmQpLX_wtiR",
    "-dODH-6iw3OH",
    "MVulflN4xE5c",
    "vXQmKDy-x8bh",
    "NrQvd8tbzfwe",
    "RWEXGCVKzu8N"
   ],
   "name": "14-P4DS Unsupervised.ipynb",
   "provenance": []
  },
  "kernelspec": {
   "display_name": "Python 3",
   "language": "python",
   "name": "python3"
  },
  "language_info": {
   "codemirror_mode": {
    "name": "ipython",
    "version": 3
   },
   "file_extension": ".py",
   "mimetype": "text/x-python",
   "name": "python",
   "nbconvert_exporter": "python",
   "pygments_lexer": "ipython3",
   "version": "3.8.8"
  }
 },
 "nbformat": 4,
 "nbformat_minor": 1
}
