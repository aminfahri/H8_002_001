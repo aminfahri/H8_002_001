{
 "cells": [
  {
   "cell_type": "markdown",
   "id": "21bfdf81",
   "metadata": {},
   "source": [
    "# NumPy"
   ]
  },
  {
   "cell_type": "markdown",
   "id": "22acec26",
   "metadata": {},
   "source": [
    "## Install and Import NumPy"
   ]
  },
  {
   "cell_type": "code",
   "execution_count": 5,
   "id": "ad9bf779",
   "metadata": {},
   "outputs": [
    {
     "name": "stdout",
     "output_type": "stream",
     "text": [
      "Requirement already satisfied: numpy in c:\\users\\vivobook\\anaconda3\\lib\\site-packages (1.20.1)\n"
     ]
    }
   ],
   "source": [
    "!pip install numpy"
   ]
  },
  {
   "cell_type": "code",
   "execution_count": 3,
   "id": "3efab401",
   "metadata": {},
   "outputs": [],
   "source": [
    "import numpy as np"
   ]
  },
  {
   "cell_type": "code",
   "execution_count": 6,
   "id": "a38be9f0",
   "metadata": {},
   "outputs": [
    {
     "name": "stdout",
     "output_type": "stream",
     "text": [
      "[0, 2, 12, 36, 80, 150, 252, 392, 576, 810]\n"
     ]
    }
   ],
   "source": [
    "def pythonsum(n):\n",
    "    a = b = list(range(n))\n",
    "    c = []\n",
    "    for i in range(len(a)):\n",
    "        x = a[i] ** 2\n",
    "        y = b[i] ** 3\n",
    "        c.append(x + y)\n",
    "    return c\n",
    "\n",
    "c = pythonsum(10)\n",
    "print(c)"
   ]
  },
  {
   "cell_type": "code",
   "execution_count": 4,
   "id": "518081ad",
   "metadata": {},
   "outputs": [
    {
     "name": "stdout",
     "output_type": "stream",
     "text": [
      "[  0   2  12  36  80 150 252 392 576 810]\n"
     ]
    }
   ],
   "source": [
    "def numpysum(n):\n",
    "    a = np.arange(n) ** 2 \n",
    "    b = np.arange(n) ** 3 \n",
    "    c=a+ b\n",
    "    return c\n",
    "\n",
    "x = numpysum(10) \n",
    "print(x)"
   ]
  },
  {
   "cell_type": "code",
   "execution_count": 7,
   "id": "5f87ba70",
   "metadata": {
    "scrolled": true
   },
   "outputs": [
    {
     "name": "stdout",
     "output_type": "stream",
     "text": [
      "The last 2 elements of the sum [950796, 980100]\n",
      "PythonSum elapsed time in microseconds 0\n"
     ]
    }
   ],
   "source": [
    "## membandingkan kecepatan antara numpy dg List core python \n",
    "from datetime import datetime\n",
    "size = 100\n",
    "start = datetime.now()\n",
    "c = pythonsum(size)\n",
    "delta = datetime.now() - start\n",
    "print(\"The last 2 elements of the sum\", c[-2:])\n",
    "print(\"PythonSum elapsed time in microseconds\", delta.microseconds)"
   ]
  },
  {
   "cell_type": "code",
   "execution_count": 8,
   "id": "958f0987",
   "metadata": {},
   "outputs": [
    {
     "name": "stdout",
     "output_type": "stream",
     "text": [
      "The last 2 elements of the sum [950796 980100]\n",
      "NumPySum elapsed time in microseconds 0\n"
     ]
    }
   ],
   "source": [
    "start = datetime.now()\n",
    "c = numpysum(size)\n",
    "delta = datetime.now() - start\n",
    "print(\"The last 2 elements of the sum\", c[-2:])\n",
    "print(\"NumPySum elapsed time in microseconds\", delta.microseconds)"
   ]
  },
  {
   "cell_type": "markdown",
   "id": "ddad6fa0",
   "metadata": {},
   "source": [
    "# Array"
   ]
  },
  {
   "cell_type": "code",
   "execution_count": 7,
   "id": "b25c362f",
   "metadata": {},
   "outputs": [
    {
     "name": "stdout",
     "output_type": "stream",
     "text": [
      "[1 2 3 4]\n"
     ]
    }
   ],
   "source": [
    "a = np.array([[1, 2, 3, 4], [5, 6, 7, 8], [9, 10, 11, 12]])\n",
    "\n",
    "print(a[0])"
   ]
  },
  {
   "cell_type": "markdown",
   "id": "15d61753",
   "metadata": {},
   "source": [
    "**Creating Array**"
   ]
  },
  {
   "cell_type": "code",
   "execution_count": null,
   "id": "c89e3613",
   "metadata": {},
   "outputs": [],
   "source": [
    "np.array()\n",
    "np.zeros()\n",
    "np.ones()\n",
    "np.empty()\n",
    "np.arange()"
   ]
  },
  {
   "cell_type": "code",
   "execution_count": 100,
   "id": "47b4c405",
   "metadata": {},
   "outputs": [
    {
     "data": {
      "text/plain": [
       "array([1, 2, 3])"
      ]
     },
     "execution_count": 100,
     "metadata": {},
     "output_type": "execute_result"
    }
   ],
   "source": [
    "import numpy as np\n",
    "\n",
    "a = np.array([1, 2, 3])\n",
    "a"
   ]
  },
  {
   "cell_type": "code",
   "execution_count": null,
   "id": "350c82e2",
   "metadata": {},
   "outputs": [],
   "source": [
    "array([1, 2, 3])"
   ]
  },
  {
   "cell_type": "code",
   "execution_count": 99,
   "id": "6e40af0b",
   "metadata": {},
   "outputs": [
    {
     "data": {
      "text/plain": [
       "array([0., 0., 0., 0., 0., 0.])"
      ]
     },
     "execution_count": 99,
     "metadata": {},
     "output_type": "execute_result"
    }
   ],
   "source": [
    "np.zeros(6)"
   ]
  },
  {
   "cell_type": "code",
   "execution_count": 98,
   "id": "51c93594",
   "metadata": {},
   "outputs": [
    {
     "data": {
      "text/plain": [
       "array([1., 1., 1., 1., 1., 1.])"
      ]
     },
     "execution_count": 98,
     "metadata": {},
     "output_type": "execute_result"
    }
   ],
   "source": [
    "np.ones(6)"
   ]
  },
  {
   "cell_type": "code",
   "execution_count": 97,
   "id": "10f559a2",
   "metadata": {},
   "outputs": [
    {
     "data": {
      "text/plain": [
       "array([0.51136678, 0.60831278, 0.29045633, 0.31968898, 0.65017905,\n",
       "       0.17718432])"
      ]
     },
     "execution_count": 97,
     "metadata": {},
     "output_type": "execute_result"
    }
   ],
   "source": [
    "np.empty(6)"
   ]
  },
  {
   "cell_type": "code",
   "execution_count": 10,
   "id": "a783b07c",
   "metadata": {},
   "outputs": [
    {
     "name": "stdout",
     "output_type": "stream",
     "text": [
      "[0 1 2 3]\n",
      "[0 2 4 6 8]\n"
     ]
    }
   ],
   "source": [
    "print(np.arange(4))\n",
    "print(np.arange(0, 10, 2))"
   ]
  },
  {
   "cell_type": "code",
   "execution_count": 1,
   "id": "bc31a095",
   "metadata": {},
   "outputs": [
    {
     "ename": "NameError",
     "evalue": "name 'arange' is not defined",
     "output_type": "error",
     "traceback": [
      "\u001b[1;31m---------------------------------------------------------------------------\u001b[0m",
      "\u001b[1;31mNameError\u001b[0m                                 Traceback (most recent call last)",
      "\u001b[1;32m<ipython-input-1-7c4494d48b1a>\u001b[0m in \u001b[0;36m<module>\u001b[1;34m\u001b[0m\n\u001b[1;32m----> 1\u001b[1;33m \u001b[0marange\u001b[0m\u001b[1;33m(\u001b[0m\u001b[1;33m[\u001b[0m\u001b[0mstart\u001b[0m\u001b[1;33m]\u001b[0m\u001b[1;33m,\u001b[0m \u001b[0mstop\u001b[0m\u001b[1;33m,\u001b[0m \u001b[1;33m[\u001b[0m\u001b[0mstep\u001b[0m\u001b[1;33m]\u001b[0m\u001b[1;33m)\u001b[0m\u001b[1;33m\u001b[0m\u001b[1;33m\u001b[0m\u001b[0m\n\u001b[0m\u001b[0;32m      2\u001b[0m \u001b[1;33m\u001b[0m\u001b[0m\n\u001b[0;32m      3\u001b[0m \u001b[0mnp\u001b[0m\u001b[1;33m.\u001b[0m\u001b[0marange\u001b[0m\u001b[1;33m(\u001b[0m\u001b[1;36m0\u001b[0m\u001b[1;33m,\u001b[0m \u001b[1;36m10\u001b[0m\u001b[1;33m,\u001b[0m \u001b[1;36m2\u001b[0m\u001b[1;33m)\u001b[0m\u001b[1;33m\u001b[0m\u001b[1;33m\u001b[0m\u001b[0m\n\u001b[0;32m      4\u001b[0m \u001b[1;31m#list np mulai dari 0 hingga 10 tetapi jangan sertakan 10 dan\u001b[0m\u001b[1;33m\u001b[0m\u001b[1;33m\u001b[0m\u001b[1;33m\u001b[0m\u001b[0m\n\u001b[0;32m      5\u001b[0m \u001b[1;31m#buat angka tsb melakukan kenaikan 2 setiap kali\u001b[0m\u001b[1;33m\u001b[0m\u001b[1;33m\u001b[0m\u001b[1;33m\u001b[0m\u001b[0m\n",
      "\u001b[1;31mNameError\u001b[0m: name 'arange' is not defined"
     ]
    }
   ],
   "source": [
    "arange([start], stop, [step])\n",
    "\n",
    "np.arange(0, 10, 2)\n",
    "#list np mulai dari 0 hingga 10 tetapi jangan sertakan 10 dan\n",
    "#buat angka tsb melakukan kenaikan 2 setiap kali"
   ]
  },
  {
   "cell_type": "code",
   "execution_count": 86,
   "id": "31467e53",
   "metadata": {},
   "outputs": [
    {
     "data": {
      "text/plain": [
       "array([ 0,  2,  4,  6,  8, 10])"
      ]
     },
     "execution_count": 86,
     "metadata": {},
     "output_type": "execute_result"
    }
   ],
   "source": [
    "np.arange(0, 11, 2)"
   ]
  },
  {
   "cell_type": "code",
   "execution_count": 84,
   "id": "7d2554a8",
   "metadata": {},
   "outputs": [
    {
     "data": {
      "text/plain": [
       "array([ 2,  7, 12, 17, 22, 27])"
      ]
     },
     "execution_count": 84,
     "metadata": {},
     "output_type": "execute_result"
    }
   ],
   "source": [
    "np.arange(2, 29, 5)"
   ]
  },
  {
   "cell_type": "markdown",
   "id": "2f4486bd",
   "metadata": {},
   "source": [
    "**Add, Remove, and Sort**"
   ]
  },
  {
   "cell_type": "code",
   "execution_count": 11,
   "id": "d258c09d",
   "metadata": {},
   "outputs": [
    {
     "ename": "TypeError",
     "evalue": "_append_dispatcher() missing 2 required positional arguments: 'arr' and 'values'",
     "output_type": "error",
     "traceback": [
      "\u001b[1;31m---------------------------------------------------------------------------\u001b[0m",
      "\u001b[1;31mTypeError\u001b[0m                                 Traceback (most recent call last)",
      "\u001b[1;32m<ipython-input-11-98ce5c8639d4>\u001b[0m in \u001b[0;36m<module>\u001b[1;34m\u001b[0m\n\u001b[1;32m----> 1\u001b[1;33m \u001b[0mnp\u001b[0m\u001b[1;33m.\u001b[0m\u001b[0mappend\u001b[0m\u001b[1;33m(\u001b[0m\u001b[1;33m)\u001b[0m\u001b[1;33m\u001b[0m\u001b[1;33m\u001b[0m\u001b[0m\n\u001b[0m\u001b[0;32m      2\u001b[0m \u001b[0mnp\u001b[0m\u001b[1;33m.\u001b[0m\u001b[0mdelete\u001b[0m\u001b[1;33m(\u001b[0m\u001b[1;33m)\u001b[0m\u001b[1;33m\u001b[0m\u001b[1;33m\u001b[0m\u001b[0m\n\u001b[0;32m      3\u001b[0m \u001b[0mnp\u001b[0m\u001b[1;33m.\u001b[0m\u001b[0msort\u001b[0m\u001b[1;33m(\u001b[0m\u001b[1;33m)\u001b[0m\u001b[1;33m\u001b[0m\u001b[1;33m\u001b[0m\u001b[0m\n",
      "\u001b[1;32m<__array_function__ internals>\u001b[0m in \u001b[0;36mappend\u001b[1;34m(*args, **kwargs)\u001b[0m\n",
      "\u001b[1;31mTypeError\u001b[0m: _append_dispatcher() missing 2 required positional arguments: 'arr' and 'values'"
     ]
    }
   ],
   "source": [
    "np.append()\n",
    "np.delete()\n",
    "np.sort()"
   ]
  },
  {
   "cell_type": "code",
   "execution_count": 12,
   "id": "8f826e82",
   "metadata": {},
   "outputs": [],
   "source": [
    "arr = np.array([1, 2, 3, 4, 5, 6, 7, 8])"
   ]
  },
  {
   "cell_type": "code",
   "execution_count": 13,
   "id": "e7ba4cea",
   "metadata": {},
   "outputs": [
    {
     "data": {
      "text/plain": [
       "array([1, 2, 3, 4, 5, 6, 7, 8, 1, 2])"
      ]
     },
     "execution_count": 13,
     "metadata": {},
     "output_type": "execute_result"
    }
   ],
   "source": [
    "np.append(arr, [1,2])"
   ]
  },
  {
   "cell_type": "code",
   "execution_count": 15,
   "id": "f3538b3c",
   "metadata": {},
   "outputs": [
    {
     "data": {
      "text/plain": [
       "array([1, 3, 4, 5, 6, 7, 8])"
      ]
     },
     "execution_count": 15,
     "metadata": {},
     "output_type": "execute_result"
    }
   ],
   "source": [
    "np.delete(arr, 1)"
   ]
  },
  {
   "cell_type": "code",
   "execution_count": 16,
   "id": "a604a1da",
   "metadata": {},
   "outputs": [
    {
     "data": {
      "text/plain": [
       "array([1, 2, 3, 4, 5, 6, 7, 8])"
      ]
     },
     "execution_count": 16,
     "metadata": {},
     "output_type": "execute_result"
    }
   ],
   "source": [
    "np.sort(arr)"
   ]
  },
  {
   "cell_type": "markdown",
   "id": "f6f605c6",
   "metadata": {},
   "source": [
    "## Sorting Array"
   ]
  },
  {
   "cell_type": "markdown",
   "id": "2b6c875a",
   "metadata": {},
   "source": [
    " np.sort?  ## Signature: np.sort(a, axis=-1, kind=None, order=None)\n",
    "\n",
    " ----------------------------------\n",
    "|   kind    |  speed  |    stable |\n",
    "|:--------|:-------|:--------| \n",
    "|'quicksort' |   1    |          no |\n",
    "|'heapsort'  |   3   |          no |\n",
    "|'mergesort' |   2   |       yes |\n",
    "|'timsort'   |   2  |          yes |"
   ]
  },
  {
   "cell_type": "code",
   "execution_count": 9,
   "id": "e6f4360c",
   "metadata": {},
   "outputs": [
    {
     "data": {
      "text/plain": [
       "array([[4, 1, 0, 5],\n",
       "       [1, 5, 3, 4]])"
      ]
     },
     "execution_count": 9,
     "metadata": {},
     "output_type": "execute_result"
    }
   ],
   "source": [
    "data = np.array([[4, 1, 0, 5],[1, 5, 3, 4]])\n",
    "data"
   ]
  },
  {
   "cell_type": "code",
   "execution_count": 10,
   "id": "2b696535",
   "metadata": {},
   "outputs": [
    {
     "name": "stdout",
     "output_type": "stream",
     "text": [
      "[[0 1 4 5]\n",
      " [1 3 4 5]]\n"
     ]
    }
   ],
   "source": [
    "# menambahkan parameter axis =1 \n",
    "data.sort(axis=1)\n",
    "print(data)"
   ]
  },
  {
   "cell_type": "code",
   "execution_count": null,
   "id": "0c85eaa6",
   "metadata": {},
   "outputs": [],
   "source": [
    "## dengan kita menambahkan parameter \"axis=0\" kita menghasilkan \n",
    "## array baru yang merupakan hasil sorting berdasarkan per kolom "
   ]
  },
  {
   "cell_type": "code",
   "execution_count": 11,
   "id": "d39c6389",
   "metadata": {},
   "outputs": [
    {
     "name": "stdout",
     "output_type": "stream",
     "text": [
      "[[4 1 0 5]\n",
      " [1 5 3 4]]\n",
      "sebelum di sort axis=0\n",
      "==================================================\n",
      "[[1 1 0 4]\n",
      " [4 5 3 5]]\n"
     ]
    }
   ],
   "source": [
    "data = np.array([[4, 1, 0, 5],[1, 5, 3, 4]])\n",
    "# menambahkan parameter axis =0 \n",
    "print(data)\n",
    "print(\"sebelum di sort axis=0\")\n",
    "print(10*\"=====\")\n",
    "data.sort(axis=0)\n",
    "print(data)"
   ]
  },
  {
   "cell_type": "code",
   "execution_count": 12,
   "id": "5587be6f",
   "metadata": {},
   "outputs": [
    {
     "name": "stdout",
     "output_type": "stream",
     "text": [
      "[(b'Arthur', 1.8, 41) (b'Lancelot', 1.9, 38) (b'Galahad', 1.7, 38)]\n"
     ]
    }
   ],
   "source": [
    "#### sorting dengan membuat structure array\n",
    "dtype = [('name', 'S10'), ('height', float), ('age', int)]  ##  name type string , heigh type float , age type int\n",
    "values = [('Arthur', 1.8, 41), \n",
    "          ('Lancelot', 1.9, 38),\n",
    "          ('Galahad', 1.7, 38)]\n",
    "a = np.array(values, dtype=dtype) # create a structured array\n",
    "print(a)"
   ]
  },
  {
   "cell_type": "code",
   "execution_count": 13,
   "id": "5b968533",
   "metadata": {},
   "outputs": [
    {
     "name": "stdout",
     "output_type": "stream",
     "text": [
      "[(b'Arthur', 1.8, 41) (b'Galahad', 1.7, 38) (b'Lancelot', 1.9, 38)]\n"
     ]
    }
   ],
   "source": [
    "x = np.sort(a, order='name')  \n",
    "print(x)"
   ]
  },
  {
   "cell_type": "code",
   "execution_count": 14,
   "id": "aa8bcce1",
   "metadata": {
    "scrolled": true
   },
   "outputs": [
    {
     "data": {
      "text/plain": [
       "array([(b'Galahad', 1.7, 38), (b'Lancelot', 1.9, 38),\n",
       "       (b'Arthur', 1.8, 41)],\n",
       "      dtype=[('name', 'S10'), ('height', '<f8'), ('age', '<i4')])"
      ]
     },
     "execution_count": 14,
     "metadata": {},
     "output_type": "execute_result"
    }
   ],
   "source": [
    "np.sort(a, order=['age', 'height'])   "
   ]
  },
  {
   "cell_type": "code",
   "execution_count": 15,
   "id": "6609ce88",
   "metadata": {},
   "outputs": [
    {
     "data": {
      "text/plain": [
       "('Lancelot', 1.9, 38)"
      ]
     },
     "execution_count": 15,
     "metadata": {},
     "output_type": "execute_result"
    }
   ],
   "source": [
    "values[1] # menghasilkan tuple "
   ]
  },
  {
   "cell_type": "code",
   "execution_count": 16,
   "id": "429ed39f",
   "metadata": {},
   "outputs": [
    {
     "data": {
      "text/plain": [
       "'Arthur'"
      ]
     },
     "execution_count": 16,
     "metadata": {},
     "output_type": "execute_result"
    }
   ],
   "source": [
    "values[0][0] ## arthur"
   ]
  },
  {
   "cell_type": "markdown",
   "id": "068c8ffe",
   "metadata": {},
   "source": [
    "**Shape and Size**"
   ]
  },
  {
   "cell_type": "code",
   "execution_count": null,
   "id": "0557b318",
   "metadata": {},
   "outputs": [],
   "source": [
    "ndarray.ndim #memberi tahu jumlah axes, atau dimensi, dari array\n",
    "ndarray.size #memberi tahu jumlah total elemen array\n",
    "ndarray.shape #menampilkan tuple integer yang menunjukkan jumlah elemen yang disimpan disepanjang setiap dimensi array"
   ]
  },
  {
   "cell_type": "code",
   "execution_count": 19,
   "id": "661d6481",
   "metadata": {},
   "outputs": [
    {
     "name": "stdout",
     "output_type": "stream",
     "text": [
      "[[[0 1 2 3]\n",
      "  [4 5 6 7]]\n",
      "\n",
      " [[0 1 2 3]\n",
      "  [4 5 6 7]]\n",
      "\n",
      " [[0 1 2 3]\n",
      "  [4 5 6 7]]]\n"
     ]
    }
   ],
   "source": [
    "array_example = np.array([[[0, 1, 2, 3],\n",
    "                          [4, 5, 6, 7]],\n",
    "                         \n",
    "                        [[0, 1, 2, 3],\n",
    "                        [4, 5, 6, 7]],\n",
    "                        \n",
    "                        [[0, 1, 2, 3],\n",
    "                        [4, 5, 6, 7]]])\n",
    "\n",
    "print(array_example)"
   ]
  },
  {
   "cell_type": "code",
   "execution_count": 20,
   "id": "e0882f74",
   "metadata": {},
   "outputs": [
    {
     "data": {
      "text/plain": [
       "3"
      ]
     },
     "execution_count": 20,
     "metadata": {},
     "output_type": "execute_result"
    }
   ],
   "source": [
    "array_example.ndim"
   ]
  },
  {
   "cell_type": "code",
   "execution_count": 21,
   "id": "0eca2db7",
   "metadata": {},
   "outputs": [
    {
     "data": {
      "text/plain": [
       "24"
      ]
     },
     "execution_count": 21,
     "metadata": {},
     "output_type": "execute_result"
    }
   ],
   "source": [
    "array_example.size"
   ]
  },
  {
   "cell_type": "code",
   "execution_count": 22,
   "id": "28b7a1ac",
   "metadata": {},
   "outputs": [
    {
     "data": {
      "text/plain": [
       "(3, 2, 4)"
      ]
     },
     "execution_count": 22,
     "metadata": {},
     "output_type": "execute_result"
    }
   ],
   "source": [
    "array_example.shape"
   ]
  },
  {
   "cell_type": "code",
   "execution_count": 23,
   "id": "8a335ffa",
   "metadata": {},
   "outputs": [],
   "source": [
    "arr_one = np.array([[1, 2, 3, 4, 5]])"
   ]
  },
  {
   "cell_type": "code",
   "execution_count": 24,
   "id": "5a9a0a25",
   "metadata": {},
   "outputs": [
    {
     "data": {
      "text/plain": [
       "2"
      ]
     },
     "execution_count": 24,
     "metadata": {},
     "output_type": "execute_result"
    }
   ],
   "source": [
    "arr_one.ndim"
   ]
  },
  {
   "cell_type": "code",
   "execution_count": 25,
   "id": "7f061942",
   "metadata": {},
   "outputs": [
    {
     "data": {
      "text/plain": [
       "5"
      ]
     },
     "execution_count": 25,
     "metadata": {},
     "output_type": "execute_result"
    }
   ],
   "source": [
    "arr_one.size"
   ]
  },
  {
   "cell_type": "markdown",
   "id": "9edf2d78",
   "metadata": {},
   "source": [
    "**Reshape**"
   ]
  },
  {
   "cell_type": "code",
   "execution_count": 28,
   "id": "ade77e3a",
   "metadata": {},
   "outputs": [],
   "source": [
    "import numpy as np"
   ]
  },
  {
   "cell_type": "code",
   "execution_count": null,
   "id": "577d4843",
   "metadata": {},
   "outputs": [],
   "source": [
    "np.reshape()\n",
    "#memberikan bentuk baru ke array tanpa mengubah datanya"
   ]
  },
  {
   "cell_type": "code",
   "execution_count": 30,
   "id": "40263691",
   "metadata": {},
   "outputs": [
    {
     "name": "stdout",
     "output_type": "stream",
     "text": [
      "[0 1 2 3 4 5]\n"
     ]
    }
   ],
   "source": [
    "a = np.arange(6)\n",
    "\n",
    "print(a)"
   ]
  },
  {
   "cell_type": "code",
   "execution_count": 31,
   "id": "53a82516",
   "metadata": {},
   "outputs": [
    {
     "name": "stdout",
     "output_type": "stream",
     "text": [
      "[[0 1]\n",
      " [2 3]\n",
      " [4 5]]\n"
     ]
    }
   ],
   "source": [
    "#reshape the array to an array with 3 rows and 2 columns\n",
    "\n",
    "b = a.reshape(3,2)\n",
    "\n",
    "print(b)"
   ]
  },
  {
   "cell_type": "code",
   "execution_count": 32,
   "id": "c225268a",
   "metadata": {},
   "outputs": [
    {
     "data": {
      "text/plain": [
       "array([[0],\n",
       "       [1],\n",
       "       [2],\n",
       "       [3],\n",
       "       [4],\n",
       "       [5]])"
      ]
     },
     "execution_count": 32,
     "metadata": {},
     "output_type": "execute_result"
    }
   ],
   "source": [
    "a.reshape(6,1)"
   ]
  },
  {
   "cell_type": "code",
   "execution_count": null,
   "id": "cf743dd8",
   "metadata": {},
   "outputs": [],
   "source": [
    "numpy.reshape(a, newshape, order)\n",
    "\n",
    "# a = array yang akan di-reshaped\n",
    "# newshape = bentuk baru yang diinginkan\n",
    "# order : 'C' means to read/write the elements using C-like index order\n",
    "# 'F' means to read/write the elements using fortran-like index order\n",
    "# 'A' means to read/write the elements in Fortran-like index order \n",
    "# if a is Fortran contiguous in memory, C-like order otherwise (optional parameter)"
   ]
  },
  {
   "cell_type": "markdown",
   "id": "7e91363a",
   "metadata": {},
   "source": [
    "**Convert 1D to 2D**"
   ]
  },
  {
   "cell_type": "code",
   "execution_count": null,
   "id": "173f90ed",
   "metadata": {},
   "outputs": [],
   "source": [
    "np.newaxis\n",
    "np.expand_dims\n",
    "\n",
    "#untuk meningkatkan dimensi array yang sudah ada"
   ]
  },
  {
   "cell_type": "code",
   "execution_count": 33,
   "id": "12044a22",
   "metadata": {},
   "outputs": [
    {
     "data": {
      "text/plain": [
       "(6,)"
      ]
     },
     "execution_count": 33,
     "metadata": {},
     "output_type": "execute_result"
    }
   ],
   "source": [
    "a = np.array([1, 2, 3, 4, 5, 6])\n",
    "a.shape"
   ]
  },
  {
   "cell_type": "code",
   "execution_count": 34,
   "id": "2714dc30",
   "metadata": {},
   "outputs": [
    {
     "name": "stdout",
     "output_type": "stream",
     "text": [
      "(1, 6)\n",
      "[[1 2 3 4 5 6]]\n"
     ]
    }
   ],
   "source": [
    "#use np.newaxis to add a new axis\n",
    "\n",
    "a2 = a[np.newaxis]\n",
    "print(a2.shape)\n",
    "print(a2)"
   ]
  },
  {
   "cell_type": "code",
   "execution_count": 35,
   "id": "f69b6283",
   "metadata": {},
   "outputs": [
    {
     "name": "stdout",
     "output_type": "stream",
     "text": [
      "(1, 6)\n",
      "[[1 2 3 4 5 6]]\n"
     ]
    }
   ],
   "source": [
    "#convert a 1D array to a row vector by inserting an axis along the first dimension\n",
    "\n",
    "row_vector = a[np.newaxis, :]\n",
    "print(row_vector.shape)\n",
    "print(row_vector)"
   ]
  },
  {
   "cell_type": "code",
   "execution_count": 36,
   "id": "8f53c9c1",
   "metadata": {},
   "outputs": [
    {
     "name": "stdout",
     "output_type": "stream",
     "text": [
      "(6, 1)\n",
      "[[1]\n",
      " [2]\n",
      " [3]\n",
      " [4]\n",
      " [5]\n",
      " [6]]\n"
     ]
    }
   ],
   "source": [
    "#for a column vector, you can insert an axis along the second dimension\n",
    "\n",
    "col_vector = a[:, np.newaxis]\n",
    "print(col_vector.shape)\n",
    "print(col_vector)"
   ]
  },
  {
   "cell_type": "code",
   "execution_count": 37,
   "id": "e6e06f96",
   "metadata": {},
   "outputs": [
    {
     "data": {
      "text/plain": [
       "(6,)"
      ]
     },
     "execution_count": 37,
     "metadata": {},
     "output_type": "execute_result"
    }
   ],
   "source": [
    "a = np.array([1, 2, 3, 4, 5, 6])\n",
    "a.shape"
   ]
  },
  {
   "cell_type": "code",
   "execution_count": 38,
   "id": "bfbb3931",
   "metadata": {},
   "outputs": [
    {
     "data": {
      "text/plain": [
       "(6, 1)"
      ]
     },
     "execution_count": 38,
     "metadata": {},
     "output_type": "execute_result"
    }
   ],
   "source": [
    "#use np.expand_dims to add an axis at index position 1 with:\n",
    "\n",
    "b = np.expand_dims(a, axis=1)\n",
    "b.shape"
   ]
  },
  {
   "cell_type": "code",
   "execution_count": 39,
   "id": "6ebe3077",
   "metadata": {},
   "outputs": [
    {
     "data": {
      "text/plain": [
       "(1, 6)"
      ]
     },
     "execution_count": 39,
     "metadata": {},
     "output_type": "execute_result"
    }
   ],
   "source": [
    "#you can add an axis at index position 0 with:\n",
    "\n",
    "c = np.expand_dims(a, axis=0)\n",
    "c.shape"
   ]
  },
  {
   "cell_type": "markdown",
   "id": "2962bfa1",
   "metadata": {},
   "source": [
    "# Indexing and Slicing"
   ]
  },
  {
   "cell_type": "code",
   "execution_count": 40,
   "id": "e08a953c",
   "metadata": {},
   "outputs": [
    {
     "name": "stdout",
     "output_type": "stream",
     "text": [
      "[1 2 3]\n",
      "1\n",
      "2\n",
      "[1 2]\n",
      "[2 3]\n",
      "[2 3]\n"
     ]
    }
   ],
   "source": [
    "data = np.array([1,2,3])\n",
    "\n",
    "print(data)\n",
    "print(data[0])\n",
    "print(data[1])\n",
    "print(data[0:2])\n",
    "print(data[1:])\n",
    "print(data[-2:])"
   ]
  },
  {
   "cell_type": "markdown",
   "id": "c6145f30",
   "metadata": {},
   "source": [
    "**mengambil bagian dari array atau elemen array tertentu**"
   ]
  },
  {
   "cell_type": "code",
   "execution_count": 41,
   "id": "4be391e7",
   "metadata": {},
   "outputs": [
    {
     "data": {
      "text/plain": [
       "array([[ 1,  2,  3,  4],\n",
       "       [ 5,  6,  7,  8],\n",
       "       [ 9, 10, 11, 12]])"
      ]
     },
     "execution_count": 41,
     "metadata": {},
     "output_type": "execute_result"
    }
   ],
   "source": [
    "a = np.array([[1, 2, 3, 4], [5, 6, 7, 8], [9, 10, 11, 12]])\n",
    "a"
   ]
  },
  {
   "cell_type": "code",
   "execution_count": 42,
   "id": "37448715",
   "metadata": {},
   "outputs": [
    {
     "name": "stdout",
     "output_type": "stream",
     "text": [
      "[1 2 3 4]\n"
     ]
    }
   ],
   "source": [
    "print(a[a<5])"
   ]
  },
  {
   "cell_type": "code",
   "execution_count": 43,
   "id": "a9f113ff",
   "metadata": {},
   "outputs": [
    {
     "name": "stdout",
     "output_type": "stream",
     "text": [
      "[ 5  6  7  8  9 10 11 12]\n",
      "[ 5  6  7  8  9 10 11 12]\n"
     ]
    }
   ],
   "source": [
    "five_up = (a >= 5)\n",
    "\n",
    "print(a[five_up])\n",
    "print(a[a>=5])"
   ]
  },
  {
   "cell_type": "code",
   "execution_count": 44,
   "id": "b3dc823a",
   "metadata": {},
   "outputs": [
    {
     "name": "stdout",
     "output_type": "stream",
     "text": [
      "[ 2  4  6  8 10 12]\n"
     ]
    }
   ],
   "source": [
    "divisible_by_2 = a[a%2==0]\n",
    "\n",
    "print(divisible_by_2)"
   ]
  },
  {
   "cell_type": "code",
   "execution_count": 45,
   "id": "8a674401",
   "metadata": {},
   "outputs": [
    {
     "name": "stdout",
     "output_type": "stream",
     "text": [
      "[ 3  4  5  6  7  8  9 10]\n"
     ]
    }
   ],
   "source": [
    "c = a[(a > 2) & (a < 11)]\n",
    "\n",
    "print(c)"
   ]
  },
  {
   "cell_type": "markdown",
   "id": "bffdd864",
   "metadata": {},
   "source": [
    "# Creating Array from Existing Data"
   ]
  },
  {
   "cell_type": "code",
   "execution_count": null,
   "id": "a661214c",
   "metadata": {},
   "outputs": [],
   "source": [
    "slicing indexing\n",
    "np.vstack()\n",
    "np.hstack()\n",
    "np.hsplit()\n",
    ".view()\n",
    ".copy()"
   ]
  },
  {
   "cell_type": "code",
   "execution_count": 46,
   "id": "7756bcf9",
   "metadata": {},
   "outputs": [],
   "source": [
    "arr = np.array([1, 2, 3, 4, 5, 6, 7, 8, 9, 10])"
   ]
  },
  {
   "cell_type": "code",
   "execution_count": 47,
   "id": "22430cf3",
   "metadata": {},
   "outputs": [
    {
     "data": {
      "text/plain": [
       "array([4, 5, 6, 7, 8])"
      ]
     },
     "execution_count": 47,
     "metadata": {},
     "output_type": "execute_result"
    }
   ],
   "source": [
    "arr1 = arr[3:8]\n",
    "arr1"
   ]
  },
  {
   "cell_type": "markdown",
   "id": "70ae1deb",
   "metadata": {},
   "source": [
    "**menumpuk dua array yang ada**"
   ]
  },
  {
   "cell_type": "code",
   "execution_count": 48,
   "id": "2ae76814",
   "metadata": {},
   "outputs": [],
   "source": [
    "a_1 = np.array([[1, 1],\n",
    "                [2, 2]])"
   ]
  },
  {
   "cell_type": "code",
   "execution_count": 49,
   "id": "177b6d4b",
   "metadata": {},
   "outputs": [],
   "source": [
    "a_2 = np.array([[3, 3],\n",
    "               [4, 4]])"
   ]
  },
  {
   "cell_type": "code",
   "execution_count": 52,
   "id": "fdcd4d1e",
   "metadata": {},
   "outputs": [
    {
     "data": {
      "text/plain": [
       "array([[1, 1],\n",
       "       [2, 2],\n",
       "       [3, 3],\n",
       "       [4, 4]])"
      ]
     },
     "execution_count": 52,
     "metadata": {},
     "output_type": "execute_result"
    }
   ],
   "source": [
    "np.vstack((a_1, a_2)) #vertically"
   ]
  },
  {
   "cell_type": "code",
   "execution_count": 55,
   "id": "bf06fee2",
   "metadata": {},
   "outputs": [
    {
     "data": {
      "text/plain": [
       "array([[1, 1, 3, 3],\n",
       "       [2, 2, 4, 4]])"
      ]
     },
     "execution_count": 55,
     "metadata": {},
     "output_type": "execute_result"
    }
   ],
   "source": [
    "np.hstack((a_1, a_2)) #horizontally"
   ]
  },
  {
   "cell_type": "markdown",
   "id": "6eccfbc3",
   "metadata": {},
   "source": [
    "**membagi sebuah array menjadi beberapa array yang lebih kecil**"
   ]
  },
  {
   "cell_type": "code",
   "execution_count": 56,
   "id": "00191e2c",
   "metadata": {},
   "outputs": [
    {
     "name": "stdout",
     "output_type": "stream",
     "text": [
      "[[ 1  2  3  4  5  6  7  8  9 10 11 12]\n",
      " [13 14 15 16 17 18 19 20 21 22 23 24]]\n"
     ]
    }
   ],
   "source": [
    "arrsplit = np.array([[1, 2, 3, 4, 5, 6, 7, 8, 9, 10, 11, 12],\n",
    "                    [13, 14, 15, 16, 17, 18, 19, 20, 21, 22, 23, 24]])\n",
    "print(arrsplit)"
   ]
  },
  {
   "cell_type": "code",
   "execution_count": 57,
   "id": "4642345e",
   "metadata": {},
   "outputs": [
    {
     "data": {
      "text/plain": [
       "[array([[ 1,  2,  3,  4],\n",
       "        [13, 14, 15, 16]]),\n",
       " array([[ 5,  6,  7,  8],\n",
       "        [17, 18, 19, 20]]),\n",
       " array([[ 9, 10, 11, 12],\n",
       "        [21, 22, 23, 24]])]"
      ]
     },
     "execution_count": 57,
     "metadata": {},
     "output_type": "execute_result"
    }
   ],
   "source": [
    "#split this array into 3 equally shaped arrays\n",
    "\n",
    "np.hsplit(arrsplit, 3)"
   ]
  },
  {
   "cell_type": "markdown",
   "id": "15bd30e3",
   "metadata": {},
   "source": [
    "**membuat objek baru yang terlihat sama dengan array asli (shallow copy)**"
   ]
  },
  {
   "cell_type": "code",
   "execution_count": 58,
   "id": "3d8dfc0a",
   "metadata": {},
   "outputs": [
    {
     "data": {
      "text/plain": [
       "array([[ 1,  2,  3,  4],\n",
       "       [ 5,  6,  7,  8],\n",
       "       [ 9, 10, 11, 12]])"
      ]
     },
     "execution_count": 58,
     "metadata": {},
     "output_type": "execute_result"
    }
   ],
   "source": [
    "a = np.array([[1, 2, 3, 4], [5, 6, 7, 8], [9, 10, 11, 12]])\n",
    "a"
   ]
  },
  {
   "cell_type": "code",
   "execution_count": 59,
   "id": "4ceaa9c3",
   "metadata": {},
   "outputs": [
    {
     "data": {
      "text/plain": [
       "array([[ 1,  2,  3,  4],\n",
       "       [ 5,  6,  7,  8],\n",
       "       [ 9, 10, 11, 12]])"
      ]
     },
     "execution_count": 59,
     "metadata": {},
     "output_type": "execute_result"
    }
   ],
   "source": [
    "#create new array object that looks at the same data\n",
    "\n",
    "b = a.view()\n",
    "b"
   ]
  },
  {
   "cell_type": "code",
   "execution_count": 60,
   "id": "1cef8183",
   "metadata": {},
   "outputs": [
    {
     "data": {
      "text/plain": [
       "array([[ 1,  2,  3,  4],\n",
       "       [ 5,  6,  7,  8],\n",
       "       [ 9, 10, 11, 12]])"
      ]
     },
     "execution_count": 60,
     "metadata": {},
     "output_type": "execute_result"
    }
   ],
   "source": [
    "#make a complete copy of the array and its data (a deep copy)\n",
    "\n",
    "c = a.copy()\n",
    "c"
   ]
  },
  {
   "cell_type": "markdown",
   "id": "477033ad",
   "metadata": {},
   "source": [
    "# Basic Array Operations"
   ]
  },
  {
   "cell_type": "code",
   "execution_count": null,
   "id": "f7e4ce17",
   "metadata": {},
   "outputs": [],
   "source": [
    "data - ones\n",
    "data * data\n",
    "data / data"
   ]
  },
  {
   "cell_type": "code",
   "execution_count": 61,
   "id": "8d2ef386",
   "metadata": {},
   "outputs": [
    {
     "data": {
      "text/plain": [
       "10"
      ]
     },
     "execution_count": 61,
     "metadata": {},
     "output_type": "execute_result"
    }
   ],
   "source": [
    "a = np.array([1, 2, 3, 4])\n",
    "a.sum() #add all of the elements in the array"
   ]
  },
  {
   "cell_type": "code",
   "execution_count": 62,
   "id": "e826c041",
   "metadata": {},
   "outputs": [
    {
     "data": {
      "text/plain": [
       "array([[1, 1],\n",
       "       [2, 2]])"
      ]
     },
     "execution_count": 62,
     "metadata": {},
     "output_type": "execute_result"
    }
   ],
   "source": [
    "b = np.array([[1, 1], [2, 2]])\n",
    "b"
   ]
  },
  {
   "cell_type": "code",
   "execution_count": 63,
   "id": "8e261cc7",
   "metadata": {},
   "outputs": [
    {
     "data": {
      "text/plain": [
       "array([3, 3])"
      ]
     },
     "execution_count": 63,
     "metadata": {},
     "output_type": "execute_result"
    }
   ],
   "source": [
    "#sum the rows\n",
    "\n",
    "b.sum(axis = 0)"
   ]
  },
  {
   "cell_type": "code",
   "execution_count": 64,
   "id": "59fd6f6c",
   "metadata": {},
   "outputs": [
    {
     "data": {
      "text/plain": [
       "array([2, 4])"
      ]
     },
     "execution_count": 64,
     "metadata": {},
     "output_type": "execute_result"
    }
   ],
   "source": [
    "#sum the columns\n",
    "\n",
    "b.sum(axis = 1)"
   ]
  },
  {
   "cell_type": "code",
   "execution_count": 66,
   "id": "0f81aed5",
   "metadata": {},
   "outputs": [
    {
     "data": {
      "text/plain": [
       "array([1, 2])"
      ]
     },
     "execution_count": 66,
     "metadata": {},
     "output_type": "execute_result"
    }
   ],
   "source": [
    "data = np.array([1, 2])\n",
    "data"
   ]
  },
  {
   "cell_type": "code",
   "execution_count": 67,
   "id": "813553f7",
   "metadata": {},
   "outputs": [
    {
     "data": {
      "text/plain": [
       "array([1., 1.])"
      ]
     },
     "execution_count": 67,
     "metadata": {},
     "output_type": "execute_result"
    }
   ],
   "source": [
    "ones = np.ones(2)\n",
    "ones"
   ]
  },
  {
   "cell_type": "code",
   "execution_count": 70,
   "id": "76380b2c",
   "metadata": {},
   "outputs": [
    {
     "data": {
      "text/plain": [
       "array([1, 4])"
      ]
     },
     "execution_count": 70,
     "metadata": {},
     "output_type": "execute_result"
    }
   ],
   "source": [
    "data * data"
   ]
  },
  {
   "cell_type": "code",
   "execution_count": 71,
   "id": "74fb0b1c",
   "metadata": {},
   "outputs": [
    {
     "data": {
      "text/plain": [
       "array([1., 1.])"
      ]
     },
     "execution_count": 71,
     "metadata": {},
     "output_type": "execute_result"
    }
   ],
   "source": [
    "data / data"
   ]
  },
  {
   "cell_type": "markdown",
   "id": "cff41fa6",
   "metadata": {},
   "source": [
    "# Broadcasting"
   ]
  },
  {
   "cell_type": "markdown",
   "id": "feeab63f",
   "metadata": {},
   "source": [
    "Mekanisme yang memungkinkan NumPy melakukan operasi pada array dengan bentuk berbeda. Dimensi array harus kompatibel, misalnya jika dimensi kedua array sama atau salah satunya adalah 1. Jika tidak kompatibel maka akan error."
   ]
  },
  {
   "cell_type": "code",
   "execution_count": 72,
   "id": "f82ee694",
   "metadata": {},
   "outputs": [
    {
     "data": {
      "text/plain": [
       "array([2, 4])"
      ]
     },
     "execution_count": 72,
     "metadata": {},
     "output_type": "execute_result"
    }
   ],
   "source": [
    "data * 2"
   ]
  },
  {
   "cell_type": "markdown",
   "id": "49812bbe",
   "metadata": {},
   "source": [
    "**More Array Operations**"
   ]
  },
  {
   "cell_type": "markdown",
   "id": "f92302ef",
   "metadata": {},
   "source": [
    "Maximum, minimum, sum, mean, product, standard deviation, and more"
   ]
  },
  {
   "cell_type": "code",
   "execution_count": null,
   "id": "a51b9e4c",
   "metadata": {},
   "outputs": [],
   "source": [
    "data.max()\n",
    "data.min()\n",
    "data.sum()"
   ]
  },
  {
   "cell_type": "code",
   "execution_count": 23,
   "id": "7db3a42b",
   "metadata": {},
   "outputs": [
    {
     "name": "stdout",
     "output_type": "stream",
     "text": [
      "[[0.45053314 0.17296777 0.34376245 0.5510652 ]\n",
      " [0.54627315 0.05093587 0.40067661 0.55645993]\n",
      " [0.12697628 0.82485143 0.26590556 0.56917101]]\n"
     ]
    }
   ],
   "source": [
    "A = np.array([[0.45053314, 0.17296777, 0.34376245, 0.5510652],\n",
    "             [0.54627315, 0.05093587, 0.40067661, 0.55645993],\n",
    "             [0.12697628, 0.82485143, 0.26590556, 0.56917101]])\n",
    "print(A)"
   ]
  },
  {
   "cell_type": "code",
   "execution_count": 77,
   "id": "d1a7a07f",
   "metadata": {},
   "outputs": [
    {
     "data": {
      "text/plain": [
       "4.8595784"
      ]
     },
     "execution_count": 77,
     "metadata": {},
     "output_type": "execute_result"
    }
   ],
   "source": [
    "A.sum()"
   ]
  },
  {
   "cell_type": "code",
   "execution_count": 78,
   "id": "da5c6b53",
   "metadata": {},
   "outputs": [
    {
     "data": {
      "text/plain": [
       "0.05093587"
      ]
     },
     "execution_count": 78,
     "metadata": {},
     "output_type": "execute_result"
    }
   ],
   "source": [
    "A.min()"
   ]
  },
  {
   "cell_type": "code",
   "execution_count": 79,
   "id": "01135f62",
   "metadata": {},
   "outputs": [
    {
     "data": {
      "text/plain": [
       "array([0.12697628, 0.05093587, 0.26590556, 0.5510652 ])"
      ]
     },
     "execution_count": 79,
     "metadata": {},
     "output_type": "execute_result"
    }
   ],
   "source": [
    "A.min(axis=0)"
   ]
  },
  {
   "cell_type": "code",
   "execution_count": 80,
   "id": "95d182b2",
   "metadata": {},
   "outputs": [
    {
     "data": {
      "text/plain": [
       "0.82485143"
      ]
     },
     "execution_count": 80,
     "metadata": {},
     "output_type": "execute_result"
    }
   ],
   "source": [
    "A.max()"
   ]
  },
  {
   "cell_type": "code",
   "execution_count": 81,
   "id": "26f0131f",
   "metadata": {},
   "outputs": [
    {
     "data": {
      "text/plain": [
       "0.21392120766089617"
      ]
     },
     "execution_count": 81,
     "metadata": {},
     "output_type": "execute_result"
    }
   ],
   "source": [
    "A.std()"
   ]
  },
  {
   "cell_type": "code",
   "execution_count": 24,
   "id": "76dd5cdb",
   "metadata": {},
   "outputs": [
    {
     "name": "stdout",
     "output_type": "stream",
     "text": [
      "5\n"
     ]
    }
   ],
   "source": [
    "print(A.argmin()) ## posisi index "
   ]
  },
  {
   "cell_type": "code",
   "execution_count": 26,
   "id": "bf389519",
   "metadata": {},
   "outputs": [
    {
     "name": "stdout",
     "output_type": "stream",
     "text": [
      "9\n"
     ]
    }
   ],
   "source": [
    "print(A.argmax()) ## posisi index "
   ]
  },
  {
   "cell_type": "markdown",
   "id": "dc35fbc8",
   "metadata": {},
   "source": [
    "### Function\n",
    "\n",
    "Beberapa fungsi utilitas dasar dari modul np.random adalah np.random.seed dan np.random.shuffle. Kami menggunakan fungsi np.random.seed untuk mengatur random seed, yang memungkinkan kami untuk mengontrol output dari fungsi pseudo-random. Fungsi mengambil satu bilangan bulat sebagai argumen, yang mewakili random seed.\n",
    "\n",
    "Kode di bawah ini menggunakan np.random.seed dengan seed acak yang sama. \n",
    "Perhatikan bagaimana output dari fungsi random di setiap proses berikutnya adalah identik ketika \n",
    "kita menetapkan random seed yang sama."
   ]
  },
  {
   "cell_type": "code",
   "execution_count": 17,
   "id": "cc449417",
   "metadata": {},
   "outputs": [
    {
     "name": "stdout",
     "output_type": "stream",
     "text": [
      "5\n"
     ]
    }
   ],
   "source": [
    "np.random.seed(0)\n",
    "print(np.random.randint(10))"
   ]
  },
  {
   "cell_type": "code",
   "execution_count": 18,
   "id": "7f742c56",
   "metadata": {},
   "outputs": [
    {
     "name": "stdout",
     "output_type": "stream",
     "text": [
      "[74 77 77 19 93 31]\n"
     ]
    }
   ],
   "source": [
    "random_arr = np.random.randint(10,100,6) # dari 10 ke 100 sebanyak 6 \n",
    "print(random_arr)"
   ]
  },
  {
   "cell_type": "code",
   "execution_count": 19,
   "id": "df377c0c",
   "metadata": {},
   "outputs": [
    {
     "name": "stdout",
     "output_type": "stream",
     "text": [
      "array([[47, 50],\n",
      "       [67, 70]])\n"
     ]
    }
   ],
   "source": [
    "np.random.seed(0)\n",
    "random_arr = np.random.randint(3, high=100,\n",
    "                               size=(2, 2)) ## randint(low, high=None, size=None, dtype=int)\n",
    "\n",
    "print(repr(random_arr))"
   ]
  },
  {
   "cell_type": "code",
   "execution_count": 20,
   "id": "023bddb1",
   "metadata": {},
   "outputs": [
    {
     "name": "stdout",
     "output_type": "stream",
     "text": [
      "array([[43, 18],\n",
      "       [75, 25]])\n"
     ]
    }
   ],
   "source": [
    "# New seed\n",
    "np.random.seed(2)\n",
    "\n",
    "random_arr = np.random.randint(3, high=100,\n",
    "                               size=(2, 2))\n",
    "print(repr(random_arr))"
   ]
  },
  {
   "cell_type": "code",
   "execution_count": 21,
   "id": "88cc180b",
   "metadata": {
    "scrolled": true
   },
   "outputs": [
    {
     "name": "stdout",
     "output_type": "stream",
     "text": [
      "array([[47, 50],\n",
      "       [67, 70]])\n"
     ]
    }
   ],
   "source": [
    "# Original seed\n",
    "np.random.seed(0)\n",
    "random_arr = np.random.randint(3, high=100,\n",
    "                               size=(2, 2))\n",
    "print(repr(random_arr))"
   ]
  },
  {
   "cell_type": "markdown",
   "id": "76f219b6",
   "metadata": {},
   "source": [
    "## Save Array into file"
   ]
  },
  {
   "cell_type": "code",
   "execution_count": 27,
   "id": "3e07fbae",
   "metadata": {},
   "outputs": [
    {
     "name": "stdout",
     "output_type": "stream",
     "text": [
      "[[0.45053314 0.17296777 0.34376245 0.5510652 ]\n",
      " [0.54627315 0.05093587 0.40067661 0.55645993]\n",
      " [0.12697628 0.82485143 0.26590556 0.56917101]]\n"
     ]
    }
   ],
   "source": [
    "A = np.array([[0.45053314, 0.17296777, 0.34376245, 0.5510652],\n",
    "              [0.54627315, 0.05093587, 0.40067661, 0.55645993],\n",
    "              [0.12697628, 0.82485143, 0.26590556, 0.56917101]])\n",
    "\n",
    "print(A)"
   ]
  },
  {
   "cell_type": "code",
   "execution_count": 28,
   "id": "a7985152",
   "metadata": {},
   "outputs": [],
   "source": [
    "np.save(\"myarray2.npy\",A)"
   ]
  },
  {
   "cell_type": "code",
   "execution_count": 29,
   "id": "edb4bd82",
   "metadata": {
    "scrolled": true
   },
   "outputs": [
    {
     "name": "stdout",
     "output_type": "stream",
     "text": [
      "[[0.45053314 0.17296777 0.34376245 0.5510652 ]\n",
      " [0.54627315 0.05093587 0.40067661 0.55645993]\n",
      " [0.12697628 0.82485143 0.26590556 0.56917101]]\n"
     ]
    }
   ],
   "source": [
    "responseFile = np.load('myarray2.npy')\n",
    "print(responseFile)"
   ]
  },
  {
   "cell_type": "markdown",
   "id": "884ffa8a",
   "metadata": {},
   "source": [
    "# Latihan \n",
    "\n",
    "* Buat lah Array \n",
    "```\n",
    "[[  0  72   3]\n",
    " [  1   3 -60]\n",
    " [ -3  -2   4]]\n",
    "``` \n",
    "\n",
    "Simpan file Array tersebut \n",
    "Kemudian lakukan load file Array \n",
    "\n",
    "lakukan pencarian data dibawah ini \n",
    "\n",
    "Temukan Nilai minum dan maksimum pada file tersebut \n",
    "\n",
    "Temukan Nilai minum di setiap kolom \n",
    "Temukan Nilai Maksimum di setiap Kolom \n",
    "Menemukan Nilai Minimum di setiap baris \n",
    "Menemukan Nilai Maksimum di setiap baris "
   ]
  },
  {
   "cell_type": "code",
   "execution_count": 30,
   "id": "cf7eb387",
   "metadata": {},
   "outputs": [
    {
     "name": "stdout",
     "output_type": "stream",
     "text": [
      "[[  0  72   3]\n",
      " [  1   3 -60]\n",
      " [ -3  -2   4]]\n"
     ]
    }
   ],
   "source": [
    "arr = np.array([[0, 72, 3],\n",
    "                [1, 3, -60],\n",
    "                [-3, -2, 4]])\n",
    "print(arr)"
   ]
  },
  {
   "cell_type": "code",
   "execution_count": 31,
   "id": "5af2896a",
   "metadata": {},
   "outputs": [],
   "source": [
    "np.save(\"myarray3.npy\",arr)"
   ]
  },
  {
   "cell_type": "code",
   "execution_count": 32,
   "id": "96f4cd0d",
   "metadata": {},
   "outputs": [
    {
     "name": "stdout",
     "output_type": "stream",
     "text": [
      "[[  0  72   3]\n",
      " [  1   3 -60]\n",
      " [ -3  -2   4]]\n"
     ]
    }
   ],
   "source": [
    "resfile = np.load('myarray3.npy')\n",
    "print(resfile)"
   ]
  },
  {
   "cell_type": "code",
   "execution_count": 33,
   "id": "bc82f34c",
   "metadata": {},
   "outputs": [
    {
     "name": "stdout",
     "output_type": "stream",
     "text": [
      "-60\n",
      "72\n",
      "array([ -3,  -2, -60])\n",
      "array([ 1, 72,  4])\n",
      "array([72,  3,  4])\n",
      "array([  0, -60,  -3])\n"
     ]
    }
   ],
   "source": [
    "print(resfile.min())\n",
    "print(resfile.max())\n",
    "\n",
    "print(repr(resfile.min(axis=0)))\n",
    "print(repr(resfile.max(axis=0)))\n",
    "\n",
    "print(repr(resfile.max(axis=-1)))\n",
    "print(repr(resfile.min(axis=-1)))\n"
   ]
  },
  {
   "cell_type": "markdown",
   "id": "c8be3eb6",
   "metadata": {},
   "source": [
    "# Matrices"
   ]
  },
  {
   "cell_type": "markdown",
   "id": "4922ff10",
   "metadata": {},
   "source": [
    "**Creating Matrices**"
   ]
  },
  {
   "cell_type": "code",
   "execution_count": 73,
   "id": "009ba64d",
   "metadata": {},
   "outputs": [
    {
     "data": {
      "text/plain": [
       "array([[0.57950009, 0.67372016],\n",
       "       [0.47120735, 0.37126141],\n",
       "       [0.55133344, 0.42473377]])"
      ]
     },
     "execution_count": 73,
     "metadata": {},
     "output_type": "execute_result"
    }
   ],
   "source": [
    "np.ones((3,2))\n",
    "np.zeros((3,2))\n",
    "np.random.random((3,2))"
   ]
  },
  {
   "cell_type": "code",
   "execution_count": 74,
   "id": "4a171eff",
   "metadata": {},
   "outputs": [
    {
     "name": "stdout",
     "output_type": "stream",
     "text": [
      "[[1. 1.]\n",
      " [1. 1.]\n",
      " [1. 1.]]\n",
      "[[0. 0.]\n",
      " [0. 0.]\n",
      " [0. 0.]]\n",
      "[[0.51136678 0.60831278]\n",
      " [0.29045633 0.31968898]\n",
      " [0.65017905 0.17718432]]\n"
     ]
    }
   ],
   "source": [
    "print(np.ones((3,2)))\n",
    "print(np.zeros((3,2)))\n",
    "print(np.random.random((3,2)))"
   ]
  },
  {
   "cell_type": "markdown",
   "id": "662edecf",
   "metadata": {},
   "source": [
    "# Matrix Arithmetic"
   ]
  },
  {
   "cell_type": "markdown",
   "id": "25085c74",
   "metadata": {},
   "source": [
    "dapat menjumlahkan dan mengalikan matriks menggunakan operator aritmatika jika kedua matriks berukuran sama"
   ]
  },
  {
   "cell_type": "code",
   "execution_count": 141,
   "id": "4ec09472",
   "metadata": {},
   "outputs": [
    {
     "name": "stdout",
     "output_type": "stream",
     "text": [
      "[[1 2]\n",
      " [3 4]]\n"
     ]
    }
   ],
   "source": [
    "data = np.array([[1, 2], [3, 4]])\n",
    "print(data)"
   ]
  },
  {
   "cell_type": "code",
   "execution_count": 142,
   "id": "fc098899",
   "metadata": {},
   "outputs": [
    {
     "name": "stdout",
     "output_type": "stream",
     "text": [
      "[[1. 1.]\n",
      " [1. 1.]]\n"
     ]
    }
   ],
   "source": [
    "ones = np.ones([2, 2])\n",
    "print(ones)"
   ]
  },
  {
   "cell_type": "code",
   "execution_count": 143,
   "id": "5f087fb4",
   "metadata": {},
   "outputs": [
    {
     "name": "stdout",
     "output_type": "stream",
     "text": [
      "[[2. 3.]\n",
      " [4. 5.]]\n"
     ]
    }
   ],
   "source": [
    "print(data + ones)"
   ]
  },
  {
   "cell_type": "code",
   "execution_count": 144,
   "id": "28c969e0",
   "metadata": {},
   "outputs": [
    {
     "name": "stdout",
     "output_type": "stream",
     "text": [
      "[[1. 1.]]\n"
     ]
    }
   ],
   "source": [
    "ones_row = np.ones([1, 2])\n",
    "print(ones_row)"
   ]
  },
  {
   "cell_type": "code",
   "execution_count": 145,
   "id": "ec6c58fe",
   "metadata": {},
   "outputs": [
    {
     "name": "stdout",
     "output_type": "stream",
     "text": [
      "[[2. 3.]\n",
      " [4. 5.]]\n"
     ]
    }
   ],
   "source": [
    "print(data + ones_row)"
   ]
  },
  {
   "cell_type": "markdown",
   "id": "e83022a3",
   "metadata": {},
   "source": [
    "# Dot Product"
   ]
  },
  {
   "cell_type": "markdown",
   "id": "c787dbe9",
   "metadata": {},
   "source": [
    "Perbedaan utama yang harus dibuat dengan aritmatika adalah kasus perkalian matriks menggunakan produk titik. NumPy memberikan setiap matriks metode dot() yang dapat kita gunakan untuk melakukan operasi produk dot dengan matriks lain"
   ]
  },
  {
   "cell_type": "code",
   "execution_count": 46,
   "id": "ff4459f4",
   "metadata": {},
   "outputs": [
    {
     "data": {
      "text/plain": [
       "12"
      ]
     },
     "execution_count": 46,
     "metadata": {},
     "output_type": "execute_result"
    }
   ],
   "source": [
    "np.dot(3, 4)"
   ]
  },
  {
   "cell_type": "code",
   "execution_count": 47,
   "id": "6ab50917",
   "metadata": {},
   "outputs": [
    {
     "name": "stdout",
     "output_type": "stream",
     "text": [
      "[[[[  0   1   2   3   4   5]\n",
      "   [  6   7   8   9  10  11]\n",
      "   [ 12  13  14  15  16  17]\n",
      "   [ 18  19  20  21  22  23]\n",
      "   [ 24  25  26  27  28  29]]\n",
      "\n",
      "  [[ 30  31  32  33  34  35]\n",
      "   [ 36  37  38  39  40  41]\n",
      "   [ 42  43  44  45  46  47]\n",
      "   [ 48  49  50  51  52  53]\n",
      "   [ 54  55  56  57  58  59]]\n",
      "\n",
      "  [[ 60  61  62  63  64  65]\n",
      "   [ 66  67  68  69  70  71]\n",
      "   [ 72  73  74  75  76  77]\n",
      "   [ 78  79  80  81  82  83]\n",
      "   [ 84  85  86  87  88  89]]\n",
      "\n",
      "  [[ 90  91  92  93  94  95]\n",
      "   [ 96  97  98  99 100 101]\n",
      "   [102 103 104 105 106 107]\n",
      "   [108 109 110 111 112 113]\n",
      "   [114 115 116 117 118 119]]]\n",
      "\n",
      "\n",
      " [[[120 121 122 123 124 125]\n",
      "   [126 127 128 129 130 131]\n",
      "   [132 133 134 135 136 137]\n",
      "   [138 139 140 141 142 143]\n",
      "   [144 145 146 147 148 149]]\n",
      "\n",
      "  [[150 151 152 153 154 155]\n",
      "   [156 157 158 159 160 161]\n",
      "   [162 163 164 165 166 167]\n",
      "   [168 169 170 171 172 173]\n",
      "   [174 175 176 177 178 179]]\n",
      "\n",
      "  [[180 181 182 183 184 185]\n",
      "   [186 187 188 189 190 191]\n",
      "   [192 193 194 195 196 197]\n",
      "   [198 199 200 201 202 203]\n",
      "   [204 205 206 207 208 209]]\n",
      "\n",
      "  [[210 211 212 213 214 215]\n",
      "   [216 217 218 219 220 221]\n",
      "   [222 223 224 225 226 227]\n",
      "   [228 229 230 231 232 233]\n",
      "   [234 235 236 237 238 239]]]\n",
      "\n",
      "\n",
      " [[[240 241 242 243 244 245]\n",
      "   [246 247 248 249 250 251]\n",
      "   [252 253 254 255 256 257]\n",
      "   [258 259 260 261 262 263]\n",
      "   [264 265 266 267 268 269]]\n",
      "\n",
      "  [[270 271 272 273 274 275]\n",
      "   [276 277 278 279 280 281]\n",
      "   [282 283 284 285 286 287]\n",
      "   [288 289 290 291 292 293]\n",
      "   [294 295 296 297 298 299]]\n",
      "\n",
      "  [[300 301 302 303 304 305]\n",
      "   [306 307 308 309 310 311]\n",
      "   [312 313 314 315 316 317]\n",
      "   [318 319 320 321 322 323]\n",
      "   [324 325 326 327 328 329]]\n",
      "\n",
      "  [[330 331 332 333 334 335]\n",
      "   [336 337 338 339 340 341]\n",
      "   [342 343 344 345 346 347]\n",
      "   [348 349 350 351 352 353]\n",
      "   [354 355 356 357 358 359]]]]\n"
     ]
    }
   ],
   "source": [
    "a = np.arange(3*4*5*6).reshape((3,4,5,6)) \n",
    "print(a)"
   ]
  },
  {
   "cell_type": "code",
   "execution_count": 48,
   "id": "a9f7ac1f",
   "metadata": {},
   "outputs": [
    {
     "name": "stdout",
     "output_type": "stream",
     "text": [
      "[[[[359 358 357]\n",
      "   [356 355 354]\n",
      "   [353 352 351]\n",
      "   [350 349 348]\n",
      "   [347 346 345]\n",
      "   [344 343 342]]\n",
      "\n",
      "  [[341 340 339]\n",
      "   [338 337 336]\n",
      "   [335 334 333]\n",
      "   [332 331 330]\n",
      "   [329 328 327]\n",
      "   [326 325 324]]\n",
      "\n",
      "  [[323 322 321]\n",
      "   [320 319 318]\n",
      "   [317 316 315]\n",
      "   [314 313 312]\n",
      "   [311 310 309]\n",
      "   [308 307 306]]\n",
      "\n",
      "  [[305 304 303]\n",
      "   [302 301 300]\n",
      "   [299 298 297]\n",
      "   [296 295 294]\n",
      "   [293 292 291]\n",
      "   [290 289 288]]]\n",
      "\n",
      "\n",
      " [[[287 286 285]\n",
      "   [284 283 282]\n",
      "   [281 280 279]\n",
      "   [278 277 276]\n",
      "   [275 274 273]\n",
      "   [272 271 270]]\n",
      "\n",
      "  [[269 268 267]\n",
      "   [266 265 264]\n",
      "   [263 262 261]\n",
      "   [260 259 258]\n",
      "   [257 256 255]\n",
      "   [254 253 252]]\n",
      "\n",
      "  [[251 250 249]\n",
      "   [248 247 246]\n",
      "   [245 244 243]\n",
      "   [242 241 240]\n",
      "   [239 238 237]\n",
      "   [236 235 234]]\n",
      "\n",
      "  [[233 232 231]\n",
      "   [230 229 228]\n",
      "   [227 226 225]\n",
      "   [224 223 222]\n",
      "   [221 220 219]\n",
      "   [218 217 216]]]\n",
      "\n",
      "\n",
      " [[[215 214 213]\n",
      "   [212 211 210]\n",
      "   [209 208 207]\n",
      "   [206 205 204]\n",
      "   [203 202 201]\n",
      "   [200 199 198]]\n",
      "\n",
      "  [[197 196 195]\n",
      "   [194 193 192]\n",
      "   [191 190 189]\n",
      "   [188 187 186]\n",
      "   [185 184 183]\n",
      "   [182 181 180]]\n",
      "\n",
      "  [[179 178 177]\n",
      "   [176 175 174]\n",
      "   [173 172 171]\n",
      "   [170 169 168]\n",
      "   [167 166 165]\n",
      "   [164 163 162]]\n",
      "\n",
      "  [[161 160 159]\n",
      "   [158 157 156]\n",
      "   [155 154 153]\n",
      "   [152 151 150]\n",
      "   [149 148 147]\n",
      "   [146 145 144]]]\n",
      "\n",
      "\n",
      " [[[143 142 141]\n",
      "   [140 139 138]\n",
      "   [137 136 135]\n",
      "   [134 133 132]\n",
      "   [131 130 129]\n",
      "   [128 127 126]]\n",
      "\n",
      "  [[125 124 123]\n",
      "   [122 121 120]\n",
      "   [119 118 117]\n",
      "   [116 115 114]\n",
      "   [113 112 111]\n",
      "   [110 109 108]]\n",
      "\n",
      "  [[107 106 105]\n",
      "   [104 103 102]\n",
      "   [101 100  99]\n",
      "   [ 98  97  96]\n",
      "   [ 95  94  93]\n",
      "   [ 92  91  90]]\n",
      "\n",
      "  [[ 89  88  87]\n",
      "   [ 86  85  84]\n",
      "   [ 83  82  81]\n",
      "   [ 80  79  78]\n",
      "   [ 77  76  75]\n",
      "   [ 74  73  72]]]\n",
      "\n",
      "\n",
      " [[[ 71  70  69]\n",
      "   [ 68  67  66]\n",
      "   [ 65  64  63]\n",
      "   [ 62  61  60]\n",
      "   [ 59  58  57]\n",
      "   [ 56  55  54]]\n",
      "\n",
      "  [[ 53  52  51]\n",
      "   [ 50  49  48]\n",
      "   [ 47  46  45]\n",
      "   [ 44  43  42]\n",
      "   [ 41  40  39]\n",
      "   [ 38  37  36]]\n",
      "\n",
      "  [[ 35  34  33]\n",
      "   [ 32  31  30]\n",
      "   [ 29  28  27]\n",
      "   [ 26  25  24]\n",
      "   [ 23  22  21]\n",
      "   [ 20  19  18]]\n",
      "\n",
      "  [[ 17  16  15]\n",
      "   [ 14  13  12]\n",
      "   [ 11  10   9]\n",
      "   [  8   7   6]\n",
      "   [  5   4   3]\n",
      "   [  2   1   0]]]]\n"
     ]
    }
   ],
   "source": [
    "b = np.arange(3*4*5*6)[::-1].reshape((5,4,6,3))\n",
    "print(b)"
   ]
  },
  {
   "cell_type": "code",
   "execution_count": 49,
   "id": "d272e2db",
   "metadata": {},
   "outputs": [
    {
     "data": {
      "text/plain": [
       "499128"
      ]
     },
     "execution_count": 49,
     "metadata": {},
     "output_type": "execute_result"
    }
   ],
   "source": [
    "np.dot(a, b)[2,3,2,1,2,2]"
   ]
  },
  {
   "cell_type": "code",
   "execution_count": 50,
   "id": "dd2ae385",
   "metadata": {},
   "outputs": [
    {
     "data": {
      "text/plain": [
       "499128"
      ]
     },
     "execution_count": 50,
     "metadata": {},
     "output_type": "execute_result"
    }
   ],
   "source": [
    "sum(a[2,3,2,:] * b[1,2,:,2])"
   ]
  },
  {
   "cell_type": "code",
   "execution_count": 138,
   "id": "23872e85",
   "metadata": {},
   "outputs": [
    {
     "name": "stdout",
     "output_type": "stream",
     "text": [
      "[[1 2 3]\n",
      " [4 5 6]]\n",
      "(2, 3)\n"
     ]
    }
   ],
   "source": [
    "a_1 = np.array([[1, 2, 3], [4, 5, 6]])\n",
    "print(a_1)\n",
    "print(a_1.shape)"
   ]
  },
  {
   "cell_type": "code",
   "execution_count": 139,
   "id": "f44713b4",
   "metadata": {},
   "outputs": [
    {
     "name": "stdout",
     "output_type": "stream",
     "text": [
      "[[ 7  8]\n",
      " [ 9 10]\n",
      " [11 12]]\n",
      "(3, 2)\n"
     ]
    }
   ],
   "source": [
    "a_2 = np.array([[7, 8], [9, 10], [11, 12]])\n",
    "print(a_2)\n",
    "print(a_2.shape)"
   ]
  },
  {
   "cell_type": "code",
   "execution_count": 140,
   "id": "01f18fc1",
   "metadata": {
    "scrolled": false
   },
   "outputs": [
    {
     "data": {
      "text/plain": [
       "array([[ 58,  64],\n",
       "       [139, 154]])"
      ]
     },
     "execution_count": 140,
     "metadata": {},
     "output_type": "execute_result"
    }
   ],
   "source": [
    "np.dot(a_1, a_2)"
   ]
  },
  {
   "cell_type": "markdown",
   "id": "8f560122",
   "metadata": {},
   "source": [
    "### Matrix Indexing\n",
    "Operasi pengindeksan dan pemotongan menjadi lebih berguna saat kita memanipulasi matriks\n",
    "    \n",
    "    \n",
    "   ```np.array([[1, 2], [3, 4], [5, 6]])```\n",
    "\n",
    "    \n",
    "<img src=\"https://i.ibb.co/4sS8HGD/Screen-Shot-2021-09-02-at-8-26-34-AM.png\" align=\"left\"> "
   ]
  },
  {
   "cell_type": "code",
   "execution_count": 51,
   "id": "c3d94d61",
   "metadata": {
    "scrolled": true
   },
   "outputs": [
    {
     "name": "stdout",
     "output_type": "stream",
     "text": [
      "[[1 2]\n",
      " [3 4]\n",
      " [5 6]]\n"
     ]
    }
   ],
   "source": [
    "data = np.array([[1, 2], [3, 4], [5, 6]])\n",
    "\n",
    "print(data)"
   ]
  },
  {
   "cell_type": "code",
   "execution_count": 52,
   "id": "446ff6e6",
   "metadata": {},
   "outputs": [
    {
     "name": "stdout",
     "output_type": "stream",
     "text": [
      "2\n"
     ]
    }
   ],
   "source": [
    "print(data[0,1])"
   ]
  },
  {
   "cell_type": "code",
   "execution_count": 53,
   "id": "eec9f5ed",
   "metadata": {
    "scrolled": true
   },
   "outputs": [
    {
     "name": "stdout",
     "output_type": "stream",
     "text": [
      "[[3 4]\n",
      " [5 6]]\n"
     ]
    }
   ],
   "source": [
    "print(data[1:3])"
   ]
  },
  {
   "cell_type": "code",
   "execution_count": 54,
   "id": "427d92bc",
   "metadata": {},
   "outputs": [
    {
     "name": "stdout",
     "output_type": "stream",
     "text": [
      "[1 3]\n"
     ]
    }
   ],
   "source": [
    "print(data[0:2,0])"
   ]
  },
  {
   "cell_type": "code",
   "execution_count": 55,
   "id": "f6615ad7",
   "metadata": {},
   "outputs": [
    {
     "name": "stdout",
     "output_type": "stream",
     "text": [
      "[[1 2]\n",
      " [3 4]\n",
      " [5 6]]\n"
     ]
    }
   ],
   "source": [
    "print((data[:]))"
   ]
  },
  {
   "cell_type": "code",
   "execution_count": 56,
   "id": "b9eb0664",
   "metadata": {},
   "outputs": [
    {
     "name": "stdout",
     "output_type": "stream",
     "text": [
      "[2 4 6]\n"
     ]
    },
    {
     "data": {
      "text/plain": [
       "1"
      ]
     },
     "execution_count": 56,
     "metadata": {},
     "output_type": "execute_result"
    }
   ],
   "source": [
    "print(data[:, -1]) # -1 kanan\n",
    "xdata = data[:, -1]\n",
    "xdata.ndim  # 1 dimensi\n",
    "##xdata.shape"
   ]
  },
  {
   "cell_type": "code",
   "execution_count": 57,
   "id": "87cc7136",
   "metadata": {},
   "outputs": [
    {
     "name": "stdout",
     "output_type": "stream",
     "text": [
      "[[2]\n",
      " [4]\n",
      " [6]]\n"
     ]
    },
    {
     "data": {
      "text/plain": [
       "2"
      ]
     },
     "execution_count": 57,
     "metadata": {},
     "output_type": "execute_result"
    }
   ],
   "source": [
    "print(data[:, 1:]) # -1 kanan\n",
    "xdata = data[:, 1:]\n",
    "xdata.ndim  # 2 dimensi\n",
    "#xdata.shape"
   ]
  },
  {
   "cell_type": "code",
   "execution_count": 58,
   "id": "8c840e38",
   "metadata": {},
   "outputs": [
    {
     "name": "stdout",
     "output_type": "stream",
     "text": [
      "[[1 2]\n",
      " [3 4]\n",
      " [5 6]]\n"
     ]
    }
   ],
   "source": [
    "print(data[:, :]) "
   ]
  },
  {
   "cell_type": "code",
   "execution_count": 59,
   "id": "66f46287",
   "metadata": {},
   "outputs": [
    {
     "name": "stdout",
     "output_type": "stream",
     "text": [
      "[[1]\n",
      " [3]\n",
      " [5]]\n"
     ]
    }
   ],
   "source": [
    "print(data[:, 0:1]) "
   ]
  },
  {
   "cell_type": "code",
   "execution_count": 60,
   "id": "6733462e",
   "metadata": {},
   "outputs": [
    {
     "name": "stdout",
     "output_type": "stream",
     "text": [
      "[[2]\n",
      " [4]\n",
      " [6]]\n"
     ]
    }
   ],
   "source": [
    "print(data[:, 1:2]) "
   ]
  },
  {
   "cell_type": "code",
   "execution_count": 61,
   "id": "8b6b2318",
   "metadata": {},
   "outputs": [
    {
     "name": "stdout",
     "output_type": "stream",
     "text": [
      "[[2]\n",
      " [4]\n",
      " [6]]\n"
     ]
    }
   ],
   "source": [
    "print(data[:, 1:]) "
   ]
  },
  {
   "cell_type": "code",
   "execution_count": 62,
   "id": "9d0c70af",
   "metadata": {},
   "outputs": [
    {
     "name": "stdout",
     "output_type": "stream",
     "text": [
      "[[1 2]\n",
      " [3 4]]\n"
     ]
    }
   ],
   "source": [
    "print((data[0:2,:]))"
   ]
  },
  {
   "cell_type": "markdown",
   "id": "d00867d3",
   "metadata": {},
   "source": [
    "# Latihan Studi Kasus"
   ]
  },
  {
   "cell_type": "markdown",
   "id": "a17d0f40",
   "metadata": {},
   "source": [
    "10 buah botol minum akan dibuat untuk menyimpan air dengan jari2 dan tinggi yang berbeda - beda . \n",
    "Besaran jari2 dan tinggi botol adalah bilang bulat kisaran 7 sampai dengan 20 cm . \n",
    "\n",
    "Temukan : \n",
    "\n",
    "1. Volume air yang dapat disimpan di setiap botol \n",
    "2. Total volume air yang tersimpan dalam semua botol \n",
    "3. Botol mana yang volume air terkecil dan temukan volumenya \n",
    "4. Botol mana yang menampung volume air terbesar dan temukan volume airnya . \n",
    "5. Rata-rata volume yang dapat di tampung di tiap botol "
   ]
  },
  {
   "cell_type": "markdown",
   "id": "bb59c041",
   "metadata": {},
   "source": [
    "Solusi : \n",
    "1. Lakukan generate tinggi botol dan jari2 \n",
    "2. Punya batasan 7 sampai 20 , kemudian sebanyak 10 \n",
    "   Dengan kata lain harus mengenerate sebanyak 20 \n",
    "3. Membentuk botol sebanyak 10 buah (tinggi dan jari2) \n",
    "4. Setelah terbentuk botol mencari volume air masing botol \n",
    "   Volume air = (Pi x r^2 x t ) untuk numpy pi = np.pi \n",
    "5. Mencari Total volume air dalam semua botol sum \n",
    "6. Mencari botol yang terkcil dan temukan volume nya \n",
    "7. Mencari botol yang terbesar dan temukan volume nya \n",
    "8. Mencari rata2 dengan mean "
   ]
  },
  {
   "cell_type": "code",
   "execution_count": 112,
   "id": "356bc077",
   "metadata": {},
   "outputs": [],
   "source": [
    "import numpy as np"
   ]
  },
  {
   "cell_type": "code",
   "execution_count": 37,
   "id": "d4bfa70b",
   "metadata": {},
   "outputs": [
    {
     "name": "stdout",
     "output_type": "stream",
     "text": [
      "[19 12  7 10 18 10 14 16 10 12  9 11 14 13 15 15 19 17  8 13]\n"
     ]
    }
   ],
   "source": [
    "np.random.seed(0)\n",
    "dataBotol = np.random.randint(7,20,20)\n",
    "print(dataBotol)"
   ]
  },
  {
   "cell_type": "code",
   "execution_count": 38,
   "id": "8cc744b0",
   "metadata": {},
   "outputs": [
    {
     "data": {
      "text/plain": [
       "array([[19, 12],\n",
       "       [ 7, 10],\n",
       "       [18, 10],\n",
       "       [14, 16],\n",
       "       [10, 12],\n",
       "       [ 9, 11],\n",
       "       [14, 13],\n",
       "       [15, 15],\n",
       "       [19, 17],\n",
       "       [ 8, 13]])"
      ]
     },
     "execution_count": 38,
     "metadata": {},
     "output_type": "execute_result"
    }
   ],
   "source": [
    "dataBotol.resize(10,2)\n",
    "dataBotol"
   ]
  },
  {
   "cell_type": "code",
   "execution_count": 39,
   "id": "bbb725f1",
   "metadata": {},
   "outputs": [
    {
     "data": {
      "text/plain": [
       "array([ 8595.39750022,  2199.11485751,  5654.86677646, 11259.46807047,\n",
       "        4523.89342117,  3421.19439976,  7433.00821839, 10602.87520587,\n",
       "       17250.48526086,  4247.43326765])"
      ]
     },
     "execution_count": 39,
     "metadata": {},
     "output_type": "execute_result"
    }
   ],
   "source": [
    "#tinggi kolom = 0\n",
    "#jari kolom = 1\n",
    "v = np.pi * (dataBotol[:,1] ** 2) * dataBotol[:,0]\n",
    "v"
   ]
  },
  {
   "cell_type": "code",
   "execution_count": 40,
   "id": "95ad9146",
   "metadata": {},
   "outputs": [
    {
     "name": "stdout",
     "output_type": "stream",
     "text": [
      "Total volume  : 75187.73697836453 \n"
     ]
    }
   ],
   "source": [
    "totalVolume = v.sum()\n",
    "print(f\"Total volume  : {totalVolume} \")"
   ]
  },
  {
   "cell_type": "code",
   "execution_count": 42,
   "id": "71647315",
   "metadata": {},
   "outputs": [
    {
     "data": {
      "text/plain": [
       "2199.1148575128555"
      ]
     },
     "execution_count": 42,
     "metadata": {},
     "output_type": "execute_result"
    }
   ],
   "source": [
    "v.argmin()\n",
    "v[v.argmin()]"
   ]
  },
  {
   "cell_type": "code",
   "execution_count": 43,
   "id": "a30ba2f2",
   "metadata": {},
   "outputs": [
    {
     "data": {
      "text/plain": [
       "17250.485260861555"
      ]
     },
     "execution_count": 43,
     "metadata": {},
     "output_type": "execute_result"
    }
   ],
   "source": [
    "v.argmax()\n",
    "v[v.argmax()]"
   ]
  },
  {
   "cell_type": "code",
   "execution_count": 45,
   "id": "4f437ae1",
   "metadata": {},
   "outputs": [
    {
     "name": "stdout",
     "output_type": "stream",
     "text": [
      "Botol Terkecil Pada Botol index : 1 volume 2199.1148575128555\n",
      "Botol Terkecil Pada Botol index : 8 volume 17250.485260861555\n"
     ]
    }
   ],
   "source": [
    "idxBotolKecil = v.argmin()\n",
    "volumeBotolKecil = v[idxBotolKecil]\n",
    "print(f\"Botol Terkecil Pada Botol index : {idxBotolKecil} volume {volumeBotolKecil}\")\n",
    "idxBotolBesar = v.argmax()\n",
    "volumeBotolBesar = v[idxBotolBesar]\n",
    "print(f\"Botol Terkecil Pada Botol index : {idxBotolBesar} volume {volumeBotolBesar}\")"
   ]
  },
  {
   "cell_type": "markdown",
   "id": "70575fb6",
   "metadata": {},
   "source": [
    "# Latihan Index"
   ]
  },
  {
   "cell_type": "code",
   "execution_count": 63,
   "id": "c02d19a7",
   "metadata": {},
   "outputs": [],
   "source": [
    "import numpy as np"
   ]
  },
  {
   "cell_type": "code",
   "execution_count": 64,
   "id": "82e3b1be",
   "metadata": {},
   "outputs": [
    {
     "name": "stdout",
     "output_type": "stream",
     "text": [
      "[[1 2 3]\n",
      " [4 5 6]\n",
      " [7 8 9]]\n"
     ]
    }
   ],
   "source": [
    "arr = np.array([[1, 2, 3],\n",
    "                [4, 5, 6],\n",
    "                [7, 8, 9]])\n",
    "print((arr[:]))"
   ]
  },
  {
   "cell_type": "code",
   "execution_count": 65,
   "id": "ee82113f",
   "metadata": {},
   "outputs": [
    {
     "name": "stdout",
     "output_type": "stream",
     "text": [
      "[[4 5 6]\n",
      " [7 8 9]]\n"
     ]
    }
   ],
   "source": [
    "print((arr[1:]))"
   ]
  },
  {
   "cell_type": "code",
   "execution_count": 66,
   "id": "f80e0b5d",
   "metadata": {},
   "outputs": [
    {
     "name": "stdout",
     "output_type": "stream",
     "text": [
      "array([3, 6, 9])\n"
     ]
    }
   ],
   "source": [
    "print(repr(arr[:, -1]))"
   ]
  },
  {
   "cell_type": "code",
   "execution_count": 67,
   "id": "c347eb49",
   "metadata": {},
   "outputs": [
    {
     "name": "stdout",
     "output_type": "stream",
     "text": [
      "array([[2, 3],\n",
      "       [5, 6],\n",
      "       [8, 9]])\n"
     ]
    }
   ],
   "source": [
    "print(repr(arr[:, 1:]))"
   ]
  },
  {
   "cell_type": "code",
   "execution_count": 68,
   "id": "6f91b304",
   "metadata": {},
   "outputs": [
    {
     "name": "stdout",
     "output_type": "stream",
     "text": [
      "array([[1, 2, 3]])\n"
     ]
    }
   ],
   "source": [
    "print(repr(arr[0:1,:]))"
   ]
  },
  {
   "cell_type": "code",
   "execution_count": 69,
   "id": "6f167d7d",
   "metadata": {},
   "outputs": [
    {
     "name": "stdout",
     "output_type": "stream",
     "text": [
      "array([[1, 2, 3]])\n"
     ]
    }
   ],
   "source": [
    "print(repr(arr[0:1,:]))"
   ]
  },
  {
   "cell_type": "code",
   "execution_count": 70,
   "id": "3ee3c673",
   "metadata": {},
   "outputs": [
    {
     "name": "stdout",
     "output_type": "stream",
     "text": [
      "array([[1, 2, 3],\n",
      "       [4, 5, 6]])\n"
     ]
    }
   ],
   "source": [
    "print(repr(arr[0:2,:]))"
   ]
  },
  {
   "cell_type": "code",
   "execution_count": 71,
   "id": "dfe3ae4f",
   "metadata": {},
   "outputs": [
    {
     "name": "stdout",
     "output_type": "stream",
     "text": [
      "array([[2, 3],\n",
      "       [5, 6]])\n"
     ]
    }
   ],
   "source": [
    "print(repr(arr[0:2, 1:]))"
   ]
  },
  {
   "cell_type": "code",
   "execution_count": 72,
   "id": "649005d6",
   "metadata": {},
   "outputs": [
    {
     "name": "stdout",
     "output_type": "stream",
     "text": [
      "array([2, 3])\n"
     ]
    }
   ],
   "source": [
    "print(repr(arr[0, 1:]))"
   ]
  },
  {
   "cell_type": "markdown",
   "id": "085d02a0",
   "metadata": {},
   "source": [
    "### Matrix Aggregation\n",
    "Kita dapat menjumlahkan matriks dengan cara yang sama seperti kita menjumlahkan vector"
   ]
  },
  {
   "cell_type": "code",
   "execution_count": 73,
   "id": "42925ae1",
   "metadata": {},
   "outputs": [
    {
     "name": "stdout",
     "output_type": "stream",
     "text": [
      "[[1 2]\n",
      " [3 4]\n",
      " [5 6]]\n"
     ]
    }
   ],
   "source": [
    "data = np.array([[1, 2], [3, 4], [5, 6]])\n",
    "\n",
    "print(data)"
   ]
  },
  {
   "cell_type": "code",
   "execution_count": 74,
   "id": "10b28fa1",
   "metadata": {},
   "outputs": [
    {
     "name": "stdout",
     "output_type": "stream",
     "text": [
      "6\n",
      "1\n",
      "21\n"
     ]
    }
   ],
   "source": [
    "print(data.max())\n",
    "print(data.min())\n",
    "print(data.sum())"
   ]
  },
  {
   "cell_type": "code",
   "execution_count": 75,
   "id": "67aa171b",
   "metadata": {},
   "outputs": [
    {
     "name": "stdout",
     "output_type": "stream",
     "text": [
      "[5 6]\n",
      "[2 4 6]\n"
     ]
    }
   ],
   "source": [
    "print(data.max(axis=0))\n",
    "print(data.max(axis=1))"
   ]
  },
  {
   "cell_type": "markdown",
   "id": "89d8c070",
   "metadata": {},
   "source": [
    "### Transposing and Reshaping\n",
    "mentraspose suatu array adalah proses mengubah posisi **element2 vektor baris menjadi vektor kolom demikian pula sebaliknya.* \n",
    "\n",
    "Menggunakan numpy , melakukan traspose suatu array dapat dilakukan : \n",
    " dengan cara memangil function **transpose()** atau memanggil properti **T** dari suatu array  "
   ]
  },
  {
   "cell_type": "code",
   "execution_count": 76,
   "id": "7ed7d2df",
   "metadata": {},
   "outputs": [
    {
     "name": "stdout",
     "output_type": "stream",
     "text": [
      "[[1 2]\n",
      " [3 4]\n",
      " [5 6]]\n"
     ]
    }
   ],
   "source": [
    "data = np.array([[1, 2], [3, 4], [5, 6]])\n",
    "print(data)"
   ]
  },
  {
   "cell_type": "code",
   "execution_count": 77,
   "id": "fa0fed54",
   "metadata": {},
   "outputs": [
    {
     "name": "stdout",
     "output_type": "stream",
     "text": [
      "[[1 3 5]\n",
      " [2 4 6]]\n"
     ]
    }
   ],
   "source": [
    "print(data.transpose())"
   ]
  },
  {
   "cell_type": "code",
   "execution_count": 78,
   "id": "da318fb8",
   "metadata": {},
   "outputs": [
    {
     "name": "stdout",
     "output_type": "stream",
     "text": [
      "[[1 3 5]\n",
      " [2 4 6]]\n"
     ]
    }
   ],
   "source": [
    "print(data.T)"
   ]
  },
  {
   "cell_type": "code",
   "execution_count": 79,
   "id": "38a9a9be",
   "metadata": {},
   "outputs": [
    {
     "name": "stdout",
     "output_type": "stream",
     "text": [
      "[[1 2]\n",
      " [3 4]\n",
      " [5 6]]\n",
      "[[1 3 5]\n",
      " [2 4 6]]\n"
     ]
    }
   ],
   "source": [
    "data = np.array([[1, 2], [3, 4], [5, 6]])\n",
    "print(data)\n",
    "data = data.transpose()\n",
    "print(data)"
   ]
  },
  {
   "cell_type": "markdown",
   "id": "acaaed89",
   "metadata": {},
   "source": [
    "Dalam kasus penggunaan yang lebih lanjut, Anda mungkin perlu mengganti dimensi matriks tertentu. \n",
    "    Ini sering terjadi dalam aplikasi pembelajaran mesin di mana model tertentu mengharapkan bentuk tertentu untuk input yang berbeda dari kumpulan data Anda.\n",
    "\n",
    "Metode reshape() NumPy berguna dalam kasus ini. \n",
    "Anda hanya memberikan dimensi baru yang Anda inginkan untuk matriks. \n",
    "Anda dapat meneruskan -1 untuk suatu dimensi dan NumPy dapat menyimpulkan dimensi yang benar berdasarkan matriks Anda"
   ]
  },
  {
   "cell_type": "code",
   "execution_count": 81,
   "id": "f75da903",
   "metadata": {},
   "outputs": [
    {
     "name": "stdout",
     "output_type": "stream",
     "text": [
      "[[1]\n",
      " [2]\n",
      " [3]\n",
      " [4]\n",
      " [5]\n",
      " [6]]\n"
     ]
    }
   ],
   "source": [
    "data_col = np.array([[1, 2, 3, 4, 5, 6]]).T\n",
    "print(data_col)"
   ]
  },
  {
   "cell_type": "code",
   "execution_count": 82,
   "id": "991b97b1",
   "metadata": {},
   "outputs": [
    {
     "data": {
      "text/plain": [
       "array([[1, 2, 3],\n",
       "       [4, 5, 6]])"
      ]
     },
     "execution_count": 82,
     "metadata": {},
     "output_type": "execute_result"
    }
   ],
   "source": [
    "data_col.reshape(2, 3)"
   ]
  },
  {
   "cell_type": "code",
   "execution_count": 83,
   "id": "7cea902a",
   "metadata": {},
   "outputs": [
    {
     "data": {
      "text/plain": [
       "array([[1, 2],\n",
       "       [3, 4],\n",
       "       [5, 6]])"
      ]
     },
     "execution_count": 83,
     "metadata": {},
     "output_type": "execute_result"
    }
   ],
   "source": [
    "data_col.reshape(3, 2)"
   ]
  },
  {
   "cell_type": "markdown",
   "id": "26229c30",
   "metadata": {},
   "source": [
    "Anda juga dapat menggunakan np.transpose untuk membalikkan atau mengubah sumbu array sesuai dengan nilai yang Anda tentukan. Jika Anda mulai dengan array ini"
   ]
  },
  {
   "cell_type": "code",
   "execution_count": 84,
   "id": "8793c926",
   "metadata": {},
   "outputs": [
    {
     "name": "stdout",
     "output_type": "stream",
     "text": [
      "[[0 1 2]\n",
      " [3 4 5]]\n"
     ]
    }
   ],
   "source": [
    "arr = np.arange(6).reshape((2, 3))\n",
    "print(arr)"
   ]
  },
  {
   "cell_type": "markdown",
   "id": "ae29c077",
   "metadata": {},
   "source": [
    "## Flatten N-Dimensional Array\n",
    "Ada dua cara populer untuk meratakan array: .flatten() dan .ravel(). Perbedaan utama antara keduanya adalah bahwa array baru yang dibuat menggunakan ravel() sebenarnya adalah referensi ke array induk. Ini berarti bahwa setiap perubahan pada array baru akan mempengaruhi array induk juga. Karena ravel tidak membuat salinan, ini hemat memori."
   ]
  },
  {
   "cell_type": "code",
   "execution_count": 85,
   "id": "7cc41e28",
   "metadata": {},
   "outputs": [
    {
     "name": "stdout",
     "output_type": "stream",
     "text": [
      "[[ 1  2  3  4]\n",
      " [ 5  6  7  8]\n",
      " [ 9 10 11 12]]\n"
     ]
    }
   ],
   "source": [
    "arrflat = np.array([[1, 2, 3, 4], [5, 6, 7, 8], [9, 10, 11, 12]])\n",
    "\n",
    "print(arrflat)"
   ]
  },
  {
   "cell_type": "code",
   "execution_count": 86,
   "id": "c83646bb",
   "metadata": {},
   "outputs": [
    {
     "data": {
      "text/plain": [
       "array([ 1,  2,  3,  4,  5,  6,  7,  8,  9, 10, 11, 12])"
      ]
     },
     "execution_count": 86,
     "metadata": {},
     "output_type": "execute_result"
    }
   ],
   "source": [
    "# You can use flatten to flatten your array into a 1D array.\n",
    "arrflat.flatten()"
   ]
  }
 ],
 "metadata": {
  "kernelspec": {
   "display_name": "Python 3",
   "language": "python",
   "name": "python3"
  },
  "language_info": {
   "codemirror_mode": {
    "name": "ipython",
    "version": 3
   },
   "file_extension": ".py",
   "mimetype": "text/x-python",
   "name": "python",
   "nbconvert_exporter": "python",
   "pygments_lexer": "ipython3",
   "version": "3.8.8"
  }
 },
 "nbformat": 4,
 "nbformat_minor": 5
}
