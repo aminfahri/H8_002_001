{
 "cells": [
  {
   "cell_type": "markdown",
   "id": "198e361c",
   "metadata": {},
   "source": [
    "# Function Basic Module and Package"
   ]
  },
  {
   "cell_type": "code",
   "execution_count": 1,
   "id": "928185e1",
   "metadata": {},
   "outputs": [],
   "source": [
    "# function luas\n",
    "# p = panjang\n",
    "# l = lebar\n",
    "# luas = p x l\n",
    "def func_luas(p,l):\n",
    "    \"function untuk menghitung luas\"\n",
    "    print(p*l)\n",
    "                #return None"
   ]
  },
  {
   "cell_type": "code",
   "execution_count": 2,
   "id": "15849954",
   "metadata": {},
   "outputs": [
    {
     "name": "stdout",
     "output_type": "stream",
     "text": [
      "40\n"
     ]
    }
   ],
   "source": [
    "func_luas(20,2)"
   ]
  },
  {
   "cell_type": "code",
   "execution_count": 3,
   "id": "4b26aa02",
   "metadata": {},
   "outputs": [
    {
     "name": "stdout",
     "output_type": "stream",
     "text": [
      "40\n",
      "None\n"
     ]
    }
   ],
   "source": [
    "print(func_luas(20,2))"
   ]
  },
  {
   "cell_type": "code",
   "execution_count": 4,
   "id": "70569b17",
   "metadata": {},
   "outputs": [
    {
     "name": "stdout",
     "output_type": "stream",
     "text": [
      "Luas : 120\n"
     ]
    }
   ],
   "source": [
    "def func_luas2(p,l):\n",
    "    \"function untuk menghitung luas\"\n",
    "    return p*l # return value\n",
    "\n",
    "luas = func_luas2(30,4)\n",
    "print(\"Luas :\",luas)"
   ]
  },
  {
   "cell_type": "code",
   "execution_count": 5,
   "id": "59f24afc",
   "metadata": {},
   "outputs": [
    {
     "name": "stdout",
     "output_type": "stream",
     "text": [
      "120\n"
     ]
    }
   ],
   "source": [
    "print(func_luas2(30,4))"
   ]
  },
  {
   "cell_type": "code",
   "execution_count": 6,
   "id": "25791bb5",
   "metadata": {},
   "outputs": [],
   "source": [
    "def printme( str ):\n",
    "    \"This prints a passed string into this function\"\n",
    "    print(str)\n",
    "    return"
   ]
  },
  {
   "cell_type": "code",
   "execution_count": 7,
   "id": "a7dbf498",
   "metadata": {},
   "outputs": [
    {
     "name": "stdout",
     "output_type": "stream",
     "text": [
      "jessica\n",
      "None\n"
     ]
    }
   ],
   "source": [
    "hasil = printme(\"jessica\")\n",
    "print(hasil)"
   ]
  },
  {
   "cell_type": "markdown",
   "id": "d6ccd984",
   "metadata": {},
   "source": [
    "## Fuction pengecekan nilai ganjil atau genap"
   ]
  },
  {
   "cell_type": "code",
   "execution_count": 8,
   "id": "ab5b5e97",
   "metadata": {},
   "outputs": [
    {
     "name": "stdout",
     "output_type": "stream",
     "text": [
      "bilangan genap\n",
      "None\n"
     ]
    }
   ],
   "source": [
    "def cekbilangan(x):\n",
    "    if x % 2:\n",
    "        print(\"bilangan ganjil\")\n",
    "    else:\n",
    "        print(\"bilangan genap\")\n",
    "    return;\n",
    "\n",
    "print(cekbilangan(12))"
   ]
  },
  {
   "cell_type": "code",
   "execution_count": 9,
   "id": "e584bc29",
   "metadata": {},
   "outputs": [
    {
     "name": "stdout",
     "output_type": "stream",
     "text": [
      "bilangan ganjil\n",
      "None\n"
     ]
    }
   ],
   "source": [
    "print(cekbilangan(11))"
   ]
  },
  {
   "cell_type": "markdown",
   "id": "dd28da5d",
   "metadata": {},
   "source": [
    "# pass by reference vs value"
   ]
  },
  {
   "cell_type": "code",
   "execution_count": 10,
   "id": "81b78cf1",
   "metadata": {},
   "outputs": [
    {
     "name": "stdout",
     "output_type": "stream",
     "text": [
      "isi list [9, 8, 7]\n"
     ]
    }
   ],
   "source": [
    "listx = [9,8,7]\n",
    "print(f\"isi list {listx}\")"
   ]
  },
  {
   "cell_type": "code",
   "execution_count": 11,
   "id": "42b347a6",
   "metadata": {},
   "outputs": [
    {
     "name": "stdout",
     "output_type": "stream",
     "text": [
      "isi list terbaru setelah di append [9, 8, 7, [0, 1, 2]]\n",
      "isi list terbaru setelah di append [9, 8, 7, [0, 1, 2], 10]\n"
     ]
    }
   ],
   "source": [
    "listx.append([0,1,2]) \n",
    "print(f\"isi list terbaru setelah di append {listx}\")\n",
    "listx.append(10)\n",
    "print(f\"isi list terbaru setelah di append {listx}\")"
   ]
  },
  {
   "cell_type": "code",
   "execution_count": 12,
   "id": "acd98cb9",
   "metadata": {},
   "outputs": [],
   "source": [
    "#function definition\n",
    "def changeme(mylist):\n",
    "    \"This changes a passed list into this function\"\n",
    "    mylist = [1,2,3,4];\n",
    "    print(\"Value inside the function: \",mylist)\n",
    "    return"
   ]
  },
  {
   "cell_type": "code",
   "execution_count": 13,
   "id": "b5a52ec4",
   "metadata": {},
   "outputs": [
    {
     "name": "stdout",
     "output_type": "stream",
     "text": [
      "Value inside the function:  [1, 2, 3, 4]\n",
      "Values outside the function:  [10, 20, 30]\n"
     ]
    }
   ],
   "source": [
    "#call changeme function\n",
    "mylist = [10,20,30];\n",
    "changeme( mylist );\n",
    "print(\"Values outside the function: \",mylist)"
   ]
  },
  {
   "cell_type": "code",
   "execution_count": 14,
   "id": "07ae3901",
   "metadata": {
    "scrolled": true
   },
   "outputs": [
    {
     "name": "stdout",
     "output_type": "stream",
     "text": [
      "hitung saldo selesai  3990\n",
      "Nominal belanja : 1000\n",
      "Discount : - 10\n",
      "Saldo Sekarang : 5000\n"
     ]
    }
   ],
   "source": [
    "def hitung(amt, disc, saldo):\n",
    "    \"hitung sisa saldo\"\n",
    "    saldo -= amt + disc\n",
    "    print(\"hitung saldo selesai \",saldo)\n",
    "    return\n",
    "\n",
    "amt = 1000\n",
    "disc = 10\n",
    "saldo = 5000\n",
    "hitung(amt, disc, saldo)\n",
    "\n",
    "print(f'Nominal belanja : {amt}')\n",
    "print(f'Discount : - {disc}')\n",
    "print(f\"Saldo Sekarang : {saldo}\")"
   ]
  },
  {
   "cell_type": "markdown",
   "id": "b2e7e7d1",
   "metadata": {},
   "source": [
    "## Fuction Arguments"
   ]
  },
  {
   "cell_type": "markdown",
   "id": "d613adc8",
   "metadata": {},
   "source": [
    "* Required arguments / position arguments \n",
    "* Keyword arguments\n",
    "* Default arguments\n",
    "* Variable-length arguments"
   ]
  },
  {
   "cell_type": "markdown",
   "id": "f44377c4",
   "metadata": {},
   "source": [
    "### Required Arguments"
   ]
  },
  {
   "cell_type": "markdown",
   "id": "1f07a889",
   "metadata": {},
   "source": [
    "Required arguments adalah argumen yang diteruskan ke suatu fungsi dalam urutan posisi yang benar. Di sini, \n",
    "jumlah argumen dalam pemanggilan fungsi harus sama persis dengan function definition."
   ]
  },
  {
   "cell_type": "code",
   "execution_count": 15,
   "id": "799cc44a",
   "metadata": {},
   "outputs": [
    {
     "name": "stdout",
     "output_type": "stream",
     "text": [
      "hello\n"
     ]
    }
   ],
   "source": [
    "# Function definition is here\n",
    "def printme( str ):\n",
    "   \"This prints a passed string into this function\"\n",
    "   print(str)\n",
    "   return;\n",
    "\n",
    "# Now you can call printme function\n",
    "printme(\"hello\") # rubah parameter "
   ]
  },
  {
   "cell_type": "code",
   "execution_count": 17,
   "id": "61c47308",
   "metadata": {
    "scrolled": true
   },
   "outputs": [
    {
     "name": "stdout",
     "output_type": "stream",
     "text": [
      "Jack is a developer\n",
      "developer is a Jack\n"
     ]
    }
   ],
   "source": [
    "def func(name, job):\n",
    "    print(name, 'is a', job)\n",
    "\n",
    "func('Jack', 'developer')\n",
    "#prints Jack is a developer\n",
    "\n",
    "func('developer', 'Jack')"
   ]
  },
  {
   "cell_type": "markdown",
   "id": "ceba69dc",
   "metadata": {},
   "source": [
    "### Keyword Argument"
   ]
  },
  {
   "cell_type": "markdown",
   "id": "6c911332",
   "metadata": {},
   "source": [
    "Dalam hal ini, urutan argumen tidak lagi penting karena argumen dicocokkan dengan nama, bukan dengan posisi."
   ]
  },
  {
   "cell_type": "code",
   "execution_count": 19,
   "id": "4d21d9f0",
   "metadata": {},
   "outputs": [
    {
     "name": "stdout",
     "output_type": "stream",
     "text": [
      "Hacktiv8\n"
     ]
    }
   ],
   "source": [
    "def printme( str ):\n",
    "    \"This prints a passed string into this function\"\n",
    "    print(str)\n",
    "    return;\n",
    "\n",
    "printme(str = \"Hacktiv8\")"
   ]
  },
  {
   "cell_type": "code",
   "execution_count": 20,
   "id": "dff8c3a6",
   "metadata": {},
   "outputs": [
    {
     "name": "stdout",
     "output_type": "stream",
     "text": [
      "Jack is a developer\n",
      "Jack is a developer\n"
     ]
    }
   ],
   "source": [
    "def func(name, job):\n",
    "    print(name, 'is a', job)\n",
    "\n",
    "func(name='Jack', job='developer')\n",
    "\n",
    "func(job='developer', name='Jack')"
   ]
  },
  {
   "cell_type": "code",
   "execution_count": 21,
   "id": "f506340a",
   "metadata": {},
   "outputs": [
    {
     "name": "stdout",
     "output_type": "stream",
     "text": [
      " Nama : Jessica\n",
      " Amt  : 10\n",
      " Disc : 90.5\n"
     ]
    }
   ],
   "source": [
    "def printme(nama , intamt , fldisc):\n",
    "    \"This prints a passed string,int, float into this function\"\n",
    "    print(\" Nama :\",nama)\n",
    "    print(\" Amt  :\", intamt ) \n",
    "    print(\" Disc :\",fldisc)\n",
    "    return\n",
    "\n",
    "printme(intamt = 10 , fldisc = 90.5 , nama = \"Jessica\" )"
   ]
  },
  {
   "cell_type": "markdown",
   "id": "cf401d87",
   "metadata": {},
   "source": [
    "### Default Arguments"
   ]
  },
  {
   "cell_type": "markdown",
   "id": "eea0788a",
   "metadata": {},
   "source": [
    "Default argument adalah argumen yang mengasumsikan nilai default jika nilai tidak disediakan dalam pemanggilan \n",
    "fungsi untuk argumen tersebut."
   ]
  },
  {
   "cell_type": "code",
   "execution_count": 22,
   "id": "545499b6",
   "metadata": {},
   "outputs": [],
   "source": [
    "def totalInvoice(name, amt, disc = 100):\n",
    "    \"This prints a passed into this function\"\n",
    "    print(\"Name: \", name)\n",
    "    print(\"Amt: \", amt)\n",
    "    print(\"Disc: \", disc)\n",
    "    total = amt - disc\n",
    "    print(10*\"==\")\n",
    "    print(\"Total: \", total)\n",
    "    return"
   ]
  },
  {
   "cell_type": "code",
   "execution_count": 23,
   "id": "53e70e77",
   "metadata": {
    "scrolled": true
   },
   "outputs": [
    {
     "name": "stdout",
     "output_type": "stream",
     "text": [
      "Invoice :  1\n",
      "Name:  Hacktiv8\n",
      "Amt:  50000\n",
      "Disc:  5000\n",
      "====================\n",
      "Total:  45000\n",
      "\n",
      "\n",
      "##############################\n",
      "\n",
      "\n",
      "Invoice :  2\n",
      "Name:  hactiv\n",
      "Amt:  10000\n",
      "Disc:  100\n",
      "====================\n",
      "Total:  9900\n"
     ]
    }
   ],
   "source": [
    "print(\"Invoice : \",1)\n",
    "totalInvoice(amt=50000, name=\"Hacktiv8\", disc = 5000)\n",
    "print(\"\\n\")\n",
    "print(10*\"###\")\n",
    "print(\"\\n\")\n",
    "print(\"Invoice : \",2)\n",
    "totalInvoice(name=\"hactiv\", amt=10000)"
   ]
  },
  {
   "cell_type": "markdown",
   "id": "b1f4a08e",
   "metadata": {},
   "source": [
    "### Variable-length arguments"
   ]
  },
  {
   "cell_type": "markdown",
   "id": "9e20c2a1",
   "metadata": {},
   "source": [
    "Argumen ini disebut variable-length arguments dan tidak diberi nama \n",
    "ketika definisi fungsi, tidak seperti required dan default arguments."
   ]
  },
  {
   "cell_type": "code",
   "execution_count": 24,
   "id": "9e5a06c7",
   "metadata": {},
   "outputs": [
    {
     "name": "stdout",
     "output_type": "stream",
     "text": [
      "<class 'tuple'>\n",
      "(1, 54, 60, 8, 98, 12)\n"
     ]
    }
   ],
   "source": [
    "# *args\n",
    "def print_arguments(*args):\n",
    "    print(type(args))\n",
    "    print(args)\n",
    "\n",
    "print_arguments(1, 54, 60, 8, 98, 12)"
   ]
  },
  {
   "cell_type": "code",
   "execution_count": 28,
   "id": "6aad502b",
   "metadata": {},
   "outputs": [
    {
     "name": "stdout",
     "output_type": "stream",
     "text": [
      "Output is: \n",
      "10\n",
      "()\n",
      "<class 'tuple'>\n",
      "function done\n"
     ]
    }
   ],
   "source": [
    "def printinfo(arg1, *vartuple):\n",
    "    \"This prints a variable passed arguments\"\n",
    "    print(\"Output is: \")\n",
    "    print(arg1)\n",
    "    print(vartuple)\n",
    "    print(type(vartuple))\n",
    "    for var in vartuple:\n",
    "        print(var)\n",
    "    \n",
    "    print(\"function done\")\n",
    "    return;\n",
    "\n",
    "# Now you can call printinfo function\n",
    "printinfo( 10 ) ## run here "
   ]
  },
  {
   "cell_type": "code",
   "execution_count": 29,
   "id": "4042a2a3",
   "metadata": {},
   "outputs": [
    {
     "name": "stdout",
     "output_type": "stream",
     "text": [
      "Output is: \n",
      "70\n",
      "(60, 50, 'a')\n",
      "<class 'tuple'>\n",
      "60\n",
      "50\n",
      "a\n",
      "function done\n"
     ]
    }
   ],
   "source": [
    "printinfo( 70, 60, 50, \"a\" ) ## open remark ?"
   ]
  },
  {
   "cell_type": "code",
   "execution_count": 30,
   "id": "0451722c",
   "metadata": {},
   "outputs": [
    {
     "name": "stdout",
     "output_type": "stream",
     "text": [
      "Output is: \n",
      "This prints a variable passed arguments\n",
      "()\n",
      "<class 'tuple'>\n",
      "function done\n"
     ]
    }
   ],
   "source": [
    "printinfo(printinfo.__doc__) ## open remark ?"
   ]
  },
  {
   "cell_type": "code",
   "execution_count": 31,
   "id": "f51f1621",
   "metadata": {},
   "outputs": [
    {
     "name": "stdout",
     "output_type": "stream",
     "text": [
      "Output is: \n",
      "1\n",
      "('Hello', 12, 4, 5, 6, 'Apa kabar')\n",
      "<class 'tuple'>\n",
      "Hello\n",
      "12\n",
      "4\n",
      "5\n",
      "6\n",
      "Apa kabar\n",
      "function done\n"
     ]
    }
   ],
   "source": [
    "printinfo(1,\"Hello\", 12,4,5,6, \"Apa kabar\")"
   ]
  },
  {
   "cell_type": "code",
   "execution_count": 32,
   "id": "38e0b677",
   "metadata": {
    "scrolled": true
   },
   "outputs": [
    {
     "name": "stdout",
     "output_type": "stream",
     "text": [
      "Output is: \n",
      "1\n",
      "('Hello', 12, 4, 5, 6, 20)\n",
      "<class 'tuple'>\n",
      "Hello\n",
      "12\n",
      "4\n",
      "5\n",
      "6\n",
      "20\n",
      "function done\n"
     ]
    }
   ],
   "source": [
    "printinfo(1,\"Hello\", 12,4,5,6, 10 * 2)"
   ]
  },
  {
   "cell_type": "code",
   "execution_count": 33,
   "id": "b69fcbb5",
   "metadata": {},
   "outputs": [
    {
     "name": "stdout",
     "output_type": "stream",
     "text": [
      "Output is: \n",
      "1\n",
      "('Hello', 12, 4, 5, 6, {0, 1, 2, 4, 5})\n",
      "<class 'tuple'>\n",
      "Hello\n",
      "12\n",
      "4\n",
      "5\n",
      "6\n",
      "{0, 1, 2, 4, 5}\n",
      "function done\n"
     ]
    }
   ],
   "source": [
    "#dapat melakukan operasi  apa pun yang didukung oleh Tuple, seperti pengindeksan,\n",
    "printinfo(1,\"Hello\", 12,4,5,6, set({1,5,2,0,4})) "
   ]
  },
  {
   "cell_type": "code",
   "execution_count": 34,
   "id": "5e199574",
   "metadata": {},
   "outputs": [
    {
     "name": "stdout",
     "output_type": "stream",
     "text": [
      "{'name': 'Jessica', 'age': 21, 'job': 'student'}\n"
     ]
    }
   ],
   "source": [
    "# *kwargs\n",
    "def print_arguments(**kwargs):\n",
    "    print(kwargs)\n",
    "\n",
    "print_arguments(name='Jessica', age=21, job='student')"
   ]
  },
  {
   "cell_type": "code",
   "execution_count": 35,
   "id": "aacb2064",
   "metadata": {},
   "outputs": [],
   "source": [
    "def add(x, y, *args, **kwargs):\n",
    "    sum = x + y\n",
    "    for a in args:\n",
    "        sum += a\n",
    " \n",
    "    for k, v in kwargs.items():\n",
    "        sum += v\n",
    "    return sum"
   ]
  },
  {
   "cell_type": "code",
   "execution_count": 36,
   "id": "663d9d64",
   "metadata": {},
   "outputs": [
    {
     "name": "stdout",
     "output_type": "stream",
     "text": [
      "21\n"
     ]
    }
   ],
   "source": [
    "total = add(1, 2, *(3, 4), **{\"k1\": 5, \"k2\": 6})\n",
    "print(total)"
   ]
  },
  {
   "cell_type": "code",
   "execution_count": null,
   "id": "e178b748",
   "metadata": {},
   "outputs": [],
   "source": [
    "a = input(\"Masukkan nilai A : \")\n",
    "print(type(a))\n",
    "x, y = func(int(a),2)\n",
    "print(f\"Isi dari x : \", int(a))"
   ]
  },
  {
   "cell_type": "code",
   "execution_count": 37,
   "id": "68fcafca",
   "metadata": {
    "scrolled": true
   },
   "outputs": [
    {
     "name": "stdout",
     "output_type": "stream",
     "text": [
      "Addition:  12\n",
      "Subtraction:  8\n",
      "Multiplication:  20\n",
      "Division:  5.0\n"
     ]
    }
   ],
   "source": [
    "def arithmetic(num1, num2):\n",
    "    add = num1 + num2\n",
    "    sub = num1 - num2\n",
    "    multiply = num1 * num2\n",
    "    division = num1 / num2\n",
    "    # return four values\n",
    "    return add, sub, multiply, division\n",
    "\n",
    "# read four return values in four variables\n",
    "a, b, c, d = arithmetic(10, 2)\n",
    "\n",
    "print(\"Addition: \", a)\n",
    "print(\"Subtraction: \", b)\n",
    "print(\"Multiplication: \", c)\n",
    "print(\"Division: \", d)"
   ]
  },
  {
   "cell_type": "markdown",
   "id": "c628dd02",
   "metadata": {},
   "source": [
    "## The Return Statement"
   ]
  },
  {
   "cell_type": "code",
   "execution_count": 38,
   "id": "3264edfb",
   "metadata": {},
   "outputs": [
    {
     "name": "stdout",
     "output_type": "stream",
     "text": [
      "Inside the function :  30\n",
      "Outside the function :  40\n"
     ]
    }
   ],
   "source": [
    "#Function definition is here\n",
    "def sum(arg1, arg2):\n",
    "    # Add both the parameters and return them.\"\n",
    "    total = arg1 + arg2  # total = 30 \n",
    "    total2 = total + arg1  # total2 = 30 + 10 = 40 \n",
    "    print(\"Inside the function : \", total) # 30 \n",
    "    return total2\n",
    "\n",
    "#Now you can call sum function\n",
    "total = sum(10, 20)\n",
    "print(\"Outside the function : \", total) "
   ]
  },
  {
   "cell_type": "markdown",
   "id": "945461eb",
   "metadata": {},
   "source": [
    "### Return Multiple Values"
   ]
  },
  {
   "cell_type": "code",
   "execution_count": 39,
   "id": "dffec6e0",
   "metadata": {},
   "outputs": [
    {
     "name": "stdout",
     "output_type": "stream",
     "text": [
      "(5, 1)\n",
      "<class 'tuple'>\n"
     ]
    }
   ],
   "source": [
    "#Return addition and subtraction in a tuple\n",
    "def func(a, b):\n",
    "    return a+b, a-b\n",
    "\n",
    "result = func(3, 2)\n",
    "\n",
    "print(result)\n",
    "print(type(result))"
   ]
  },
  {
   "cell_type": "code",
   "execution_count": 40,
   "id": "e3ea11f9",
   "metadata": {},
   "outputs": [
    {
     "name": "stdout",
     "output_type": "stream",
     "text": [
      "10\n"
     ]
    }
   ],
   "source": [
    "a , b, c = (10,20,30)\n",
    "print(a)"
   ]
  },
  {
   "cell_type": "code",
   "execution_count": 41,
   "id": "a608e211",
   "metadata": {},
   "outputs": [
    {
     "name": "stdout",
     "output_type": "stream",
     "text": [
      "Masukan Nilai A :15\n",
      "<class 'str'>\n",
      "Isi dari X : 17\n",
      "Isi dari Y : 13\n"
     ]
    }
   ],
   "source": [
    "a = input(\"Masukan Nilai A :\")\n",
    "print(type(a))\n",
    "x, y = func(int(a),2)\n",
    "print(f\"Isi dari X : {x}\" )\n",
    "print(f\"Isi dari Y : {y}\" )"
   ]
  },
  {
   "cell_type": "markdown",
   "id": "4c0b37cb",
   "metadata": {},
   "source": [
    "## Scope of Variables"
   ]
  },
  {
   "cell_type": "markdown",
   "id": "7da160ea",
   "metadata": {},
   "source": [
    "variabel lokal hanya dapat diakses di dalam fungsi yang dideklarasikan, sedangkan variabel global dapat diakses di seluruh badan program oleh semua fungsi. Saat kalian memanggil sebuah fungsi, variabel yang dideklarasikan di dalamnya akan dimasukkan ke dalam scopenya."
   ]
  },
  {
   "cell_type": "code",
   "execution_count": 42,
   "id": "37246926",
   "metadata": {},
   "outputs": [
    {
     "name": "stdout",
     "output_type": "stream",
     "text": [
      "Inside the function :  30\n",
      "Outside the function global total :  30\n"
     ]
    }
   ],
   "source": [
    "# Global variabel \n",
    "total = 10 \n",
    "\n",
    "def  sum(arg1, arg2):\n",
    "    \" Add both the parameters and return them.\"\n",
    "    total = arg1 + arg2\n",
    "    print(\"Inside the function : \", total)\n",
    "    return total\n",
    "\n",
    "def min():\n",
    "    return \n",
    "     \n",
    "\n",
    "total = sum(10,20)\n",
    "print(\"Outside the function global total : \", total)"
   ]
  },
  {
   "cell_type": "code",
   "execution_count": 43,
   "id": "ed2fd398",
   "metadata": {},
   "outputs": [
    {
     "name": "stdout",
     "output_type": "stream",
     "text": [
      "50\n",
      "40\n"
     ]
    }
   ],
   "source": [
    "jumlahKucing = 20\n",
    "\n",
    "def jumlahHewan():\n",
    "    jumlahAnjing = 30\n",
    "    return jumlahKucing + jumlahAnjing\n",
    "\n",
    "def jumlahHewan2():\n",
    "    return jumlahKucing + jumlahKucing\n",
    "\n",
    "hewan = jumlahHewan()\n",
    "print(hewan)\n",
    "hewan2 = jumlahHewan2()\n",
    "print(hewan2)"
   ]
  },
  {
   "cell_type": "markdown",
   "id": "81ff27ad",
   "metadata": {},
   "source": [
    "## Nested Fuction"
   ]
  },
  {
   "cell_type": "code",
   "execution_count": 44,
   "id": "8c6cf006",
   "metadata": {},
   "outputs": [
    {
     "name": "stdout",
     "output_type": "stream",
     "text": [
      "6\n"
     ]
    }
   ],
   "source": [
    "def outer(a,b):\n",
    "    def inner(c, d):\n",
    "        return c + d\n",
    "    return inner(a, b)\n",
    "\n",
    "result = outer(2,4)\n",
    "\n",
    "print(result)"
   ]
  },
  {
   "cell_type": "markdown",
   "id": "71142c6c",
   "metadata": {},
   "source": [
    "## Recursion"
   ]
  },
  {
   "cell_type": "code",
   "execution_count": 51,
   "id": "30b5f144",
   "metadata": {},
   "outputs": [],
   "source": [
    "def countdown(num):  \n",
    "    newnum = 0              \n",
    "    if num <= 1: \n",
    "        print('Stop')\n",
    "        newnum = num \n",
    "        #print(newvar)\n",
    "        return newnum\n",
    "    else:\n",
    "        print(num)           \n",
    "        newnum = countdown(num-1)\n",
    "    \n",
    "    return newnum  "
   ]
  },
  {
   "cell_type": "code",
   "execution_count": 52,
   "id": "ad02acd1",
   "metadata": {
    "scrolled": true
   },
   "outputs": [
    {
     "name": "stdout",
     "output_type": "stream",
     "text": [
      "4\n",
      "3\n",
      "2\n",
      "Stop\n",
      "1\n"
     ]
    }
   ],
   "source": [
    "hasilakhir = countdown(4)\n",
    "print(hasilakhir)"
   ]
  },
  {
   "cell_type": "markdown",
   "id": "42ff7de6",
   "metadata": {},
   "source": [
    "## Dictionary of Functions"
   ]
  },
  {
   "cell_type": "code",
   "execution_count": 54,
   "id": "bafbb6ea",
   "metadata": {},
   "outputs": [
    {
     "name": "stdout",
     "output_type": "stream",
     "text": [
      "9\n",
      "27\n"
     ]
    }
   ],
   "source": [
    "#You can use this feature to implement jump table.\n",
    "#Jump table is a dictionary of functions to be called on demand.\n",
    "def findSquare(x):\n",
    "    return x ** 2\n",
    "\n",
    "def findCube(x):\n",
    "    return x ** 3\n",
    "\n",
    "#Create a dictionary of functions\n",
    "exponent = {'square': findSquare, 'cube': findCube}\n",
    "\n",
    "print(exponent['square'](3))\n",
    "#Prints 9\n",
    "print(exponent['cube'](3))\n",
    "#Prints 27"
   ]
  },
  {
   "cell_type": "markdown",
   "id": "cf4deff2",
   "metadata": {},
   "source": [
    "## Python function executes at runtime"
   ]
  },
  {
   "cell_type": "markdown",
   "id": "408f3341",
   "metadata": {},
   "source": [
    "Karena Python memperlakukan def sebagai pernyataan yang dapat dieksekusi, itu bisa muncul di mana saja pernyataan normal bisa.\n",
    " \n",
    "Misalnya, Anda dapat menyarangkan fungsi di dalam pernyataan if untuk memilih di antara definisi alternatif."
   ]
  },
  {
   "cell_type": "code",
   "execution_count": 56,
   "id": "c6b977de",
   "metadata": {},
   "outputs": [
    {
     "name": "stdout",
     "output_type": "stream",
     "text": [
      "Hello, Universe!\n"
     ]
    }
   ],
   "source": [
    "x = 0\n",
    "if x:\n",
    "    def hello():\n",
    "        print('Hello, World!')\n",
    "else:\n",
    "    def hello():\n",
    "        print('Hello, Universe!')\n",
    "\n",
    "hello()\n",
    "# Prints Hello, Universe!"
   ]
  },
  {
   "cell_type": "markdown",
   "id": "3d2b3021",
   "metadata": {},
   "source": [
    "## Anonymous Function"
   ]
  },
  {
   "cell_type": "code",
   "execution_count": 55,
   "id": "cc27264f",
   "metadata": {},
   "outputs": [
    {
     "name": "stdout",
     "output_type": "stream",
     "text": [
      "Value of total : 40\n",
      "Value of total : 30\n"
     ]
    }
   ],
   "source": [
    "sum = lambda arg1, arg2 : arg2 + arg2;\n",
    "\n",
    "def sum1(arg1, arg2):\n",
    "    return arg1 + arg2\n",
    "\n",
    "print(\"Value of total :\", sum(10,20))\n",
    "print(\"Value of total :\", sum1(10,20))"
   ]
  },
  {
   "cell_type": "markdown",
   "id": "f2916680",
   "metadata": {},
   "source": [
    "## Latihan membuat CRUD"
   ]
  },
  {
   "cell_type": "code",
   "execution_count": 57,
   "id": "9a03ccd2",
   "metadata": {},
   "outputs": [],
   "source": [
    "# Variabel global untuk menyimpan data Buku\n",
    "buku = []\n",
    "\n",
    "# fungsi untuk menampilkan semua data\n",
    "def show_data():\n",
    "    if len(buku) <= 0:\n",
    "        print (\"BELUM ADA DATA\")\n",
    "    else:\n",
    "        for indeks in range(len(buku)):\n",
    "            print (\"[%d] %s\" % (indeks, buku[indeks]))\n",
    "\n",
    "\n",
    "# fungsi untuk menambah data\n",
    "def insert_data():\n",
    "    buku_baru = input(\"Judul Buku: \")\n",
    "    buku.append(buku_baru)\n",
    "\n",
    "# fungsi untuk edit data\n",
    "def edit_data():\n",
    "    show_data()\n",
    "    indeks = input(\"Inputkan ID buku: \")\n",
    "    if(int(indeks) > len(buku)):\n",
    "        print(\"ID salah\")\n",
    "    else:\n",
    "        judul_baru = input(\"Judul baru: \")\n",
    "        buku[int(indeks)] = judul_baru\n",
    "\n",
    "# fungsi untuk menhapus data\n",
    "def delete_data():\n",
    "    show_data()\n",
    "    indeks = input(\"Inputkan ID buku: \")\n",
    "    if(int(indeks) > len(buku)):\n",
    "        print (\"ID salah\")\n",
    "    else:\n",
    "        buku.remove(buku[int(indeks)])\n",
    "\n",
    "# fungsi untuk menampilkan menu\n",
    "def show_menu():\n",
    "    print (\"\\n\")\n",
    "    print (\"----------- MENU ----------\")\n",
    "    print (\"[1] Show Data\")\n",
    "    print (\"[2] Insert Data\")\n",
    "    print (\"[3] Edit Data\")\n",
    "    print (\"[4] Delete Data\")\n",
    "    print (\"[5] Exit\")\n",
    "    \n",
    "    menu =input(\"PILIH MENU> \")\n",
    "    print (\"\\n\")\n",
    "\n",
    "    if int(menu) == 1:\n",
    "        show_data()\n",
    "    elif int(menu) == 2:\n",
    "        insert_data()\n",
    "    elif int(menu) == 3:\n",
    "        edit_data()\n",
    "    elif int(menu) == 4:\n",
    "        delete_data()\n",
    "    elif int(menu) == 5:\n",
    "        exit()\n",
    "    else:\n",
    "        print (\"Salah pilih!\")"
   ]
  },
  {
   "cell_type": "code",
   "execution_count": 61,
   "id": "6ccd2927",
   "metadata": {},
   "outputs": [
    {
     "name": "stdout",
     "output_type": "stream",
     "text": [
      "\n",
      "\n",
      "----------- MENU ----------\n",
      "[1] Show Data\n",
      "[2] Insert Data\n",
      "[3] Edit Data\n",
      "[4] Delete Data\n",
      "[5] Exit\n",
      "PILIH MENU> 1\n",
      "\n",
      "\n",
      "[0] The Invisible Man\n"
     ]
    }
   ],
   "source": [
    "show_menu()"
   ]
  },
  {
   "cell_type": "code",
   "execution_count": 62,
   "id": "94f13ba4",
   "metadata": {},
   "outputs": [],
   "source": [
    "def formatrupiah(uang):\n",
    "    y = str(uang)\n",
    "    if len(y) <= 3 :\n",
    "        return 'Rp ' + y\n",
    "    else:\n",
    "        p = y[-3:]\n",
    "        q = y[:-3]\n",
    "        return formatrupiah(q) + '.' + p\n",
    "        print('Rp ' + formatrupiah(q) + '.' + p)"
   ]
  },
  {
   "cell_type": "code",
   "execution_count": 63,
   "id": "e1cbbc14",
   "metadata": {
    "scrolled": true
   },
   "outputs": [
    {
     "data": {
      "text/plain": [
       "'Rp 100.000'"
      ]
     },
     "execution_count": 63,
     "metadata": {},
     "output_type": "execute_result"
    }
   ],
   "source": [
    "formatrupiah(100000)"
   ]
  },
  {
   "cell_type": "markdown",
   "id": "ad137a1e",
   "metadata": {},
   "source": [
    "## LATIHAN"
   ]
  },
  {
   "cell_type": "markdown",
   "id": "6881dbd6",
   "metadata": {},
   "source": [
    "Buatlah suatu fungsi numerik / angka menjadi huruf\n",
    "contoh : pada saat di input 1000 maka akan mencetak : \"seribu\"\n",
    "\n",
    "Input angka ? 100000 maka akan mencetak : \"seratus ribu\""
   ]
  },
  {
   "cell_type": "markdown",
   "id": "7d3e0f86",
   "metadata": {},
   "source": [
    "Gunakan Function Recursion \n",
    "Gunakan Operator Pembagi untuk mendapatkan bilang pertama ( Contoh 87 :  87 / 10 = 8 ) \n",
    "Dan gunakan Operator Modulus untuk mendapatkan bilang akhir  ( Contoh  87  :  87 % 10 = 7 ) "
   ]
  },
  {
   "cell_type": "code",
   "execution_count": 66,
   "id": "346e9fd3",
   "metadata": {},
   "outputs": [
    {
     "name": "stdout",
     "output_type": "stream",
     "text": [
      "Terbilang : Delapan Puluh Tujuh\n"
     ]
    }
   ],
   "source": [
    "def Terbilang(bil):\n",
    "    angka = [\"\",\"Satu\",\"Dua\",\"Tiga\",\"Empat\",\"Lima\",\"Enam\",\n",
    "             \"Tujuh\",\"Delapan\",\"Sembilan\",\"Sepuluh\",\"Sebelas\"]\n",
    "    Hasil = \" \"\n",
    "    n = int(bil)\n",
    "    if n>= 0 and n <= 11:\n",
    "        Hasil = angka[n]\n",
    "    elif n <20:\n",
    "        Hasil = Terbilang (n-10) + \" Belas \"\n",
    "    elif n <100:\n",
    "        Hasil = Terbilang (n/10) + \" Puluh \" + Terbilang (n%10)\n",
    "    elif n <200:\n",
    "        Hasil = \" Seratus \" + Terbilang (n-100)\n",
    "    elif n <1000:\n",
    "        Hasil = Terbilang (n/100) + \" Ratus \" + Terbilang (n%100)\n",
    "    elif n <2000:\n",
    "        Hasil = \" Seribu \" + Terbilang (n-1000)\n",
    "    elif n <1000000:\n",
    "        Hasil = Terbilang (n/1000) + \" Ribu \" + Terbilang (n%1000)\n",
    "    elif n <1000000000:\n",
    "        Hasil = Terbilang (n/1000000) + \" Juta \" + Terbilang (n%1000000)\n",
    "    elif n <1000000000000:\n",
    "        Hasil = Terbilang (n/1000000000) + \" Milyar \" + Terbilang (n%1000000000)\n",
    "    elif n <1000000000000000:\n",
    "        Hasil = Terbilang (n/1000000000000) + \" Triliyun \" + Terbilang (n%1000000000000)\n",
    "    else:\n",
    "        Hasil = \"Angka Hanya sama Triliyun\"\n",
    "\n",
    "    return Hasil\n",
    "\n",
    "\n",
    "\n",
    "huruf = Terbilang(\"87\")\n",
    "print(f\"Terbilang : {huruf}\")"
   ]
  },
  {
   "cell_type": "code",
   "execution_count": 67,
   "id": "e6363a7c",
   "metadata": {},
   "outputs": [
    {
     "name": "stdout",
     "output_type": "stream",
     "text": [
      "Terbilang : Sembilan Belas  Ribu \n"
     ]
    }
   ],
   "source": [
    "huruf = Terbilang(\"19000\")\n",
    "print(f\"Terbilang : {huruf}\")"
   ]
  },
  {
   "cell_type": "markdown",
   "id": "43060f78",
   "metadata": {},
   "source": [
    "## Python Modules"
   ]
  },
  {
   "cell_type": "markdown",
   "id": "28c8f090",
   "metadata": {},
   "source": [
    " Ada tiga cara berbeda untuk mendefinisikan module dengan Python:\n",
    "\n",
    "* Module dapat ditulis dengan bahasa Python itu sendiri.\n",
    "* Module dapat ditulis dalam C dan di-load secara dinamis pada saat run-time, seperti modul  (ekspresi reguler).\n",
    "* Built-in module secara intrinsik terdapat dalam interpreter, seperti modul itertools."
   ]
  }
 ],
 "metadata": {
  "kernelspec": {
   "display_name": "Python 3",
   "language": "python",
   "name": "python3"
  },
  "language_info": {
   "codemirror_mode": {
    "name": "ipython",
    "version": 3
   },
   "file_extension": ".py",
   "mimetype": "text/x-python",
   "name": "python",
   "nbconvert_exporter": "python",
   "pygments_lexer": "ipython3",
   "version": "3.8.8"
  }
 },
 "nbformat": 4,
 "nbformat_minor": 5
}
