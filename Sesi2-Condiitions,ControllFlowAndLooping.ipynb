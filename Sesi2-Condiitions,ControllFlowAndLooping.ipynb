{
 "cells": [
  {
   "cell_type": "markdown",
   "id": "81cea83e",
   "metadata": {},
   "source": [
    "# Conditions, Control Flow & Looping"
   ]
  },
  {
   "cell_type": "markdown",
   "id": "1c197d48",
   "metadata": {},
   "source": [
    "## Conditional (Comparison Operators)"
   ]
  },
  {
   "cell_type": "markdown",
   "id": "41c7259b",
   "metadata": {},
   "source": [
    "|Operator |\tSimbol |\n",
    "|:--------|:-------|\n",
    "|Lebih Besar|\t> |\n",
    "| Lebih Kecil |\t< |\n",
    "| Sama Dengan\t| == | \n",
    "| Tidak Sama dengan |\t!= |\n",
    "| Lebih Besar Sama dengan |\t>= |\n",
    "| Lebih Kecil Sama dengan |\t<= |"
   ]
  },
  {
   "cell_type": "code",
   "execution_count": 1,
   "id": "f8949142",
   "metadata": {},
   "outputs": [
    {
     "name": "stdout",
     "output_type": "stream",
     "text": [
      "False\n",
      "True\n",
      "True\n",
      "False\n"
     ]
    }
   ],
   "source": [
    "a = 10\n",
    "b = 20\n",
    "\n",
    "print(a == b)\n",
    "\n",
    "print(a != b)\n",
    " \n",
    "print(a <= b)\n",
    "\n",
    "print(a >= b)"
   ]
  },
  {
   "cell_type": "code",
   "execution_count": 3,
   "id": "1bfc8b35",
   "metadata": {},
   "outputs": [
    {
     "name": "stdout",
     "output_type": "stream",
     "text": [
      "True\n",
      "True\n",
      "True\n"
     ]
    }
   ],
   "source": [
    "a = 30\n",
    "b = 30\n",
    "\n",
    "print(a == b) \n",
    "\n",
    "print(a <= b) \n",
    "\n",
    "print(a >= b) "
   ]
  },
  {
   "cell_type": "code",
   "execution_count": 4,
   "id": "677c54df",
   "metadata": {},
   "outputs": [],
   "source": [
    "#comparison menggunakan if statement\n",
    "\n",
    "x = 10 \n",
    "y = 15"
   ]
  },
  {
   "cell_type": "code",
   "execution_count": 5,
   "id": "6799b8dd",
   "metadata": {},
   "outputs": [
    {
     "name": "stdout",
     "output_type": "stream",
     "text": [
      "Yes, x < y \n"
     ]
    }
   ],
   "source": [
    "if x < y: \n",
    "    print(\"Yes, x < y \") "
   ]
  },
  {
   "cell_type": "code",
   "execution_count": 6,
   "id": "17631885",
   "metadata": {},
   "outputs": [
    {
     "name": "stdout",
     "output_type": "stream",
     "text": [
      "Yes y > x \n"
     ]
    }
   ],
   "source": [
    "if y > x: \n",
    "    print(\"Yes y > x \") "
   ]
  },
  {
   "cell_type": "code",
   "execution_count": 7,
   "id": "277a2915",
   "metadata": {},
   "outputs": [
    {
     "name": "stdout",
     "output_type": "stream",
     "text": [
      "Yes x != y\n"
     ]
    }
   ],
   "source": [
    "if x != y:  # \n",
    "    print(\"Yes x != y\")"
   ]
  },
  {
   "cell_type": "code",
   "execution_count": 8,
   "id": "a316bc21",
   "metadata": {},
   "outputs": [
    {
     "name": "stdout",
     "output_type": "stream",
     "text": [
      "Yes x <= y\n"
     ]
    }
   ],
   "source": [
    "if x <= y: # \n",
    "    print(\"Yes x <= y\")"
   ]
  },
  {
   "cell_type": "code",
   "execution_count": 9,
   "id": "109609c1",
   "metadata": {},
   "outputs": [
    {
     "name": "stdout",
     "output_type": "stream",
     "text": [
      "Yes y > x \n"
     ]
    }
   ],
   "source": [
    "if y >= x: \n",
    "    print(\"Yes y > x \") "
   ]
  },
  {
   "cell_type": "code",
   "execution_count": 10,
   "id": "91e04431",
   "metadata": {},
   "outputs": [
    {
     "name": "stdout",
     "output_type": "stream",
     "text": [
      "yes\n"
     ]
    }
   ],
   "source": [
    "#contoh kondisi yang salah\n",
    "\n",
    "if 'aul' in 'grault':\n",
    "    print('yes')"
   ]
  },
  {
   "cell_type": "code",
   "execution_count": 11,
   "id": "38c422c8",
   "metadata": {},
   "outputs": [
    {
     "name": "stdout",
     "output_type": "stream",
     "text": [
      "quuk not ok\n"
     ]
    }
   ],
   "source": [
    "if 'quux' in ['foo', 'bar', 'baz']:\n",
    "    print('yes')\n",
    "\n",
    "print(\"quuk not ok\") "
   ]
  },
  {
   "cell_type": "markdown",
   "id": "019018f1",
   "metadata": {},
   "source": [
    "## Grouping Statements: Indention and Blocks"
   ]
  },
  {
   "cell_type": "markdown",
   "id": "183420fd",
   "metadata": {},
   "source": [
    "```if <expr>: <statement> <statement> ... <statement> <following_statement> ```"
   ]
  },
  {
   "cell_type": "code",
   "execution_count": 14,
   "id": "e32f05a5",
   "metadata": {},
   "outputs": [
    {
     "name": "stdout",
     "output_type": "stream",
     "text": [
      "OK\n",
      "OK JUGA\n",
      "DONE\n"
     ]
    }
   ],
   "source": [
    "#Grouping statement\n",
    "x = 1\n",
    "y = 2\n",
    "\n",
    "if  x < y:\n",
    "    print(\"OK\")\n",
    "    \n",
    "    print(\"OK JUGA\")\n",
    "    \n",
    "print(\"DONE\")"
   ]
  },
  {
   "cell_type": "code",
   "execution_count": 2,
   "id": "013a20f7",
   "metadata": {},
   "outputs": [
    {
     "name": "stdout",
     "output_type": "stream",
     "text": [
      "DONE\n"
     ]
    }
   ],
   "source": [
    "x = 3\n",
    "y = 2\n",
    "\n",
    "if  x < y:\n",
    "    print(\"OK\")\n",
    "    \n",
    "    print(\"OK JUGA\")\n",
    "    \n",
    "print(\"DONE\")"
   ]
  },
  {
   "cell_type": "code",
   "execution_count": 3,
   "id": "937a485d",
   "metadata": {},
   "outputs": [
    {
     "name": "stdout",
     "output_type": "stream",
     "text": [
      "OK\n",
      "Next\n",
      "DONE\n"
     ]
    }
   ],
   "source": [
    "x = 1\n",
    "y = 2\n",
    "\n",
    "if  x < y:\n",
    "    print(\"OK\")\n",
    "print(\"Next\")\n",
    "    \n",
    "print(\"DONE\")"
   ]
  },
  {
   "cell_type": "code",
   "execution_count": 15,
   "id": "6f7d71fe",
   "metadata": {},
   "outputs": [
    {
     "name": "stdout",
     "output_type": "stream",
     "text": [
      "After conditional\n"
     ]
    }
   ],
   "source": [
    "if 'foo' in ['bar', 'baz', 'qux']:\n",
    "    print('Expression was true')\n",
    "    print('Executing statement in suite')\n",
    "    print('...')\n",
    "    print('Done.')\n",
    "    \n",
    "print('After conditional')"
   ]
  },
  {
   "cell_type": "code",
   "execution_count": 16,
   "id": "57e8d1fd",
   "metadata": {},
   "outputs": [
    {
     "name": "stdout",
     "output_type": "stream",
     "text": [
      "Outer condition is true\n",
      "Between inner conditions\n",
      "Inner condition 2\n",
      "End of outer condition\n",
      "After outer condition\n"
     ]
    }
   ],
   "source": [
    "# Does line execute?                        Yes    No\n",
    "#                                           ---    --\n",
    "if 'foo' in ['foo', 'bar', 'baz']:        #  \n",
    "    print('Outer condition is true')      #  yes\n",
    "\n",
    "    if 10 > 20:                           #  yes\n",
    "        print('Inner condition 1')        #        no\n",
    "\n",
    "    print('Between inner conditions')     #  yes\n",
    "\n",
    "    if 10 < 20:                           #  yes\n",
    "        print('Inner condition 2')        #  yes     \n",
    "\n",
    "    print('End of outer condition')       #  yes\n",
    "print('After outer condition')            #  yes   "
   ]
  },
  {
   "cell_type": "markdown",
   "id": "0b6ea35f",
   "metadata": {},
   "source": [
    "## The else and elif Clauses"
   ]
  },
  {
   "cell_type": "markdown",
   "id": "664fb0be",
   "metadata": {},
   "source": [
    "```if <expr>: <statement(s)> else: <statement(s)>```"
   ]
  },
  {
   "cell_type": "code",
   "execution_count": 17,
   "id": "7ba20667",
   "metadata": {},
   "outputs": [
    {
     "name": "stdout",
     "output_type": "stream",
     "text": [
      "(first suite)\n",
      "x is small\n"
     ]
    }
   ],
   "source": [
    "x = 20\n",
    "if x < 50:\n",
    "    print('(first suite)')\n",
    "    print('x is small')      \n",
    "else:\n",
    "    print('(second suite)')\n",
    "    print('x is large')"
   ]
  },
  {
   "cell_type": "code",
   "execution_count": 18,
   "id": "5483eacc",
   "metadata": {},
   "outputs": [
    {
     "name": "stdout",
     "output_type": "stream",
     "text": [
      "(second suite)\n",
      "x is large\n"
     ]
    }
   ],
   "source": [
    "x = 120\n",
    "\n",
    "if x < 50:\n",
    "    print('(first suite)')\n",
    "    print('x is small')\n",
    "else:\n",
    "    print('(second suite)')\n",
    "    print('x is large')"
   ]
  },
  {
   "cell_type": "markdown",
   "id": "760ac0ae",
   "metadata": {},
   "source": [
    "```\n",
    "if <expr>:\n",
    "     <statement(s)>\n",
    "\n",
    "elif <expr>:\n",
    "     <statement(s)>\n",
    "\n",
    "elif <expr>:\n",
    "    <statement(s)>\n",
    "    ...\n",
    "\n",
    "else:\n",
    "    <statement(s)>```"
   ]
  },
  {
   "cell_type": "code",
   "execution_count": 19,
   "id": "556422a3",
   "metadata": {},
   "outputs": [
    {
     "name": "stdout",
     "output_type": "stream",
     "text": [
      "beli majalah\n"
     ]
    }
   ],
   "source": [
    "hargaBuku = 20000\n",
    "hargaMajalah = 5000\n",
    "uang = 20000\n",
    "\n",
    "if uang > hargaBuku:\n",
    "    print(\"beli buku\")\n",
    "elif uang > hargaMajalah:\n",
    "    print(\"beli majalah\")\n",
    "else:\n",
    "    print(\"uang tidak cukup\")"
   ]
  },
  {
   "cell_type": "code",
   "execution_count": 20,
   "id": "57bdce40",
   "metadata": {},
   "outputs": [
    {
     "name": "stdout",
     "output_type": "stream",
     "text": [
      "Hello Hacktiv8\n"
     ]
    }
   ],
   "source": [
    "name = 'Hacktiv8'\n",
    "if name == 'Fred':\n",
    "    print('Hello Fred')\n",
    "elif name == 'Xander':\n",
    "    print('Hello Xander')\n",
    "elif name == 'Hacktiv8':\n",
    "    print('Hello Hacktiv8')\n",
    "elif name == 'Arnold':\n",
    "    print('Hello Arnold')\n",
    "else:\n",
    "    print(\"I don't know who you are!\")"
   ]
  },
  {
   "cell_type": "code",
   "execution_count": 21,
   "id": "4d33cda8",
   "metadata": {},
   "outputs": [
    {
     "name": "stdout",
     "output_type": "stream",
     "text": [
      "foo\n"
     ]
    }
   ],
   "source": [
    "if 'a' in 'bar':\n",
    "    print('foo')\n",
    "elif 1/0:\n",
    "    print(\"This won't happen\")\n",
    "elif var:\n",
    "    print(\"This won't either\")"
   ]
  },
  {
   "cell_type": "markdown",
   "id": "d564dbbb",
   "metadata": {},
   "source": [
    "## One-Line if Statements"
   ]
  },
  {
   "cell_type": "code",
   "execution_count": 22,
   "id": "bee939a7",
   "metadata": {},
   "outputs": [
    {
     "name": "stdout",
     "output_type": "stream",
     "text": [
      "1\n",
      "2\n",
      "3\n"
     ]
    }
   ],
   "source": [
    "if 'f' in 'foo': print('1'); print('2'); print('3')"
   ]
  },
  {
   "cell_type": "code",
   "execution_count": 23,
   "id": "aaf36c4f",
   "metadata": {},
   "outputs": [],
   "source": [
    "if 'z' in 'foo': print('1'); print('2'); print('3')"
   ]
  },
  {
   "cell_type": "code",
   "execution_count": 24,
   "id": "963e7cee",
   "metadata": {},
   "outputs": [
    {
     "name": "stdout",
     "output_type": "stream",
     "text": [
      "qux\n",
      "quux\n"
     ]
    }
   ],
   "source": [
    "x = 2\n",
    "\n",
    "if x == 1: print('foo'); print('bar'); print('baz')\n",
    "elif x == 2: print('qux'); print('quux')\n",
    "else: print('corge'); print('grault')"
   ]
  },
  {
   "cell_type": "code",
   "execution_count": 25,
   "id": "5128c041",
   "metadata": {},
   "outputs": [
    {
     "name": "stdout",
     "output_type": "stream",
     "text": [
      "corge\n",
      "grault\n"
     ]
    }
   ],
   "source": [
    "x = 3\n",
    "if x == 1: print('foo'); print('bar'); print('baz')\n",
    "elif x == 2: print('qux'); print('quux')\n",
    "else: print('corge'); print('grault')"
   ]
  },
  {
   "cell_type": "markdown",
   "id": "ef64a3d8",
   "metadata": {},
   "source": [
    "## Conditional Expressions (Python's Ternary Operator)"
   ]
  },
  {
   "cell_type": "markdown",
   "id": "43940050",
   "metadata": {},
   "source": [
    "`<conditional_expr>` dievaluasi terlebih dahulu. Jika benar, ekspresi mengevaluasi ke `<expr1>`. Jika salah, ekspresi mengevaluasi ke `<expr2>`"
   ]
  },
  {
   "cell_type": "code",
   "execution_count": 26,
   "id": "96efaaab",
   "metadata": {},
   "outputs": [
    {
     "name": "stdout",
     "output_type": "stream",
     "text": [
      "Hello\n"
     ]
    }
   ],
   "source": [
    "print(\"Hello\") if 'h' in \"ehllo\" else print(\"Hai\") "
   ]
  },
  {
   "cell_type": "code",
   "execution_count": 27,
   "id": "6e714f6c",
   "metadata": {},
   "outputs": [
    {
     "name": "stdout",
     "output_type": "stream",
     "text": [
      "Let's go to the beach\n"
     ]
    }
   ],
   "source": [
    "raining = False\n",
    "print(\"Let's go to the\", 'beach' if not raining else 'library')"
   ]
  },
  {
   "cell_type": "code",
   "execution_count": 28,
   "id": "4e32b1c5",
   "metadata": {},
   "outputs": [
    {
     "name": "stdout",
     "output_type": "stream",
     "text": [
      "Let's go to the library\n"
     ]
    }
   ],
   "source": [
    "raining = True\n",
    "print(\"Let's go to the\", 'beach' if not raining else 'library')"
   ]
  },
  {
   "cell_type": "code",
   "execution_count": 29,
   "id": "49648553",
   "metadata": {},
   "outputs": [
    {
     "name": "stdout",
     "output_type": "stream",
     "text": [
      "blm bisa vaksin\n"
     ]
    }
   ],
   "source": [
    "age = 12\n",
    "vaksin = 'blm bisa vaksin' if age <= 12 else 'sudah bisa vaksin'\n",
    "\n",
    "print(vaksin)"
   ]
  },
  {
   "cell_type": "code",
   "execution_count": 30,
   "id": "7e127e31",
   "metadata": {},
   "outputs": [
    {
     "name": "stdout",
     "output_type": "stream",
     "text": [
      "no\n"
     ]
    }
   ],
   "source": [
    "print('yes') if ('qux' in ['foo', 'bar', 'baz']) else print('no')"
   ]
  },
  {
   "cell_type": "markdown",
   "id": "57e80e35",
   "metadata": {},
   "source": [
    "### TUGAS LATIHAN PRAKTIK"
   ]
  },
  {
   "cell_type": "markdown",
   "id": "cb1b4908",
   "metadata": {},
   "source": [
    "Membuat suatu program menentukan suatu nilai pada variable tersebut genap atau ganjil! \n",
    "    Kita coba lakukan langkah sebagai berikut:\n",
    "    \n",
    "* Buat variabel dengan nama “angka” isi dengan nilai 20\n",
    "* Ganti bagian ... dengan perhitungan untuk menentukan angka modulus 2 bernilai 0.\n",
    "* dilakukan pengecekan apakah benar dia bernilai genap maka mencetak **\"angka ini bilangan genap\"**, \n",
    "* jika sudah ganti nilai variable angka dengan nilai yang lain untuk melakukan pengecekan apakah sdh benar code tersebut jika suatu nilai tersebut bilangan ganjil akan mencetak cek lagi apakah dia bernilai ganjil dan keluarkan **\"angka termasuk bilangan ganjil\"**."
   ]
  },
  {
   "cell_type": "code",
   "execution_count": 5,
   "id": "07da88a7",
   "metadata": {},
   "outputs": [
    {
     "name": "stdout",
     "output_type": "stream",
     "text": [
      "angka ini bilangan genap\n"
     ]
    }
   ],
   "source": [
    "angka = 20\n",
    "\n",
    "if angka%2 == 0:\n",
    "    print(\"angka ini bilangan genap\")\n",
    "else:\n",
    "    print(\"angka ini bilangan ganjil\")"
   ]
  },
  {
   "cell_type": "code",
   "execution_count": 8,
   "id": "7a7e91df",
   "metadata": {},
   "outputs": [
    {
     "name": "stdout",
     "output_type": "stream",
     "text": [
      "angka ini bilangan genap\n"
     ]
    }
   ],
   "source": [
    "angka = 20\n",
    "x = 'angka ini bilangan ganjil' if angka % 2 else 'angka ini bilangan genap'\n",
    "print(x)"
   ]
  },
  {
   "cell_type": "code",
   "execution_count": 7,
   "id": "32211288",
   "metadata": {},
   "outputs": [
    {
     "name": "stdout",
     "output_type": "stream",
     "text": [
      "angka ini bilangan genap\n"
     ]
    }
   ],
   "source": [
    "angka = 20\n",
    "ganjil = 'angka ini bilangan ganjil'\n",
    "genap = 'angka ini bilangan genap'\n",
    "\n",
    "x = ganjil if angka % 2 else genap\n",
    "print(x)"
   ]
  },
  {
   "cell_type": "markdown",
   "id": "0e7a299c",
   "metadata": {},
   "source": [
    "## Python \"while\" Loops"
   ]
  },
  {
   "cell_type": "markdown",
   "id": "f81fbc3b",
   "metadata": {},
   "source": [
    "Iteration artinya mengeksekusi blok kode yang sama berulang kali, berpotensi berkali-kali. Struktur pemrograman yang mengimplementasikan iterasi disebut loop"
   ]
  },
  {
   "cell_type": "code",
   "execution_count": null,
   "id": "8bf6d078",
   "metadata": {},
   "outputs": [],
   "source": [
    "while <expr>:\n",
    "    <statement(s)>"
   ]
  },
  {
   "cell_type": "code",
   "execution_count": 32,
   "id": "00decb54",
   "metadata": {},
   "outputs": [
    {
     "name": "stdout",
     "output_type": "stream",
     "text": [
      "5\n",
      "4\n",
      "3\n",
      "2\n",
      "1\n"
     ]
    }
   ],
   "source": [
    "n = 5\n",
    "while n > 0:\n",
    "    print(n)\n",
    "    n -= 1  # n = n - 1 "
   ]
  },
  {
   "cell_type": "code",
   "execution_count": 9,
   "id": "aa2ca50e",
   "metadata": {},
   "outputs": [
    {
     "name": "stdout",
     "output_type": "stream",
     "text": [
      "1\n",
      "2\n",
      "3\n",
      "4\n",
      "5\n"
     ]
    }
   ],
   "source": [
    "i = 1\n",
    "while i < 6:\n",
    "    print(i)\n",
    "    i += 1"
   ]
  },
  {
   "cell_type": "code",
   "execution_count": 10,
   "id": "0c7cec68",
   "metadata": {
    "scrolled": true
   },
   "outputs": [
    {
     "name": "stdout",
     "output_type": "stream",
     "text": [
      "5\n",
      "4\n",
      "3\n",
      "2\n",
      "1\n"
     ]
    }
   ],
   "source": [
    "n = 5\n",
    "while n > 0:\n",
    "    print(n)\n",
    "    n -= 1"
   ]
  },
  {
   "cell_type": "markdown",
   "id": "038a0bdf",
   "metadata": {},
   "source": [
    "## Python Break and Continue Statements"
   ]
  },
  {
   "cell_type": "code",
   "execution_count": 33,
   "id": "9563d35a",
   "metadata": {},
   "outputs": [
    {
     "name": "stdout",
     "output_type": "stream",
     "text": [
      "4\n",
      "Loop ended.\n"
     ]
    }
   ],
   "source": [
    "n = 5\n",
    "while n > 0:\n",
    "    n -= 1\n",
    "    if n == 3:\n",
    "        break # Break Statement\n",
    "    print(n)\n",
    "print('Loop ended.')"
   ]
  },
  {
   "cell_type": "code",
   "execution_count": 34,
   "id": "39c53d61",
   "metadata": {},
   "outputs": [
    {
     "name": "stdout",
     "output_type": "stream",
     "text": [
      "9\n",
      "7\n",
      "5\n",
      "3\n",
      "1\n",
      "Loop ended.\n"
     ]
    }
   ],
   "source": [
    "n = 10\n",
    "while n > 0:\n",
    "    n -= 1\n",
    "    if n % 2 == 0:\n",
    "        continue\n",
    "    print(n)\n",
    "print('Loop ended.')"
   ]
  },
  {
   "cell_type": "markdown",
   "id": "b00155be",
   "metadata": {},
   "source": [
    "### The else Clause"
   ]
  },
  {
   "cell_type": "markdown",
   "id": "2d261864",
   "metadata": {},
   "source": [
    "Python memungkinkan adanya klausa else opsional di akhir loop while"
   ]
  },
  {
   "cell_type": "markdown",
   "id": "f521ed52",
   "metadata": {},
   "source": [
    "```\n",
    "while <expr>:\n",
    "    <statement(s)>\n",
    "else:\n",
    "    <additional_statement(s)>\n",
    "```"
   ]
  },
  {
   "cell_type": "code",
   "execution_count": 35,
   "id": "85ad9aab",
   "metadata": {},
   "outputs": [
    {
     "name": "stdout",
     "output_type": "stream",
     "text": [
      "4\n",
      "3\n",
      "2\n",
      "1\n",
      "0\n",
      "Loop done.\n"
     ]
    }
   ],
   "source": [
    "n = 5\n",
    "while n > 0:\n",
    "    n -= 1\n",
    "    print(n)\n",
    "else:\n",
    "    print('Loop done.')"
   ]
  },
  {
   "cell_type": "code",
   "execution_count": 36,
   "id": "a69cfb4c",
   "metadata": {},
   "outputs": [
    {
     "name": "stdout",
     "output_type": "stream",
     "text": [
      "4\n",
      "3\n",
      "2\n"
     ]
    }
   ],
   "source": [
    "n = 5\n",
    "while n > 0:\n",
    "    n -= 1\n",
    "    print(n)\n",
    "    if n == 2:\n",
    "        break\n",
    "else:\n",
    "    print('Loop done.') "
   ]
  },
  {
   "cell_type": "markdown",
   "id": "3aba4ed8",
   "metadata": {},
   "source": [
    "### Nested while Loops"
   ]
  },
  {
   "cell_type": "code",
   "execution_count": 37,
   "id": "5e3f62ee",
   "metadata": {},
   "outputs": [
    {
     "name": "stdout",
     "output_type": "stream",
     "text": [
      "grandfather\n"
     ]
    }
   ],
   "source": [
    "age = 65 \n",
    "gender = 'M'\n",
    "\n",
    "if age < 18:\n",
    "    if gender == 'M':\n",
    "        print('son')\n",
    "    else:\n",
    "        print('daughter')\n",
    "elif age >= 18 and age < 65:\n",
    "    if gender == 'M':\n",
    "        print('father')\n",
    "    else:\n",
    "        print('mother')\n",
    "else:\n",
    "    if gender == 'M':\n",
    "        print('grandfather')\n",
    "    else:\n",
    "        print('grandmother')"
   ]
  },
  {
   "cell_type": "code",
   "execution_count": 38,
   "id": "03dfa496",
   "metadata": {},
   "outputs": [
    {
     "name": "stdout",
     "output_type": "stream",
     "text": [
      "foo\n",
      "> baz\n",
      "> qux\n",
      "bar\n",
      "> baz\n",
      "> qux\n"
     ]
    }
   ],
   "source": [
    "a = ['foo', 'bar']\n",
    "\n",
    "while len(a):\n",
    "    print(a.pop(0))\n",
    "    \n",
    "    b = ['baz', 'qux']\n",
    "    \n",
    "    while len(b):\n",
    "        print('>', b.pop(0))"
   ]
  },
  {
   "cell_type": "markdown",
   "id": "10692aae",
   "metadata": {},
   "source": [
    "### One-Line while Loops"
   ]
  },
  {
   "cell_type": "code",
   "execution_count": 39,
   "id": "3d0fa352",
   "metadata": {},
   "outputs": [
    {
     "name": "stdout",
     "output_type": "stream",
     "text": [
      "4\n",
      "3\n",
      "2\n",
      "1\n",
      "0\n"
     ]
    }
   ],
   "source": [
    "n = 5\n",
    "while n > 0: n -= 1; print(n)"
   ]
  },
  {
   "cell_type": "markdown",
   "id": "0925d238",
   "metadata": {},
   "source": [
    "### Numeric Range Loops"
   ]
  },
  {
   "cell_type": "code",
   "execution_count": null,
   "id": "98b04640",
   "metadata": {},
   "outputs": [],
   "source": [
    "for i = 1 to 10\n",
    "    <loop body>"
   ]
  },
  {
   "cell_type": "markdown",
   "id": "c11e0dfc",
   "metadata": {},
   "source": [
    "### Three-Expression Loop"
   ]
  },
  {
   "cell_type": "code",
   "execution_count": null,
   "id": "9857b9a7",
   "metadata": {},
   "outputs": [],
   "source": [
    "for (i = 1; i <= 10; i++)\n",
    "    <loop body>"
   ]
  },
  {
   "cell_type": "markdown",
   "id": "8c5df47d",
   "metadata": {},
   "source": [
    "### Collection-Based or Iterator-Based Loop"
   ]
  },
  {
   "cell_type": "code",
   "execution_count": null,
   "id": "ab90bb9a",
   "metadata": {},
   "outputs": [],
   "source": [
    "for i in <collection>\n",
    "    <loop body>"
   ]
  },
  {
   "cell_type": "markdown",
   "id": "0d2379c7",
   "metadata": {},
   "source": [
    "##  The Python for Loop"
   ]
  },
  {
   "cell_type": "code",
   "execution_count": 40,
   "id": "6ecd9d55",
   "metadata": {},
   "outputs": [
    {
     "name": "stdout",
     "output_type": "stream",
     "text": [
      "foo\n",
      "bar\n",
      "baz\n"
     ]
    }
   ],
   "source": [
    "#List\n",
    "a = ['foo', 'bar', 'baz']\n",
    "for i in a:\n",
    "    print(i)"
   ]
  },
  {
   "cell_type": "code",
   "execution_count": 41,
   "id": "613762a5",
   "metadata": {},
   "outputs": [
    {
     "name": "stdout",
     "output_type": "stream",
     "text": [
      "foo\n",
      "bar\n",
      "baz\n"
     ]
    }
   ],
   "source": [
    "#Dictionary\n",
    "d = {'foo': 1, 'bar': 2, 'baz': 3}\n",
    "for k in d:\n",
    "    print(k)"
   ]
  },
  {
   "cell_type": "code",
   "execution_count": 42,
   "id": "0c159b46",
   "metadata": {},
   "outputs": [
    {
     "name": "stdout",
     "output_type": "stream",
     "text": [
      "1\n",
      "2\n",
      "3\n"
     ]
    }
   ],
   "source": [
    "for k in d:\n",
    "    print(d[k])"
   ]
  },
  {
   "cell_type": "code",
   "execution_count": 43,
   "id": "620a556a",
   "metadata": {},
   "outputs": [
    {
     "name": "stdout",
     "output_type": "stream",
     "text": [
      "1\n",
      "2\n",
      "3\n"
     ]
    }
   ],
   "source": [
    "for k in d.values():\n",
    "    print(k)"
   ]
  },
  {
   "cell_type": "code",
   "execution_count": 44,
   "id": "5c17626e",
   "metadata": {
    "scrolled": true
   },
   "outputs": [
    {
     "name": "stdout",
     "output_type": "stream",
     "text": [
      "foo : 1\n",
      "bar : 2\n",
      "baz : 3\n"
     ]
    }
   ],
   "source": [
    "for k, v in d.items(): \n",
    "    print(k, \":\", v)"
   ]
  },
  {
   "cell_type": "code",
   "execution_count": 45,
   "id": "eae88d3d",
   "metadata": {},
   "outputs": [
    {
     "name": "stdout",
     "output_type": "stream",
     "text": [
      "1\n"
     ]
    }
   ],
   "source": [
    "# range () function\n",
    "for n in (0, 1, 2, 3, 4):\n",
    "    if n ==1: \n",
    "        print(n)"
   ]
  },
  {
   "cell_type": "code",
   "execution_count": 46,
   "id": "646bc601",
   "metadata": {
    "scrolled": true
   },
   "outputs": [
    {
     "name": "stdout",
     "output_type": "stream",
     "text": [
      "range(0, 5)\n",
      "0\n",
      "1\n",
      "2\n",
      "3\n",
      "4\n"
     ]
    }
   ],
   "source": [
    "x = range(5)\n",
    "print(x)\n",
    "for n in x:\n",
    "    print(n)"
   ]
  },
  {
   "cell_type": "markdown",
   "id": "68d204f8",
   "metadata": {},
   "source": [
    "## Altering for Loop Behavior"
   ]
  },
  {
   "cell_type": "markdown",
   "id": "4f64e876",
   "metadata": {},
   "source": [
    "### The break and continue statements"
   ]
  },
  {
   "cell_type": "code",
   "execution_count": 47,
   "id": "724826ce",
   "metadata": {},
   "outputs": [
    {
     "name": "stdout",
     "output_type": "stream",
     "text": [
      "foo\n"
     ]
    }
   ],
   "source": [
    "for i in ['foo', 'bar', 'baz', 'qux']:\n",
    "    if 'b' in i:\n",
    "        break\n",
    "    print(i)"
   ]
  },
  {
   "cell_type": "code",
   "execution_count": 48,
   "id": "dbff5bd6",
   "metadata": {},
   "outputs": [
    {
     "name": "stdout",
     "output_type": "stream",
     "text": [
      "foo\n",
      "qux\n"
     ]
    }
   ],
   "source": [
    "for i in ['foo', 'bar', 'baz', 'qux']:\n",
    "    if 'b' in i:\n",
    "        continue\n",
    "    print(i)"
   ]
  },
  {
   "cell_type": "markdown",
   "id": "5bf5c414",
   "metadata": {},
   "source": [
    "### The else clause"
   ]
  },
  {
   "cell_type": "code",
   "execution_count": 49,
   "id": "33300cb8",
   "metadata": {},
   "outputs": [
    {
     "name": "stdout",
     "output_type": "stream",
     "text": [
      "foo\n",
      "bar\n",
      "baz\n",
      "qux\n",
      "Done.\n"
     ]
    }
   ],
   "source": [
    "for i in ['foo', 'bar', 'baz', 'qux']:\n",
    "    print(i)\n",
    "else:\n",
    "    print('Done.')"
   ]
  },
  {
   "cell_type": "code",
   "execution_count": 50,
   "id": "b244a383",
   "metadata": {},
   "outputs": [
    {
     "name": "stdout",
     "output_type": "stream",
     "text": [
      "foo\n"
     ]
    }
   ],
   "source": [
    "for i in ['foo', 'bar', 'baz', 'qux']:\n",
    "    if i == 'bar':\n",
    "        break\n",
    "    print(i)\n",
    "else:\n",
    "    print('Done.')"
   ]
  },
  {
   "cell_type": "code",
   "execution_count": 51,
   "id": "0e1e1cbe",
   "metadata": {},
   "outputs": [
    {
     "name": "stdout",
     "output_type": "stream",
     "text": [
      "Ketikan temperatur yang ingin dikonversi, eg. 45F, 120C: 36C\n",
      "C\n",
      "Temperaturnya adalah 97 derajat\n"
     ]
    }
   ],
   "source": [
    "temp = input(\"Ketikan temperatur yang ingin dikonversi, eg. 45F, 120C: \")\n",
    "degree = int(temp[:-1])\n",
    "i_convertion = temp[-1]\n",
    "print(i_convertion) \n",
    "result = 0 \n",
    "if i_convertion == \"C\":\n",
    "    result = int(round((9 * degree) / 5 + 32))\n",
    "elif i_convertion == \"F\":\n",
    "    result = int(round((degree - 32) * 5 / 9))\n",
    "else:\n",
    "    print(\"Masukan input yang benar\")\n",
    "\n",
    "print(\"Temperaturnya adalah\", result, \"derajat\")"
   ]
  },
  {
   "cell_type": "code",
   "execution_count": 52,
   "id": "09a43948",
   "metadata": {},
   "outputs": [
    {
     "name": "stdout",
     "output_type": "stream",
     "text": [
      "Ketikan karakter: Haloo\n",
      "haloo\n",
      "Ketikan karakter: stop\n",
      "stop\n"
     ]
    }
   ],
   "source": [
    "while True:\n",
    "    msg = input(\"Ketikan karakter: \").lower()\n",
    "    print(msg)\n",
    "    if msg == \"stop\":\n",
    "        break"
   ]
  },
  {
   "cell_type": "markdown",
   "id": "f362284b",
   "metadata": {},
   "source": [
    "# TUGAS LATIHAN PRAKTIK"
   ]
  },
  {
   "cell_type": "markdown",
   "id": "3ffc9b44",
   "metadata": {},
   "source": [
    "User ingin membuat sebuah program yang dapat mengeluarkan angka 1 sampai 10. dan tampilan akan mencetak \"Angka ganjil 1\" untuk angka ganjil dan \"Angka genap 2\" untuk angka genap. (Menggunakan looping for)"
   ]
  },
  {
   "cell_type": "markdown",
   "id": "493217eb",
   "metadata": {},
   "source": [
    "```\n",
    "for i in range (#,#):\n",
    "    if(i%#==#):\n",
    "        print(\"Angka genap\",i)\n",
    "    else:\n",
    "         print(\"Angka ganjil\",i)\n",
    "```       "
   ]
  },
  {
   "cell_type": "code",
   "execution_count": 13,
   "id": "1339eb97",
   "metadata": {
    "scrolled": true
   },
   "outputs": [
    {
     "name": "stdout",
     "output_type": "stream",
     "text": [
      "Angka ganjil 1\n",
      "Angka genap 2\n",
      "Angka ganjil 3\n",
      "Angka genap 4\n",
      "Angka ganjil 5\n",
      "Angka genap 6\n",
      "Angka ganjil 7\n",
      "Angka genap 8\n",
      "Angka ganjil 9\n"
     ]
    }
   ],
   "source": [
    "#menggunakan looping for\n",
    "for i in range (1,10):\n",
    "    if(i%2 == 0):\n",
    "        print(\"Angka genap\",i)\n",
    "    else:\n",
    "        print(\"Angka ganjil\",i)"
   ]
  },
  {
   "cell_type": "code",
   "execution_count": 38,
   "id": "2682bcad",
   "metadata": {},
   "outputs": [
    {
     "name": "stdout",
     "output_type": "stream",
     "text": [
      "Angka ganjil 1\n",
      "Angka genap 2\n",
      "Angka ganjil 3\n",
      "Angka genap 4\n",
      "Angka ganjil 5\n",
      "Angka genap 6\n",
      "Angka ganjil 7\n",
      "Angka genap 8\n",
      "Angka ganjil 9\n",
      "Angka genap 10\n"
     ]
    }
   ],
   "source": [
    "#menggunakan list\n",
    "x = [1, 2, 3, 4, 5, 6, 7, 8, 9, 10]\n",
    "for i in x:\n",
    "    if(i%2 == 0):\n",
    "        print(\"Angka genap\",i)\n",
    "    else:\n",
    "        print(\"Angka ganjil\",i)"
   ]
  },
  {
   "cell_type": "code",
   "execution_count": 40,
   "id": "b2227058",
   "metadata": {},
   "outputs": [
    {
     "name": "stdout",
     "output_type": "stream",
     "text": [
      "Angka ganjil 1\n",
      "Angka genap 2\n",
      "Angka ganjil 3\n",
      "Angka genap 4\n",
      "Angka ganjil 5\n",
      "Angka genap 6\n",
      "Angka ganjil 7\n",
      "Angka genap 8\n",
      "Angka ganjil 9\n",
      "Angka genap 10\n"
     ]
    }
   ],
   "source": [
    "#menggunakan dict\n",
    "x = {'1': 1, '2': 2, '3':3, '4':4, '5':5, '6':6, '7':7, '8':8, '9':9, '10':10}\n",
    "for i in x.values():\n",
    "    if(i%2 == 0):\n",
    "        print(\"Angka genap\",i)\n",
    "    else:\n",
    "        print(\"Angka ganjil\",i)"
   ]
  },
  {
   "cell_type": "code",
   "execution_count": 43,
   "id": "a2ec1a20",
   "metadata": {},
   "outputs": [
    {
     "name": "stdout",
     "output_type": "stream",
     "text": [
      "Angka ganjil 1\n",
      "Angka genap 2\n",
      "Angka ganjil 3\n",
      "Angka genap 4\n",
      "Angka ganjil 5\n",
      "Angka genap 6\n",
      "Angka ganjil 7\n",
      "Angka genap 8\n",
      "Angka ganjil 9\n",
      "Angka genap 10\n"
     ]
    }
   ],
   "source": [
    "#menggunakan tuple\n",
    "x = (1,2,3,4,5,6,7,8,9,10)\n",
    "for i in x:\n",
    "    if(i%2 == 0):\n",
    "        print(\"Angka genap\",i)\n",
    "    else:\n",
    "        print(\"Angka ganjil\",i)"
   ]
  }
 ],
 "metadata": {
  "kernelspec": {
   "display_name": "Python 3",
   "language": "python",
   "name": "python3"
  },
  "language_info": {
   "codemirror_mode": {
    "name": "ipython",
    "version": 3
   },
   "file_extension": ".py",
   "mimetype": "text/x-python",
   "name": "python",
   "nbconvert_exporter": "python",
   "pygments_lexer": "ipython3",
   "version": "3.8.8"
  }
 },
 "nbformat": 4,
 "nbformat_minor": 5
}
